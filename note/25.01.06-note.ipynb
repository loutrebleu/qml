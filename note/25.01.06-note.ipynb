{
 "cells": [
  {
   "cell_type": "code",
   "id": "initial_id",
   "metadata": {
    "collapsed": true,
    "ExecuteTime": {
     "end_time": "2025-01-06T07:07:37.842768Z",
     "start_time": "2025-01-06T07:07:37.834151Z"
    }
   },
   "source": [
    "%load_ext autoreload\n",
    "%autoreload 2"
   ],
   "outputs": [],
   "execution_count": 1
  },
  {
   "metadata": {
    "ExecuteTime": {
     "end_time": "2025-01-06T16:24:06.099891Z",
     "start_time": "2025-01-06T16:24:06.073139Z"
    }
   },
   "cell_type": "code",
   "source": [
    "import numpy as np\n",
    "import matplotlib.pyplot as plt\n",
    "from collections import namedtuple\n",
    "from IPython.display import clear_output\n",
    "from numpy.typing import NDArray\n",
    "from qiskit import QuantumCircuit\n",
    "from qiskit.circuit import Parameter"
   ],
   "id": "64d6b10b121cc1fa",
   "outputs": [],
   "execution_count": 15
  },
  {
   "metadata": {
    "ExecuteTime": {
     "end_time": "2025-01-06T16:49:02.896532Z",
     "start_time": "2025-01-06T16:49:02.886364Z"
    }
   },
   "cell_type": "code",
   "source": [
    "from qml.model.gate import get_gateset, Gate, GateInfo\n",
    "from qml.model.unit import Unit, EmbedUnit, EntangleUnit\n",
    "from qml.model.model import Model\n",
    "from qml.tools.trainer import calc_gradients\n",
    "from qml.tools.dataloader import DataLoader"
   ],
   "id": "ce6f684209154d64",
   "outputs": [],
   "execution_count": 29
  },
  {
   "metadata": {
    "ExecuteTime": {
     "end_time": "2025-01-06T17:10:50.444915Z",
     "start_time": "2025-01-06T17:10:50.428469Z"
    }
   },
   "cell_type": "code",
   "source": [
    "%matplotlib inline\n",
    "np.set_printoptions(precision=3, floatmode='fixed')"
   ],
   "id": "17801d9730cfc9fb",
   "outputs": [],
   "execution_count": 54
  },
  {
   "metadata": {
    "ExecuteTime": {
     "end_time": "2025-01-06T07:07:55.953037Z",
     "start_time": "2025-01-06T07:07:55.938416Z"
    }
   },
   "cell_type": "code",
   "source": [
    "nq = 2\n",
    "nx = 1\n",
    "ng = 3\n",
    "gateset = get_gateset(nq)"
   ],
   "id": "45b1ff3b963fc863",
   "outputs": [],
   "execution_count": 5
  },
  {
   "metadata": {
    "ExecuteTime": {
     "end_time": "2025-01-06T16:48:46.215967Z",
     "start_time": "2025-01-06T16:48:46.164930Z"
    }
   },
   "cell_type": "code",
   "source": [
    "_PresetUnitInfo = namedtuple('PresetUnitInfo', [\"gate_names\", \"qubits\"])\n",
    "\n",
    "class _EntangleUnit(Unit):\n",
    "\n",
    "    NEIGHBOR_INFOS = {\n",
    "        2: _PresetUnitInfo(\n",
    "            [\"cz\"], [0]\n",
    "        ),\n",
    "        3: _PresetUnitInfo(\n",
    "            [\"cz\", \"cz\", \"cz\"],\n",
    "            [0, 1, 2]\n",
    "        ),\n",
    "    }\n",
    "\n",
    "    def __init__(\n",
    "            self,\n",
    "            name: str,\n",
    "            gates: list[Gate],\n",
    "            params: list[Parameter],\n",
    "            values: list[float] | NDArray,\n",
    "    ):\n",
    "        super().__init__(name, gates, params, values)\n",
    "\n",
    "    @staticmethod\n",
    "    def new_neighbor_cz(name: str, num_qubit: int, gateset: dict[str, GateInfo] = None):\n",
    "        if gateset is None:\n",
    "            gateset = get_gateset(num_qubit)\n",
    "        infos = _EntangleUnit.NEIGHBOR_INFOS[num_qubit]\n",
    "        return _EntangleUnit(name, _EntangleUnit._new_with_infos(infos, gateset), [], [])\n",
    "\n",
    "    @staticmethod\n",
    "    def _new_with_infos(infos, gateset):\n",
    "        gate_infos: list[GateInfo] = [\n",
    "            gateset[gname]\n",
    "            for gname in infos.gate_names\n",
    "        ]\n",
    "        gates = [\n",
    "            Gate.new_with_info(info, qubit)\n",
    "            for info, qubit in zip(gate_infos, infos.qubits)\n",
    "        ]\n",
    "        return gates"
   ],
   "id": "1686422ee7c6ac93",
   "outputs": [],
   "execution_count": 28
  },
  {
   "metadata": {
    "ExecuteTime": {
     "end_time": "2025-01-06T16:49:32.590955Z",
     "start_time": "2025-01-06T16:49:32.575931Z"
    }
   },
   "cell_type": "code",
   "source": "ent_unit = EntangleUnit.new_neighbor_cz(\"ent1\", nq, gateset=gateset)",
   "id": "c16a9566a71d3964",
   "outputs": [],
   "execution_count": 30
  },
  {
   "metadata": {
    "ExecuteTime": {
     "end_time": "2025-01-06T16:49:46.056419Z",
     "start_time": "2025-01-06T16:49:46.019947Z"
    }
   },
   "cell_type": "code",
   "source": [
    "qc = QuantumCircuit(nq)\n",
    "ent_unit.apply_to_qc(qc)\n",
    "qc.draw(\"mpl\")"
   ],
   "id": "bbbe027b512281f7",
   "outputs": [
    {
     "data": {
      "text/plain": [
       "<Figure size 203.683x200.667 with 1 Axes>"
      ],
      "image/png": "[encoded data removed]"
     },
     "execution_count": 31,
     "metadata": {},
     "output_type": "execute_result"
    }
   ],
   "execution_count": 31
  },
  {
   "metadata": {
    "ExecuteTime": {
     "end_time": "2025-01-06T16:53:34.892423Z",
     "start_time": "2025-01-06T16:53:34.878094Z"
    }
   },
   "cell_type": "code",
   "source": "emb_unit = EmbedUnit.generate_ry_arcsin_embed_unit(\"emb\", nq, nx, gateset=gateset)",
   "id": "cbfe122a8f8ffb38",
   "outputs": [],
   "execution_count": 32
  },
  {
   "metadata": {
    "ExecuteTime": {
     "end_time": "2025-01-06T17:11:25.548669Z",
     "start_time": "2025-01-06T17:11:25.529627Z"
    }
   },
   "cell_type": "code",
   "source": "tr1_unit = Unit.generate_random_unit(\"tr1\", nq, ng, gateset=gateset)",
   "id": "acbf01c408198b7",
   "outputs": [],
   "execution_count": 67
  },
  {
   "metadata": {
    "ExecuteTime": {
     "end_time": "2025-01-06T17:11:25.715768Z",
     "start_time": "2025-01-06T17:11:25.699765Z"
    }
   },
   "cell_type": "code",
   "source": "model = Model(nq, 1, emb_unit, [], [tr1_unit, ent_unit])",
   "id": "d88885e4dab682d2",
   "outputs": [],
   "execution_count": 68
  },
  {
   "metadata": {
    "ExecuteTime": {
     "end_time": "2025-01-06T17:11:25.909123Z",
     "start_time": "2025-01-06T17:11:25.839459Z"
    }
   },
   "cell_type": "code",
   "source": "model.draw()",
   "id": "b0c97f0f9597a6ad",
   "outputs": [
    {
     "data": {
      "text/plain": [
       "<Figure size 788.961x284.278 with 1 Axes>"
      ],
      "image/png": "[encoded data removed]"
     },
     "metadata": {},
     "output_type": "display_data"
    }
   ],
   "execution_count": 69
  },
  {
   "metadata": {},
   "cell_type": "code",
   "outputs": [],
   "execution_count": null,
   "source": "",
   "id": "df973f0edf1fcd0"
  }
 ],
 "metadata": {
  "kernelspec": {
   "display_name": "Python 3",
   "language": "python",
   "name": "python3"
  },
  "language_info": {
   "codemirror_mode": {
    "name": "ipython",
    "version": 2
   },
   "file_extension": ".py",
   "mimetype": "text/x-python",
   "name": "python",
   "nbconvert_exporter": "python",
   "pygments_lexer": "ipython2",
   "version": "2.7.6"
  }
 },
 "nbformat": 4,
 "nbformat_minor": 5
}
