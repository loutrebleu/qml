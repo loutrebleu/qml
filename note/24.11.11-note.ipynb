{
 "cells": [
  {
   "cell_type": "code",
   "id": "initial_id",
   "metadata": {
    "collapsed": true,
    "ExecuteTime": {
     "end_time": "2024-12-01T16:07:17.599661Z",
     "start_time": "2024-12-01T16:07:17.597054Z"
    }
   },
   "source": [
    "import io\n",
    "import cv2\n",
    "import numpy as np\n",
    "import matplotlib.pyplot as plt\n",
    "import time\n",
    "\n",
    "from collections import namedtuple\n",
    "from IPython.display import clear_output\n",
    "from tqdm.notebook import tqdm\n",
    "\n",
    "from scipy.optimize import minimize\n",
    "from qiskit import QuantumRegister, ClassicalRegister, QuantumCircuit, transpile\n",
    "from qiskit.circuit import Parameter\n",
    "from qiskit.circuit.library import RXGate, RYGate, RZGate, CXGate, CZGate, IGate\n",
    "from qiskit_aer import AerSimulator"
   ],
   "outputs": [],
   "execution_count": 160
  },
  {
   "metadata": {
    "ExecuteTime": {
     "end_time": "2024-11-30T02:34:51.887305Z",
     "start_time": "2024-11-30T02:34:51.885231Z"
    }
   },
   "cell_type": "code",
   "source": "np.set_printoptions(precision=3, floatmode='fixed')",
   "id": "4ae3ee2ebd0fa963",
   "outputs": [],
   "execution_count": 86
  },
  {
   "metadata": {
    "ExecuteTime": {
     "end_time": "2024-11-26T15:14:16.547227Z",
     "start_time": "2024-11-26T15:14:16.545537Z"
    }
   },
   "cell_type": "code",
   "source": [
    "GATESET = [\n",
    "    (RXGate, True),\n",
    "    (RYGate, True),\n",
    "    (RZGate, True),\n",
    "    (CZGate, False),\n",
    "]"
   ],
   "id": "83e10ebe4557ab32",
   "outputs": [],
   "execution_count": 3
  },
  {
   "metadata": {
    "ExecuteTime": {
     "end_time": "2024-11-26T15:14:16.552548Z",
     "start_time": "2024-11-26T15:14:16.547862Z"
    }
   },
   "cell_type": "code",
   "source": [
    "class Unit:\n",
    "    \n",
    "    def __init__(self, gates, params, qubits, num_param):\n",
    "        self.gates = gates\n",
    "        self.params = params\n",
    "        self.qubits = qubits\n",
    "        self.num_param = num_param\n",
    "        self._values = None\n",
    "    \n",
    "    @classmethod\n",
    "    def generate_random(cls, nq, ng, prefix=None, policy=\"zero\"):\n",
    "        gates = []\n",
    "        params = []\n",
    "        qubits = []\n",
    "        num_param = 0\n",
    "        \n",
    "        selected_gates = [\n",
    "            GATESET[i]\n",
    "            for i in np.random.choice(np.arange(len(GATESET)), replace=True, size=ng)\n",
    "        ]\n",
    "        for gate, istrainable in selected_gates:\n",
    "            qt = np.random.randint(nq)\n",
    "            \n",
    "            if not istrainable:\n",
    "                gates.append(gate())\n",
    "                params.append(None)\n",
    "                qubits.append((qt, (qt + 1) % nq))\n",
    "                continue\n",
    "\n",
    "            pname = f\"param_{len(params)}\"\n",
    "            if prefix is not None:\n",
    "                pname = prefix + \"_\" + pname\n",
    "            param = Parameter(pname)\n",
    "\n",
    "            gates.append(gate(param))\n",
    "            params.append(param)\n",
    "            qubits.append(qt)\n",
    "            num_param += 1\n",
    "        \n",
    "        unit = cls(gates, params, qubits, num_param)\n",
    "        if policy is None:\n",
    "            return unit\n",
    "        \n",
    "        if policy == \"randomn\":\n",
    "            values = np.random.rand(num_param) * 2 * np.pi\n",
    "        elif policy == \"zero\":\n",
    "            values = np.zeros(num_param)\n",
    "\n",
    "        unit.set_values(values)\n",
    "        \n",
    "        return unit\n",
    "\n",
    "    def feed_dict(self, values=None):\n",
    "        if values is None:\n",
    "            values = self.values\n",
    "        if not hasattr(values, \"__len__\"):\n",
    "            values = [values]\n",
    "        iter_values = iter(values)\n",
    "        return {\n",
    "            param.name: next(iter_values)\n",
    "            for param in self.params if param is not None\n",
    "        }\n",
    "    \n",
    "    def apply_to_circuit(self, qc):\n",
    "        for gate, qubit in zip(self.gates, self.qubits):\n",
    "            if isinstance(gate, CZGate):\n",
    "                qargs = [\n",
    "                    qc.qubits[qubit[0]],\n",
    "                    qc.qubits[qubit[1]]\n",
    "                ]\n",
    "            else:\n",
    "                qargs = [qc.qubits[qubit]]\n",
    "            qc.append(gate, qargs=qargs)\n",
    "        qc.barrier()\n",
    "        return qc\n",
    "    \n",
    "    def set_values(self, values):\n",
    "        values = np.asarray(values)\n",
    "        values = values % (2 * np.pi)\n",
    "        self._values = values\n",
    "        return self\n",
    "    \n",
    "    @property\n",
    "    def values(self):\n",
    "        return np.asarray(self._values).copy()\n"
   ],
   "id": "e7a4fb904d9cbe74",
   "outputs": [],
   "execution_count": 4
  },
  {
   "metadata": {
    "ExecuteTime": {
     "end_time": "2024-11-26T15:14:16.556183Z",
     "start_time": "2024-11-26T15:14:16.554177Z"
    }
   },
   "cell_type": "code",
   "source": [
    "class InputUnit(Unit):\n",
    "    \n",
    "    @classmethod\n",
    "    def generate_rxs(cls, nq):\n",
    "        params = [Parameter(\"unit_i_param_0\")]\n",
    "        gates = [RXGate(params[0]) for _ in range(nq)]\n",
    "        qubits = np.arange(nq)\n",
    "        num_param = 1\n",
    "        return cls(gates, params, qubits, num_param)"
   ],
   "id": "6ced9eb2cb45b2b",
   "outputs": [],
   "execution_count": 5
  },
  {
   "metadata": {
    "ExecuteTime": {
     "end_time": "2024-11-12T03:37:34.674708Z",
     "start_time": "2024-11-12T03:37:34.616954Z"
    }
   },
   "cell_type": "code",
   "source": [
    "qc = QuantumCircuit(2)\n",
    "\n",
    "iunit = InputUnit.generate_rxs(2)\n",
    "unit = Unit.generate_random(2, 4, prefix=\"unit_0\")\n",
    "\n",
    "x = 1\n",
    "params = np.zeros(unit.num_param)\n",
    "\n",
    "feed_dict = iunit.feed_dict(x) | unit.feed_dict(params)\n",
    "print(feed_dict)\n",
    "\n",
    "iunit.apply_to_circuit(qc)\n",
    "unit.apply_to_circuit(qc)\n",
    "qc.draw(\"mpl\")"
   ],
   "id": "b37a3970ba5d49b2",
   "outputs": [
    {
     "name": "stdout",
     "output_type": "stream",
     "text": [
      "{'unit_i_param_0': 1, 'unit_0_param_0': np.float64(0.0), 'unit_0_param_2': np.float64(0.0), 'unit_0_param_3': np.float64(0.0)}\n"
     ]
    },
    {
     "data": {
      "text/plain": [
       "<Figure size 872.572x200.667 with 1 Axes>"
      ],
      "image/png": "[encoded data removed]"
     },
     "execution_count": 48,
     "metadata": {},
     "output_type": "execute_result"
    }
   ],
   "execution_count": 48
  },
  {
   "metadata": {
    "ExecuteTime": {
     "end_time": "2024-11-27T00:09:58.944656Z",
     "start_time": "2024-11-27T00:09:58.938806Z"
    }
   },
   "cell_type": "code",
   "source": [
    "class Model:\n",
    "    \n",
    "    def __init__(self, num_qubit, num_output, input_units, fixed_units, trainable_unit, shots=100, sim=None):\n",
    "        self.nq = num_qubit\n",
    "        self.nc = num_output\n",
    "        self.input_units = input_units\n",
    "        self.fixed_units = fixed_units\n",
    "        self.trainable_unit = trainable_unit\n",
    "        self.sim = sim if sim is not None else AerSimulator()\n",
    "        self.shots = shots\n",
    "    \n",
    "    def forward(self, x, params=None, shots=None):\n",
    "        if params is None:\n",
    "            params = self.trainable_unit.values\n",
    "        if shots is None:\n",
    "            shots = self.shots\n",
    "        qc = self.apply_units()\n",
    "        feed_dict = self.input_units.feed_dict(x)\n",
    "        for unit in zip(self.fixed_units):\n",
    "            feed_dict |= unit.feed_dict()\n",
    "        feed_dict |= self.trainable_unit.feed_dict(params)\n",
    "        \n",
    "        # print(\"feed_dict:\", feed_dict)\n",
    "        \n",
    "        bc = qc.assign_parameters(feed_dict)\n",
    "        job = transpile(bc, self.sim)\n",
    "        res = self.sim.run(job, shots=shots).result().get_counts()\n",
    "        pre = res.get(\"0\", 0) - res.get(\"1\", 0)\n",
    "        return pre / shots\n",
    "    \n",
    "    def apply_units(self):\n",
    "        qc = QuantumCircuit(self.nq, self.nc)\n",
    "        \n",
    "        self.input_units.apply_to_circuit(qc)\n",
    "        [\n",
    "            fixed_unit.apply_to_circuit(qc)\n",
    "            for fixed_unit in self.fixed_units\n",
    "        ]\n",
    "        self.trainable_unit.apply_to_circuit(qc)\n",
    "        \n",
    "        qc.measure(0, 0)\n",
    "        return qc"
   ],
   "id": "95e0220899ddd960",
   "outputs": [],
   "execution_count": 51
  },
  {
   "metadata": {
    "ExecuteTime": {
     "end_time": "2024-11-30T02:38:23.721791Z",
     "start_time": "2024-11-30T02:38:23.717336Z"
    }
   },
   "cell_type": "code",
   "source": "model = Model(2, 1, InputUnit.generate_rxs(2), [], Unit.generate_random(2, 3, prefix=\"unit_0\"))",
   "id": "86a0735fd0c8f3d0",
   "outputs": [],
   "execution_count": 95
  },
  {
   "metadata": {
    "ExecuteTime": {
     "end_time": "2024-11-30T02:38:23.962872Z",
     "start_time": "2024-11-30T02:38:23.905602Z"
    }
   },
   "cell_type": "code",
   "source": [
    "qc = model.apply_units()\n",
    "qc.draw(\"mpl\")"
   ],
   "id": "3bedfc4de9048c97",
   "outputs": [
    {
     "data": {
      "text/plain": [
       "<Figure size 872.572x284.278 with 1 Axes>"
      ],
      "image/png": "[encoded data removed]"
     },
     "execution_count": 96,
     "metadata": {},
     "output_type": "execute_result"
    }
   ],
   "execution_count": 96
  },
  {
   "metadata": {},
   "cell_type": "code",
   "outputs": [],
   "execution_count": 125,
   "source": [
    "def calc_gradients(model, x, shots=100):\n",
    "    trainable_params = model.trainable_unit.values\n",
    "\n",
    "    def calc_gradient_i(idx):\n",
    "        shifted_pos = trainable_params.copy()\n",
    "        shifted_neg = trainable_params.copy()\n",
    "        shifted_pos[idx] = (trainable_params[idx] + np.pi / 2) % (np.pi * 2)\n",
    "        shifted_neg[idx] = (trainable_params[idx] - np.pi / 2) % (np.pi * 2)\n",
    "        \n",
    "        predict_pos = model.forward(x, params=shifted_pos, shots=shots)\n",
    "        predict_neg = model.forward(x, params=shifted_neg, shots=shots)\n",
    "        grad = (predict_pos - predict_neg) / 2\n",
    "        return grad\n",
    "    \n",
    "    grads = np.asarray([\n",
    "        calc_gradient_i(idx)\n",
    "        for idx in range(len(trainable_params))\n",
    "    ])\n",
    "    return grads"
   ],
   "id": "253471c049c37ab5"
  },
  {
   "metadata": {},
   "cell_type": "markdown",
   "source": [
    "$$\n",
    "\\begin{eqnarray}\n",
    "\\mathcal{L}(\\theta) &=& \\underset{x_i \\sim \\mathcal{B}}{\\mathbb{E}} \\left[ \\frac{1}{2} \\left(f(x_i) - \\phi(x_i, \\theta) \\right)^T \\cdot \\left(f(x_i) - \\phi(x_i, \\theta) \\right) \\right] \\\\\n",
    "\\nabla_\\theta \\mathcal{L}(\\theta) &=& \\underset{x_i \\sim \\mathcal{B}}{\\mathbb{E}} \\left[ - w \\left(f(x_i) - \\phi(x_i, \\theta) \\right)^T \\cdot \\frac{\\left< B \\right>_i^+ - \\left< B \\right>_i^- }{2} \\right]\n",
    "\\end{eqnarray}\n",
    "$$"
   ],
   "id": "18b6be03c286afc0"
  },
  {
   "metadata": {},
   "cell_type": "code",
   "outputs": [],
   "execution_count": 104,
   "source": "fn = lambda x: np.sin(x * 2 * np.pi)",
   "id": "b87d4254e4e7ec5a"
  },
  {
   "metadata": {},
   "cell_type": "code",
   "outputs": [],
   "execution_count": 121,
   "source": "loss_func = lambda ys, ps: np.mean(np.square(ys - ps)) * 0.5",
   "id": "8c04a4b71fe24959"
  },
  {
   "metadata": {},
   "cell_type": "code",
   "outputs": [],
   "execution_count": 107,
   "source": [
    "xs = np.arange(11) / 10\n",
    "ys = fn(xs)"
   ],
   "id": "56ab8bac31e09c9e"
  },
  {
   "metadata": {},
   "cell_type": "code",
   "outputs": [],
   "execution_count": 130,
   "source": "lr = 0.01",
   "id": "8e073ec738934465"
  },
  {
   "metadata": {},
   "cell_type": "code",
   "outputs": [],
   "execution_count": 115,
   "source": "params = model.trainable_unit.values",
   "id": "a00eca7776f7cc2c"
  },
  {
   "metadata": {
    "ExecuteTime": {
     "end_time": "2024-12-01T14:46:59.883756Z",
     "start_time": "2024-12-01T14:46:59.881079Z"
    }
   },
   "cell_type": "code",
   "source": [
    "def calc_batch_grads(model, xs):\n",
    "    grads = np.asarray([\n",
    "        calc_gradients(model, x, shots=50) * e\n",
    "        for x, e in zip(xs, es)\n",
    "    ])\n",
    "    return grads"
   ],
   "id": "d14677422becb20",
   "outputs": [],
   "execution_count": 140
  },
  {
   "metadata": {
    "ExecuteTime": {
     "end_time": "2024-12-01T16:09:10.631303Z",
     "start_time": "2024-12-01T16:09:10.626978Z"
    }
   },
   "cell_type": "code",
   "source": [
    "def training_step(model, xs, ys, lr=0.01, shots=100):\n",
    "    params = model.trainable_unit.values\n",
    "    ps = np.array([model.forward(x, params=params, shots=shots) for x in xs])\n",
    "    es = ys - ps\n",
    "    es = np.expand_dims(es, axis=1)\n",
    "    loss = loss_func(ys, ps)\n",
    "    grads = calc_batch_grads(model, xs)\n",
    "    dparams = (es * grads).mean(axis=0)\n",
    "    params = params - lr * dparams\n",
    "    return params, loss"
   ],
   "id": "a539211910c9275c",
   "outputs": [],
   "execution_count": 163
  },
  {
   "metadata": {
    "ExecuteTime": {
     "end_time": "2024-12-01T16:09:11.083908Z",
     "start_time": "2024-12-01T16:09:11.081775Z"
    }
   },
   "cell_type": "code",
   "source": "model = Model(2, 1, InputUnit.generate_rxs(2), [], Unit.generate_random(2, 3, prefix=\"unit_0\"))",
   "id": "e74e0f0377ff4b3a",
   "outputs": [],
   "execution_count": 164
  },
  {
   "metadata": {
    "ExecuteTime": {
     "end_time": "2024-12-01T16:12:27.500804Z",
     "start_time": "2024-12-01T16:11:34.307309Z"
    }
   },
   "cell_type": "code",
   "source": [
    "log = dict(\n",
    "    loss=[],\n",
    "    time=[],\n",
    ")\n",
    "for step in range(1, 51):\n",
    "    time_avans = time.time()\n",
    "    params, loss = training_step(model, xs, ys, lr=0.1, shots=50)\n",
    "    model.trainable_unit.set_values(params)\n",
    "    time_apres = time.time()\n",
    "    time_calc = time_apres - time_avans\n",
    "    log[\"loss\"].append(loss)\n",
    "    log[\"time\"].append(time_calc)\n",
    "    print(f\"Step: {step: 3}, Loss: {loss:6.3f}, Time: {time_calc:6.3f}\")"
   ],
   "id": "5cd4eb30ad3d4409",
   "outputs": [
    {
     "name": "stdout",
     "output_type": "stream",
     "text": [
      "Step:   1, Loss:  0.476, Time:  1.397\n",
      "Step:   2, Loss:  0.437, Time:  1.060\n",
      "Step:   3, Loss:  0.436, Time:  1.124\n",
      "Step:   4, Loss:  0.408, Time:  1.125\n",
      "Step:   5, Loss:  0.425, Time:  1.055\n",
      "Step:   6, Loss:  0.380, Time:  1.051\n",
      "Step:   7, Loss:  0.411, Time:  1.054\n",
      "Step:   8, Loss:  0.338, Time:  1.049\n",
      "Step:   9, Loss:  0.386, Time:  1.044\n",
      "Step:  10, Loss:  0.336, Time:  1.102\n",
      "Step:  11, Loss:  0.346, Time:  1.041\n",
      "Step:  12, Loss:  0.329, Time:  1.041\n",
      "Step:  13, Loss:  0.298, Time:  1.043\n",
      "Step:  14, Loss:  0.278, Time:  1.045\n",
      "Step:  15, Loss:  0.316, Time:  1.045\n",
      "Step:  16, Loss:  0.291, Time:  1.043\n",
      "Step:  17, Loss:  0.294, Time:  1.119\n",
      "Step:  18, Loss:  0.264, Time:  1.046\n",
      "Step:  19, Loss:  0.234, Time:  1.042\n",
      "Step:  20, Loss:  0.257, Time:  1.042\n",
      "Step:  21, Loss:  0.296, Time:  1.044\n",
      "Step:  22, Loss:  0.263, Time:  1.046\n",
      "Step:  23, Loss:  0.223, Time:  1.105\n",
      "Step:  24, Loss:  0.238, Time:  1.042\n",
      "Step:  25, Loss:  0.223, Time:  1.044\n",
      "Step:  26, Loss:  0.267, Time:  1.041\n",
      "Step:  27, Loss:  0.257, Time:  1.048\n",
      "Step:  28, Loss:  0.221, Time:  1.046\n",
      "Step:  29, Loss:  0.290, Time:  1.043\n",
      "Step:  30, Loss:  0.221, Time:  1.113\n",
      "Step:  31, Loss:  0.275, Time:  1.043\n",
      "Step:  32, Loss:  0.198, Time:  1.050\n",
      "Step:  33, Loss:  0.273, Time:  1.045\n",
      "Step:  34, Loss:  0.257, Time:  1.042\n",
      "Step:  35, Loss:  0.246, Time:  1.043\n",
      "Step:  36, Loss:  0.231, Time:  1.045\n",
      "Step:  37, Loss:  0.263, Time:  1.109\n",
      "Step:  38, Loss:  0.283, Time:  1.043\n",
      "Step:  39, Loss:  0.286, Time:  1.044\n",
      "Step:  40, Loss:  0.259, Time:  1.045\n",
      "Step:  41, Loss:  0.324, Time:  1.042\n",
      "Step:  42, Loss:  0.310, Time:  1.048\n",
      "Step:  43, Loss:  0.268, Time:  1.048\n",
      "Step:  44, Loss:  0.238, Time:  1.110\n",
      "Step:  45, Loss:  0.287, Time:  1.045\n",
      "Step:  46, Loss:  0.293, Time:  1.045\n",
      "Step:  47, Loss:  0.294, Time:  1.054\n",
      "Step:  48, Loss:  0.268, Time:  1.053\n",
      "Step:  49, Loss:  0.299, Time:  1.047\n",
      "Step:  50, Loss:  0.295, Time:  1.047\n"
     ]
    }
   ],
   "execution_count": 166
  },
  {
   "metadata": {
    "ExecuteTime": {
     "end_time": "2024-12-01T16:15:51.492983Z",
     "start_time": "2024-12-01T16:15:51.422740Z"
    }
   },
   "cell_type": "code",
   "source": [
    "fig, axes = plt.subplots(ncols=2, figsize=(8, 3))\n",
    "axes[0].plot(log[\"time\"])\n",
    "axes[1].plot(log[\"loss\"])\n",
    "plt.xlim([0, 50])"
   ],
   "id": "9bed4a6299e95e4c",
   "outputs": [
    {
     "data": {
      "text/plain": [
       "(0.0, 50.0)"
      ]
     },
     "execution_count": 171,
     "metadata": {},
     "output_type": "execute_result"
    },
    {
     "data": {
      "text/plain": [
       "<Figure size 800x300 with 2 Axes>"
      ],
      "image/png": "[encoded data removed]"
     },
     "metadata": {},
     "output_type": "display_data"
    }
   ],
   "execution_count": 171
  },
  {
   "metadata": {
    "ExecuteTime": {
     "end_time": "2024-12-01T16:20:31.687880Z",
     "start_time": "2024-12-01T16:20:31.418394Z"
    }
   },
   "cell_type": "code",
   "source": [
    "ps = [model.forward(x, shots=50) for x in xs]\n",
    "fig, ax = plt.subplots()\n",
    "ax.plot(xs, ys)\n",
    "ax.plot(xs, ps)"
   ],
   "id": "3f6d8e401dd3358",
   "outputs": [
    {
     "data": {
      "text/plain": [
       "[<matplotlib.lines.Line2D at 0x1381a20c0>]"
      ]
     },
     "execution_count": 174,
     "metadata": {},
     "output_type": "execute_result"
    },
    {
     "data": {
      "text/plain": [
       "<Figure size 640x480 with 1 Axes>"
      ],
      "image/png": "[encoded data removed]"
     },
     "metadata": {},
     "output_type": "display_data"
    }
   ],
   "execution_count": 174
  },
  {
   "metadata": {
    "ExecuteTime": {
     "end_time": "2024-12-01T14:32:21.616721Z",
     "start_time": "2024-12-01T14:32:19.985362Z"
    }
   },
   "cell_type": "code",
   "source": [
    "grads = np.asarray([\n",
    "    calc_gradients(model, x, shots=50) * e\n",
    "    for x, e in zip(xs, es)\n",
    "]).mean(axis=0)\n",
    "grads, params"
   ],
   "id": "54ae8068f816812a",
   "outputs": [
    {
     "data": {
      "text/plain": [
       "(array([-0.001,  0.423,  0.017]), array([0.000, 0.000, 0.000]))"
      ]
     },
     "execution_count": 129,
     "metadata": {},
     "output_type": "execute_result"
    }
   ],
   "execution_count": 129
  },
  {
   "metadata": {},
   "cell_type": "code",
   "outputs": [],
   "execution_count": null,
   "source": "",
   "id": "78a6564d806aa057"
  }
 ],
 "metadata": {
  "kernelspec": {
   "display_name": "Python 3",
   "language": "python",
   "name": "python3"
  },
  "language_info": {
   "codemirror_mode": {
    "name": "ipython",
    "version": 2
   },
   "file_extension": ".py",
   "mimetype": "text/x-python",
   "name": "python",
   "nbconvert_exporter": "python",
   "pygments_lexer": "ipython2",
   "version": "2.7.6"
  }
 },
 "nbformat": 4,
 "nbformat_minor": 5
}
