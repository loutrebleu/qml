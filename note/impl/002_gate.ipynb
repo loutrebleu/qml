{
 "cells": [
  {
   "cell_type": "code",
   "execution_count": 1,
   "metadata": {},
   "outputs": [],
   "source": [
    "%load_ext autoreload\n",
    "%autoreload 2\n"
   ]
  },
  {
   "cell_type": "code",
   "execution_count": 2,
   "metadata": {},
   "outputs": [],
   "source": [
    "import os\n",
    "os.chdir(\"../..\")\n"
   ]
  },
  {
   "cell_type": "code",
   "execution_count": 7,
   "metadata": {},
   "outputs": [],
   "source": [
    "import numpy as np\n",
    "\n",
    "from enum import Enum\n",
    "\n",
    "from typing import Callable\n",
    "\n",
    "from qiskit import QuantumCircuit\n",
    "from qiskit.circuit.gate import Gate as QkGate\n",
    "from qiskit.circuit.library import RXGate, RYGate, RZGate, CZGate\n",
    "from qiskit.circuit import Parameter, Instruction\n"
   ]
  },
  {
   "cell_type": "code",
   "execution_count": 4,
   "metadata": {},
   "outputs": [],
   "source": [
    "from qml.tools.random import XRandomGenerator\n"
   ]
  },
  {
   "cell_type": "code",
   "execution_count": 5,
   "metadata": {},
   "outputs": [],
   "source": [
    "def single_qubit_qargs(qc: QuantumCircuit, qubit_idx: int) -> list:\n",
    "    return [qc.qubits[qubit_idx]]\n",
    "\n",
    "\n",
    "def generate_double_qubit_args(spread: int = 1) -> Callable:\n",
    "    def double_qubit_args(qc: QuantumCircuit, qubit_idx: int) -> list:\n",
    "        return [\n",
    "            qc.qubits[qubit_idx],\n",
    "            qc.qubits[(qubit_idx+spread) % qc.num_qubits],\n",
    "        ]\n",
    "    return double_qubit_args\n"
   ]
  },
  {
   "cell_type": "code",
   "execution_count": 30,
   "metadata": {},
   "outputs": [],
   "source": [
    "class GateInfo(Enum):\n",
    "\n",
    "    RX = (RXGate, True, False, single_qubit_qargs)\n",
    "    RY = (RYGate, True, False, single_qubit_qargs)\n",
    "    RZ = (RZGate, True, False, single_qubit_qargs)\n",
    "    CZ1 = (CZGate, False, True, generate_double_qubit_args(1))\n",
    "\n",
    "    def __init__(\n",
    "            self,\n",
    "            gate_class: QkGate,\n",
    "            trainable: bool,\n",
    "            multibit: bool,\n",
    "            qargs: Callable,\n",
    "    ):\n",
    "        self.gate_class = gate_class\n",
    "        self.trainable = trainable\n",
    "        self.multibit = multibit\n",
    "        self.qargs = qargs\n",
    "    \n",
    "    @classmethod\n",
    "    def get(cls, obj):\n",
    "        if isinstance(obj, Gateset):\n",
    "            return obj\n",
    "        if not isinstance(obj, str):\n",
    "            raise ValueError(f\"Gateset.get() requires Gateset or string, but {type(obj)} is given.\")\n",
    "        name = obj.upper()\n",
    "        for g in cls:\n",
    "            if name == g.name:\n",
    "                return g\n",
    "        raise ValueError(f\"Incorrect obj is given; {obj}\")\n",
    "    \n",
    "\n",
    "class Gateset:\n",
    "\n",
    "    GATE_LIST = dict()\n",
    "\n",
    "    def __init__(self, num_qubits: int, seed: int = None):\n",
    "        self._rng = XRandomGenerator(seed)\n",
    "        self._nq = num_qubits\n",
    "\n",
    "        for key, gate in self.GATE_LIST.items():\n",
    "            self.__setattr__(key, gate)\n",
    "\n",
    "        # accessors\n",
    "            self.keys = self.GATE_LIST.keys\n",
    "            self.items = self.GATE_LIST.items\n",
    "            self.values = self.GATE_LIST.values\n",
    "    \n",
    "    @staticmethod\n",
    "    def set_num_qubit(num_qubit: int, seed: int = None) -> \"Gateset\":\n",
    "        if num_qubit == 2:\n",
    "            return Gateset2Qubit(seed=seed)\n",
    "        if num_qubit == 3:\n",
    "            return Gateset3Qubit\n",
    "        raise ValueError(f'num_qubit {num_qubit} is not supported.')\n",
    "    \n",
    "    def __iter__(self):\n",
    "        return iter(self.GATE_LIST.values())\n",
    "    \n",
    "    def get(self, obj):\n",
    "        if isinstance(obj, GateInfo):\n",
    "            return obj\n",
    "        obj = obj.upper()\n",
    "        if obj not in self.GATE_LIST:\n",
    "            raise ValueError(\"Undefined gate is attempted to retrieve.\")\n",
    "        return self.GATE_LIST[obj]\n",
    "    \n",
    "    def get_at_random(self):\n",
    "        return self._rng.choice([g for g in self])\n",
    "\n",
    "\n",
    "class Gateset2Qubit(Gateset):\n",
    "\n",
    "    NUM_QUBITS = 2\n",
    "\n",
    "    GATE_LIST = dict(\n",
    "        RX=GateInfo.RX,\n",
    "        RY=GateInfo.RY,\n",
    "        RZ=GateInfo.RZ,\n",
    "        CZ=GateInfo.CZ1,\n",
    "    )\n",
    "\n",
    "    def __init__(self, seed: int = None):\n",
    "        super().__init__(self.NUM_QUBITS, seed=seed)\n",
    "\n",
    "\n",
    "class Gateset3Qubit(Gateset):\n",
    "\n",
    "    NUM_QUBITS = 3\n",
    "\n",
    "    GATE_LIST = dict(\n",
    "        RX=GateInfo.RX,\n",
    "        RY=GateInfo.RY,\n",
    "        RZ=GateInfo.RZ,\n",
    "        CZ=GateInfo.CZ1,\n",
    "    )\n",
    "\n",
    "    def __init__(self, seed: int = None):\n",
    "        super().__init__(self.NUM_QUBITS, seed=seed)\n"
   ]
  },
  {
   "cell_type": "code",
   "execution_count": 31,
   "metadata": {},
   "outputs": [
    {
     "data": {
      "text/plain": [
       "<GateInfo.CZ1: (<class 'qiskit.circuit.library.standard_gates.z.CZGate'>, False, True, <function generate_double_qubit_args.<locals>.double_qubit_args at 0x10fdeb600>)>"
      ]
     },
     "execution_count": 31,
     "metadata": {},
     "output_type": "execute_result"
    }
   ],
   "source": [
    "gset = Gateset.set_num_qubit(2)\n",
    "gset.get_at_random()\n"
   ]
  },
  {
   "cell_type": "code",
   "execution_count": null,
   "metadata": {},
   "outputs": [],
   "source": []
  },
  {
   "cell_type": "code",
   "execution_count": 10,
   "metadata": {},
   "outputs": [],
   "source": [
    "class Gate:\n",
    "\n",
    "    def __init__(\n",
    "            self,\n",
    "            gate: Instruction,\n",
    "            trainable: bool,\n",
    "            multibit: bool,\n",
    "            qubit: int,\n",
    "            qargs_func: Callable,\n",
    "    ):\n",
    "        self._gate = gate\n",
    "        self._trainable = trainable\n",
    "        self._multibit = multibit\n",
    "        self._qubit = qubit\n",
    "        self._qargs_func = qargs_func\n",
    "\n",
    "    def apply_to_qc(self, qc: QuantumCircuit):\n",
    "        qargs = self._qargs_func(qc, self._qubit)\n",
    "        qc.append(self._gate, qargs)\n",
    "\n",
    "    @staticmethod\n",
    "    def new_with_info(info: GateInfo, qubit: int, parameter: Parameter = None):\n",
    "        gate = info.gate_class() if parameter is None else info.gate_class(parameter)\n",
    "        return Gate(\n",
    "            gate, info.trainable, info.multibit, qubit, info.qargs\n",
    "        )\n",
    "\n",
    "    @property\n",
    "    def gate(self):\n",
    "        return self._gate\n",
    "\n",
    "    @property\n",
    "    def trainable(self):\n",
    "        return self._trainable\n",
    "\n",
    "    @property\n",
    "    def multi_qubit(self):\n",
    "        return self._multi_qubit\n",
    "\n",
    "    @property\n",
    "    def qubit(self):\n",
    "        return self._qubit\n"
   ]
  }
 ],
 "metadata": {
  "kernelspec": {
   "display_name": "lb-qml",
   "language": "python",
   "name": "python3"
  },
  "language_info": {
   "codemirror_mode": {
    "name": "ipython",
    "version": 3
   },
   "file_extension": ".py",
   "mimetype": "text/x-python",
   "name": "python",
   "nbconvert_exporter": "python",
   "pygments_lexer": "ipython3",
   "version": "3.12.7"
  }
 },
 "nbformat": 4,
 "nbformat_minor": 2
}
