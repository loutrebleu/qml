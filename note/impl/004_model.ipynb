{
 "cells": [
  {
   "cell_type": "code",
   "execution_count": 1,
   "metadata": {},
   "outputs": [],
   "source": [
    "%load_ext autoreload\n",
    "%autoreload 2\n"
   ]
  },
  {
   "cell_type": "code",
   "execution_count": 2,
   "metadata": {},
   "outputs": [],
   "source": [
    "import os\n",
    "os.chdir(\"../..\")\n"
   ]
  },
  {
   "cell_type": "code",
   "execution_count": 3,
   "metadata": {},
   "outputs": [],
   "source": [
    "import numpy as np\n",
    "from qiskit import QuantumCircuit, transpile\n",
    "from qiskit_aer import AerSimulator\n"
   ]
  },
  {
   "cell_type": "code",
   "execution_count": 4,
   "metadata": {},
   "outputs": [],
   "source": [
    "from qml.model.unit import Unit, UnitManager\n",
    "from qml.model.encoding import EncodingUnitManager\n",
    "from qml.tools.typing import Vector\n"
   ]
  },
  {
   "cell_type": "code",
   "execution_count": 37,
   "metadata": {},
   "outputs": [],
   "source": [
    "class Model:\n",
    "\n",
    "    def __init__(\n",
    "            self,\n",
    "            num_qubits: int,\n",
    "            dim_output: int,\n",
    "            input_units: Unit,\n",
    "            fixed_units: list[Unit] = None,\n",
    "            trainable_units: list[Unit] = None,\n",
    "            shots: int = 100,\n",
    "            sim=None,\n",
    "    ):        \n",
    "        self.nq = num_qubits\n",
    "        self.nc = dim_output\n",
    "\n",
    "        self._input_units = self._to_list(input_units)\n",
    "        self._fixed_units = self._to_list(fixed_units)\n",
    "        self._trainable_units = self._to_list(trainable_units)\n",
    "\n",
    "        self._shots = shots\n",
    "        self._sim = sim if sim is not None else AerSimulator()\n",
    "    \n",
    "    @staticmethod\n",
    "    def _to_list(units: list[Unit] | Unit):\n",
    "        if units is None:\n",
    "            return []\n",
    "        if hasattr(units, \"__len__\"):\n",
    "            return units\n",
    "        return [units]\n",
    "    \n",
    "    def forward(self, x: Vector, params=None, shots: int =  None) -> float:\n",
    "        print(\"trainable_units:\", self._trainable_units)\n",
    "        if params is None:\n",
    "            params = [unit.values for unit in self._trainable_units]\n",
    "        if shots is None:\n",
    "            shots = self._shots\n",
    "        feed_dict = dict()\n",
    "        for unit in self._input_units:\n",
    "            feed_dict |= unit.feed_dict(x)\n",
    "        for unit in self._fixed_units:\n",
    "            feed_dict |= unit.feed_dict()\n",
    "        for unit, param in zip(self._trainable_units, params):\n",
    "            feed_dict |= unit.feed_dict(param)\n",
    "        \n",
    "        qc = self._apply()\n",
    "        bc = qc.assign_parameters(feed_dict)\n",
    "        print(bc)\n",
    "        job = transpile(bc, self._sim)\n",
    "        res = self._sim.run(job, shots=shots).result().get_counts()\n",
    "        pre = res.get(\"0\", 0) - res.get(\"1\", 0)\n",
    "        return pre / shots\n",
    "    \n",
    "    def _apply(self):\n",
    "        qc =QuantumCircuit(self.nq, self.nc)\n",
    "\n",
    "        [\n",
    "            unit.apply_to_qc(qc)\n",
    "            for unit in self._input_units\n",
    "        ]\n",
    "        [\n",
    "            unit.apply_to_qc(qc)\n",
    "            for unit in self._fixed_units\n",
    "        ]\n",
    "        [\n",
    "            unit.apply_to_qc(qc)\n",
    "            for unit in self._trainable_units\n",
    "        ]\n",
    "\n",
    "        [\n",
    "            qc.measure(i, i)\n",
    "            for i in range(self.nc)\n",
    "        ]\n",
    "        return qc\n",
    "\n",
    "    @property\n",
    "    def input_units(self):\n",
    "        return self._input_units\n",
    "    \n",
    "    @property\n",
    "    def fixed_units(self):\n",
    "        return self._fixed_units\n",
    "    \n",
    "    @property\n",
    "    def trainable_units(self):\n",
    "        return self._trainable_units\n",
    "    \n",
    "    def fixe_trainable_units(self):\n",
    "        [\n",
    "            self._fixed_units.append(unit)\n",
    "            for unit in self._trainable_units\n",
    "        ]\n",
    "        self._trainable_units = []\n",
    "    \n",
    "    @property\n",
    "    def shots(self):\n",
    "        return self._shots\n",
    "    \n",
    "    @shots.setter\n",
    "    def shots(self, value):\n",
    "        assert value > 0, f\"shots is positive integer, but {value} is given.\"\n",
    "        self._shots = value\n",
    "    \n",
    "    @property\n",
    "    def trainable_parameters(self):\n",
    "        return [\n",
    "            unit.parameters for unit in self._trainable_units\n",
    "        ]\n",
    "\n",
    "    def update_parameters(self, new_parameters):\n",
    "        for unit, param in zip(self.trainable_units, new_parameters):\n",
    "            unit.values = param\n",
    "        return self\n",
    "    \n",
    "    def draw(self, ax=None):\n",
    "        qc = self._apply()\n",
    "        if ax is not None:\n",
    "            qc.draw(\"mpl\", ax=ax)\n",
    "            return\n",
    "        qc.draw(\"mpl\")\n",
    "    \n"
   ]
  },
  {
   "cell_type": "code",
   "execution_count": 38,
   "metadata": {},
   "outputs": [],
   "source": [
    "nq = 2\n",
    "ng = 3\n",
    "nx = 1\n",
    "ny = 1\n",
    "\n",
    "shots = 50\n"
   ]
  },
  {
   "cell_type": "code",
   "execution_count": 39,
   "metadata": {},
   "outputs": [],
   "source": [
    "uman = UnitManager(nq, ng)\n"
   ]
  },
  {
   "cell_type": "code",
   "execution_count": 40,
   "metadata": {},
   "outputs": [],
   "source": [
    "eunit = EncodingUnitManager.AngleEncoding(nx, nq, repeat=True)\n",
    "funits = uman.generate_random_unit()\n"
   ]
  },
  {
   "cell_type": "code",
   "execution_count": 41,
   "metadata": {},
   "outputs": [],
   "source": [
    "model = Model(nq, ny, eunit, funits)\n"
   ]
  },
  {
   "cell_type": "code",
   "execution_count": 42,
   "metadata": {},
   "outputs": [
    {
     "name": "stdout",
     "output_type": "stream",
     "text": [
      "trainable_units: []\n",
      "     ┌───────┐   ┌───────┐┌───────┐┌─┐\n",
      "q_0: ┤ Ry(1) ├─■─┤ Ry(0) ├┤ Rx(0) ├┤M├\n",
      "     ├───────┤ │ └───────┘└───────┘└╥┘\n",
      "q_1: ┤ Ry(1) ├─■────────────────────╫─\n",
      "     └───────┘                      ║ \n",
      "c: 1/═══════════════════════════════╩═\n",
      "                                    0 \n"
     ]
    },
    {
     "data": {
      "text/plain": [
       "0.68"
      ]
     },
     "execution_count": 42,
     "metadata": {},
     "output_type": "execute_result"
    }
   ],
   "source": [
    "model.forward(1)\n"
   ]
  },
  {
   "cell_type": "code",
   "execution_count": null,
   "metadata": {},
   "outputs": [],
   "source": []
  }
 ],
 "metadata": {
  "kernelspec": {
   "display_name": "lb-qml",
   "language": "python",
   "name": "python3"
  },
  "language_info": {
   "codemirror_mode": {
    "name": "ipython",
    "version": 3
   },
   "file_extension": ".py",
   "mimetype": "text/x-python",
   "name": "python",
   "nbconvert_exporter": "python",
   "pygments_lexer": "ipython3",
   "version": "3.12.7"
  }
 },
 "nbformat": 4,
 "nbformat_minor": 2
}
