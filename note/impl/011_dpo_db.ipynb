{
 "cells": [
  {
   "cell_type": "code",
   "execution_count": 1,
   "metadata": {},
   "outputs": [],
   "source": [
    "%load_ext autoreload\n",
    "%autoreload 2\n"
   ]
  },
  {
   "cell_type": "code",
   "execution_count": 2,
   "metadata": {},
   "outputs": [],
   "source": [
    "import os\n",
    "os.chdir(\"../..\")\n"
   ]
  },
  {
   "cell_type": "code",
   "execution_count": 3,
   "metadata": {},
   "outputs": [],
   "source": [
    "import numpy as np\n",
    "import matplotlib.pyplot as plt\n",
    "import json\n",
    "import time\n",
    "\n",
    "from tqdm import tqdm\n"
   ]
  },
  {
   "cell_type": "code",
   "execution_count": 4,
   "metadata": {},
   "outputs": [],
   "source": [
    "from qml.tools.random import XRandomGenerator\n"
   ]
  },
  {
   "cell_type": "code",
   "execution_count": 5,
   "metadata": {},
   "outputs": [],
   "source": [
    "from qml.db import target as xtarget\n",
    "from qml.db.ml import MLDatasetGenerator\n",
    "\n",
    "# step 0\n",
    "from qml.db.ml import MLDatasetGenerator\n",
    "\n",
    "# step 1\n",
    "from qml.model.encoding import EncodingUnitManager\n",
    "from qml.model.model import Model\n",
    "\n",
    "# step 2\n",
    "from qml.optimizer import evaluator as xeval\n",
    "\n",
    "# step 3\n",
    "from qml.model.unit import UnitManager\n",
    "\n",
    "# step 4: train candidates\n",
    "from qml import optimizer as xoptim\n"
   ]
  },
  {
   "cell_type": "code",
   "execution_count": 6,
   "metadata": {},
   "outputs": [],
   "source": [
    "class DPODatasetGenerator:\n",
    "\n",
    "    def __init__(\n",
    "            self,\n",
    "            target_function_generator: xtarget.TargetFunctionGenerator,\n",
    "    ):\n",
    "        pass\n"
   ]
  },
  {
   "cell_type": "markdown",
   "metadata": {},
   "source": [
    "### Procedure de faire la dataset pour OCGTraining\n",
    "\n",
    "#### parameters\n",
    "Nc: Number of candidates in single dataset\n",
    "\n",
    "#### avec Random Units\n",
    "0. Generate random taget dataset\n",
    "1. Prepare MQC avec Encoding\n",
    "2. Calculate Wavelet seriese and loss -> wseries, loss_avons\n",
    "3. Append candidate units x Nc --> units: json\n",
    "4. Training candidates\n",
    "5. Calculate loss --> loss_apres\n",
    "6. Store into db --> db = db & {wseries, units, loss_apres}\n",
    "\n",
    "7. repeat step 2 - 5 until loss threashold {threashold_loss} ou max number for repeats {num_iter_elever}"
   ]
  },
  {
   "cell_type": "markdown",
   "metadata": {},
   "source": [
    "## Parameters"
   ]
  },
  {
   "cell_type": "code",
   "execution_count": 7,
   "metadata": {},
   "outputs": [],
   "source": [
    "# qmc\n",
    "num_qubits = 2\n",
    "\n",
    "# target dataset\n",
    "db_size = 10\n",
    "dim_order = 4\n",
    "\n",
    "# wavelet\n",
    "wavelet_dim = 4\n",
    "\n",
    "# candidates\n",
    "num_gates = 3\n",
    "num_candidates = 5\n",
    "\n",
    "# candidate training\n",
    "max_iter = 20\n"
   ]
  },
  {
   "cell_type": "code",
   "execution_count": 16,
   "metadata": {},
   "outputs": [],
   "source": [
    "# db\n",
    "db_file_name = \"dpo_dataset_0.txt\"\n",
    "num_data = 0\n"
   ]
  },
  {
   "cell_type": "markdown",
   "metadata": {},
   "source": [
    "### 0. Generate random target dataset"
   ]
  },
  {
   "cell_type": "code",
   "execution_count": 17,
   "metadata": {},
   "outputs": [],
   "source": [
    "tfun = xtarget.PolynominalTargetFunctionGenerator(dim_order)\n",
    "tgen = MLDatasetGenerator(tfun)\n",
    "tdataset = tgen.generate(db_size)\n"
   ]
  },
  {
   "cell_type": "markdown",
   "metadata": {},
   "source": [
    "### 1. Prepare MQC"
   ]
  },
  {
   "cell_type": "code",
   "execution_count": 18,
   "metadata": {},
   "outputs": [],
   "source": [
    "eunit = EncodingUnitManager.AngleEncoding(1, num_qubits, repeat=True)\n",
    "model = Model(num_qubits, 1, eunit, [], [])\n"
   ]
  },
  {
   "cell_type": "markdown",
   "metadata": {},
   "source": [
    "### 2. Calc wavelet seriese and loss"
   ]
  },
  {
   "cell_type": "code",
   "execution_count": 32,
   "metadata": {},
   "outputs": [
    {
     "data": {
      "text/plain": [
       "array([-0.61655818, -0.71719184,  0.56243874, -0.36459933, -0.28506377,\n",
       "        0.51359565,  0.05328097, -0.29725074,  0.07888017, -0.22156591,\n",
       "       -0.03888941,  0.47882589, -0.19242844,  0.06722817,  0.13332276])"
      ]
     },
     "execution_count": 32,
     "metadata": {},
     "output_type": "execute_result"
    }
   ],
   "source": [
    "wevaluator = xeval.WaveletEvaluator(xeval.Haar(), tdataset, model, wavelet_dim=wavelet_dim)\n",
    "wresult = wevaluator()\n",
    "wresult.powers\n"
   ]
  },
  {
   "cell_type": "markdown",
   "metadata": {},
   "source": [
    "### 3. Append candidate units"
   ]
  },
  {
   "cell_type": "code",
   "execution_count": 20,
   "metadata": {},
   "outputs": [],
   "source": [
    "# generate and append candidate units\n",
    "uman = UnitManager(num_qubits, num_gates)\n"
   ]
  },
  {
   "cell_type": "code",
   "execution_count": 33,
   "metadata": {},
   "outputs": [],
   "source": [
    "# fix previous round trainable unit\n",
    "model.fix_trainable_units()\n",
    "\n",
    "def generate_candidate():\n",
    "    candidate_unit = uman.generate_random_unit(name=f\"unit_{uman.num_generated:04}\")\n",
    "    return candidate_unit\n",
    "\n",
    "candidate_units = [generate_candidate() for _ in range(num_candidates)]\n",
    "candidate_models = [\n",
    "    Model(model.nq, 1, model.input_units, model.fixed_units, candidate_unit)\n",
    "    for candidate_unit in candidate_units\n",
    "]\n"
   ]
  },
  {
   "cell_type": "markdown",
   "metadata": {},
   "source": [
    "### 4. Train candidates"
   ]
  },
  {
   "cell_type": "code",
   "execution_count": 34,
   "metadata": {},
   "outputs": [],
   "source": [
    "def train_candidate(candidate_model, tdataset):\n",
    "    train_optimizer = xoptim.LocalSearchOptimizer(tdataset)\n",
    "    train_result = train_optimizer.optimize(candidate_model, max_iter, verbose=False)\n",
    "    return train_result\n",
    "\n",
    "train_results = [\n",
    "    train_candidate(candidate_model, tdataset)\n",
    "    for candidate_model in candidate_models\n",
    "]\n"
   ]
  },
  {
   "cell_type": "markdown",
   "metadata": {},
   "source": [
    "### 5. Calc loss apres training"
   ]
  },
  {
   "cell_type": "code",
   "execution_count": 35,
   "metadata": {},
   "outputs": [],
   "source": [
    "loss_evaluator = xeval.MSEEvaluator(tdataset, model)\n",
    "lresults = [loss_evaluator(train_result.first.x, candidate_model) for train_result, candidate_model in zip(train_results, candidate_models)]\n"
   ]
  },
  {
   "cell_type": "markdown",
   "metadata": {},
   "source": [
    "### 6. Store as db data"
   ]
  },
  {
   "cell_type": "code",
   "execution_count": 36,
   "metadata": {},
   "outputs": [],
   "source": [
    "data = dict(\n",
    "    wseries=wresult.powers.tolist(),\n",
    "    units=[candidate_unit.to_dict() for candidate_unit in candidate_units],\n",
    "    losses=[float(lresult.loss) for lresult in lresults],\n",
    ")\n",
    "with open(db_file_name, mode=\"a\") as f:\n",
    "    print(json.dumps(data), file=f)\n"
   ]
  },
  {
   "cell_type": "markdown",
   "metadata": {},
   "source": [
    "### 7. Update"
   ]
  },
  {
   "cell_type": "code",
   "execution_count": 37,
   "metadata": {},
   "outputs": [
    {
     "data": {
      "image/png": "[encoded data removed]",
      "text/plain": [
       "<Figure size 640x480 with 1 Axes>"
      ]
     },
     "metadata": {},
     "output_type": "display_data"
    }
   ],
   "source": [
    "best_model_id = np.argmin(data[\"losses\"])\n",
    "best_model = candidate_models[best_model_id]\n",
    "model = best_model\n",
    "\n",
    "fig, ax = plt.subplots()\n",
    "model.draw(ax)\n"
   ]
  },
  {
   "cell_type": "code",
   "execution_count": 8,
   "metadata": {},
   "outputs": [
    {
     "name": "stdout",
     "output_type": "stream",
     "text": [
      "num_data: 0\n",
      "round:   0\t"
     ]
    },
    {
     "name": "stderr",
     "output_type": "stream",
     "text": [
      "100%|██████████| 5/5 [02:24<00:00, 28.98s/it]\n"
     ]
    },
    {
     "name": "stdout",
     "output_type": "stream",
     "text": [
      "[info] saving data into: dpo_databsae.txt\n",
      "round:   1\t"
     ]
    },
    {
     "name": "stderr",
     "output_type": "stream",
     "text": [
      "100%|██████████| 5/5 [02:25<00:00, 29.08s/it]\n"
     ]
    },
    {
     "name": "stdout",
     "output_type": "stream",
     "text": [
      "[info] saving data into: dpo_databsae.txt\n",
      "round:   2\t"
     ]
    },
    {
     "name": "stderr",
     "output_type": "stream",
     "text": [
      "100%|██████████| 5/5 [02:25<00:00, 29.02s/it]\n"
     ]
    },
    {
     "name": "stdout",
     "output_type": "stream",
     "text": [
      "[info] saving data into: dpo_databsae.txt\n",
      "num_data: 3\n",
      "round:   3\t"
     ]
    },
    {
     "name": "stderr",
     "output_type": "stream",
     "text": [
      "100%|██████████| 5/5 [02:24<00:00, 28.96s/it]\n"
     ]
    },
    {
     "name": "stdout",
     "output_type": "stream",
     "text": [
      "[info] saving data into: dpo_databsae.txt\n",
      "round:   4\t"
     ]
    },
    {
     "name": "stderr",
     "output_type": "stream",
     "text": [
      "100%|██████████| 5/5 [02:24<00:00, 28.99s/it]\n"
     ]
    },
    {
     "name": "stdout",
     "output_type": "stream",
     "text": [
      "[info] saving data into: dpo_databsae.txt\n",
      "round:   5\t"
     ]
    },
    {
     "name": "stderr",
     "output_type": "stream",
     "text": [
      "100%|██████████| 5/5 [02:24<00:00, 29.00s/it]\n"
     ]
    },
    {
     "name": "stdout",
     "output_type": "stream",
     "text": [
      "[info] saving data into: dpo_databsae.txt\n",
      "num_data: 6\n",
      "round:   6\t"
     ]
    },
    {
     "name": "stderr",
     "output_type": "stream",
     "text": [
      "100%|██████████| 5/5 [32:12<00:00, 386.48s/it]\n"
     ]
    },
    {
     "name": "stdout",
     "output_type": "stream",
     "text": [
      "[info] saving data into: dpo_databsae.txt\n",
      "round:   7\t"
     ]
    },
    {
     "name": "stderr",
     "output_type": "stream",
     "text": [
      "100%|██████████| 5/5 [49:57<00:00, 599.41s/it]\n"
     ]
    },
    {
     "name": "stdout",
     "output_type": "stream",
     "text": [
      "[info] saving data into: dpo_databsae.txt\n",
      "round:   8\t"
     ]
    },
    {
     "name": "stderr",
     "output_type": "stream",
     "text": [
      "100%|██████████| 5/5 [36:34<00:00, 438.82s/it]  \n"
     ]
    },
    {
     "name": "stdout",
     "output_type": "stream",
     "text": [
      "[info] saving data into: dpo_databsae.txt\n",
      "num_data: 9\n",
      "round:   9\t"
     ]
    },
    {
     "name": "stderr",
     "output_type": "stream",
     "text": [
      "100%|██████████| 5/5 [14:05<00:00, 169.11s/it]\n"
     ]
    },
    {
     "name": "stdout",
     "output_type": "stream",
     "text": [
      "[info] saving data into: dpo_databsae.txt\n",
      "round:  10\t"
     ]
    },
    {
     "name": "stderr",
     "output_type": "stream",
     "text": [
      "100%|██████████| 5/5 [02:24<00:00, 28.93s/it]\n"
     ]
    },
    {
     "name": "stdout",
     "output_type": "stream",
     "text": [
      "[info] saving data into: dpo_databsae.txt\n",
      "round:  11\t"
     ]
    },
    {
     "name": "stderr",
     "output_type": "stream",
     "text": [
      "100%|██████████| 5/5 [02:25<00:00, 29.03s/it]\n"
     ]
    },
    {
     "name": "stdout",
     "output_type": "stream",
     "text": [
      "[info] saving data into: dpo_databsae.txt\n",
      "num_data: 12\n",
      "round:  12\t"
     ]
    },
    {
     "name": "stderr",
     "output_type": "stream",
     "text": [
      "100%|██████████| 5/5 [02:24<00:00, 28.95s/it]\n"
     ]
    },
    {
     "name": "stdout",
     "output_type": "stream",
     "text": [
      "[info] saving data into: dpo_databsae.txt\n",
      "round:  13\t"
     ]
    },
    {
     "name": "stderr",
     "output_type": "stream",
     "text": [
      "100%|██████████| 5/5 [06:48<00:00, 81.71s/it] \n"
     ]
    },
    {
     "name": "stdout",
     "output_type": "stream",
     "text": [
      "[info] saving data into: dpo_databsae.txt\n",
      "round:  14\t"
     ]
    },
    {
     "name": "stderr",
     "output_type": "stream",
     "text": [
      "100%|██████████| 5/5 [08:28<00:00, 101.73s/it]\n"
     ]
    },
    {
     "name": "stdout",
     "output_type": "stream",
     "text": [
      "[info] saving data into: dpo_databsae.txt\n",
      "num_data: 15\n",
      "round:  15\t"
     ]
    },
    {
     "name": "stderr",
     "output_type": "stream",
     "text": [
      "100%|██████████| 5/5 [02:26<00:00, 29.25s/it]\n"
     ]
    },
    {
     "name": "stdout",
     "output_type": "stream",
     "text": [
      "[info] saving data into: dpo_databsae.txt\n",
      "round:  16\t"
     ]
    },
    {
     "name": "stderr",
     "output_type": "stream",
     "text": [
      "100%|██████████| 5/5 [02:22<00:00, 28.47s/it]\n"
     ]
    },
    {
     "name": "stdout",
     "output_type": "stream",
     "text": [
      "[info] saving data into: dpo_databsae.txt\n",
      "round:  17\t"
     ]
    },
    {
     "name": "stderr",
     "output_type": "stream",
     "text": [
      "100%|██████████| 5/5 [02:22<00:00, 28.55s/it]\n"
     ]
    },
    {
     "name": "stdout",
     "output_type": "stream",
     "text": [
      "[info] saving data into: dpo_databsae.txt\n",
      "num_data: 18\n",
      "round:  18\t"
     ]
    },
    {
     "name": "stderr",
     "output_type": "stream",
     "text": [
      "100%|██████████| 5/5 [02:22<00:00, 28.49s/it]\n"
     ]
    },
    {
     "name": "stdout",
     "output_type": "stream",
     "text": [
      "[info] saving data into: dpo_databsae.txt\n",
      "round:  19\t"
     ]
    },
    {
     "name": "stderr",
     "output_type": "stream",
     "text": [
      "100%|██████████| 5/5 [02:22<00:00, 28.49s/it]\n"
     ]
    },
    {
     "name": "stdout",
     "output_type": "stream",
     "text": [
      "[info] saving data into: dpo_databsae.txt\n",
      "round:  20\t"
     ]
    },
    {
     "name": "stderr",
     "output_type": "stream",
     "text": [
      "100%|██████████| 5/5 [02:22<00:00, 28.56s/it]\n"
     ]
    },
    {
     "name": "stdout",
     "output_type": "stream",
     "text": [
      "[info] saving data into: dpo_databsae.txt\n",
      "num_data: 21\n",
      "round:  21\t"
     ]
    },
    {
     "name": "stderr",
     "output_type": "stream",
     "text": [
      "100%|██████████| 5/5 [02:22<00:00, 28.44s/it]\n"
     ]
    },
    {
     "name": "stdout",
     "output_type": "stream",
     "text": [
      "[info] saving data into: dpo_databsae.txt\n",
      "round:  22\t"
     ]
    },
    {
     "name": "stderr",
     "output_type": "stream",
     "text": [
      "100%|██████████| 5/5 [02:22<00:00, 28.48s/it]\n"
     ]
    },
    {
     "name": "stdout",
     "output_type": "stream",
     "text": [
      "[info] saving data into: dpo_databsae.txt\n",
      "round:  23\t"
     ]
    },
    {
     "name": "stderr",
     "output_type": "stream",
     "text": [
      "100%|██████████| 5/5 [02:22<00:00, 28.54s/it]\n"
     ]
    },
    {
     "name": "stdout",
     "output_type": "stream",
     "text": [
      "[info] saving data into: dpo_databsae.txt\n",
      "num_data: 24\n",
      "round:  24\t"
     ]
    },
    {
     "name": "stderr",
     "output_type": "stream",
     "text": [
      "100%|██████████| 5/5 [02:22<00:00, 28.47s/it]\n"
     ]
    },
    {
     "name": "stdout",
     "output_type": "stream",
     "text": [
      "[info] saving data into: dpo_databsae.txt\n",
      "round:  25\t"
     ]
    },
    {
     "name": "stderr",
     "output_type": "stream",
     "text": [
      "100%|██████████| 5/5 [02:22<00:00, 28.45s/it]\n"
     ]
    },
    {
     "name": "stdout",
     "output_type": "stream",
     "text": [
      "[info] saving data into: dpo_databsae.txt\n",
      "round:  26\t"
     ]
    },
    {
     "name": "stderr",
     "output_type": "stream",
     "text": [
      "100%|██████████| 5/5 [02:22<00:00, 28.50s/it]\n"
     ]
    },
    {
     "name": "stdout",
     "output_type": "stream",
     "text": [
      "[info] saving data into: dpo_databsae.txt\n",
      "num_data: 27\n",
      "round:  27\t"
     ]
    },
    {
     "name": "stderr",
     "output_type": "stream",
     "text": [
      "100%|██████████| 5/5 [02:17<00:00, 27.59s/it]\n"
     ]
    },
    {
     "name": "stdout",
     "output_type": "stream",
     "text": [
      "[info] saving data into: dpo_databsae.txt\n",
      "round:  28\t"
     ]
    },
    {
     "name": "stderr",
     "output_type": "stream",
     "text": [
      "100%|██████████| 5/5 [02:22<00:00, 28.52s/it]\n"
     ]
    },
    {
     "name": "stdout",
     "output_type": "stream",
     "text": [
      "[info] saving data into: dpo_databsae.txt\n",
      "round:  29\t"
     ]
    },
    {
     "name": "stderr",
     "output_type": "stream",
     "text": [
      "100%|██████████| 5/5 [02:22<00:00, 28.52s/it]\n"
     ]
    },
    {
     "name": "stdout",
     "output_type": "stream",
     "text": [
      "[info] saving data into: dpo_databsae.txt\n",
      "num_data: 30\n",
      "round:  30\t"
     ]
    },
    {
     "name": "stderr",
     "output_type": "stream",
     "text": [
      "100%|██████████| 5/5 [02:22<00:00, 28.49s/it]\n"
     ]
    },
    {
     "name": "stdout",
     "output_type": "stream",
     "text": [
      "[info] saving data into: dpo_databsae.txt\n",
      "round:  31\t"
     ]
    },
    {
     "name": "stderr",
     "output_type": "stream",
     "text": [
      "100%|██████████| 5/5 [02:22<00:00, 28.48s/it]\n"
     ]
    },
    {
     "name": "stdout",
     "output_type": "stream",
     "text": [
      "[info] saving data into: dpo_databsae.txt\n",
      "round:  32\t"
     ]
    },
    {
     "name": "stderr",
     "output_type": "stream",
     "text": [
      "100%|██████████| 5/5 [02:22<00:00, 28.57s/it]\n"
     ]
    },
    {
     "name": "stdout",
     "output_type": "stream",
     "text": [
      "[info] saving data into: dpo_databsae.txt\n",
      "num_data: 33\n",
      "round:  33\t"
     ]
    },
    {
     "name": "stderr",
     "output_type": "stream",
     "text": [
      "100%|██████████| 5/5 [02:22<00:00, 28.48s/it]\n"
     ]
    },
    {
     "name": "stdout",
     "output_type": "stream",
     "text": [
      "[info] saving data into: dpo_databsae.txt\n",
      "round:  34\t"
     ]
    },
    {
     "name": "stderr",
     "output_type": "stream",
     "text": [
      "100%|██████████| 5/5 [02:22<00:00, 28.52s/it]\n"
     ]
    },
    {
     "name": "stdout",
     "output_type": "stream",
     "text": [
      "[info] saving data into: dpo_databsae.txt\n",
      "round:  35\t"
     ]
    },
    {
     "name": "stderr",
     "output_type": "stream",
     "text": [
      "100%|██████████| 5/5 [02:23<00:00, 28.60s/it]\n"
     ]
    },
    {
     "name": "stdout",
     "output_type": "stream",
     "text": [
      "[info] saving data into: dpo_databsae.txt\n",
      "num_data: 36\n",
      "round:  36\t"
     ]
    },
    {
     "name": "stderr",
     "output_type": "stream",
     "text": [
      "100%|██████████| 5/5 [02:22<00:00, 28.42s/it]\n"
     ]
    },
    {
     "name": "stdout",
     "output_type": "stream",
     "text": [
      "[info] saving data into: dpo_databsae.txt\n",
      "round:  37\t"
     ]
    },
    {
     "name": "stderr",
     "output_type": "stream",
     "text": [
      "100%|██████████| 5/5 [02:22<00:00, 28.55s/it]\n"
     ]
    },
    {
     "name": "stdout",
     "output_type": "stream",
     "text": [
      "[info] saving data into: dpo_databsae.txt\n",
      "round:  38\t"
     ]
    },
    {
     "name": "stderr",
     "output_type": "stream",
     "text": [
      "100%|██████████| 5/5 [02:27<00:00, 29.42s/it]\n"
     ]
    },
    {
     "name": "stdout",
     "output_type": "stream",
     "text": [
      "[info] saving data into: dpo_databsae.txt\n",
      "num_data: 39\n",
      "round:  39\t"
     ]
    },
    {
     "name": "stderr",
     "output_type": "stream",
     "text": [
      "100%|██████████| 5/5 [02:25<00:00, 29.02s/it]\n"
     ]
    },
    {
     "name": "stdout",
     "output_type": "stream",
     "text": [
      "[info] saving data into: dpo_databsae.txt\n",
      "round:  40\t"
     ]
    },
    {
     "name": "stderr",
     "output_type": "stream",
     "text": [
      "100%|██████████| 5/5 [02:24<00:00, 28.91s/it]\n"
     ]
    },
    {
     "name": "stdout",
     "output_type": "stream",
     "text": [
      "[info] saving data into: dpo_databsae.txt\n",
      "round:  41\t"
     ]
    },
    {
     "name": "stderr",
     "output_type": "stream",
     "text": [
      "100%|██████████| 5/5 [02:24<00:00, 28.94s/it]\n"
     ]
    },
    {
     "name": "stdout",
     "output_type": "stream",
     "text": [
      "[info] saving data into: dpo_databsae.txt\n",
      "num_data: 42\n",
      "round:  42\t"
     ]
    },
    {
     "name": "stderr",
     "output_type": "stream",
     "text": [
      "100%|██████████| 5/5 [02:24<00:00, 28.89s/it]\n"
     ]
    },
    {
     "name": "stdout",
     "output_type": "stream",
     "text": [
      "[info] saving data into: dpo_databsae.txt\n",
      "round:  43\t"
     ]
    },
    {
     "name": "stderr",
     "output_type": "stream",
     "text": [
      "100%|██████████| 5/5 [02:24<00:00, 28.80s/it]\n"
     ]
    },
    {
     "name": "stdout",
     "output_type": "stream",
     "text": [
      "[info] saving data into: dpo_databsae.txt\n",
      "round:  44\t"
     ]
    },
    {
     "name": "stderr",
     "output_type": "stream",
     "text": [
      "100%|██████████| 5/5 [02:22<00:00, 28.46s/it]\n"
     ]
    },
    {
     "name": "stdout",
     "output_type": "stream",
     "text": [
      "[info] saving data into: dpo_databsae.txt\n",
      "num_data: 45\n",
      "round:  45\t"
     ]
    },
    {
     "name": "stderr",
     "output_type": "stream",
     "text": [
      "100%|██████████| 5/5 [02:22<00:00, 28.51s/it]\n"
     ]
    },
    {
     "name": "stdout",
     "output_type": "stream",
     "text": [
      "[info] saving data into: dpo_databsae.txt\n",
      "round:  46\t"
     ]
    },
    {
     "name": "stderr",
     "output_type": "stream",
     "text": [
      "100%|██████████| 5/5 [02:22<00:00, 28.48s/it]\n"
     ]
    },
    {
     "name": "stdout",
     "output_type": "stream",
     "text": [
      "[info] saving data into: dpo_databsae.txt\n",
      "round:  47\t"
     ]
    },
    {
     "name": "stderr",
     "output_type": "stream",
     "text": [
      "100%|██████████| 5/5 [02:22<00:00, 28.53s/it]\n"
     ]
    },
    {
     "name": "stdout",
     "output_type": "stream",
     "text": [
      "[info] saving data into: dpo_databsae.txt\n",
      "num_data: 48\n",
      "round:  48\t"
     ]
    },
    {
     "name": "stderr",
     "output_type": "stream",
     "text": [
      "100%|██████████| 5/5 [02:22<00:00, 28.46s/it]\n"
     ]
    },
    {
     "name": "stdout",
     "output_type": "stream",
     "text": [
      "[info] saving data into: dpo_databsae.txt\n",
      "round:  49\t"
     ]
    },
    {
     "name": "stderr",
     "output_type": "stream",
     "text": [
      "100%|██████████| 5/5 [02:22<00:00, 28.50s/it]\n"
     ]
    },
    {
     "name": "stdout",
     "output_type": "stream",
     "text": [
      "[info] saving data into: dpo_databsae.txt\n",
      "round:  50\t"
     ]
    },
    {
     "name": "stderr",
     "output_type": "stream",
     "text": [
      "100%|██████████| 5/5 [02:22<00:00, 28.48s/it]\n"
     ]
    },
    {
     "name": "stdout",
     "output_type": "stream",
     "text": [
      "[info] saving data into: dpo_databsae.txt\n",
      "num_data: 51\n",
      "round:  51\t"
     ]
    },
    {
     "name": "stderr",
     "output_type": "stream",
     "text": [
      "100%|██████████| 5/5 [02:22<00:00, 28.43s/it]\n"
     ]
    },
    {
     "name": "stdout",
     "output_type": "stream",
     "text": [
      "[info] saving data into: dpo_databsae.txt\n",
      "round:  52\t"
     ]
    },
    {
     "name": "stderr",
     "output_type": "stream",
     "text": [
      "100%|██████████| 5/5 [02:22<00:00, 28.52s/it]\n"
     ]
    },
    {
     "name": "stdout",
     "output_type": "stream",
     "text": [
      "[info] saving data into: dpo_databsae.txt\n",
      "round:  53\t"
     ]
    },
    {
     "name": "stderr",
     "output_type": "stream",
     "text": [
      "100%|██████████| 5/5 [02:22<00:00, 28.52s/it]\n"
     ]
    },
    {
     "name": "stdout",
     "output_type": "stream",
     "text": [
      "[info] saving data into: dpo_databsae.txt\n",
      "num_data: 54\n",
      "round:  54\t"
     ]
    },
    {
     "name": "stderr",
     "output_type": "stream",
     "text": [
      "100%|██████████| 5/5 [02:22<00:00, 28.43s/it]\n"
     ]
    },
    {
     "name": "stdout",
     "output_type": "stream",
     "text": [
      "[info] saving data into: dpo_databsae.txt\n",
      "round:  55\t"
     ]
    },
    {
     "name": "stderr",
     "output_type": "stream",
     "text": [
      "100%|██████████| 5/5 [02:22<00:00, 28.54s/it]\n"
     ]
    },
    {
     "name": "stdout",
     "output_type": "stream",
     "text": [
      "[info] saving data into: dpo_databsae.txt\n",
      "round:  56\t"
     ]
    },
    {
     "name": "stderr",
     "output_type": "stream",
     "text": [
      "100%|██████████| 5/5 [02:25<00:00, 29.07s/it]\n"
     ]
    },
    {
     "name": "stdout",
     "output_type": "stream",
     "text": [
      "[info] saving data into: dpo_databsae.txt\n",
      "num_data: 57\n",
      "round:  57\t"
     ]
    },
    {
     "name": "stderr",
     "output_type": "stream",
     "text": [
      "100%|██████████| 5/5 [02:24<00:00, 28.94s/it]\n"
     ]
    },
    {
     "name": "stdout",
     "output_type": "stream",
     "text": [
      "[info] saving data into: dpo_databsae.txt\n",
      "round:  58\t"
     ]
    },
    {
     "name": "stderr",
     "output_type": "stream",
     "text": [
      "100%|██████████| 5/5 [02:25<00:00, 29.03s/it]\n"
     ]
    },
    {
     "name": "stdout",
     "output_type": "stream",
     "text": [
      "[info] saving data into: dpo_databsae.txt\n",
      "round:  59\t"
     ]
    },
    {
     "name": "stderr",
     "output_type": "stream",
     "text": [
      "100%|██████████| 5/5 [02:24<00:00, 28.98s/it]\n"
     ]
    },
    {
     "name": "stdout",
     "output_type": "stream",
     "text": [
      "[info] saving data into: dpo_databsae.txt\n",
      "num_data: 60\n",
      "round:  60\t"
     ]
    },
    {
     "name": "stderr",
     "output_type": "stream",
     "text": [
      "100%|██████████| 5/5 [02:23<00:00, 28.65s/it]\n"
     ]
    },
    {
     "name": "stdout",
     "output_type": "stream",
     "text": [
      "[info] saving data into: dpo_databsae.txt\n",
      "round:  61\t"
     ]
    },
    {
     "name": "stderr",
     "output_type": "stream",
     "text": [
      "100%|██████████| 5/5 [02:22<00:00, 28.52s/it]\n"
     ]
    },
    {
     "name": "stdout",
     "output_type": "stream",
     "text": [
      "[info] saving data into: dpo_databsae.txt\n",
      "round:  62\t"
     ]
    },
    {
     "name": "stderr",
     "output_type": "stream",
     "text": [
      "100%|██████████| 5/5 [02:22<00:00, 28.56s/it]\n"
     ]
    },
    {
     "name": "stdout",
     "output_type": "stream",
     "text": [
      "[info] saving data into: dpo_databsae.txt\n",
      "num_data: 63\n",
      "round:  63\t"
     ]
    },
    {
     "name": "stderr",
     "output_type": "stream",
     "text": [
      "100%|██████████| 5/5 [02:22<00:00, 28.42s/it]\n"
     ]
    },
    {
     "name": "stdout",
     "output_type": "stream",
     "text": [
      "[info] saving data into: dpo_databsae.txt\n",
      "round:  64\t"
     ]
    },
    {
     "name": "stderr",
     "output_type": "stream",
     "text": [
      "100%|██████████| 5/5 [02:22<00:00, 28.51s/it]\n"
     ]
    },
    {
     "name": "stdout",
     "output_type": "stream",
     "text": [
      "[info] saving data into: dpo_databsae.txt\n",
      "round:  65\t"
     ]
    },
    {
     "name": "stderr",
     "output_type": "stream",
     "text": [
      "100%|██████████| 5/5 [02:22<00:00, 28.59s/it]\n"
     ]
    },
    {
     "name": "stdout",
     "output_type": "stream",
     "text": [
      "[info] saving data into: dpo_databsae.txt\n",
      "num_data: 66\n",
      "round:  66\t"
     ]
    },
    {
     "name": "stderr",
     "output_type": "stream",
     "text": [
      "100%|██████████| 5/5 [02:22<00:00, 28.49s/it]\n"
     ]
    },
    {
     "name": "stdout",
     "output_type": "stream",
     "text": [
      "[info] saving data into: dpo_databsae.txt\n",
      "round:  67\t"
     ]
    },
    {
     "name": "stderr",
     "output_type": "stream",
     "text": [
      "100%|██████████| 5/5 [02:22<00:00, 28.48s/it]\n"
     ]
    },
    {
     "name": "stdout",
     "output_type": "stream",
     "text": [
      "[info] saving data into: dpo_databsae.txt\n",
      "round:  68\t"
     ]
    },
    {
     "name": "stderr",
     "output_type": "stream",
     "text": [
      "100%|██████████| 5/5 [02:22<00:00, 28.52s/it]\n"
     ]
    },
    {
     "name": "stdout",
     "output_type": "stream",
     "text": [
      "[info] saving data into: dpo_databsae.txt\n",
      "num_data: 69\n",
      "round:  69\t"
     ]
    },
    {
     "name": "stderr",
     "output_type": "stream",
     "text": [
      "100%|██████████| 5/5 [02:22<00:00, 28.45s/it]\n"
     ]
    },
    {
     "name": "stdout",
     "output_type": "stream",
     "text": [
      "[info] saving data into: dpo_databsae.txt\n",
      "round:  70\t"
     ]
    },
    {
     "name": "stderr",
     "output_type": "stream",
     "text": [
      "100%|██████████| 5/5 [02:22<00:00, 28.52s/it]\n"
     ]
    },
    {
     "name": "stdout",
     "output_type": "stream",
     "text": [
      "[info] saving data into: dpo_databsae.txt\n",
      "round:  71\t"
     ]
    },
    {
     "name": "stderr",
     "output_type": "stream",
     "text": [
      "100%|██████████| 5/5 [02:22<00:00, 28.52s/it]\n"
     ]
    },
    {
     "name": "stdout",
     "output_type": "stream",
     "text": [
      "[info] saving data into: dpo_databsae.txt\n",
      "num_data: 72\n",
      "round:  72\t"
     ]
    },
    {
     "name": "stderr",
     "output_type": "stream",
     "text": [
      "100%|██████████| 5/5 [02:22<00:00, 28.47s/it]\n"
     ]
    },
    {
     "name": "stdout",
     "output_type": "stream",
     "text": [
      "[info] saving data into: dpo_databsae.txt\n",
      "round:  73\t"
     ]
    },
    {
     "name": "stderr",
     "output_type": "stream",
     "text": [
      "100%|██████████| 5/5 [02:22<00:00, 28.51s/it]\n"
     ]
    },
    {
     "name": "stdout",
     "output_type": "stream",
     "text": [
      "[info] saving data into: dpo_databsae.txt\n",
      "round:  74\t"
     ]
    },
    {
     "name": "stderr",
     "output_type": "stream",
     "text": [
      "100%|██████████| 5/5 [02:22<00:00, 28.51s/it]\n"
     ]
    },
    {
     "name": "stdout",
     "output_type": "stream",
     "text": [
      "[info] saving data into: dpo_databsae.txt\n",
      "num_data: 75\n",
      "round:  75\t"
     ]
    },
    {
     "name": "stderr",
     "output_type": "stream",
     "text": [
      "100%|██████████| 5/5 [02:22<00:00, 28.44s/it]\n"
     ]
    },
    {
     "name": "stdout",
     "output_type": "stream",
     "text": [
      "[info] saving data into: dpo_databsae.txt\n",
      "round:  76\t"
     ]
    },
    {
     "name": "stderr",
     "output_type": "stream",
     "text": [
      "100%|██████████| 5/5 [02:22<00:00, 28.50s/it]\n"
     ]
    },
    {
     "name": "stdout",
     "output_type": "stream",
     "text": [
      "[info] saving data into: dpo_databsae.txt\n",
      "round:  77\t"
     ]
    },
    {
     "name": "stderr",
     "output_type": "stream",
     "text": [
      "100%|██████████| 5/5 [02:22<00:00, 28.53s/it]\n"
     ]
    },
    {
     "name": "stdout",
     "output_type": "stream",
     "text": [
      "[info] saving data into: dpo_databsae.txt\n",
      "num_data: 78\n",
      "round:  78\t"
     ]
    },
    {
     "name": "stderr",
     "output_type": "stream",
     "text": [
      "100%|██████████| 5/5 [02:22<00:00, 28.50s/it]\n"
     ]
    },
    {
     "name": "stdout",
     "output_type": "stream",
     "text": [
      "[info] saving data into: dpo_databsae.txt\n",
      "round:  79\t"
     ]
    },
    {
     "name": "stderr",
     "output_type": "stream",
     "text": [
      "100%|██████████| 5/5 [02:22<00:00, 28.51s/it]\n"
     ]
    },
    {
     "name": "stdout",
     "output_type": "stream",
     "text": [
      "[info] saving data into: dpo_databsae.txt\n",
      "round:  80\t"
     ]
    },
    {
     "name": "stderr",
     "output_type": "stream",
     "text": [
      "100%|██████████| 5/5 [02:23<00:00, 28.60s/it]\n"
     ]
    },
    {
     "name": "stdout",
     "output_type": "stream",
     "text": [
      "[info] saving data into: dpo_databsae.txt\n",
      "num_data: 81\n",
      "round:  81\t"
     ]
    },
    {
     "name": "stderr",
     "output_type": "stream",
     "text": [
      "100%|██████████| 5/5 [02:22<00:00, 28.48s/it]\n"
     ]
    },
    {
     "name": "stdout",
     "output_type": "stream",
     "text": [
      "[info] saving data into: dpo_databsae.txt\n",
      "round:  82\t"
     ]
    },
    {
     "name": "stderr",
     "output_type": "stream",
     "text": [
      "100%|██████████| 5/5 [02:22<00:00, 28.48s/it]\n"
     ]
    },
    {
     "name": "stdout",
     "output_type": "stream",
     "text": [
      "[info] saving data into: dpo_databsae.txt\n",
      "round:  83\t"
     ]
    },
    {
     "name": "stderr",
     "output_type": "stream",
     "text": [
      "100%|██████████| 5/5 [02:22<00:00, 28.58s/it]\n"
     ]
    },
    {
     "name": "stdout",
     "output_type": "stream",
     "text": [
      "[info] saving data into: dpo_databsae.txt\n",
      "num_data: 84\n",
      "round:  84\t"
     ]
    },
    {
     "name": "stderr",
     "output_type": "stream",
     "text": [
      "100%|██████████| 5/5 [02:22<00:00, 28.49s/it]\n"
     ]
    },
    {
     "name": "stdout",
     "output_type": "stream",
     "text": [
      "[info] saving data into: dpo_databsae.txt\n",
      "round:  85\t"
     ]
    },
    {
     "name": "stderr",
     "output_type": "stream",
     "text": [
      "100%|██████████| 5/5 [02:22<00:00, 28.51s/it]\n"
     ]
    },
    {
     "name": "stdout",
     "output_type": "stream",
     "text": [
      "[info] saving data into: dpo_databsae.txt\n",
      "round:  86\t"
     ]
    },
    {
     "name": "stderr",
     "output_type": "stream",
     "text": [
      "100%|██████████| 5/5 [02:22<00:00, 28.47s/it]\n"
     ]
    },
    {
     "name": "stdout",
     "output_type": "stream",
     "text": [
      "[info] saving data into: dpo_databsae.txt\n",
      "num_data: 87\n",
      "round:  87\t"
     ]
    },
    {
     "name": "stderr",
     "output_type": "stream",
     "text": [
      "100%|██████████| 5/5 [02:22<00:00, 28.44s/it]\n"
     ]
    },
    {
     "name": "stdout",
     "output_type": "stream",
     "text": [
      "[info] saving data into: dpo_databsae.txt\n",
      "round:  88\t"
     ]
    },
    {
     "name": "stderr",
     "output_type": "stream",
     "text": [
      "100%|██████████| 5/5 [02:22<00:00, 28.50s/it]\n"
     ]
    },
    {
     "name": "stdout",
     "output_type": "stream",
     "text": [
      "[info] saving data into: dpo_databsae.txt\n",
      "round:  89\t"
     ]
    },
    {
     "name": "stderr",
     "output_type": "stream",
     "text": [
      "100%|██████████| 5/5 [02:22<00:00, 28.52s/it]\n"
     ]
    },
    {
     "name": "stdout",
     "output_type": "stream",
     "text": [
      "[info] saving data into: dpo_databsae.txt\n",
      "num_data: 90\n",
      "round:  90\t"
     ]
    },
    {
     "name": "stderr",
     "output_type": "stream",
     "text": [
      "100%|██████████| 5/5 [02:22<00:00, 28.47s/it]\n"
     ]
    },
    {
     "name": "stdout",
     "output_type": "stream",
     "text": [
      "[info] saving data into: dpo_databsae.txt\n",
      "round:  91\t"
     ]
    },
    {
     "name": "stderr",
     "output_type": "stream",
     "text": [
      "100%|██████████| 5/5 [02:22<00:00, 28.51s/it]\n"
     ]
    },
    {
     "name": "stdout",
     "output_type": "stream",
     "text": [
      "[info] saving data into: dpo_databsae.txt\n",
      "round:  92\t"
     ]
    },
    {
     "name": "stderr",
     "output_type": "stream",
     "text": [
      "100%|██████████| 5/5 [02:22<00:00, 28.53s/it]\n"
     ]
    },
    {
     "name": "stdout",
     "output_type": "stream",
     "text": [
      "[info] saving data into: dpo_databsae.txt\n",
      "num_data: 93\n",
      "round:  93\t"
     ]
    },
    {
     "name": "stderr",
     "output_type": "stream",
     "text": [
      "100%|██████████| 5/5 [02:22<00:00, 28.48s/it]\n"
     ]
    },
    {
     "name": "stdout",
     "output_type": "stream",
     "text": [
      "[info] saving data into: dpo_databsae.txt\n",
      "round:  94\t"
     ]
    },
    {
     "name": "stderr",
     "output_type": "stream",
     "text": [
      "100%|██████████| 5/5 [02:22<00:00, 28.47s/it]\n"
     ]
    },
    {
     "name": "stdout",
     "output_type": "stream",
     "text": [
      "[info] saving data into: dpo_databsae.txt\n",
      "round:  95\t"
     ]
    },
    {
     "name": "stderr",
     "output_type": "stream",
     "text": [
      "100%|██████████| 5/5 [02:22<00:00, 28.53s/it]\n"
     ]
    },
    {
     "name": "stdout",
     "output_type": "stream",
     "text": [
      "[info] saving data into: dpo_databsae.txt\n",
      "num_data: 96\n",
      "round:  96\t"
     ]
    },
    {
     "name": "stderr",
     "output_type": "stream",
     "text": [
      "100%|██████████| 5/5 [02:22<00:00, 28.45s/it]\n"
     ]
    },
    {
     "name": "stdout",
     "output_type": "stream",
     "text": [
      "[info] saving data into: dpo_databsae.txt\n",
      "round:  97\t"
     ]
    },
    {
     "name": "stderr",
     "output_type": "stream",
     "text": [
      "100%|██████████| 5/5 [02:22<00:00, 28.53s/it]\n"
     ]
    },
    {
     "name": "stdout",
     "output_type": "stream",
     "text": [
      "[info] saving data into: dpo_databsae.txt\n",
      "round:  98\t"
     ]
    },
    {
     "name": "stderr",
     "output_type": "stream",
     "text": [
      "100%|██████████| 5/5 [02:22<00:00, 28.59s/it]\n"
     ]
    },
    {
     "name": "stdout",
     "output_type": "stream",
     "text": [
      "[info] saving data into: dpo_databsae.txt\n",
      "num_data: 99\n",
      "round:  99\t"
     ]
    },
    {
     "name": "stderr",
     "output_type": "stream",
     "text": [
      "100%|██████████| 5/5 [02:22<00:00, 28.50s/it]\n"
     ]
    },
    {
     "name": "stdout",
     "output_type": "stream",
     "text": [
      "[info] saving data into: dpo_databsae.txt\n",
      "round: 100\t"
     ]
    },
    {
     "name": "stderr",
     "output_type": "stream",
     "text": [
      "100%|██████████| 5/5 [02:22<00:00, 28.50s/it]\n"
     ]
    },
    {
     "name": "stdout",
     "output_type": "stream",
     "text": [
      "[info] saving data into: dpo_databsae.txt\n",
      "round: 101\t"
     ]
    },
    {
     "name": "stderr",
     "output_type": "stream",
     "text": [
      "100%|██████████| 5/5 [02:22<00:00, 28.56s/it]\n"
     ]
    },
    {
     "name": "stdout",
     "output_type": "stream",
     "text": [
      "[info] saving data into: dpo_databsae.txt\n",
      "num_data: 102\n",
      "round: 102\t"
     ]
    },
    {
     "name": "stderr",
     "output_type": "stream",
     "text": [
      "100%|██████████| 5/5 [02:22<00:00, 28.47s/it]\n"
     ]
    },
    {
     "name": "stdout",
     "output_type": "stream",
     "text": [
      "[info] saving data into: dpo_databsae.txt\n",
      "round: 103\t"
     ]
    },
    {
     "name": "stderr",
     "output_type": "stream",
     "text": [
      "100%|██████████| 5/5 [02:22<00:00, 28.50s/it]\n"
     ]
    },
    {
     "name": "stdout",
     "output_type": "stream",
     "text": [
      "[info] saving data into: dpo_databsae.txt\n",
      "round: 104\t"
     ]
    },
    {
     "name": "stderr",
     "output_type": "stream",
     "text": [
      "100%|██████████| 5/5 [02:22<00:00, 28.51s/it]\n"
     ]
    },
    {
     "name": "stdout",
     "output_type": "stream",
     "text": [
      "[info] saving data into: dpo_databsae.txt\n",
      "num_data: 105\n",
      "round: 105\t"
     ]
    },
    {
     "name": "stderr",
     "output_type": "stream",
     "text": [
      "100%|██████████| 5/5 [02:22<00:00, 28.50s/it]\n"
     ]
    },
    {
     "name": "stdout",
     "output_type": "stream",
     "text": [
      "[info] saving data into: dpo_databsae.txt\n",
      "round: 106\t"
     ]
    },
    {
     "name": "stderr",
     "output_type": "stream",
     "text": [
      "100%|██████████| 5/5 [02:22<00:00, 28.53s/it]\n"
     ]
    },
    {
     "name": "stdout",
     "output_type": "stream",
     "text": [
      "[info] saving data into: dpo_databsae.txt\n",
      "round: 107\t"
     ]
    },
    {
     "name": "stderr",
     "output_type": "stream",
     "text": [
      "100%|██████████| 5/5 [02:22<00:00, 28.56s/it]\n"
     ]
    },
    {
     "name": "stdout",
     "output_type": "stream",
     "text": [
      "[info] saving data into: dpo_databsae.txt\n",
      "num_data: 108\n",
      "round: 108\t"
     ]
    },
    {
     "name": "stderr",
     "output_type": "stream",
     "text": [
      "100%|██████████| 5/5 [02:22<00:00, 28.47s/it]\n"
     ]
    },
    {
     "name": "stdout",
     "output_type": "stream",
     "text": [
      "[info] saving data into: dpo_databsae.txt\n",
      "round: 109\t"
     ]
    },
    {
     "name": "stderr",
     "output_type": "stream",
     "text": [
      "100%|██████████| 5/5 [02:22<00:00, 28.44s/it]\n"
     ]
    },
    {
     "name": "stdout",
     "output_type": "stream",
     "text": [
      "[info] saving data into: dpo_databsae.txt\n",
      "round: 110\t"
     ]
    },
    {
     "name": "stderr",
     "output_type": "stream",
     "text": [
      "100%|██████████| 5/5 [02:22<00:00, 28.50s/it]\n"
     ]
    },
    {
     "name": "stdout",
     "output_type": "stream",
     "text": [
      "[info] saving data into: dpo_databsae.txt\n",
      "num_data: 111\n",
      "round: 111\t"
     ]
    },
    {
     "name": "stderr",
     "output_type": "stream",
     "text": [
      "100%|██████████| 5/5 [02:22<00:00, 28.44s/it]\n"
     ]
    },
    {
     "name": "stdout",
     "output_type": "stream",
     "text": [
      "[info] saving data into: dpo_databsae.txt\n",
      "round: 112\t"
     ]
    },
    {
     "name": "stderr",
     "output_type": "stream",
     "text": [
      "100%|██████████| 5/5 [02:22<00:00, 28.48s/it]\n"
     ]
    },
    {
     "name": "stdout",
     "output_type": "stream",
     "text": [
      "[info] saving data into: dpo_databsae.txt\n",
      "round: 113\t"
     ]
    },
    {
     "name": "stderr",
     "output_type": "stream",
     "text": [
      "100%|██████████| 5/5 [02:22<00:00, 28.56s/it]\n"
     ]
    },
    {
     "name": "stdout",
     "output_type": "stream",
     "text": [
      "[info] saving data into: dpo_databsae.txt\n",
      "num_data: 114\n",
      "round: 114\t"
     ]
    },
    {
     "name": "stderr",
     "output_type": "stream",
     "text": [
      "100%|██████████| 5/5 [02:22<00:00, 28.49s/it]\n"
     ]
    },
    {
     "name": "stdout",
     "output_type": "stream",
     "text": [
      "[info] saving data into: dpo_databsae.txt\n",
      "round: 115\t"
     ]
    },
    {
     "name": "stderr",
     "output_type": "stream",
     "text": [
      "100%|██████████| 5/5 [02:22<00:00, 28.53s/it]\n"
     ]
    },
    {
     "name": "stdout",
     "output_type": "stream",
     "text": [
      "[info] saving data into: dpo_databsae.txt\n",
      "round: 116\t"
     ]
    },
    {
     "name": "stderr",
     "output_type": "stream",
     "text": [
      "100%|██████████| 5/5 [02:22<00:00, 28.49s/it]\n"
     ]
    },
    {
     "name": "stdout",
     "output_type": "stream",
     "text": [
      "[info] saving data into: dpo_databsae.txt\n",
      "num_data: 117\n",
      "round: 117\t"
     ]
    },
    {
     "name": "stderr",
     "output_type": "stream",
     "text": [
      "100%|██████████| 5/5 [02:22<00:00, 28.46s/it]\n"
     ]
    },
    {
     "name": "stdout",
     "output_type": "stream",
     "text": [
      "[info] saving data into: dpo_databsae.txt\n",
      "round: 118\t"
     ]
    },
    {
     "name": "stderr",
     "output_type": "stream",
     "text": [
      "100%|██████████| 5/5 [02:22<00:00, 28.52s/it]\n"
     ]
    },
    {
     "name": "stdout",
     "output_type": "stream",
     "text": [
      "[info] saving data into: dpo_databsae.txt\n",
      "round: 119\t"
     ]
    },
    {
     "name": "stderr",
     "output_type": "stream",
     "text": [
      "100%|██████████| 5/5 [02:22<00:00, 28.57s/it]\n"
     ]
    },
    {
     "name": "stdout",
     "output_type": "stream",
     "text": [
      "[info] saving data into: dpo_databsae.txt\n",
      "num_data: 120\n",
      "round: 120\t"
     ]
    },
    {
     "name": "stderr",
     "output_type": "stream",
     "text": [
      "100%|██████████| 5/5 [02:22<00:00, 28.47s/it]\n"
     ]
    },
    {
     "name": "stdout",
     "output_type": "stream",
     "text": [
      "[info] saving data into: dpo_databsae.txt\n",
      "round: 121\t"
     ]
    },
    {
     "name": "stderr",
     "output_type": "stream",
     "text": [
      "100%|██████████| 5/5 [02:22<00:00, 28.51s/it]\n"
     ]
    },
    {
     "name": "stdout",
     "output_type": "stream",
     "text": [
      "[info] saving data into: dpo_databsae.txt\n",
      "round: 122\t"
     ]
    },
    {
     "name": "stderr",
     "output_type": "stream",
     "text": [
      "100%|██████████| 5/5 [02:22<00:00, 28.55s/it]\n"
     ]
    },
    {
     "name": "stdout",
     "output_type": "stream",
     "text": [
      "[info] saving data into: dpo_databsae.txt\n",
      "num_data: 123\n",
      "round: 123\t"
     ]
    },
    {
     "name": "stderr",
     "output_type": "stream",
     "text": [
      "100%|██████████| 5/5 [02:22<00:00, 28.45s/it]\n"
     ]
    },
    {
     "name": "stdout",
     "output_type": "stream",
     "text": [
      "[info] saving data into: dpo_databsae.txt\n",
      "round: 124\t"
     ]
    },
    {
     "name": "stderr",
     "output_type": "stream",
     "text": [
      "100%|██████████| 5/5 [02:22<00:00, 28.52s/it]\n"
     ]
    },
    {
     "name": "stdout",
     "output_type": "stream",
     "text": [
      "[info] saving data into: dpo_databsae.txt\n",
      "round: 125\t"
     ]
    },
    {
     "name": "stderr",
     "output_type": "stream",
     "text": [
      "100%|██████████| 5/5 [02:22<00:00, 28.53s/it]\n"
     ]
    },
    {
     "name": "stdout",
     "output_type": "stream",
     "text": [
      "[info] saving data into: dpo_databsae.txt\n",
      "num_data: 126\n",
      "round: 126\t"
     ]
    },
    {
     "name": "stderr",
     "output_type": "stream",
     "text": [
      "100%|██████████| 5/5 [02:22<00:00, 28.42s/it]\n"
     ]
    },
    {
     "name": "stdout",
     "output_type": "stream",
     "text": [
      "[info] saving data into: dpo_databsae.txt\n",
      "round: 127\t"
     ]
    },
    {
     "name": "stderr",
     "output_type": "stream",
     "text": [
      "100%|██████████| 5/5 [02:25<00:00, 29.08s/it]\n"
     ]
    },
    {
     "name": "stdout",
     "output_type": "stream",
     "text": [
      "[info] saving data into: dpo_databsae.txt\n",
      "round: 128\t"
     ]
    },
    {
     "name": "stderr",
     "output_type": "stream",
     "text": [
      "100%|██████████| 5/5 [02:24<00:00, 28.89s/it]\n"
     ]
    },
    {
     "name": "stdout",
     "output_type": "stream",
     "text": [
      "[info] saving data into: dpo_databsae.txt\n",
      "num_data: 129\n",
      "round: 129\t"
     ]
    },
    {
     "name": "stderr",
     "output_type": "stream",
     "text": [
      "100%|██████████| 5/5 [02:24<00:00, 28.85s/it]\n"
     ]
    },
    {
     "name": "stdout",
     "output_type": "stream",
     "text": [
      "[info] saving data into: dpo_databsae.txt\n",
      "round: 130\t"
     ]
    },
    {
     "name": "stderr",
     "output_type": "stream",
     "text": [
      "100%|██████████| 5/5 [02:24<00:00, 28.88s/it]\n"
     ]
    },
    {
     "name": "stdout",
     "output_type": "stream",
     "text": [
      "[info] saving data into: dpo_databsae.txt\n",
      "round: 131\t"
     ]
    },
    {
     "name": "stderr",
     "output_type": "stream",
     "text": [
      "100%|██████████| 5/5 [02:57<00:00, 35.43s/it]\n"
     ]
    },
    {
     "name": "stdout",
     "output_type": "stream",
     "text": [
      "[info] saving data into: dpo_databsae.txt\n",
      "num_data: 132\n",
      "round: 132\t"
     ]
    },
    {
     "name": "stderr",
     "output_type": "stream",
     "text": [
      "100%|██████████| 5/5 [36:21<00:00, 436.35s/it]\n"
     ]
    },
    {
     "name": "stdout",
     "output_type": "stream",
     "text": [
      "[info] saving data into: dpo_databsae.txt\n",
      "round: 133\t"
     ]
    },
    {
     "name": "stderr",
     "output_type": "stream",
     "text": [
      "100%|██████████| 5/5 [1:20:28<00:00, 965.78s/it]\n"
     ]
    },
    {
     "name": "stdout",
     "output_type": "stream",
     "text": [
      "[info] saving data into: dpo_databsae.txt\n",
      "round: 134\t"
     ]
    },
    {
     "name": "stderr",
     "output_type": "stream",
     "text": [
      "100%|██████████| 5/5 [47:34<00:00, 570.95s/it]\n"
     ]
    },
    {
     "name": "stdout",
     "output_type": "stream",
     "text": [
      "[info] saving data into: dpo_databsae.txt\n",
      "num_data: 135\n",
      "round: 135\t"
     ]
    },
    {
     "name": "stderr",
     "output_type": "stream",
     "text": [
      "100%|██████████| 5/5 [02:24<00:00, 28.95s/it]\n"
     ]
    },
    {
     "name": "stdout",
     "output_type": "stream",
     "text": [
      "[info] saving data into: dpo_databsae.txt\n",
      "round: 136\t"
     ]
    },
    {
     "name": "stderr",
     "output_type": "stream",
     "text": [
      "100%|██████████| 5/5 [02:25<00:00, 29.10s/it]\n"
     ]
    },
    {
     "name": "stdout",
     "output_type": "stream",
     "text": [
      "[info] saving data into: dpo_databsae.txt\n",
      "round: 137\t"
     ]
    },
    {
     "name": "stderr",
     "output_type": "stream",
     "text": [
      "100%|██████████| 5/5 [02:26<00:00, 29.22s/it]\n"
     ]
    },
    {
     "name": "stdout",
     "output_type": "stream",
     "text": [
      "[info] saving data into: dpo_databsae.txt\n",
      "num_data: 138\n",
      "round: 138\t"
     ]
    },
    {
     "name": "stderr",
     "output_type": "stream",
     "text": [
      "100%|██████████| 5/5 [02:26<00:00, 29.25s/it]\n"
     ]
    },
    {
     "name": "stdout",
     "output_type": "stream",
     "text": [
      "[info] saving data into: dpo_databsae.txt\n",
      "round: 139\t"
     ]
    },
    {
     "name": "stderr",
     "output_type": "stream",
     "text": [
      "100%|██████████| 5/5 [02:25<00:00, 29.09s/it]\n"
     ]
    },
    {
     "name": "stdout",
     "output_type": "stream",
     "text": [
      "[info] saving data into: dpo_databsae.txt\n",
      "round: 140\t"
     ]
    },
    {
     "name": "stderr",
     "output_type": "stream",
     "text": [
      "100%|██████████| 5/5 [02:26<00:00, 29.27s/it]\n"
     ]
    },
    {
     "name": "stdout",
     "output_type": "stream",
     "text": [
      "[info] saving data into: dpo_databsae.txt\n",
      "num_data: 141\n",
      "round: 141\t"
     ]
    },
    {
     "name": "stderr",
     "output_type": "stream",
     "text": [
      "100%|██████████| 5/5 [02:25<00:00, 29.18s/it]\n"
     ]
    },
    {
     "name": "stdout",
     "output_type": "stream",
     "text": [
      "[info] saving data into: dpo_databsae.txt\n",
      "round: 142\t"
     ]
    },
    {
     "name": "stderr",
     "output_type": "stream",
     "text": [
      "100%|██████████| 5/5 [02:26<00:00, 29.22s/it]\n"
     ]
    },
    {
     "name": "stdout",
     "output_type": "stream",
     "text": [
      "[info] saving data into: dpo_databsae.txt\n",
      "round: 143\t"
     ]
    },
    {
     "name": "stderr",
     "output_type": "stream",
     "text": [
      "100%|██████████| 5/5 [02:26<00:00, 29.22s/it]\n"
     ]
    },
    {
     "name": "stdout",
     "output_type": "stream",
     "text": [
      "[info] saving data into: dpo_databsae.txt\n",
      "num_data: 144\n",
      "round: 144\t"
     ]
    },
    {
     "name": "stderr",
     "output_type": "stream",
     "text": [
      "100%|██████████| 5/5 [02:25<00:00, 29.01s/it]\n"
     ]
    },
    {
     "name": "stdout",
     "output_type": "stream",
     "text": [
      "[info] saving data into: dpo_databsae.txt\n",
      "round: 145\t"
     ]
    },
    {
     "name": "stderr",
     "output_type": "stream",
     "text": [
      " 40%|████      | 2/5 [01:18<01:57, 39.26s/it]\n"
     ]
    },
    {
     "ename": "KeyboardInterrupt",
     "evalue": "",
     "output_type": "error",
     "traceback": [
      "\u001b[31m---------------------------------------------------------------------------\u001b[39m",
      "\u001b[31mKeyboardInterrupt\u001b[39m                         Traceback (most recent call last)",
      "\u001b[36mCell\u001b[39m\u001b[36m \u001b[39m\u001b[32mIn[8]\u001b[39m\u001b[32m, line 156\u001b[39m\n\u001b[32m    139\u001b[39m ddgen = DPODatasetGenerator(\n\u001b[32m    140\u001b[39m     num_qubits, num_gates, dim_order,\n\u001b[32m    141\u001b[39m     max_repeat_for_target = \u001b[32m3\u001b[39m,\n\u001b[32m   (...)\u001b[39m\u001b[32m    153\u001b[39m     qml_batch_size=\u001b[32m20\u001b[39m\n\u001b[32m    154\u001b[39m )\n\u001b[32m    155\u001b[39m \u001b[38;5;66;03m# ddgen = DPODatasetGenerator(num_qubits, num_gates, dim_order, qml_batch_size=10, qml_max_iter=50)\u001b[39;00m\n\u001b[32m--> \u001b[39m\u001b[32m156\u001b[39m \u001b[43mddgen\u001b[49m\u001b[43m.\u001b[49m\u001b[43mgenerate\u001b[49m\u001b[43m(\u001b[49m\u001b[32;43m500\u001b[39;49m\u001b[43m)\u001b[49m\n",
      "\u001b[36mCell\u001b[39m\u001b[36m \u001b[39m\u001b[32mIn[8]\u001b[39m\u001b[32m, line 102\u001b[39m, in \u001b[36mDPODatasetGenerator.generate\u001b[39m\u001b[34m(self, size, db_filename, batch_size)\u001b[39m\n\u001b[32m    100\u001b[39m \u001b[38;5;66;03m# step 4. train candidates\u001b[39;00m\n\u001b[32m    101\u001b[39m train_optimizer = xoptim.LocalSearchOptimizer(qml_dataset)\n\u001b[32m--> \u001b[39m\u001b[32m102\u001b[39m train_result = \u001b[43mtrain_optimizer\u001b[49m\u001b[43m.\u001b[49m\u001b[43moptimize\u001b[49m\u001b[43m(\u001b[49m\n\u001b[32m    103\u001b[39m \u001b[43m    \u001b[49m\u001b[43mcandidate_model\u001b[49m\u001b[43m,\u001b[49m\n\u001b[32m    104\u001b[39m \u001b[43m    \u001b[49m\u001b[38;5;28;43mself\u001b[39;49m\u001b[43m.\u001b[49m\u001b[43mqml_max_iter\u001b[49m\u001b[43m,\u001b[49m\n\u001b[32m    105\u001b[39m \u001b[43m    \u001b[49m\u001b[43mbatch_size\u001b[49m\u001b[43m=\u001b[49m\u001b[43mbatch_size\u001b[49m\u001b[43m,\u001b[49m\n\u001b[32m    106\u001b[39m \u001b[43m    \u001b[49m\u001b[43mverbose\u001b[49m\u001b[43m=\u001b[49m\u001b[38;5;28;43;01mFalse\u001b[39;49;00m\n\u001b[32m    107\u001b[39m \u001b[43m\u001b[49m\u001b[43m)\u001b[49m\n\u001b[32m    109\u001b[39m \u001b[38;5;66;03m# step 5. calc loss after training\u001b[39;00m\n\u001b[32m    110\u001b[39m loss_evaluator = xeval.MSEEvaluator(qml_dataset, candidate_model)\n",
      "\u001b[36mFile \u001b[39m\u001b[32m~/workspace/qml/qml/optimizer/base.py:125\u001b[39m, in \u001b[36mOptimizer.optimize\u001b[39m\u001b[34m(self, model, num_iter, batch_size, shots, test_interval, verbose)\u001b[39m\n\u001b[32m    122\u001b[39m     \u001b[38;5;28mself\u001b[39m.log_test(\u001b[32m0\u001b[39m, xc, rt)\n\u001b[32m    124\u001b[39m \u001b[38;5;28;01mfor\u001b[39;00m step \u001b[38;5;129;01min\u001b[39;00m \u001b[38;5;28mrange\u001b[39m(\u001b[32m1\u001b[39m, num_iter+\u001b[32m1\u001b[39m):\n\u001b[32m--> \u001b[39m\u001b[32m125\u001b[39m     xc, rc = \u001b[38;5;28;43mself\u001b[39;49m\u001b[43m.\u001b[49m\u001b[43moptimize_once\u001b[49m\u001b[43m(\u001b[49m\u001b[43mstep\u001b[49m\u001b[43m,\u001b[49m\u001b[43m \u001b[49m\u001b[43mxc\u001b[49m\u001b[43m,\u001b[49m\u001b[43m \u001b[49m\u001b[43mrc\u001b[49m\u001b[43m)\u001b[49m\n\u001b[32m    127\u001b[39m     \u001b[38;5;28;01mif\u001b[39;00m step % test_interval == \u001b[32m0\u001b[39m:\n\u001b[32m    128\u001b[39m         \u001b[38;5;28mself\u001b[39m.test_once(step)\n",
      "\u001b[36mFile \u001b[39m\u001b[32m~/workspace/qml/qml/optimizer/base.py:140\u001b[39m, in \u001b[36mOptimizer.optimize_once\u001b[39m\u001b[34m(self, step, xc, rc)\u001b[39m\n\u001b[32m    138\u001b[39m \u001b[38;5;28;01mdef\u001b[39;00m\u001b[38;5;250m \u001b[39m\u001b[34moptimize_once\u001b[39m(\u001b[38;5;28mself\u001b[39m, step, xc, rc):\n\u001b[32m    139\u001b[39m     xp = \u001b[38;5;28mself\u001b[39m.propose_candidate(xc)\n\u001b[32m--> \u001b[39m\u001b[32m140\u001b[39m     rp = \u001b[38;5;28;43mself\u001b[39;49m\u001b[43m.\u001b[49m\u001b[43mevaluate\u001b[49m\u001b[43m(\u001b[49m\u001b[43mxp\u001b[49m\u001b[43m)\u001b[49m\n\u001b[32m    142\u001b[39m     xc, rc = \u001b[38;5;28mself\u001b[39m.update_candicate(step, xc, rc, xp, rp)\n\u001b[32m    143\u001b[39m     \u001b[38;5;28mself\u001b[39m.log(step, xc, rc, xp, rp)\n",
      "\u001b[36mFile \u001b[39m\u001b[32m~/workspace/qml/qml/optimizer/base.py:70\u001b[39m, in \u001b[36mOptimizer.evaluate\u001b[39m\u001b[34m(self, params, test)\u001b[39m\n\u001b[32m     68\u001b[39m \u001b[38;5;28;01mdef\u001b[39;00m\u001b[38;5;250m \u001b[39m\u001b[34mevaluate\u001b[39m(\u001b[38;5;28mself\u001b[39m, params, test: \u001b[38;5;28mbool\u001b[39m = \u001b[38;5;28;01mFalse\u001b[39;00m) -> \u001b[38;5;28mfloat\u001b[39m:\n\u001b[32m     69\u001b[39m     eval_func = \u001b[38;5;28mself\u001b[39m.train_eval \u001b[38;5;28;01mif\u001b[39;00m \u001b[38;5;129;01mnot\u001b[39;00m test \u001b[38;5;28;01melse\u001b[39;00m \u001b[38;5;28mself\u001b[39m.test_eval\n\u001b[32m---> \u001b[39m\u001b[32m70\u001b[39m     \u001b[38;5;28;01mreturn\u001b[39;00m \u001b[43meval_func\u001b[49m\u001b[43m(\u001b[49m\u001b[43mparams\u001b[49m\u001b[43m)\u001b[49m\n",
      "\u001b[36mFile \u001b[39m\u001b[32m~/workspace/qml/qml/optimizer/evaluator/base.py:73\u001b[39m, in \u001b[36mEvaluator.__call__\u001b[39m\u001b[34m(self, params, model)\u001b[39m\n\u001b[32m     70\u001b[39m     \u001b[38;5;28mself\u001b[39m._loader_iter = \u001b[38;5;28miter\u001b[39m(\u001b[38;5;28mself\u001b[39m._loader)\n\u001b[32m     71\u001b[39m     xs, ys = \u001b[38;5;28mnext\u001b[39m(\u001b[38;5;28mself\u001b[39m._loader_iter)\n\u001b[32m---> \u001b[39m\u001b[32m73\u001b[39m \u001b[38;5;28;01mreturn\u001b[39;00m \u001b[38;5;28;43mself\u001b[39;49m\u001b[43m.\u001b[49m\u001b[43mevaluate\u001b[49m\u001b[43m(\u001b[49m\n\u001b[32m     74\u001b[39m \u001b[43m    \u001b[49m\u001b[43mmodel\u001b[49m\u001b[43m,\u001b[49m\u001b[43m \u001b[49m\u001b[43mparams\u001b[49m\u001b[43m,\u001b[49m\u001b[43m \u001b[49m\u001b[43mxs\u001b[49m\u001b[43m,\u001b[49m\u001b[43m \u001b[49m\u001b[43mys\u001b[49m\u001b[43m,\u001b[49m\u001b[43m \u001b[49m\u001b[43mshots\u001b[49m\u001b[43m=\u001b[49m\u001b[38;5;28;43mself\u001b[39;49m\u001b[43m.\u001b[49m\u001b[43mshots\u001b[49m\n\u001b[32m     75\u001b[39m \u001b[43m\u001b[49m\u001b[43m)\u001b[49m\n",
      "\u001b[36mFile \u001b[39m\u001b[32m~/workspace/qml/qml/optimizer/evaluator/mse.py:46\u001b[39m, in \u001b[36mMSEEvaluator.evaluate\u001b[39m\u001b[34m(cls, model, params, xs, ys, shots)\u001b[39m\n\u001b[32m     37\u001b[39m \u001b[38;5;129m@classmethod\u001b[39m\n\u001b[32m     38\u001b[39m \u001b[38;5;28;01mdef\u001b[39;00m\u001b[38;5;250m \u001b[39m\u001b[34mevaluate\u001b[39m(\n\u001b[32m     39\u001b[39m         \u001b[38;5;28mcls\u001b[39m,\n\u001b[32m   (...)\u001b[39m\u001b[32m     44\u001b[39m         shots: \u001b[38;5;28mint\u001b[39m = \u001b[38;5;28;01mNone\u001b[39;00m,\n\u001b[32m     45\u001b[39m ):\n\u001b[32m---> \u001b[39m\u001b[32m46\u001b[39m     res = \u001b[43mErrorEvaluator\u001b[49m\u001b[43m.\u001b[49m\u001b[43mevaluate\u001b[49m\u001b[43m(\u001b[49m\u001b[43mmodel\u001b[49m\u001b[43m,\u001b[49m\u001b[43m \u001b[49m\u001b[43mparams\u001b[49m\u001b[43m,\u001b[49m\u001b[43m \u001b[49m\u001b[43mxs\u001b[49m\u001b[43m,\u001b[49m\u001b[43m \u001b[49m\u001b[43mys\u001b[49m\u001b[43m,\u001b[49m\u001b[43m \u001b[49m\u001b[43mshots\u001b[49m\u001b[43m)\u001b[49m\n\u001b[32m     47\u001b[39m     loss = np.square(res.es).mean()\n\u001b[32m     48\u001b[39m     \u001b[38;5;28;01mreturn\u001b[39;00m MSEEvalResult(loss, xs, ys)\n",
      "\u001b[36mFile \u001b[39m\u001b[32m~/workspace/qml/qml/optimizer/evaluator/error.py:51\u001b[39m, in \u001b[36mErrorEvaluator.evaluate\u001b[39m\u001b[34m(cls, model, params, xs, ys, shots)\u001b[39m\n\u001b[32m     41\u001b[39m \u001b[38;5;129m@classmethod\u001b[39m\n\u001b[32m     42\u001b[39m \u001b[38;5;28;01mdef\u001b[39;00m\u001b[38;5;250m \u001b[39m\u001b[34mevaluate\u001b[39m(\n\u001b[32m     43\u001b[39m         \u001b[38;5;28mcls\u001b[39m,\n\u001b[32m   (...)\u001b[39m\u001b[32m     48\u001b[39m         shots: \u001b[38;5;28mint\u001b[39m = \u001b[38;5;28;01mNone\u001b[39;00m,\n\u001b[32m     49\u001b[39m ):\n\u001b[32m     50\u001b[39m     ps = np.asarray([\n\u001b[32m---> \u001b[39m\u001b[32m51\u001b[39m         \u001b[43mmodel\u001b[49m\u001b[43m.\u001b[49m\u001b[43mforward\u001b[49m\u001b[43m(\u001b[49m\u001b[43mx\u001b[49m\u001b[43m,\u001b[49m\u001b[43m \u001b[49m\u001b[43mparams\u001b[49m\u001b[43m=\u001b[49m\u001b[43mparams\u001b[49m\u001b[43m,\u001b[49m\u001b[43m \u001b[49m\u001b[43mshots\u001b[49m\u001b[43m=\u001b[49m\u001b[43mshots\u001b[49m\u001b[43m)\u001b[49m\n\u001b[32m     52\u001b[39m         \u001b[38;5;28;01mfor\u001b[39;00m x \u001b[38;5;129;01min\u001b[39;00m xs\n\u001b[32m     53\u001b[39m     ])\n\u001b[32m     54\u001b[39m     es = ys - ps\n\u001b[32m     55\u001b[39m     res = ErrorEvalResult(es, xs, ys)\n",
      "\u001b[36mFile \u001b[39m\u001b[32m~/workspace/qml/qml/model/model.py:56\u001b[39m, in \u001b[36mModel.forward\u001b[39m\u001b[34m(self, x, params, shots)\u001b[39m\n\u001b[32m     54\u001b[39m qc = \u001b[38;5;28mself\u001b[39m._apply()\n\u001b[32m     55\u001b[39m bc = qc.assign_parameters(feed_dict)\n\u001b[32m---> \u001b[39m\u001b[32m56\u001b[39m job = \u001b[43mtranspile\u001b[49m\u001b[43m(\u001b[49m\u001b[43mbc\u001b[49m\u001b[43m,\u001b[49m\u001b[43m \u001b[49m\u001b[38;5;28;43mself\u001b[39;49m\u001b[43m.\u001b[49m\u001b[43m_sim\u001b[49m\u001b[43m)\u001b[49m\n\u001b[32m     57\u001b[39m res = \u001b[38;5;28mself\u001b[39m._sim.run(job, shots=shots).result().get_counts()\n\u001b[32m     58\u001b[39m pre = res.get(\u001b[33m\"\u001b[39m\u001b[33m0\u001b[39m\u001b[33m\"\u001b[39m, \u001b[32m0\u001b[39m) - res.get(\u001b[33m\"\u001b[39m\u001b[33m1\u001b[39m\u001b[33m\"\u001b[39m, \u001b[32m0\u001b[39m)\n",
      "\u001b[36mFile \u001b[39m\u001b[32m/opt/homebrew/Caskroom/miniconda/base/envs/lb-qml/lib/python3.12/site-packages/qiskit/utils/deprecation.py:184\u001b[39m, in \u001b[36mdeprecate_arg.<locals>.decorator.<locals>.wrapper\u001b[39m\u001b[34m(*args, **kwargs)\u001b[39m\n\u001b[32m    171\u001b[39m \u001b[38;5;129m@functools\u001b[39m.wraps(func)\n\u001b[32m    172\u001b[39m \u001b[38;5;28;01mdef\u001b[39;00m\u001b[38;5;250m \u001b[39m\u001b[34mwrapper\u001b[39m(*args, **kwargs):\n\u001b[32m    173\u001b[39m     _maybe_warn_and_rename_kwarg(\n\u001b[32m    174\u001b[39m         args,\n\u001b[32m    175\u001b[39m         kwargs,\n\u001b[32m   (...)\u001b[39m\u001b[32m    182\u001b[39m         predicate=predicate,\n\u001b[32m    183\u001b[39m     )\n\u001b[32m--> \u001b[39m\u001b[32m184\u001b[39m     \u001b[38;5;28;01mreturn\u001b[39;00m \u001b[43mfunc\u001b[49m\u001b[43m(\u001b[49m\u001b[43m*\u001b[49m\u001b[43margs\u001b[49m\u001b[43m,\u001b[49m\u001b[43m \u001b[49m\u001b[43m*\u001b[49m\u001b[43m*\u001b[49m\u001b[43mkwargs\u001b[49m\u001b[43m)\u001b[49m\n",
      "\u001b[36mFile \u001b[39m\u001b[32m/opt/homebrew/Caskroom/miniconda/base/envs/lb-qml/lib/python3.12/site-packages/qiskit/utils/deprecation.py:184\u001b[39m, in \u001b[36mdeprecate_arg.<locals>.decorator.<locals>.wrapper\u001b[39m\u001b[34m(*args, **kwargs)\u001b[39m\n\u001b[32m    171\u001b[39m \u001b[38;5;129m@functools\u001b[39m.wraps(func)\n\u001b[32m    172\u001b[39m \u001b[38;5;28;01mdef\u001b[39;00m\u001b[38;5;250m \u001b[39m\u001b[34mwrapper\u001b[39m(*args, **kwargs):\n\u001b[32m    173\u001b[39m     _maybe_warn_and_rename_kwarg(\n\u001b[32m    174\u001b[39m         args,\n\u001b[32m    175\u001b[39m         kwargs,\n\u001b[32m   (...)\u001b[39m\u001b[32m    182\u001b[39m         predicate=predicate,\n\u001b[32m    183\u001b[39m     )\n\u001b[32m--> \u001b[39m\u001b[32m184\u001b[39m     \u001b[38;5;28;01mreturn\u001b[39;00m \u001b[43mfunc\u001b[49m\u001b[43m(\u001b[49m\u001b[43m*\u001b[49m\u001b[43margs\u001b[49m\u001b[43m,\u001b[49m\u001b[43m \u001b[49m\u001b[43m*\u001b[49m\u001b[43m*\u001b[49m\u001b[43mkwargs\u001b[49m\u001b[43m)\u001b[49m\n",
      "    \u001b[31m[... skipping similar frames: deprecate_arg.<locals>.decorator.<locals>.wrapper at line 184 (1 times)]\u001b[39m\n",
      "\u001b[36mFile \u001b[39m\u001b[32m/opt/homebrew/Caskroom/miniconda/base/envs/lb-qml/lib/python3.12/site-packages/qiskit/utils/deprecation.py:184\u001b[39m, in \u001b[36mdeprecate_arg.<locals>.decorator.<locals>.wrapper\u001b[39m\u001b[34m(*args, **kwargs)\u001b[39m\n\u001b[32m    171\u001b[39m \u001b[38;5;129m@functools\u001b[39m.wraps(func)\n\u001b[32m    172\u001b[39m \u001b[38;5;28;01mdef\u001b[39;00m\u001b[38;5;250m \u001b[39m\u001b[34mwrapper\u001b[39m(*args, **kwargs):\n\u001b[32m    173\u001b[39m     _maybe_warn_and_rename_kwarg(\n\u001b[32m    174\u001b[39m         args,\n\u001b[32m    175\u001b[39m         kwargs,\n\u001b[32m   (...)\u001b[39m\u001b[32m    182\u001b[39m         predicate=predicate,\n\u001b[32m    183\u001b[39m     )\n\u001b[32m--> \u001b[39m\u001b[32m184\u001b[39m     \u001b[38;5;28;01mreturn\u001b[39;00m \u001b[43mfunc\u001b[49m\u001b[43m(\u001b[49m\u001b[43m*\u001b[49m\u001b[43margs\u001b[49m\u001b[43m,\u001b[49m\u001b[43m \u001b[49m\u001b[43m*\u001b[49m\u001b[43m*\u001b[49m\u001b[43mkwargs\u001b[49m\u001b[43m)\u001b[49m\n",
      "\u001b[36mFile \u001b[39m\u001b[32m/opt/homebrew/Caskroom/miniconda/base/envs/lb-qml/lib/python3.12/site-packages/qiskit/compiler/transpiler.py:423\u001b[39m, in \u001b[36mtranspile\u001b[39m\u001b[34m(circuits, backend, basis_gates, inst_map, coupling_map, backend_properties, initial_layout, layout_method, routing_method, translation_method, scheduling_method, instruction_durations, dt, approximation_degree, timing_constraints, seed_transpiler, optimization_level, callback, output_name, unitary_synthesis_method, unitary_synthesis_plugin_config, target, hls_config, init_method, optimization_method, ignore_backend_supplied_default_methods, num_processes, qubits_initially_zero)\u001b[39m\n\u001b[32m    411\u001b[39m     warnings.filterwarnings(\n\u001b[32m    412\u001b[39m         \u001b[33m\"\u001b[39m\u001b[33mignore\u001b[39m\u001b[33m\"\u001b[39m,\n\u001b[32m    413\u001b[39m         category=\u001b[38;5;167;01mDeprecationWarning\u001b[39;00m,\n\u001b[32m    414\u001b[39m         message=\u001b[33m\"\u001b[39m\u001b[33m.*``instruction_durations`` is deprecated as of Qiskit 1.3.*\u001b[39m\u001b[33m\"\u001b[39m,\n\u001b[32m    415\u001b[39m         module=\u001b[33m\"\u001b[39m\u001b[33mqiskit\u001b[39m\u001b[33m\"\u001b[39m,\n\u001b[32m    416\u001b[39m     )\n\u001b[32m    417\u001b[39m     warnings.filterwarnings(\n\u001b[32m    418\u001b[39m         \u001b[33m\"\u001b[39m\u001b[33mignore\u001b[39m\u001b[33m\"\u001b[39m,\n\u001b[32m    419\u001b[39m         category=\u001b[38;5;167;01mDeprecationWarning\u001b[39;00m,\n\u001b[32m    420\u001b[39m         message=\u001b[33m\"\u001b[39m\u001b[33m.*``backend_properties`` is deprecated as of Qiskit 1.3.*\u001b[39m\u001b[33m\"\u001b[39m,\n\u001b[32m    421\u001b[39m         module=\u001b[33m\"\u001b[39m\u001b[33mqiskit\u001b[39m\u001b[33m\"\u001b[39m,\n\u001b[32m    422\u001b[39m     )\n\u001b[32m--> \u001b[39m\u001b[32m423\u001b[39m     pm = \u001b[43mgenerate_preset_pass_manager\u001b[49m\u001b[43m(\u001b[49m\n\u001b[32m    424\u001b[39m \u001b[43m        \u001b[49m\u001b[43moptimization_level\u001b[49m\u001b[43m,\u001b[49m\n\u001b[32m    425\u001b[39m \u001b[43m        \u001b[49m\u001b[43mtarget\u001b[49m\u001b[43m=\u001b[49m\u001b[43mtarget\u001b[49m\u001b[43m,\u001b[49m\n\u001b[32m    426\u001b[39m \u001b[43m        \u001b[49m\u001b[43mbackend\u001b[49m\u001b[43m=\u001b[49m\u001b[43mbackend\u001b[49m\u001b[43m,\u001b[49m\n\u001b[32m    427\u001b[39m \u001b[43m        \u001b[49m\u001b[43mbasis_gates\u001b[49m\u001b[43m=\u001b[49m\u001b[43mbasis_gates\u001b[49m\u001b[43m,\u001b[49m\n\u001b[32m    428\u001b[39m \u001b[43m        \u001b[49m\u001b[43mcoupling_map\u001b[49m\u001b[43m=\u001b[49m\u001b[43mcoupling_map\u001b[49m\u001b[43m,\u001b[49m\n\u001b[32m    429\u001b[39m \u001b[43m        \u001b[49m\u001b[43minstruction_durations\u001b[49m\u001b[43m=\u001b[49m\u001b[43minstruction_durations\u001b[49m\u001b[43m,\u001b[49m\n\u001b[32m    430\u001b[39m \u001b[43m        \u001b[49m\u001b[43mbackend_properties\u001b[49m\u001b[43m=\u001b[49m\u001b[43mbackend_properties\u001b[49m\u001b[43m,\u001b[49m\n\u001b[32m    431\u001b[39m \u001b[43m        \u001b[49m\u001b[43mtiming_constraints\u001b[49m\u001b[43m=\u001b[49m\u001b[43mtiming_constraints\u001b[49m\u001b[43m,\u001b[49m\n\u001b[32m    432\u001b[39m \u001b[43m        \u001b[49m\u001b[43minst_map\u001b[49m\u001b[43m=\u001b[49m\u001b[43minst_map\u001b[49m\u001b[43m,\u001b[49m\n\u001b[32m    433\u001b[39m \u001b[43m        \u001b[49m\u001b[43minitial_layout\u001b[49m\u001b[43m=\u001b[49m\u001b[43minitial_layout\u001b[49m\u001b[43m,\u001b[49m\n\u001b[32m    434\u001b[39m \u001b[43m        \u001b[49m\u001b[43mlayout_method\u001b[49m\u001b[43m=\u001b[49m\u001b[43mlayout_method\u001b[49m\u001b[43m,\u001b[49m\n\u001b[32m    435\u001b[39m \u001b[43m        \u001b[49m\u001b[43mrouting_method\u001b[49m\u001b[43m=\u001b[49m\u001b[43mrouting_method\u001b[49m\u001b[43m,\u001b[49m\n\u001b[32m    436\u001b[39m \u001b[43m        \u001b[49m\u001b[43mtranslation_method\u001b[49m\u001b[43m=\u001b[49m\u001b[43mtranslation_method\u001b[49m\u001b[43m,\u001b[49m\n\u001b[32m    437\u001b[39m \u001b[43m        \u001b[49m\u001b[43mscheduling_method\u001b[49m\u001b[43m=\u001b[49m\u001b[43mscheduling_method\u001b[49m\u001b[43m,\u001b[49m\n\u001b[32m    438\u001b[39m \u001b[43m        \u001b[49m\u001b[43mapproximation_degree\u001b[49m\u001b[43m=\u001b[49m\u001b[43mapproximation_degree\u001b[49m\u001b[43m,\u001b[49m\n\u001b[32m    439\u001b[39m \u001b[43m        \u001b[49m\u001b[43mseed_transpiler\u001b[49m\u001b[43m=\u001b[49m\u001b[43mseed_transpiler\u001b[49m\u001b[43m,\u001b[49m\n\u001b[32m    440\u001b[39m \u001b[43m        \u001b[49m\u001b[43munitary_synthesis_method\u001b[49m\u001b[43m=\u001b[49m\u001b[43munitary_synthesis_method\u001b[49m\u001b[43m,\u001b[49m\n\u001b[32m    441\u001b[39m \u001b[43m        \u001b[49m\u001b[43munitary_synthesis_plugin_config\u001b[49m\u001b[43m=\u001b[49m\u001b[43munitary_synthesis_plugin_config\u001b[49m\u001b[43m,\u001b[49m\n\u001b[32m    442\u001b[39m \u001b[43m        \u001b[49m\u001b[43mhls_config\u001b[49m\u001b[43m=\u001b[49m\u001b[43mhls_config\u001b[49m\u001b[43m,\u001b[49m\n\u001b[32m    443\u001b[39m \u001b[43m        \u001b[49m\u001b[43minit_method\u001b[49m\u001b[43m=\u001b[49m\u001b[43minit_method\u001b[49m\u001b[43m,\u001b[49m\n\u001b[32m    444\u001b[39m \u001b[43m        \u001b[49m\u001b[43moptimization_method\u001b[49m\u001b[43m=\u001b[49m\u001b[43moptimization_method\u001b[49m\u001b[43m,\u001b[49m\n\u001b[32m    445\u001b[39m \u001b[43m        \u001b[49m\u001b[43mdt\u001b[49m\u001b[43m=\u001b[49m\u001b[43mdt\u001b[49m\u001b[43m,\u001b[49m\n\u001b[32m    446\u001b[39m \u001b[43m        \u001b[49m\u001b[43mqubits_initially_zero\u001b[49m\u001b[43m=\u001b[49m\u001b[43mqubits_initially_zero\u001b[49m\u001b[43m,\u001b[49m\n\u001b[32m    447\u001b[39m \u001b[43m    \u001b[49m\u001b[43m)\u001b[49m\n\u001b[32m    449\u001b[39m out_circuits = pm.run(circuits, callback=callback, num_processes=num_processes)\n\u001b[32m    451\u001b[39m \u001b[38;5;28;01mfor\u001b[39;00m name, circ \u001b[38;5;129;01min\u001b[39;00m \u001b[38;5;28mzip\u001b[39m(output_name, out_circuits):\n",
      "\u001b[36mFile \u001b[39m\u001b[32m/opt/homebrew/Caskroom/miniconda/base/envs/lb-qml/lib/python3.12/site-packages/qiskit/utils/deprecation.py:184\u001b[39m, in \u001b[36mdeprecate_arg.<locals>.decorator.<locals>.wrapper\u001b[39m\u001b[34m(*args, **kwargs)\u001b[39m\n\u001b[32m    171\u001b[39m \u001b[38;5;129m@functools\u001b[39m.wraps(func)\n\u001b[32m    172\u001b[39m \u001b[38;5;28;01mdef\u001b[39;00m\u001b[38;5;250m \u001b[39m\u001b[34mwrapper\u001b[39m(*args, **kwargs):\n\u001b[32m    173\u001b[39m     _maybe_warn_and_rename_kwarg(\n\u001b[32m    174\u001b[39m         args,\n\u001b[32m    175\u001b[39m         kwargs,\n\u001b[32m   (...)\u001b[39m\u001b[32m    182\u001b[39m         predicate=predicate,\n\u001b[32m    183\u001b[39m     )\n\u001b[32m--> \u001b[39m\u001b[32m184\u001b[39m     \u001b[38;5;28;01mreturn\u001b[39;00m \u001b[43mfunc\u001b[49m\u001b[43m(\u001b[49m\u001b[43m*\u001b[49m\u001b[43margs\u001b[49m\u001b[43m,\u001b[49m\u001b[43m \u001b[49m\u001b[43m*\u001b[49m\u001b[43m*\u001b[49m\u001b[43mkwargs\u001b[49m\u001b[43m)\u001b[49m\n",
      "\u001b[36mFile \u001b[39m\u001b[32m/opt/homebrew/Caskroom/miniconda/base/envs/lb-qml/lib/python3.12/site-packages/qiskit/utils/deprecation.py:184\u001b[39m, in \u001b[36mdeprecate_arg.<locals>.decorator.<locals>.wrapper\u001b[39m\u001b[34m(*args, **kwargs)\u001b[39m\n\u001b[32m    171\u001b[39m \u001b[38;5;129m@functools\u001b[39m.wraps(func)\n\u001b[32m    172\u001b[39m \u001b[38;5;28;01mdef\u001b[39;00m\u001b[38;5;250m \u001b[39m\u001b[34mwrapper\u001b[39m(*args, **kwargs):\n\u001b[32m    173\u001b[39m     _maybe_warn_and_rename_kwarg(\n\u001b[32m    174\u001b[39m         args,\n\u001b[32m    175\u001b[39m         kwargs,\n\u001b[32m   (...)\u001b[39m\u001b[32m    182\u001b[39m         predicate=predicate,\n\u001b[32m    183\u001b[39m     )\n\u001b[32m--> \u001b[39m\u001b[32m184\u001b[39m     \u001b[38;5;28;01mreturn\u001b[39;00m \u001b[43mfunc\u001b[49m\u001b[43m(\u001b[49m\u001b[43m*\u001b[49m\u001b[43margs\u001b[49m\u001b[43m,\u001b[49m\u001b[43m \u001b[49m\u001b[43m*\u001b[49m\u001b[43m*\u001b[49m\u001b[43mkwargs\u001b[49m\u001b[43m)\u001b[49m\n",
      "    \u001b[31m[... skipping similar frames: deprecate_arg.<locals>.decorator.<locals>.wrapper at line 184 (1 times)]\u001b[39m\n",
      "\u001b[36mFile \u001b[39m\u001b[32m/opt/homebrew/Caskroom/miniconda/base/envs/lb-qml/lib/python3.12/site-packages/qiskit/utils/deprecation.py:184\u001b[39m, in \u001b[36mdeprecate_arg.<locals>.decorator.<locals>.wrapper\u001b[39m\u001b[34m(*args, **kwargs)\u001b[39m\n\u001b[32m    171\u001b[39m \u001b[38;5;129m@functools\u001b[39m.wraps(func)\n\u001b[32m    172\u001b[39m \u001b[38;5;28;01mdef\u001b[39;00m\u001b[38;5;250m \u001b[39m\u001b[34mwrapper\u001b[39m(*args, **kwargs):\n\u001b[32m    173\u001b[39m     _maybe_warn_and_rename_kwarg(\n\u001b[32m    174\u001b[39m         args,\n\u001b[32m    175\u001b[39m         kwargs,\n\u001b[32m   (...)\u001b[39m\u001b[32m    182\u001b[39m         predicate=predicate,\n\u001b[32m    183\u001b[39m     )\n\u001b[32m--> \u001b[39m\u001b[32m184\u001b[39m     \u001b[38;5;28;01mreturn\u001b[39;00m \u001b[43mfunc\u001b[49m\u001b[43m(\u001b[49m\u001b[43m*\u001b[49m\u001b[43margs\u001b[49m\u001b[43m,\u001b[49m\u001b[43m \u001b[49m\u001b[43m*\u001b[49m\u001b[43m*\u001b[49m\u001b[43mkwargs\u001b[49m\u001b[43m)\u001b[49m\n",
      "\u001b[36mFile \u001b[39m\u001b[32m/opt/homebrew/Caskroom/miniconda/base/envs/lb-qml/lib/python3.12/site-packages/qiskit/transpiler/preset_passmanagers/generate_preset_pass_manager.py:333\u001b[39m, in \u001b[36mgenerate_preset_pass_manager\u001b[39m\u001b[34m(optimization_level, backend, target, basis_gates, inst_map, coupling_map, instruction_durations, backend_properties, timing_constraints, initial_layout, layout_method, routing_method, translation_method, scheduling_method, approximation_degree, seed_transpiler, unitary_synthesis_method, unitary_synthesis_plugin_config, hls_config, init_method, optimization_method, dt, qubits_initially_zero, _skip_target)\u001b[39m\n\u001b[32m    330\u001b[39m inst_map = _parse_inst_map(inst_map, backend)\n\u001b[32m    331\u001b[39m \u001b[38;5;66;03m# The basis gates parser will set _skip_target to True if a custom basis gate is found\u001b[39;00m\n\u001b[32m    332\u001b[39m \u001b[38;5;66;03m# (known edge case).\u001b[39;00m\n\u001b[32m--> \u001b[39m\u001b[32m333\u001b[39m basis_gates, name_mapping, _skip_target = \u001b[43m_parse_basis_gates\u001b[49m\u001b[43m(\u001b[49m\n\u001b[32m    334\u001b[39m \u001b[43m    \u001b[49m\u001b[43mbasis_gates\u001b[49m\u001b[43m,\u001b[49m\u001b[43m \u001b[49m\u001b[43mbackend\u001b[49m\u001b[43m,\u001b[49m\u001b[43m \u001b[49m\u001b[43minst_map\u001b[49m\u001b[43m,\u001b[49m\u001b[43m \u001b[49m\u001b[43m_skip_target\u001b[49m\n\u001b[32m    335\u001b[39m \u001b[43m\u001b[49m\u001b[43m)\u001b[49m\n\u001b[32m    336\u001b[39m coupling_map = _parse_coupling_map(coupling_map, backend)\n\u001b[32m    338\u001b[39m \u001b[38;5;28;01mif\u001b[39;00m target \u001b[38;5;129;01mis\u001b[39;00m \u001b[38;5;28;01mNone\u001b[39;00m:\n",
      "\u001b[36mFile \u001b[39m\u001b[32m/opt/homebrew/Caskroom/miniconda/base/envs/lb-qml/lib/python3.12/site-packages/qiskit/transpiler/preset_passmanagers/generate_preset_pass_manager.py:522\u001b[39m, in \u001b[36m_parse_basis_gates\u001b[39m\u001b[34m(basis_gates, backend, inst_map, skip_target)\u001b[39m\n\u001b[32m    518\u001b[39m     \u001b[38;5;28;01mreturn\u001b[39;00m \u001b[38;5;28mlist\u001b[39m(instructions), name_mapping, skip_target\n\u001b[32m    520\u001b[39m instructions = instructions \u001b[38;5;129;01mor\u001b[39;00m backend.operation_names\n\u001b[32m    521\u001b[39m name_mapping.update(\n\u001b[32m--> \u001b[39m\u001b[32m522\u001b[39m     {name: \u001b[43mbackend\u001b[49m\u001b[43m.\u001b[49m\u001b[43mtarget\u001b[49m.operation_from_name(name) \u001b[38;5;28;01mfor\u001b[39;00m name \u001b[38;5;129;01min\u001b[39;00m backend.operation_names}\n\u001b[32m    523\u001b[39m )\n\u001b[32m    525\u001b[39m \u001b[38;5;66;03m# Check for custom instructions before removing calibrations\u001b[39;00m\n\u001b[32m    526\u001b[39m \u001b[38;5;28;01mfor\u001b[39;00m inst \u001b[38;5;129;01min\u001b[39;00m instructions:\n",
      "\u001b[36mFile \u001b[39m\u001b[32m/opt/homebrew/Caskroom/miniconda/base/envs/lb-qml/lib/python3.12/site-packages/qiskit_aer/backends/aerbackend.py:421\u001b[39m, in \u001b[36mAerBackend.target\u001b[39m\u001b[34m(self)\u001b[39m\n\u001b[32m    416\u001b[39m         target.add_instruction(\n\u001b[32m    417\u001b[39m             instruction=qiskit_control_flow_mapping[inst_name],\n\u001b[32m    418\u001b[39m             name=inst_name,\n\u001b[32m    419\u001b[39m         )\n\u001b[32m    420\u001b[39m     \u001b[38;5;28;01melse\u001b[39;00m:\n\u001b[32m--> \u001b[39m\u001b[32m421\u001b[39m         \u001b[43mtarget\u001b[49m\u001b[43m.\u001b[49m\u001b[43madd_instruction\u001b[49m\u001b[43m(\u001b[49m\n\u001b[32m    422\u001b[39m \u001b[43m            \u001b[49m\u001b[43minstruction\u001b[49m\u001b[43m=\u001b[49m\u001b[43minst_name_map\u001b[49m\u001b[43m[\u001b[49m\u001b[43minst_name\u001b[49m\u001b[43m]\u001b[49m\u001b[43m,\u001b[49m\n\u001b[32m    423\u001b[39m \u001b[43m            \u001b[49m\u001b[43mproperties\u001b[49m\u001b[43m=\u001b[49m\u001b[43mprop_name_map\u001b[49m\u001b[43m.\u001b[49m\u001b[43mget\u001b[49m\u001b[43m(\u001b[49m\u001b[43minst_name\u001b[49m\u001b[43m,\u001b[49m\u001b[43m \u001b[49m\u001b[38;5;28;43;01mNone\u001b[39;49;00m\u001b[43m)\u001b[49m\u001b[43m,\u001b[49m\n\u001b[32m    424\u001b[39m \u001b[43m            \u001b[49m\u001b[43mname\u001b[49m\u001b[43m=\u001b[49m\u001b[43minst_name\u001b[49m\u001b[43m,\u001b[49m\n\u001b[32m    425\u001b[39m \u001b[43m        \u001b[49m\u001b[43m)\u001b[49m\n\u001b[32m    427\u001b[39m \u001b[38;5;28;01mif\u001b[39;00m \u001b[38;5;28mself\u001b[39m._coupling_map \u001b[38;5;129;01mis\u001b[39;00m \u001b[38;5;129;01mnot\u001b[39;00m \u001b[38;5;28;01mNone\u001b[39;00m:\n\u001b[32m    428\u001b[39m     target._coupling_graph = \u001b[38;5;28mself\u001b[39m._coupling_map.graph.copy()\n",
      "\u001b[36mFile \u001b[39m\u001b[32m/opt/homebrew/Caskroom/miniconda/base/envs/lb-qml/lib/python3.12/site-packages/qiskit/transpiler/target.py:445\u001b[39m, in \u001b[36mTarget.add_instruction\u001b[39m\u001b[34m(self, instruction, properties, name)\u001b[39m\n\u001b[32m    443\u001b[39m \u001b[38;5;28;01mif\u001b[39;00m instruction_name \u001b[38;5;129;01min\u001b[39;00m \u001b[38;5;28mself\u001b[39m._gate_map:\n\u001b[32m    444\u001b[39m     \u001b[38;5;28;01mraise\u001b[39;00m \u001b[38;5;167;01mAttributeError\u001b[39;00m(\u001b[33mf\u001b[39m\u001b[33m\"\u001b[39m\u001b[33mInstruction \u001b[39m\u001b[38;5;132;01m{\u001b[39;00minstruction_name\u001b[38;5;132;01m}\u001b[39;00m\u001b[33m is already in the target\u001b[39m\u001b[33m\"\u001b[39m)\n\u001b[32m--> \u001b[39m\u001b[32m445\u001b[39m \u001b[38;5;28;43msuper\u001b[39;49m\u001b[43m(\u001b[49m\u001b[43m)\u001b[49m\u001b[43m.\u001b[49m\u001b[43madd_instruction\u001b[49m\u001b[43m(\u001b[49m\u001b[43minstruction\u001b[49m\u001b[43m,\u001b[49m\u001b[43m \u001b[49m\u001b[43minstruction_name\u001b[49m\u001b[43m,\u001b[49m\u001b[43m \u001b[49m\u001b[43mproperties\u001b[49m\u001b[43m)\u001b[49m\n\u001b[32m    446\u001b[39m \u001b[38;5;28mself\u001b[39m._gate_map[instruction_name] = properties\n\u001b[32m    447\u001b[39m \u001b[38;5;28mself\u001b[39m._coupling_graph = \u001b[38;5;28;01mNone\u001b[39;00m\n",
      "\u001b[31mKeyboardInterrupt\u001b[39m: "
     ]
    }
   ],
   "source": [
    "class DPODatasetGenerator:\n",
    "\n",
    "    WAVELET_CLASS = xeval.Haar\n",
    "\n",
    "    def __init__(\n",
    "            self,\n",
    "            num_qubits: int,\n",
    "            num_gates: int,\n",
    "            max_order: int,\n",
    "            max_repeat_for_target: int = 3,\n",
    "            # step 0\n",
    "            qml_db_size: int = 50,\n",
    "            db_filename = \"dpo_databsae.txt\",\n",
    "            # step 1\n",
    "            # step 2\n",
    "            wavelet_class: xeval.Wavelet = None,\n",
    "            wavelet_dim: int = 4,\n",
    "            # step 3\n",
    "            num_candidates: int = 5,\n",
    "            # step 4\n",
    "            qml_max_iter: int = 50,\n",
    "            qml_batch_size: int = None,\n",
    "            seed: int = None,\n",
    "    ) -> None:\n",
    "        self.rng = rng = XRandomGenerator(seed)\n",
    "        self.num_qubits = nq = num_qubits\n",
    "        self.num_gates = ng = num_gates\n",
    "        self.max_repeat_for_target = max_repeat_for_target\n",
    "\n",
    "        # step 0 target function\n",
    "        self.max_order = d = max_order\n",
    "        self.tfun = xtarget.PolynominalTargetFunctionGenerator(d, rng.new_seed())\n",
    "        self.tgen = MLDatasetGenerator(self.tfun, rng.new_seed())\n",
    "        self.qml_db_size = qml_db_size\n",
    "        self.db_filename = db_filename\n",
    "\n",
    "        # step 1 prepare mqc\n",
    "\n",
    "        # step 2 calc wavelet series\n",
    "        if wavelet_class is None:\n",
    "            wavelet_class = self.WAVELET_CLASS\n",
    "        self.wavelet_class = wavelet_class\n",
    "        self.wavelet_dim = wavelet_dim\n",
    "        \n",
    "        # step 3\n",
    "        self.uman = UnitManager(nq, ng, rng.new_seed())\n",
    "        self.num_candidates = num_candidates\n",
    "\n",
    "        # step 4 tain candidate\n",
    "        self.qml_max_iter = qml_max_iter\n",
    "        self.qml_batch_size = qml_batch_size\n",
    "    \n",
    "    def initialize_qml_and_model(self):\n",
    "        # step 0 generate qml database\n",
    "        qml_dataset = self.tgen.generate(self.qml_db_size)\n",
    "\n",
    "        # step 1 prepare mqc\n",
    "        eunit = EncodingUnitManager.AngleEncoding(1, self.num_qubits, repeat=True)\n",
    "        model = Model(self.num_qubits, 1, eunit, [], [])\n",
    "        \n",
    "        return qml_dataset, model\n",
    "    \n",
    "    def generate(\n",
    "            self,\n",
    "            size: int,\n",
    "            db_filename: str = None,\n",
    "            batch_size: int = None,\n",
    "    ):\n",
    "        if db_filename is None:\n",
    "            db_filename = self.db_filename\n",
    "        batch_size = self.qml_batch_size if batch_size is None else batch_size\n",
    "\n",
    "        num_data = 0\n",
    "        \n",
    "        while True:\n",
    "            print(\"num_data:\", num_data)\n",
    "\n",
    "            # step 0. generate qml database with target func\n",
    "            # step 1. prepare mqc\n",
    "            qml_dataset, model = self.initialize_qml_and_model()\n",
    "\n",
    "            for _ in range(self.max_repeat_for_target):\n",
    "                print(f\"round:{num_data:>4d}\", end=\"\\t\")\n",
    "                # step 2. calc wavelet seriese\n",
    "                wave_evaluator = xeval.WaveletEvaluator(self.wavelet_class(), qml_dataset, model, wavelet_dim=self.wavelet_dim)\n",
    "                wave_result = wave_evaluator()\n",
    "\n",
    "                model.fix_trainable_units()\n",
    "\n",
    "                loss_results = []\n",
    "                candidate_units = []\n",
    "                candidate_models = []\n",
    "                for _ in tqdm(range(self.num_candidates)):\n",
    "                    # step 3. append candidate units\n",
    "                    candidate_unit = self.uman.generate_random_unit()\n",
    "                    candidate_units.append(candidate_unit)\n",
    "                    candidate_model = Model(model.nq, 1, model.input_units, model.fixed_units, candidate_unit)\n",
    "                    candidate_models.append(candidate_model)\n",
    "\n",
    "                    # step 4. train candidates\n",
    "                    train_optimizer = xoptim.LocalSearchOptimizer(qml_dataset)\n",
    "                    train_result = train_optimizer.optimize(\n",
    "                        candidate_model,\n",
    "                        self.qml_max_iter,\n",
    "                        batch_size=batch_size,\n",
    "                        verbose=False\n",
    "                    )\n",
    "\n",
    "                    # step 5. calc loss after training\n",
    "                    loss_evaluator = xeval.MSEEvaluator(qml_dataset, candidate_model)\n",
    "                    loss_result = loss_evaluator(train_result.first.x, candidate_model)\n",
    "                    loss_results.append(loss_result)\n",
    "\n",
    "                # step 6. store as db\n",
    "                data = dict(\n",
    "                    wseries=wave_result.powers.tolist(),\n",
    "                    units=[candidate_unit.to_dict() for candidate_unit  in candidate_units],\n",
    "                    losses=[float(loss_result.loss) for loss_result in loss_results],\n",
    "                )\n",
    "                print(\"[info] saving data into:\", db_filename)\n",
    "                with open(db_filename, mode=\"a\") as f:\n",
    "                    print(json.dumps(data), file=f)\n",
    "                num_data += 1\n",
    "\n",
    "                # check generated data size\n",
    "                if num_data >= size:\n",
    "                    return db_filename\n",
    "\n",
    "                # if trained model reaches near-optimal --> create new problem set\n",
    "                if np.min(data[\"losses\"]) <= 1e-3:\n",
    "                    break\n",
    "                \n",
    "                # update current model\n",
    "                best_candidate_no = np.argmin(data[\"losses\"])\n",
    "                model = candidate_models[best_candidate_no]\n",
    "\n",
    "            \n",
    "\n",
    "ddgen = DPODatasetGenerator(\n",
    "    num_qubits, num_gates, dim_order,\n",
    "    max_repeat_for_target = 3,\n",
    "    # step 0\n",
    "    qml_db_size = 50,\n",
    "    db_filename = \"dpo_databsae.txt\",\n",
    "    # step 1\n",
    "    # step 2\n",
    "    wavelet_class = None,\n",
    "    wavelet_dim = 8,\n",
    "    # step 3\n",
    "    num_candidates = 5,\n",
    "    # step 4\n",
    "    qml_max_iter = 50,\n",
    "    qml_batch_size=20\n",
    ")\n",
    "# ddgen = DPODatasetGenerator(num_qubits, num_gates, dim_order, qml_batch_size=10, qml_max_iter=50)\n",
    "ddgen.generate(500)\n"
   ]
  },
  {
   "cell_type": "code",
   "execution_count": null,
   "metadata": {},
   "outputs": [],
   "source": []
  }
 ],
 "metadata": {
  "kernelspec": {
   "display_name": "lb-qml",
   "language": "python",
   "name": "python3"
  },
  "language_info": {
   "codemirror_mode": {
    "name": "ipython",
    "version": 3
   },
   "file_extension": ".py",
   "mimetype": "text/x-python",
   "name": "python",
   "nbconvert_exporter": "python",
   "pygments_lexer": "ipython3",
   "version": "3.12.9"
  }
 },
 "nbformat": 4,
 "nbformat_minor": 2
}
