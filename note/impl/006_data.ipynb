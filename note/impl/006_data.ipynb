{
 "cells": [
  {
   "cell_type": "code",
   "execution_count": 1,
   "metadata": {},
   "outputs": [],
   "source": [
    "%load_ext autoreload\n",
    "%autoreload 2\n"
   ]
  },
  {
   "cell_type": "code",
   "execution_count": 2,
   "metadata": {},
   "outputs": [],
   "source": [
    "import os\n",
    "os.chdir(\"../..\")\n"
   ]
  },
  {
   "cell_type": "code",
   "execution_count": 8,
   "metadata": {},
   "outputs": [],
   "source": [
    "import numpy as np\n",
    "import matplotlib.pyplot as plt\n",
    "\n",
    "from numpy.typing import NDArray\n",
    "from typing import Callable\n"
   ]
  },
  {
   "cell_type": "code",
   "execution_count": 6,
   "metadata": {},
   "outputs": [],
   "source": [
    "from qml.tools.random import XRandomGenerator\n",
    "from qml.tools.typing import Vector\n"
   ]
  },
  {
   "cell_type": "code",
   "execution_count": 14,
   "metadata": {},
   "outputs": [],
   "source": [
    "nq = 2\n",
    "ng = 3\n",
    "nx = 1\n",
    "ny = 1\n",
    "\n",
    "# dataset\n",
    "train_db_size = 10\n",
    "validate_db_size = 10\n",
    "# loader\n",
    "batch_size = 4\n"
   ]
  },
  {
   "cell_type": "code",
   "execution_count": 20,
   "metadata": {},
   "outputs": [],
   "source": [
    "class Dataset:\n",
    "\n",
    "    def __init__(self, xs: list[Vector] | NDArray, ys: list[Vector] | NDArray):\n",
    "        self._xs: NDArray = np.asarray(xs)\n",
    "        self._ys: NDArray = np.asarray(ys)\n",
    "    \n",
    "    def __len__(self):\n",
    "        return len(self._xs)\n",
    "    \n",
    "    @property\n",
    "    def size(self) -> int:\n",
    "        return len(self)\n",
    "    \n",
    "    @property\n",
    "    def xs(self) -> NDArray:\n",
    "        return self._xs.copy()\n",
    "    \n",
    "    @property\n",
    "    def ys(self) -> NDArray:\n",
    "        return self._ys.copy()\n",
    "    \n",
    "    @property\n",
    "    def data(self) -> tuple[NDArray, NDArray]:\n",
    "        return self.xs, self.ys\n",
    "\n",
    "def generate_dataset(num_data: int, func: Callable, seed: int = None) -> Dataset:\n",
    "    rng = XRandomGenerator(seed)\n",
    "    \n",
    "    xs = rng.uniform(-1, 1, num_data)\n",
    "    ys = func(xs)\n",
    "    return Dataset(xs, ys)\n"
   ]
  },
  {
   "cell_type": "code",
   "execution_count": 25,
   "metadata": {},
   "outputs": [],
   "source": [
    "class DLIter:\n",
    "\n",
    "    def __init__(self, xs: NDArray, ys: NDArray, indices: NDArray):\n",
    "        self._xs = xs\n",
    "        self._ys = ys\n",
    "        self._indices = indices\n",
    "        self._iter_counter = 0\n",
    "    \n",
    "    def __next__(self):\n",
    "        if self._iter_counter >= len(self._indices):\n",
    "            raise StopIteration()\n",
    "        idx = self._indices[self._iter_counter]\n",
    "        bxs = self._xs[idx]\n",
    "        bys = self._ys[idx]\n",
    "        self._iter_counter += 1\n",
    "        return bxs, bys\n",
    "    \n",
    "    def __len__(self):\n",
    "        return len(self._indices)\n",
    "\n",
    "\n",
    "class DataLoader:\n",
    "\n",
    "    def __init__(self, xs: NDArray, ys: NDArray, batch_size: int, shuffle: bool = True, seed: int = None):\n",
    "        assert len(xs) == len(ys)\n",
    "        assert batch_size > 0\n",
    "        self._xs = xs\n",
    "        self._ys = ys\n",
    "        self.size = len(xs)\n",
    "        self._batch_size = batch_size\n",
    "        self._shuffle = shuffle\n",
    "        self.rng = XRandomGenerator(seed)\n",
    "    \n",
    "    def __iter__(self):\n",
    "        idx = np.arange(self.size)\n",
    "        if self._shuffle:\n",
    "            idx = self.rng.permutation(idx)\n",
    "        idx = [\n",
    "            idx[i * self._batch_size:(i + 1) * self._batch_size]\n",
    "            for i in range(int(np.ceil(self.size / self._batch_size)))\n",
    "        ]\n",
    "        return DLIter(self._xs, self._ys, idx)\n",
    "    \n",
    "    @classmethod\n",
    "    def from_dataset(cls, dataset: Dataset, batch_size:int, shuffle: bool = False) -> \"DataLoader\":\n",
    "        return cls(\n",
    "            dataset.xs, dataset.ys,\n",
    "            batch_size, shuffle=shuffle\n",
    "        )\n"
   ]
  },
  {
   "cell_type": "code",
   "execution_count": 26,
   "metadata": {},
   "outputs": [
    {
     "data": {
      "text/plain": [
       "array([ 0.9603206 ,  0.56766996, -0.08822895,  0.89218968,  0.99447596,\n",
       "       -0.31054606,  0.22458331, -0.02883838, -0.13680131, -0.64172513])"
      ]
     },
     "execution_count": 26,
     "metadata": {},
     "output_type": "execute_result"
    }
   ],
   "source": [
    "func = lambda x: np.sin(2 * x)\n",
    "dataset = generate_dataset(train_db_size, func)\n",
    "dataset.xs\n"
   ]
  },
  {
   "cell_type": "code",
   "execution_count": 27,
   "metadata": {},
   "outputs": [],
   "source": [
    "dataloader = DataLoader.from_dataset(dataset, batch_size)\n"
   ]
  },
  {
   "cell_type": "code",
   "execution_count": 28,
   "metadata": {},
   "outputs": [
    {
     "name": "stdout",
     "output_type": "stream",
     "text": [
      "(array([ 0.9603206 ,  0.56766996, -0.08822895,  0.89218968]), array([ 0.93942589,  0.90667761, -0.17554359,  0.97727772]))\n",
      "(array([ 0.99447596, -0.31054606,  0.22458331, -0.02883838]), array([ 0.91383946, -0.58192367,  0.43421496, -0.05764478]))\n",
      "(array([-0.13680131, -0.64172513]), array([-0.27020181, -0.9589994 ]))\n"
     ]
    }
   ],
   "source": [
    "for batch in dataloader:\n",
    "    print(batch)\n"
   ]
  },
  {
   "cell_type": "code",
   "execution_count": null,
   "metadata": {},
   "outputs": [],
   "source": []
  }
 ],
 "metadata": {
  "kernelspec": {
   "display_name": "lb-qml",
   "language": "python",
   "name": "python3"
  },
  "language_info": {
   "codemirror_mode": {
    "name": "ipython",
    "version": 3
   },
   "file_extension": ".py",
   "mimetype": "text/x-python",
   "name": "python",
   "nbconvert_exporter": "python",
   "pygments_lexer": "ipython3",
   "version": "3.12.7"
  }
 },
 "nbformat": 4,
 "nbformat_minor": 2
}
