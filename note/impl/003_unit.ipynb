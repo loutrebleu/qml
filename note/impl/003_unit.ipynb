{
 "cells": [
  {
   "cell_type": "code",
   "execution_count": 1,
   "metadata": {},
   "outputs": [],
   "source": [
    "%load_ext autoreload\n",
    "%autoreload 2\n"
   ]
  },
  {
   "cell_type": "code",
   "execution_count": 2,
   "metadata": {},
   "outputs": [],
   "source": [
    "import os\n",
    "os.chdir(\"../..\")\n"
   ]
  },
  {
   "cell_type": "code",
   "execution_count": 3,
   "metadata": {},
   "outputs": [],
   "source": [
    "import numpy as np\n",
    "import json\n",
    "\n",
    "from enum import Enum\n",
    "\n",
    "from typing import Callable\n",
    "from numpy.typing import NDArray\n",
    "\n",
    "from qiskit import QuantumCircuit\n",
    "from qiskit.circuit.gate import Gate as QkGate\n",
    "from qiskit.circuit import Parameter, Instruction\n"
   ]
  },
  {
   "cell_type": "code",
   "execution_count": 4,
   "metadata": {},
   "outputs": [],
   "source": [
    "from qml.model.gate import Gateset, Gate, GateInfo\n",
    "from qml.tools.random import XRandomGenerator\n",
    "from qml.tools.typing import Vector, IntVector\n"
   ]
  },
  {
   "cell_type": "code",
   "execution_count": 42,
   "metadata": {},
   "outputs": [],
   "source": [
    "class Unit:\n",
    "    \n",
    "    VALUE_MAX = 2 * np.pi\n",
    "\n",
    "    def __init__(\n",
    "            self,\n",
    "            name: str,\n",
    "            gates: list[Gate],\n",
    "            params: list[Parameter],\n",
    "            values: Vector,\n",
    "    ):\n",
    "        self._name = name\n",
    "        self._gates = gates\n",
    "        self._params = params\n",
    "        self._values = self.format(values)\n",
    "\n",
    "    def feed_dict(self, values=None) -> dict[str, float]:\n",
    "        if values is None:\n",
    "            values = self.values\n",
    "        if not hasattr(values, \"__len__\"):\n",
    "            values = [values]\n",
    "        assert len(values) == len(\n",
    "            self.parameters), f\"Length of values {len(values)} must be equal to number of parameters {len(self.values)}\"\n",
    "\n",
    "        feed_dict = dict()\n",
    "        for param, value in zip(self._params, values):\n",
    "            feed_dict |= {\n",
    "                param.name: value\n",
    "            }\n",
    "        return feed_dict\n",
    "\n",
    "    def apply_to_qc(self, qc: QuantumCircuit) -> QuantumCircuit:\n",
    "        for gate in self._gates:\n",
    "            gate.apply_to_qc(qc)\n",
    "        return qc\n",
    "\n",
    "    @classmethod\n",
    "    def format(cls, values: Vector) -> NDArray:\n",
    "        values = np.asarray(values)\n",
    "        if values.ndim == 0:\n",
    "            values = values[np.newaxis]\n",
    "        return values % cls.VALUE_MAX\n",
    "\n",
    "    def apply_to_qc(self, qc: QuantumCircuit) -> QuantumCircuit:\n",
    "        for gate in self._gates:\n",
    "            gate.apply_to_qc(qc)\n",
    "        return qc\n",
    "\n",
    "    @property\n",
    "    def values(self):\n",
    "        return self._values.copy()\n",
    "\n",
    "    @values.setter\n",
    "    def values(self, values):\n",
    "        assert len(values) == len(\n",
    "            self.values), f\"Length of values {len(values)} must be equal to number of parameters {len(self.values)}\"\n",
    "        values = np.asarray(values)\n",
    "        values = values % self.VALUE_MAX\n",
    "        self._values = values\n",
    "\n",
    "    @property\n",
    "    def parameters(self):\n",
    "        return self.values\n",
    "\n",
    "    @parameters.setter\n",
    "    def parameters(self, values):\n",
    "        self.values = values\n",
    "\n",
    "    @property\n",
    "    def gates(self):\n",
    "        return [gate for gate in self._gates]\n",
    "\n",
    "    @property\n",
    "    def parameter_instances(self):\n",
    "        return self._params\n",
    "\n",
    "    @property\n",
    "    def num_param(self):\n",
    "        return len(self._params)\n",
    "    \n",
    "    def to_string(self):\n",
    "        ret = self._name + \"|\"\n",
    "        ret += \",\".join([g.gate.name for g in self.gates])\n",
    "        ret += \"/\"\n",
    "        ret += \",\".join([str(g.qubit) for g in self.gates])\n",
    "        ret += \"/\"\n",
    "        ret += \",\".join([f\"{p:5.3f}\" for p in self.parameters])\n",
    "        return ret\n",
    "    \n",
    "    def to_json(self):\n",
    "        data = dict(\n",
    "            name=self._name,\n",
    "            gates=[g.gate.name for g in self.gates],\n",
    "            qubits=[int(g.qubit) for g in self.gates],\n",
    "            params=[np.floor(p).item() for p in self.parameters]\n",
    "        )\n",
    "        str_data = json.dumps(data)\n",
    "        return str_data\n",
    "\n"
   ]
  },
  {
   "cell_type": "code",
   "execution_count": 43,
   "metadata": {},
   "outputs": [
    {
     "data": {
      "text/plain": [
       "'{\"name\": \"dev\", \"gates\": [\"rx\"], \"qubits\": [0], \"params\": [0.0]}'"
      ]
     },
     "execution_count": 43,
     "metadata": {},
     "output_type": "execute_result"
    }
   ],
   "source": [
    "gset = Gateset.set_num_qubits(2)\n",
    "infos = [gset.RX]\n",
    "params = [Parameter(\"dev\")]\n",
    "values = np.zeros_like(params)\n",
    "gates = [Gate.new_with_info(info, 0, param) for info, param in zip(infos, params)]\n",
    "\n",
    "unit = Unit(\"dev\", gates, params, values)\n",
    "unit.to_json()\n"
   ]
  },
  {
   "cell_type": "code",
   "execution_count": null,
   "metadata": {},
   "outputs": [],
   "source": []
  },
  {
   "cell_type": "code",
   "execution_count": 47,
   "metadata": {},
   "outputs": [
    {
     "name": "stdout",
     "output_type": "stream",
     "text": [
      "{\"name\": \"unit_0\", \"gates\": [\"ry\", \"rz\", \"rx\"], \"qubits\": [0, 1, 2], \"params\": [0.0, 0.0, 0.0]}\n",
      "{\"name\": \"unit_0\", \"gates\": [\"ry\", \"rz\", \"rx\"], \"qubits\": [0, 1, 2], \"params\": [0.0, 0.0, 0.0]}\n"
     ]
    }
   ],
   "source": [
    "class UnitManager:\n",
    "\n",
    "    def __init__(\n",
    "            self,\n",
    "            num_qubits: int,\n",
    "            num_gates: int,\n",
    "            seed: int = None,\n",
    "    ):\n",
    "        self._rng = XRandomGenerator(seed=seed)\n",
    "        self._nq = num_qubits\n",
    "        self._ng = num_gates\n",
    "\n",
    "        self.gset = Gateset.set_num_qubits(num_qubits)\n",
    "\n",
    "        self.num_generated = 0\n",
    "    \n",
    "    def generate_random_unit(\n",
    "            self,\n",
    "            num_gate: int = None,\n",
    "            gateset: dict[str, GateInfo] = None,\n",
    "            name: str = None,\n",
    "            random_values: bool = False,\n",
    "    ) -> Unit:\n",
    "        if gateset is None:\n",
    "            gateset = Gateset.set_num_qubits(self._nq, seed=self._rng.new_seed())\n",
    "        ng = num_gate if num_gate is not None else self._ng\n",
    "        \n",
    "        # select gate at random\n",
    "        infos = [gateset.get_at_random() for _ in range(ng)]\n",
    "        qubits = self._rng.integers(0, self._nq, size=ng)\n",
    "        return self.new_with_info_and_qubits(infos, qubits, name=name, random_values=random_values)\n",
    "\n",
    "    def new_with_info_and_qubits(self, infos: list[GateInfo], qubits: IntVector, name: str = None, random_values: bool = False, use_name_direct: bool = False) -> Unit:\n",
    "        if name is None:\n",
    "            name = \"unit\"\n",
    "        if not use_name_direct:\n",
    "            name = name + f\"_{self.num_generated}\"\n",
    "\n",
    "        gates = []\n",
    "        params = []\n",
    "\n",
    "        for info, qubit in zip(infos, qubits):\n",
    "            if not info.trainable:\n",
    "                gates.append(Gate.new_with_info(info, qubit))\n",
    "                continue\n",
    "\n",
    "            pname = f\"param_{len(params)}\"\n",
    "            pname = \"_\".join([name, pname])\n",
    "            param = Parameter(pname)\n",
    "            params.append(param)\n",
    "            gates.append(Gate.new_with_info(info, qubit, param))\n",
    "\n",
    "        values = np.zeros_like(params) if not random_values else self._rng.uniform(low=0, high=self.VALUE_MAX, size=len(params))\n",
    "        self.num_generated += 1\n",
    "\n",
    "        return Unit(name, gates, params, values)\n",
    "\n",
    "    def from_string(self, genome: str):\n",
    "        uname, strunit_vals = genome.split(\"|\")\n",
    "        gnames, qubits, params = [\n",
    "            strunit_part.split(\",\")\n",
    "            for strunit_part in strunit_vals.split(\"/\")\n",
    "        ]\n",
    "        infos = [self.gset.get(gname) for gname in gnames]\n",
    "        qubits = [int(qubit) for qubit in qubits]\n",
    "        params = np.asarray([float(param) for param in params])\n",
    "\n",
    "        unit = self.new_with_info_and_qubits(infos, qubits, uname, use_name_direct=True)\n",
    "        unit.parameters = params\n",
    "        return unit\n",
    "    \n",
    "    def from_json(self, genome: str):\n",
    "        data = json.loads(genome)\n",
    "        infos = [self.gset.get(gname) for gname in data[\"gates\"]]\n",
    "        qubits = [int(qubit) for qubit in data[\"qubits\"]]\n",
    "        params = np.asarray([float(param) for param in data[\"params\"]])\n",
    "        unit = self.new_with_info_and_qubits(infos, qubits, data[\"name\"], use_name_direct=True)\n",
    "        unit.parameters = params\n",
    "        return unit\n",
    "\n",
    "\n",
    "uman = UnitManager(3, 3)\n",
    "unit = uman.generate_random_unit()\n",
    "strunit = unit.to_json()\n",
    "print(strunit)\n",
    "strunit_rev = uman.from_json(strunit)\n",
    "print(strunit_rev.to_json())\n"
   ]
  },
  {
   "cell_type": "code",
   "execution_count": null,
   "metadata": {},
   "outputs": [],
   "source": []
  },
  {
   "cell_type": "code",
   "execution_count": 37,
   "metadata": {},
   "outputs": [
    {
     "data": {
      "image/png": "[encoded data removed]",
      "text/plain": [
       "<Figure size 454.719x367.889 with 1 Axes>"
      ]
     },
     "execution_count": 37,
     "metadata": {},
     "output_type": "execute_result"
    }
   ],
   "source": [
    "qc = QuantumCircuit(3, 1)\n",
    "qc = unit.apply_to_qc(qc)\n",
    "qc.draw(\"mpl\")\n"
   ]
  },
  {
   "cell_type": "code",
   "execution_count": null,
   "metadata": {},
   "outputs": [],
   "source": []
  }
 ],
 "metadata": {
  "kernelspec": {
   "display_name": "lb-qml",
   "language": "python",
   "name": "python3"
  },
  "language_info": {
   "codemirror_mode": {
    "name": "ipython",
    "version": 3
   },
   "file_extension": ".py",
   "mimetype": "text/x-python",
   "name": "python",
   "nbconvert_exporter": "python",
   "pygments_lexer": "ipython3",
   "version": "3.12.7"
  }
 },
 "nbformat": 4,
 "nbformat_minor": 2
}
