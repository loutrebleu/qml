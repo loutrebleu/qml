{
 "cells": [
  {
   "cell_type": "code",
   "execution_count": 1,
   "metadata": {},
   "outputs": [],
   "source": [
    "%load_ext autoreload\n",
    "%autoreload 2\n"
   ]
  },
  {
   "cell_type": "code",
   "execution_count": 2,
   "metadata": {},
   "outputs": [],
   "source": [
    "import os\n",
    "os.chdir(\"../..\")\n"
   ]
  },
  {
   "cell_type": "code",
   "execution_count": 189,
   "metadata": {},
   "outputs": [],
   "source": [
    "import numpy as np\n",
    "import json\n",
    "import matplotlib.pyplot as plt\n",
    "\n",
    "from collections import namedtuple\n",
    "from typing import Callable\n"
   ]
  },
  {
   "cell_type": "code",
   "execution_count": 212,
   "metadata": {},
   "outputs": [],
   "source": [
    "from qml.model.gate import Gateset\n",
    "from qml.model.unit import UnitManager, Unit\n",
    "from qml.model.model import Model\n",
    "from qml.model.encoding import EncodingUnitManager\n",
    "from qml.optimizer import evaluator as xeval\n",
    "from qml import optimizer as xoptim\n",
    "from qml.tools.dataset import Dataset\n",
    "from qml.tools.random import XRandomGenerator\n",
    "from qml.tools.typing import Vector\n"
   ]
  },
  {
   "cell_type": "code",
   "execution_count": 126,
   "metadata": {},
   "outputs": [],
   "source": [
    "# circuit params\n",
    "num_qubits = nq = 2\n",
    "num_gates = ng = 3\n",
    "dim_wavelet = dw = 4\n",
    "dim_input = 1\n",
    "dim_output = 1\n",
    "\n",
    "# training params\n",
    "batch_size = 4\n",
    "lr = 1e-3\n",
    "beta = 0.5\n",
    "\n",
    "# QCG training db\n",
    "ml_db_size = 10\n",
    "dim_freq = 4\n",
    "num_iter = 100\n",
    "wavelet = xeval.Haar()\n",
    "num_candidates = 5\n"
   ]
  },
  {
   "cell_type": "code",
   "execution_count": 49,
   "metadata": {},
   "outputs": [],
   "source": [
    "def generate_random_target_func(dim_frequency):\n",
    "    df = dim_frequency\n",
    "    flags_select = np.random.choice([0, 1], size=[2, df], replace=True)\n",
    "    coefficients = np.random.normal(0., 1., size=[2, df])\n",
    "\n",
    "    def base_func(x):\n",
    "        fxs = [f * x for f in range(1, df+1)]\n",
    "        waves = np.vstack([np.sin(fxs), np.cos(fxs)]) * coefficients * flags_select\n",
    "        return waves.sum()\n",
    "\n",
    "    xs = np.linspace(-1, 1, 500)\n",
    "    ys = np.asarray([base_func(x) for x in xs])\n",
    "\n",
    "    ymax = ys.max()\n",
    "    ymin = ys.min()\n",
    "    def func(x):\n",
    "        base_y = base_func(x)\n",
    "        y = (base_y - ymin) / (ymax - ymin) * 2 - 1\n",
    "        return y\n",
    "    \n",
    "    return func\n"
   ]
  },
  {
   "cell_type": "code",
   "execution_count": 105,
   "metadata": {},
   "outputs": [],
   "source": [
    "def generate_random_dataset(size, dim_frequency):\n",
    "    func = generate_random_target_func(dim_frequency)\n",
    "    xs = np.linspace(-1, 1, size)\n",
    "    ys = np.asarray([func(x) for x in xs])\n",
    "    dataset = Dataset(xs, ys)\n",
    "    return dataset\n"
   ]
  },
  {
   "cell_type": "code",
   "execution_count": 107,
   "metadata": {},
   "outputs": [
    {
     "data": {
      "text/plain": [
       "<matplotlib.collections.PathCollection at 0x11d212ae0>"
      ]
     },
     "execution_count": 107,
     "metadata": {},
     "output_type": "execute_result"
    },
    {
     "data": {
      "image/png": "[encoded data removed]",
      "text/plain": [
       "<Figure size 640x480 with 1 Axes>"
      ]
     },
     "metadata": {},
     "output_type": "display_data"
    }
   ],
   "source": [
    "dataset = generate_random_dataset(20, 4)\n",
    "plt.scatter(x=dataset.xs, y=dataset.ys)\n"
   ]
  },
  {
   "cell_type": "code",
   "execution_count": null,
   "metadata": {},
   "outputs": [],
   "source": [
    "eval_avons = xeval.MSEEvaluator(dataset, orig_model, ml_db_size)\n"
   ]
  },
  {
   "cell_type": "code",
   "execution_count": 116,
   "metadata": {},
   "outputs": [],
   "source": [
    "def generate_encoding_circuit(num_qubits):\n",
    "    eunit = EncodingUnitManager.AngleEncoding(1, num_qubits, repeat=True)\n",
    "    model = Model(num_qubits, 1, eunit, [], [])\n",
    "    return model\n"
   ]
  },
  {
   "cell_type": "code",
   "execution_count": 125,
   "metadata": {},
   "outputs": [],
   "source": [
    "def generate_new_circuit(num_qubits, num_gates, num_circuit=1):\n",
    "    eunit = EncodingUnitManager.AngleEncoding(1, num_qubits, repeat=True)\n",
    "    uman = UnitManager(num_qubits, num_gates)\n",
    "    tunits = [uman.generate_random_unit() for _ in range(num_circuit)]\n",
    "    models = [\n",
    "        Model(num_qubits, 1, eunit, [], tunit)\n",
    "        for tunit in tunits\n",
    "    ]\n",
    "    return models\n"
   ]
  },
  {
   "cell_type": "code",
   "execution_count": 136,
   "metadata": {},
   "outputs": [],
   "source": [
    "def add_random_circuits(model, num_gates, num_circuits=1):\n",
    "    uman = UnitManager(model.nq, num_gates)\n",
    "    tunits = [uman.generate_random_unit() for _ in range(num_circuits)]\n",
    "    model.fix_trainable_units()\n",
    "    new_models = [\n",
    "        Model(model.nq, 1, model.input_units, model.fixed_units, tunit)\n",
    "        for tunit in tunits\n",
    "    ]\n",
    "    return new_models\n"
   ]
  },
  {
   "cell_type": "code",
   "execution_count": 167,
   "metadata": {},
   "outputs": [],
   "source": [
    "def evaluate_candidate(model, dataset, evaluator_class, optimizer_class, num_iter=100, verbose=False):\n",
    "    evaluator = evaluator_class(dataset, model)\n",
    "    optimizer = optimizer_class(dataset)\n",
    "    log = optimizer.optimize(model, num_iter, batch_size=dataset.size, verbose=verbose)\n",
    "    result = evaluator(log.first.x)\n",
    "    return float(result.loss)\n"
   ]
  },
  {
   "cell_type": "code",
   "execution_count": 177,
   "metadata": {},
   "outputs": [],
   "source": [
    "def make_db_json(pwseriese, units, losses):\n",
    "    if isinstance(pwseriese, np.ndarray):\n",
    "        pwseriese = pwseriese.tolist()\n",
    "    if isinstance(units[0], Unit):\n",
    "        units = [unit.to_dict() for unit in units]\n",
    "    if isinstance(losses, np.ndarray):\n",
    "        losses = losses.tolist()\n",
    "    data = dict(\n",
    "        pwseries=pwseriese,\n",
    "        units=units,\n",
    "        losses=losses,\n",
    "    )\n",
    "    djson = json.dumps(data)\n",
    "    return djson\n"
   ]
  },
  {
   "cell_type": "code",
   "execution_count": 168,
   "metadata": {},
   "outputs": [
    {
     "data": {
      "text/plain": [
       "array([-0.35186885, -0.22131685, -0.054984  , -0.21260244,  0.11221558,\n",
       "        0.05768361, -0.30534191, -0.16369781,  0.02673038,  0.02909436,\n",
       "        0.07377769,  0.03359864, -0.05939802, -0.13597831, -0.10046404])"
      ]
     },
     "execution_count": 168,
     "metadata": {},
     "output_type": "execute_result"
    }
   ],
   "source": [
    "# prepare MQC\n",
    "dataset = generate_random_dataset(ml_db_size, dim_freq)\n",
    "original_model = generate_encoding_circuit(num_qubits)\n",
    "original_eval = xeval.WaveletEvaluator(wavelet, dataset, original_model, wavelet_dim=dim_wavelet)\n",
    "original_eres = eval_avons()\n",
    "original_eres.powers\n"
   ]
  },
  {
   "cell_type": "code",
   "execution_count": 170,
   "metadata": {},
   "outputs": [
    {
     "data": {
      "text/plain": [
       "[0.6885289143350157,\n",
       " 0.7195829980530137,\n",
       " 0.6781153076766089,\n",
       " 0.6717135504184827,\n",
       " 0.6005575038471156]"
      ]
     },
     "execution_count": 170,
     "metadata": {},
     "output_type": "execute_result"
    }
   ],
   "source": [
    "# add candidates\n",
    "candidate_models = add_random_circuits(original_model, num_gates, num_candidates)\n",
    "losses = [\n",
    "    evaluate_candidate(candidate_model, dataset, xeval.MSEEvaluator, xoptim.LocalSearchOptimizer, num_iter=10)\n",
    "    for candidate_model in candidate_models\n",
    "]\n",
    "losses\n"
   ]
  },
  {
   "cell_type": "code",
   "execution_count": 171,
   "metadata": {},
   "outputs": [],
   "source": [
    "candidate_units = [\n",
    "    candidate_model.trainable_units[0]\n",
    "    for candidate_model in candidate_models\n",
    "]\n"
   ]
  },
  {
   "cell_type": "code",
   "execution_count": 178,
   "metadata": {},
   "outputs": [],
   "source": [
    "# build db\n",
    "db = make_db_json(original_eres.powers, candidate_units, losses)\n"
   ]
  },
  {
   "cell_type": "code",
   "execution_count": 179,
   "metadata": {},
   "outputs": [
    {
     "data": {
      "text/plain": [
       "'{\"pwseries\": [-0.35186885366578025, -0.22131685465470446, -0.05498399572141142, -0.21260243748994084, 0.11221557754544362, 0.0576836121657223, -0.3053419143395725, -0.16369781420838053, 0.026730377924908556, 0.02909436379634873, 0.07377768615669011, 0.03359864134201081, -0.05939802218927759, -0.1359783073211819, -0.10046403958834586], \"units\": [{\"name\": \"unit_0\", \"gates\": [\"ry\", \"cz\", \"rz\"], \"qubits\": [1, 0, 1], \"params\": [0.0, 0.0]}, {\"name\": \"unit_1\", \"gates\": [\"cz\", \"rz\", \"rx\"], \"qubits\": [0, 1, 0], \"params\": [0.0, 0.0]}, {\"name\": \"unit_2\", \"gates\": [\"rx\", \"cz\", \"cz\"], \"qubits\": [1, 0, 0], \"params\": [0.0]}, {\"name\": \"unit_3\", \"gates\": [\"cz\", \"cz\", \"ry\"], \"qubits\": [1, 1, 0], \"params\": [0.0]}, {\"name\": \"unit_4\", \"gates\": [\"cz\", \"rz\", \"ry\"], \"qubits\": [0, 1, 0], \"params\": [0.0, 0.0]}], \"losses\": [0.6885289143350157, 0.7195829980530137, 0.6781153076766089, 0.6717135504184827, 0.6005575038471156]}'"
      ]
     },
     "execution_count": 179,
     "metadata": {},
     "output_type": "execute_result"
    }
   ],
   "source": [
    "db\n"
   ]
  },
  {
   "cell_type": "markdown",
   "metadata": {},
   "source": [
    "## Build class OCGTrainingData"
   ]
  },
  {
   "cell_type": "code",
   "execution_count": 193,
   "metadata": {},
   "outputs": [],
   "source": [
    "class TrigonometricTargetFuncGenerator:\n",
    "\n",
    "    def __init__(self, dim_freq: int, seed: int = None):\n",
    "        self.rng = XRandomGenerator(seed)\n",
    "        self.df = dim_freq\n",
    "    \n",
    "    def generate(self):\n",
    "        df = self.df\n",
    "        flags_select = self.rng.choice([0, 1], size=[2, df], replace=True)\n",
    "        coefficients = self.rng.normal(0., 1., size=[2, df])\n",
    "\n",
    "        def base_func(x):\n",
    "            fxs = [f * x for f in range(1, df+1)]\n",
    "            waves = np.vstack([np.sin(fxs), np.cos(fxs)]) * coefficients * flags_select\n",
    "            return waves.sum()\n",
    "\n",
    "        xs = np.linspace(-1, 1, 500)\n",
    "        ys = np.asarray([base_func(x) for x in xs])\n",
    "\n",
    "        ymax = ys.max()\n",
    "        ymin = ys.min()\n",
    "        def func(x):\n",
    "            base_y = base_func(x)\n",
    "            y = (base_y - ymin) / (ymax - ymin) * 2 - 1\n",
    "            return y\n",
    "        \n",
    "        return func\n"
   ]
  },
  {
   "cell_type": "code",
   "execution_count": 194,
   "metadata": {},
   "outputs": [
    {
     "data": {
      "text/plain": [
       "<matplotlib.collections.PathCollection at 0x11f83ebd0>"
      ]
     },
     "execution_count": 194,
     "metadata": {},
     "output_type": "execute_result"
    },
    {
     "data": {
      "image/png": "[encoded data removed]",
      "text/plain": [
       "<Figure size 640x480 with 1 Axes>"
      ]
     },
     "metadata": {},
     "output_type": "display_data"
    }
   ],
   "source": [
    "fgen = TrigonometricTargetFuncGenerator(dim_freq)\n",
    "func = fgen.generate()\n",
    "xs = np.linspace(-1, 1, 100)\n",
    "ys = np.asarray([func(x) for x in xs])\n",
    "plt.scatter(xs, ys)\n"
   ]
  },
  {
   "cell_type": "code",
   "execution_count": 195,
   "metadata": {},
   "outputs": [],
   "source": [
    "class MLDataGenerator:\n",
    "\n",
    "    def __init__(self, function_generator: Callable, seed: int = None):\n",
    "        self.rng = XRandomGenerator(seed)\n",
    "        self.fgen = function_generator\n",
    "    \n",
    "    def generate(self, size: int):\n",
    "        xs = self.rng.uniform(-1, 1, size)\n",
    "        ys = np.asarray([self.fgen(x) for x in xs])\n",
    "        return Dataset(xs, ys)\n"
   ]
  },
  {
   "cell_type": "code",
   "execution_count": null,
   "metadata": {},
   "outputs": [],
   "source": [
    "class OCGTrainingData:\n",
    "\n",
    "    def __init__(\n",
    "            self,\n",
    "            wseries: Vector,\n",
    "            uinfo,\n",
    "            losses,\n",
    "    ):\n",
    "        pass\n",
    "\n",
    "    @classmethod\n",
    "    def make(\n",
    "        cls,\n",
    "        wseries: Vector,\n",
    "        uinfo,\n",
    "        losses: Vector\n",
    "    ) -> \"OCGTrainingData\":\n",
    "        "
   ]
  },
  {
   "cell_type": "code",
   "execution_count": 264,
   "metadata": {},
   "outputs": [
    {
     "name": "stdout",
     "output_type": "stream",
     "text": [
      "<qml.model.model.Model object at 0x11f94eae0>\n",
      "<qml.model.model.Model object at 0x11fbfcb60>\n",
      "<qml.model.model.Model object at 0x11d4709b0>\n",
      "<qml.model.model.Model object at 0x11d470ad0>\n",
      "<qml.model.model.Model object at 0x11fcd29f0>\n"
     ]
    }
   ],
   "source": [
    "class OCGTrainingDataGenerator:\n",
    "\n",
    "    def __init__(self, num_qubits, num_gates, dim_freq, shots=50, seed: int = None):\n",
    "        self.rng = XRandomGenerator(seed)\n",
    "        self.nq = num_qubits\n",
    "        self.ng = num_gates\n",
    "        self.df = dim_freq\n",
    "\n",
    "        self.dim_input = 1\n",
    "        self.dim_output = 1\n",
    "        self.shots = shots\n",
    "\n",
    "        self.uman = UnitManager(num_qubits, num_gates, seed=self.rng.new_seed())\n",
    "\n",
    "    # general tools\n",
    "    def build_initial_circuit(self):\n",
    "        eunit = EncodingUnitManager.AngleEncoding(self.dim_input, self.nq, repeat=True)\n",
    "        return Model(self.nq, self.dim_output, eunit, [], [])\n",
    "    \n",
    "    def append_new_units(self, model, units, skip_fix=False):\n",
    "        if not skip_fix:\n",
    "            model.fix_trainable_units()\n",
    "        return [\n",
    "            Model(self.nq, self.dim_output, model.input_units, model.fixed_units, unit)\n",
    "            for unit in units\n",
    "        ]\n",
    "\n",
    "    # random unit data\n",
    "    def add_radnom_units(self, model, size):\n",
    "        units = [self.uman.generate_random_unit() for _ in range(size)]\n",
    "        return self.append_new_units(model, units)\n",
    "    \n",
    "    def generate_random_db(self, size: int, max_iter_elever):\n",
    "        db = []\n",
    "        \n",
    "    \n",
    "    \n",
    "\n",
    "# 1. dataset\n",
    "dataset = \n",
    "\n",
    "ogen = OCGTrainingDataGenerator(2, 3, 4)\n",
    "mqc = ogen.build_initial_circuit()\n",
    "candidates = ogen.add_radnom_units(mqc, 5)\n",
    "\n",
    "for candidate in candidates:\n",
    "    evaluator = xeval.MSEEvaluator()\n",
    "\n",
    "    "
   ]
  },
  {
   "cell_type": "markdown",
   "metadata": {},
   "source": [
    "### Procedure de faire la dataset pour OCGTraining\n",
    "\n",
    "#### parameters\n",
    "Nc: Number of candidates in single dataset\n",
    "\n",
    "#### avec Random Units\n",
    "1. Prepare MQC avec Encoding\n",
    "2. Calculate Wavelet seriese and loss -> wseries, loss_avons\n",
    "3. Append candidate units x Nc --> units: json\n",
    "4. Training candidates\n",
    "5. Calculate loss --> loss_apres\n",
    "6. Store into db --> db = db & {wseries, units, loss_apres}\n",
    "\n",
    "7. repeat step 2 - 5 until loss threashold {threashold_loss} ou max number for repeats {num_iter_elever}"
   ]
  },
  {
   "cell_type": "code",
   "execution_count": 204,
   "metadata": {},
   "outputs": [
    {
     "data": {
      "text/plain": [
       "<Axes: >"
      ]
     },
     "execution_count": 204,
     "metadata": {},
     "output_type": "execute_result"
    },
    {
     "data": {
      "image/png": "[encoded data removed]",
      "text/plain": [
       "<Figure size 640x480 with 1 Axes>"
      ]
     },
     "metadata": {},
     "output_type": "display_data"
    }
   ],
   "source": []
  },
  {
   "cell_type": "code",
   "execution_count": 203,
   "metadata": {},
   "outputs": [
    {
     "data": {
      "text/plain": [
       "<matplotlib.collections.PathCollection at 0x11f779190>"
      ]
     },
     "execution_count": 203,
     "metadata": {},
     "output_type": "execute_result"
    },
    {
     "data": {
      "image/png": "[encoded data removed]",
      "text/plain": [
       "<Figure size 640x480 with 1 Axes>"
      ]
     },
     "metadata": {},
     "output_type": "display_data"
    }
   ],
   "source": [
    "fgen = TrigonometricTargetFuncGenerator(dim_freq)\n",
    "dgen = MLDataGenerator(fgen.generate())\n",
    "dataset = dgen.generate(100)\n",
    "plt.scatter(dataset.xs, dataset.ys)\n"
   ]
  },
  {
   "cell_type": "code",
   "execution_count": null,
   "metadata": {},
   "outputs": [],
   "source": []
  }
 ],
 "metadata": {
  "kernelspec": {
   "display_name": "lb-qml",
   "language": "python",
   "name": "python3"
  },
  "language_info": {
   "codemirror_mode": {
    "name": "ipython",
    "version": 3
   },
   "file_extension": ".py",
   "mimetype": "text/x-python",
   "name": "python",
   "nbconvert_exporter": "python",
   "pygments_lexer": "ipython3",
   "version": "3.12.7"
  }
 },
 "nbformat": 4,
 "nbformat_minor": 2
}
