{
 "cells": [
  {
   "cell_type": "code",
   "execution_count": 1,
   "metadata": {},
   "outputs": [],
   "source": [
    "%load_ext autoreload\n",
    "%autoreload 2\n"
   ]
  },
  {
   "cell_type": "code",
   "execution_count": 2,
   "metadata": {},
   "outputs": [],
   "source": [
    "import os\n",
    "os.chdir(\"../..\")\n"
   ]
  },
  {
   "cell_type": "code",
   "execution_count": 3,
   "metadata": {},
   "outputs": [],
   "source": [
    "import numpy as np\n",
    "\n",
    "from numpy.typing import NDArray\n",
    "\n",
    "\n",
    "from qiskit import QuantumCircuit, transpile\n",
    "from qiskit_aer import AerSimulator\n"
   ]
  },
  {
   "cell_type": "code",
   "execution_count": 4,
   "metadata": {},
   "outputs": [],
   "source": [
    "from qml.model.gate import Gateset\n",
    "from qml.model.unit import Unit, UnitManager\n",
    "from qml.model.encoding import EncodingUnit, EncodingUnitManager\n",
    "from qml.model.model import Model\n",
    "from qml.tools.dataset import Dataset\n",
    "from qml.tools.dataloader import DataLoader\n",
    "from qml.tools.typing import Vector\n",
    "from qml.tools.random import XRandomGenerator\n",
    "\n",
    "from qml.trainer import evaluator as xeval\n"
   ]
  },
  {
   "cell_type": "code",
   "execution_count": 5,
   "metadata": {},
   "outputs": [],
   "source": [
    "nq = 2\n",
    "ng = 3\n",
    "nx = 1\n",
    "ny = 1\n",
    "\n",
    "# dataset\n",
    "train_db_size = 10\n",
    "validate_db_size = 10\n",
    "# loader\n",
    "batch_size = 4\n"
   ]
  },
  {
   "cell_type": "code",
   "execution_count": 6,
   "metadata": {},
   "outputs": [],
   "source": [
    "target_func = lambda x: np.sin(2 * x)\n",
    "rng = XRandomGenerator()\n"
   ]
  },
  {
   "cell_type": "code",
   "execution_count": 7,
   "metadata": {},
   "outputs": [],
   "source": [
    "xs = rng.uniform(-1, 1, train_db_size)\n",
    "ys = target_func(xs)\n",
    "dataset = Dataset(xs, ys)\n"
   ]
  },
  {
   "cell_type": "code",
   "execution_count": 15,
   "metadata": {},
   "outputs": [],
   "source": [
    "uman = UnitManager(nq, ng)\n",
    "model = Model(\n",
    "    nq, ny,\n",
    "    EncodingUnitManager.AngleEncoding(nx, nq, repeat=True),\n",
    "    uman.generate_random_unit(),\n",
    "    uman.generate_random_unit(),\n",
    ")\n"
   ]
  },
  {
   "cell_type": "code",
   "execution_count": 16,
   "metadata": {},
   "outputs": [
    {
     "name": "stdout",
     "output_type": "stream",
     "text": [
      "[-1.7394551  -1.06391289 -1.19525996 -0.1184993  -0.95431398  0.22985672\n",
      " -0.82506054 -0.88903373 -0.01835265 -1.44167987]\n"
     ]
    }
   ],
   "source": [
    "evl = xeval.ErrorEvaluator(dataset, model, 5)\n",
    "res = evl()\n",
    "print(res.es)\n"
   ]
  },
  {
   "cell_type": "code",
   "execution_count": 17,
   "metadata": {},
   "outputs": [
    {
     "name": "stdout",
     "output_type": "stream",
     "text": [
      "1.0228533423424069\n"
     ]
    }
   ],
   "source": [
    "evl = xeval.MSEEvaluator(dataset, model, 5)\n",
    "res = evl()\n",
    "print(res.loss)\n"
   ]
  },
  {
   "cell_type": "code",
   "execution_count": 18,
   "metadata": {},
   "outputs": [
    {
     "name": "stdout",
     "output_type": "stream",
     "text": [
      "[[ 0.08  0.  ]\n",
      " [ 0.    0.  ]\n",
      " [ 0.    0.  ]\n",
      " [-0.1  -0.04]\n",
      " [ 0.    0.  ]\n",
      " [ 0.06 -0.04]\n",
      " [ 0.02  0.  ]\n",
      " [ 0.    0.  ]\n",
      " [ 0.08 -0.04]\n",
      " [ 0.    0.04]]\n"
     ]
    }
   ],
   "source": [
    "evl = xeval.GradientEvaluator(dataset, model, 5)\n",
    "res = evl()\n",
    "print(res.grads)\n"
   ]
  },
  {
   "cell_type": "code",
   "execution_count": 19,
   "metadata": {},
   "outputs": [
    {
     "name": "stdout",
     "output_type": "stream",
     "text": [
      "[-0.54982582 -0.53603078  0.29449043  0.         -0.758062    0.38375348\n",
      "  0.4070274   0.          0.         -0.61222699  0.15239242 -0.07384708\n",
      "  0.53801112 -0.01202933  0.0616712 ]\n"
     ]
    }
   ],
   "source": [
    "evl = xeval.WaveletEvaluator(xeval.Haar(), dataset, model)\n",
    "res = evl()\n",
    "print(res.powers)\n"
   ]
  },
  {
   "cell_type": "code",
   "execution_count": null,
   "metadata": {},
   "outputs": [],
   "source": []
  }
 ],
 "metadata": {
  "kernelspec": {
   "display_name": "lb-qml",
   "language": "python",
   "name": "python3"
  },
  "language_info": {
   "codemirror_mode": {
    "name": "ipython",
    "version": 3
   },
   "file_extension": ".py",
   "mimetype": "text/x-python",
   "name": "python",
   "nbconvert_exporter": "python",
   "pygments_lexer": "ipython3",
   "version": "3.12.7"
  }
 },
 "nbformat": 4,
 "nbformat_minor": 2
}
