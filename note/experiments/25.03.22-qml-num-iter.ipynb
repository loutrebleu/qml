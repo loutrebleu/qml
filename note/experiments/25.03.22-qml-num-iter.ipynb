{
 "cells": [
  {
   "cell_type": "code",
   "execution_count": 1,
   "metadata": {},
   "outputs": [],
   "source": [
    "%load_ext autoreload\n",
    "%autoreload 2\n"
   ]
  },
  {
   "cell_type": "code",
   "execution_count": 2,
   "metadata": {},
   "outputs": [],
   "source": [
    "import os\n",
    "os.chdir(\"../..\")\n"
   ]
  },
  {
   "cell_type": "markdown",
   "metadata": {},
   "source": [
    "# Evaluate number of step for QML training\n",
    "To estimate max number of QML training step in DPO dataset generation.\n",
    "Train models for various situation, many target functions and many models (number of trainable variable = 1, 2, 3, 4) with some training algorithms, local search and stochastic gradient dicent.\n",
    "\n",
    "## Settings\n",
    "|No.|Ng|Algorithm|step|time[sec]|\n",
    "|---|:-:|:-------:|:--:|:-------:|\n",
    "|  0| 1| LS| | |\n",
    "|  0| 2| LS| | |\n",
    "|  0| 3| LS| | |\n",
    "|  0| 4| LS| | |\n",
    "|  0| 1|SGD| | |\n",
    "|  0| 2|SGD| | |\n",
    "|  0| 3|SGD| | |\n",
    "|  0| 4|SGD| | |"
   ]
  },
  {
   "cell_type": "code",
   "execution_count": 62,
   "metadata": {},
   "outputs": [],
   "source": [
    "import numpy as np\n",
    "import matplotlib.pyplot as plt\n",
    "from collections import namedtuple\n",
    "from tqdm import tqdm\n"
   ]
  },
  {
   "cell_type": "code",
   "execution_count": 8,
   "metadata": {},
   "outputs": [],
   "source": [
    "from qml.db import target as xtarget\n",
    "from qml.db.ml import MLDatasetGenerator\n",
    "from qml.model.encoding import EncodingUnitManager\n",
    "from qml.model.unit import UnitManager\n",
    "from qml.model.model import Model\n",
    "from qml.optimizer import evaluator as xeval\n",
    "from qml import optimizer as xoptim\n"
   ]
  },
  {
   "cell_type": "markdown",
   "metadata": {},
   "source": [
    "## Protocol\n",
    "\n",
    "1. Generate random target database\n",
    "1. Prepare MQC\n",
    "1. Append random unit avec 3 param\n",
    "1. train MQL\n",
    "1. log"
   ]
  },
  {
   "cell_type": "markdown",
   "metadata": {},
   "source": [
    "## Parameters"
   ]
  },
  {
   "cell_type": "code",
   "execution_count": 38,
   "metadata": {},
   "outputs": [],
   "source": [
    "# mqp\n",
    "num_qubits = nq = 2\n",
    "num_gates = ng = 3\n",
    "\n",
    "# target dataset\n",
    "db_size = 10\n",
    "target_max_order = 5\n",
    "\n",
    "# optimization\n",
    "train_step = 10\n"
   ]
  },
  {
   "cell_type": "markdown",
   "metadata": {},
   "source": [
    "### 0. generate random target database"
   ]
  },
  {
   "cell_type": "code",
   "execution_count": 34,
   "metadata": {},
   "outputs": [],
   "source": [
    "def generate_dataset(target_max_order, db_size):\n",
    "    qml_func = xtarget.PolynominalTargetFunctionGenerator(target_max_order)\n",
    "    qml_dgen = MLDatasetGenerator(qml_func)\n",
    "    qml_dataset = qml_dgen.generate(db_size)\n",
    "    return qml_dataset\n"
   ]
  },
  {
   "cell_type": "markdown",
   "metadata": {},
   "source": [
    "### 1. prepare MQC"
   ]
  },
  {
   "cell_type": "code",
   "execution_count": 25,
   "metadata": {},
   "outputs": [],
   "source": [
    "uman = UnitManager(nq, ng)\n"
   ]
  },
  {
   "cell_type": "code",
   "execution_count": 35,
   "metadata": {},
   "outputs": [],
   "source": [
    "def prepare_mqc(nq, ng):\n",
    "    eunit = EncodingUnitManager.AngleEncoding(1, nq, repeat=True)\n",
    "    while True:\n",
    "        tunit = uman.generate_random_unit()\n",
    "        if tunit.parameters.size == ng:\n",
    "            break\n",
    "    model = Model(nq, 1, eunit, [], tunit)\n",
    "    return model\n"
   ]
  },
  {
   "cell_type": "markdown",
   "metadata": {},
   "source": [
    "### 3. append\n",
    "PASS"
   ]
  },
  {
   "cell_type": "markdown",
   "metadata": {},
   "source": [
    "### 4. train MQL"
   ]
  },
  {
   "cell_type": "code",
   "execution_count": 83,
   "metadata": {},
   "outputs": [],
   "source": [
    "Result = namedtuple(\"Result\", [\"loss\", \"tts\"])\n",
    "Result2 = namedtuple(\"Result2\", [\"loss\", \"tts\", \"log\"])\n",
    "\n",
    "def train_mqc(model, dataset, train_step):\n",
    "    optimizer = xoptim.LocalSearchOptimizer(dataset)\n",
    "    result = optimizer.optimize(model, train_step, verbose=False)\n",
    "    return Result2(float(result.first.energy), int(result.result_energies.best.argmin()), result)\n"
   ]
  },
  {
   "cell_type": "markdown",
   "metadata": {},
   "source": [
    "## Build all"
   ]
  },
  {
   "cell_type": "code",
   "execution_count": 88,
   "metadata": {},
   "outputs": [],
   "source": [
    "\n",
    "def run(nq, ng, db_size, train_step, num_round):\n",
    "    log = Result2([], [], [])\n",
    "    for round in tqdm(range(num_round)):\n",
    "        dataset = generate_dataset(target_max_order, db_size)\n",
    "        model = prepare_mqc(nq, ng)\n",
    "        result = train_mqc(model, dataset, train_step)\n",
    "        log.loss.append(result.loss)\n",
    "        log.tts.append(result.tts)\n",
    "        log.log.append(result.log)\n",
    "    return log\n"
   ]
  },
  {
   "cell_type": "code",
   "execution_count": 94,
   "metadata": {},
   "outputs": [
    {
     "name": "stderr",
     "output_type": "stream",
     "text": [
      "  0%|          | 0/10 [00:00<?, ?it/s]"
     ]
    },
    {
     "name": "stderr",
     "output_type": "stream",
     "text": [
      "100%|██████████| 10/10 [19:24<00:00, 116.48s/it]\n"
     ]
    },
    {
     "data": {
      "text/plain": [
       "Result2(loss=[1.2114698434726632, 0.012470463891598223, 2.1276937095995763, 0.09202261716606146, 0.01913757381984226, 0.08523218426676754, 1.310892219987605, 0.33670796849742507, 0.02008642217143116, 0.12165762853273232], tts=[60, 113, 257, 209, 164, 177, 205, 131, 44, 227], log=[<qml.tools.logger.Logger object at 0x11d46cbf0>, <qml.tools.logger.Logger object at 0x11d793bc0>, <qml.tools.logger.Logger object at 0x11f19b200>, <qml.tools.logger.Logger object at 0x11f1374d0>, <qml.tools.logger.Logger object at 0x11f5b37a0>, <qml.tools.logger.Logger object at 0x11d3957c0>, <qml.tools.logger.Logger object at 0x11d4bdf10>, <qml.tools.logger.Logger object at 0x11d659370>, <qml.tools.logger.Logger object at 0x11dfdcce0>, <qml.tools.logger.Logger object at 0x11dfdf200>])"
      ]
     },
     "execution_count": 94,
     "metadata": {},
     "output_type": "execute_result"
    }
   ],
   "source": [
    "result_ls_3 = run(2, 3, 20, 300, 10)\n",
    "result_ls_3\n"
   ]
  },
  {
   "cell_type": "code",
   "execution_count": 99,
   "metadata": {},
   "outputs": [
    {
     "data": {
      "text/plain": [
       "(0.0, 300.0)"
      ]
     },
     "execution_count": 99,
     "metadata": {},
     "output_type": "execute_result"
    },
    {
     "data": {
      "image/png": "[encoded data removed]",
      "text/plain": [
       "<Figure size 640x480 with 1 Axes>"
      ]
     },
     "metadata": {},
     "output_type": "display_data"
    }
   ],
   "source": [
    "for result in result_ls_3.log:\n",
    "    result.result_energies.best.plot()\n",
    "plt.xlim(0, 300)\n"
   ]
  },
  {
   "cell_type": "markdown",
   "metadata": {},
   "source": [
    "## Conclusion\n",
    "\n",
    "num_train_iter = 50"
   ]
  },
  {
   "cell_type": "code",
   "execution_count": null,
   "metadata": {},
   "outputs": [],
   "source": []
  }
 ],
 "metadata": {
  "kernelspec": {
   "display_name": "lb-qml",
   "language": "python",
   "name": "python3"
  },
  "language_info": {
   "codemirror_mode": {
    "name": "ipython",
    "version": 3
   },
   "file_extension": ".py",
   "mimetype": "text/x-python",
   "name": "python",
   "nbconvert_exporter": "python",
   "pygments_lexer": "ipython3",
   "version": "3.12.7"
  }
 },
 "nbformat": 4,
 "nbformat_minor": 2
}
