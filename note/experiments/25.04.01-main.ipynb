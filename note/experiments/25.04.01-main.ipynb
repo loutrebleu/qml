{
 "cells": [
  {
   "cell_type": "code",
   "execution_count": 1,
   "metadata": {},
   "outputs": [],
   "source": [
    "%load_ext autoreload\n",
    "%autoreload 2\n"
   ]
  },
  {
   "cell_type": "code",
   "execution_count": 2,
   "metadata": {},
   "outputs": [],
   "source": [
    "import os\n",
    "os.chdir(\"../..\")\n"
   ]
  },
  {
   "cell_type": "code",
   "execution_count": 3,
   "metadata": {},
   "outputs": [],
   "source": [
    "import numpy as np\n",
    "import torch\n",
    "import torch.nn as nn\n",
    "import torch.optim as optim\n",
    "import json\n",
    "import xsim\n",
    "import pandas as pd\n",
    "import matplotlib.pyplot as plt\n",
    "from IPython.display import clear_output\n",
    "from tqdm import tqdm\n",
    "from collections import namedtuple\n"
   ]
  },
  {
   "cell_type": "code",
   "execution_count": 4,
   "metadata": {},
   "outputs": [],
   "source": [
    "from qml.db import dpo as xdpo\n",
    "from qml.db import target as xtarget\n",
    "from qml.db.ml import MLDatasetGenerator\n",
    "from qml.model.gate import Gateset\n",
    "from qml.model.unit import UnitManager, Unit\n",
    "from qml.model.encoding import EncodingUnitManager\n",
    "from qml.model.model import Model\n",
    "from qml.optimizer import dpo as xdpopt\n",
    "from qml.optimizer import evaluator as xeval\n",
    "from qml.tools.random import XRandomGenerator\n",
    "from qml.tools.sampler import CandidateSampler\n",
    "from qml import optimizer as xoptim\n",
    "from qml.tools.config import Config\n",
    "from qml.tools.validation import validate\n"
   ]
  },
  {
   "cell_type": "markdown",
   "metadata": {},
   "source": [
    "# Training w/o new gata generation\n",
    "## Steps\n",
    "1. Prepare\n",
    "1-1. policy and ref\n",
    "1-2. \n",
    "2. Main loop\n",
    "2-1. train epoch\n",
    "2-2. validate"
   ]
  },
  {
   "cell_type": "markdown",
   "metadata": {},
   "source": [
    "## Prepare"
   ]
  },
  {
   "cell_type": "markdown",
   "metadata": {},
   "source": [
    "### Prepare QML DB"
   ]
  },
  {
   "cell_type": "code",
   "execution_count": 5,
   "metadata": {},
   "outputs": [],
   "source": [
    "def hard_copy(target, source):\n",
    "    target.net.load_state_dict(source.net.state_dict())\n"
   ]
  },
  {
   "cell_type": "code",
   "execution_count": 6,
   "metadata": {},
   "outputs": [],
   "source": [
    "def select_logps(logps, onehot):\n",
    "    selected_logps = (logps.unsqueeze(1) * onehot).sum(dim=-1).sum(dim=-1)\n",
    "    return selected_logps\n",
    "\n",
    "def calc_logps(policy, batch, sampler):\n",
    "    logits = policy(batch.wserieses)\n",
    "    logps_gate, logps_qbit = sampler.as_logps(logits)\n",
    "    logps_best = select_logps(logps_gate, batch.best.onehot_gindices) + select_logps(logps_qbit, batch.best.onehot_qubits)\n",
    "    logps_others = select_logps(logps_gate, batch.others.onehot_gindices) + select_logps(logps_qbit, batch.others.onehot_qubits)\n",
    "    return logps_best, logps_others\n"
   ]
  },
  {
   "cell_type": "code",
   "execution_count": 7,
   "metadata": {},
   "outputs": [],
   "source": [
    "def calc_loss_dpo(logrp, logrp_ref, beta=0.5):\n",
    "    return -1 * nn.functional.logsigmoid(beta * (logrp - logrp_ref)).mean()\n",
    "\n",
    "def calc_loss_llh(logp_best):\n",
    "    return torch.exp(logp_best).mean()\n"
   ]
  },
  {
   "cell_type": "code",
   "execution_count": 17,
   "metadata": {},
   "outputs": [],
   "source": [
    "cf = Config(\"note/experiments/config.yaml\")"
   ]
  },
  {
   "cell_type": "code",
   "execution_count": 18,
   "metadata": {},
   "outputs": [],
   "source": [
    "dataset = xdpo.DPODataset(cf.dpo.training.db.filename, cf.nq, cf.ocg.dim_wavelet)\n",
    "loader = xdpo.DPODataLoader(dataset, cf.nq, cf.dpo.training.db.batch_size, cf.ocg.dim_wavelet)\n"
   ]
  },
  {
   "cell_type": "code",
   "execution_count": 19,
   "metadata": {},
   "outputs": [],
   "source": [
    "tfun = xtarget.PolynominalTargetFunctionGenerator(cf.qml.db.dim_polynomial)\n",
    "tgen = MLDatasetGenerator(tfun)\n",
    "validation_datasets = [\n",
    "    tgen.generate(cf.dpo.validation.dbsize)\n",
    "    for _ in range(cf.dpo.validation.num_db)\n",
    "]"
   ]
  },
  {
   "cell_type": "markdown",
   "metadata": {},
   "source": [
    "### Prepare policy"
   ]
  },
  {
   "cell_type": "code",
   "execution_count": 24,
   "metadata": {},
   "outputs": [],
   "source": [
    "policy = xdpopt.Policy(\n",
    "    cf.ocg.dim_wavelet,\n",
    "    cf.nq,\n",
    "    cf.ng,\n",
    "    cf.ocg.policy.dim_hiddens,\n",
    ")\n",
    "reference = xdpopt.Policy(\n",
    "    cf.ocg.dim_wavelet,\n",
    "    cf.nq,\n",
    "    cf.ng,\n",
    "    cf.ocg.policy.dim_hiddens,\n",
    ")\n",
    "\n",
    "optimizer = optim.Adam(policy.parameters(), lr=cf.dpo.training.lr)\n",
    "sampler = CandidateSampler(policy)"
   ]
  },
  {
   "cell_type": "code",
   "execution_count": 25,
   "metadata": {},
   "outputs": [],
   "source": [
    "logger = xsim.Logger()"
   ]
  },
  {
   "cell_type": "code",
   "execution_count": 27,
   "metadata": {},
   "outputs": [
    {
     "name": "stdout",
     "output_type": "stream",
     "text": [
      "epoch   1  loss: 0.4106  dpo: 0.4067  llh: 0.0039\n",
      "epoch   2  loss: 0.4040  dpo: 0.4007  llh: 0.0033\n",
      "epoch   3  loss: 0.3884  dpo: 0.3852  llh: 0.0032\n",
      "epoch   4  loss: 0.3858  dpo: 0.3826  llh: 0.0032\n",
      "epoch   5  loss: 0.3659  dpo: 0.3629  llh: 0.0030\n",
      "epoch   6  loss: 0.3562  dpo: 0.3530  llh: 0.0032\n",
      "epoch   7  loss: 0.3407  dpo: 0.3378  llh: 0.0028\n",
      "epoch   8  loss: 0.3248  dpo: 0.3216  llh: 0.0032\n",
      "epoch   9  loss: 0.3149  dpo: 0.3121  llh: 0.0028\n",
      "epoch  10  loss: 0.3001  dpo: 0.2979  llh: 0.0022\n",
      "epoch  11  loss: 0.2852  dpo: 0.2827  llh: 0.0025\n",
      "epoch  12  loss: 0.2884  dpo: 0.2863  llh: 0.0021\n",
      "epoch  13  loss: 0.2728  dpo: 0.2705  llh: 0.0022\n",
      "epoch  14  loss: 0.2575  dpo: 0.2556  llh: 0.0019\n",
      "epoch  15  loss: 0.2465  dpo: 0.2448  llh: 0.0017\n",
      "epoch  16  loss: 0.2421  dpo: 0.2406  llh: 0.0016\n",
      "epoch  17  loss: 0.2275  dpo: 0.2254  llh: 0.0021\n",
      "epoch  18  loss: 0.2187  dpo: 0.2170  llh: 0.0017\n",
      "epoch  19  loss: 0.2229  dpo: 0.2214  llh: 0.0015\n",
      "epoch  20  loss: 0.2075  dpo: 0.2059  llh: 0.0016\n",
      "epoch  21  loss: 0.2029  dpo: 0.2011  llh: 0.0017\n",
      "epoch  22  loss: 0.1808  dpo: 0.1791  llh: 0.0017\n",
      "epoch  23  loss: 0.1767  dpo: 0.1750  llh: 0.0016\n",
      "epoch  24  loss: 0.1662  dpo: 0.1652  llh: 0.0010\n",
      "epoch  25  loss: 0.1531  dpo: 0.1515  llh: 0.0016\n",
      "epoch  26  loss: 0.1503  dpo: 0.1487  llh: 0.0016\n",
      "epoch  27  loss: 0.1352  dpo: 0.1332  llh: 0.0020\n",
      "epoch  28  loss: 0.1414  dpo: 0.1397  llh: 0.0017\n",
      "epoch  29  loss: 0.1314  dpo: 0.1297  llh: 0.0017\n",
      "epoch  30  loss: 0.1187  dpo: 0.1166  llh: 0.0021\n"
     ]
    }
   ],
   "source": [
    "\n",
    "Loss = namedtuple(\"Loss\", [\"total\", \"dpo\", \"llh\"])\n",
    "\n",
    "def calc_logits(logits, cf):\n",
    "    logits_gate, logits_qbit = sampler.divide_gate_and_qubit(logits)\n",
    "    logits_gate = logits_gate.view(len(logits), cf.ng, -1)\n",
    "    logits_qbit = logits_qbit.view(len(logits), cf.ng, -1)\n",
    "    return logits_gate, logits_qbit\n",
    "\n",
    "def select_logps(logits, onehot):\n",
    "    logps = nn.functional.log_softmax(logits, dim=-1).unsqueeze(dim=1)\n",
    "    selected_logps = (logps * onehot).sum(dim=-1).sum(dim=-1)\n",
    "    return selected_logps\n",
    "\n",
    "def calc_logps_(logits, subbatch):\n",
    "    logits_gate, logits_qbit = logits\n",
    "    logps_gate = select_logps(logits_gate, subbatch.onehot_gindices)\n",
    "    logps_qbit = select_logps(logits_qbit, subbatch.onehot_qubits)\n",
    "    logps = (logps_gate + logps_qbit).mean(dim=-1)\n",
    "    return logps\n",
    "\n",
    "\n",
    "def calc_logps(policy, batch, sampler, cf):\n",
    "    logits = policy(batch.wserieses)\n",
    "    logits = calc_logits(logits, cf)\n",
    "    logps_best = calc_logps_(logits, batch.best)\n",
    "    logps_others = calc_logps_(logits, batch.others)\n",
    "    return logps_best, logps_others\n",
    "\n",
    "\n",
    "def calc_loss_dpo(logps_pol_best, logps_pol_others, logps_ref_best, logps_ref_others, cf):\n",
    "    dlogps_pol = logps_pol_best - logps_pol_others\n",
    "    dlogps_ref = logps_ref_best - logps_ref_others\n",
    "    ddlogps = dlogps_pol - dlogps_ref\n",
    "    loss_dpo = -1 * nn.functional.logsigmoid(cf.dpo.training.beta * ddlogps).mean()\n",
    "    return loss_dpo\n",
    "\n",
    "\n",
    "def calc_loss_llh(logos_best):\n",
    "    return torch.exp(logos_best).mean()\n",
    "\n",
    "\n",
    "def train_once(policy, reference, optimizer, batch, sampler, cf):\n",
    "    logps_pol_best, logps_pol_others = calc_logps(policy, batch, sampler, cf)\n",
    "    logps_ref_best, logps_ref_others = calc_logps(reference, batch, sampler, cf)\n",
    "    loss_dpo = calc_loss_dpo(logps_pol_best, logps_pol_others, logps_ref_best, logps_ref_others, cf)\n",
    "    loss = loss_dpo\n",
    "\n",
    "    if cf.dpo.training.cpo:\n",
    "        loss_llh = calc_loss_llh(logps_pol_best)\n",
    "        loss = loss_dpo + loss_llh\n",
    "    \n",
    "    optimizer.zero_grad()\n",
    "    loss.backward()\n",
    "    optimizer.step()\n",
    "\n",
    "    return Loss(loss.item(), loss_dpo.item(), loss_llh.item())\n",
    "\n",
    "\n",
    "for epoch in range(1, cf.dpo.training.num_epochs+1):\n",
    "    epoch_losses = []\n",
    "    for batch in loader:\n",
    "        losses = train_once(policy, reference, optimizer, batch, sampler, cf)\n",
    "        \n",
    "        # logging\n",
    "        epoch_losses.append(losses)\n",
    "\n",
    "    loss = np.mean([loss.total for loss in epoch_losses])\n",
    "    loss_dpo = np.mean([loss.dpo for loss in epoch_losses])\n",
    "    print(f\"epoch {epoch:>3}  loss: {loss:.4f}  dpo: {loss_dpo:.4f}\", end=\"\")\n",
    "    if cf.dpo.training.cpo:\n",
    "        loss_llh = np.mean([loss.llh for loss in epoch_losses])\n",
    "        print(f\"  llh: {loss_llh:.4f}\")\n",
    "    else:\n",
    "        print()\n",
    "\n"
   ]
  },
  {
   "cell_type": "code",
   "execution_count": null,
   "metadata": {},
   "outputs": [],
   "source": []
  },
  {
   "cell_type": "code",
   "execution_count": null,
   "metadata": {},
   "outputs": [],
   "source": []
  },
  {
   "cell_type": "code",
   "execution_count": 197,
   "metadata": {},
   "outputs": [
    {
     "name": "stdout",
     "output_type": "stream",
     "text": [
      "Epoch   1tensor([inf, inf, inf, 0., inf, inf, inf, inf, inf, inf],\n",
      "       grad_fn=<ExpBackward0>) tensor([13577.5947,  2173.0938, 17909.7969, -6251.5625, 84437.5781,  5160.1094,\n",
      "        37395.2422,  9316.8926, 52818.6953, 12460.6172],\n",
      "       grad_fn=<SubBackward0>)\n",
      " loss: nan\n",
      "Epoch   2tensor([       inf,        inf, 8.4592e-36,        inf,        inf, 0.0000e+00,\n",
      "               inf,        inf,        inf,        inf],\n",
      "       grad_fn=<ExpBackward0>) tensor([12328.3672, 80003.8125,   -80.7578,  6364.3164, 17909.7969,  -533.5820,\n",
      "        28557.1250, 11476.1133,  8950.0234, 43547.7188],\n",
      "       grad_fn=<SubBackward0>)\n",
      " loss: nan\n",
      "Epoch   3tensor([inf, 0., inf, 0., inf, inf, inf, inf, inf, inf],\n",
      "       grad_fn=<ExpBackward0>) tensor([  9972.1445,  -1940.4121,   7300.2578, -12739.1914,  28671.8594,\n",
      "          4389.8379,  13551.9062,   8598.3105,  10669.0703,   5413.0820],\n",
      "       grad_fn=<SubBackward0>)\n",
      " loss: nan\n",
      "Epoch   4tensor([inf, inf, inf, inf, inf, 0., 0., inf, inf, inf],\n",
      "       grad_fn=<ExpBackward0>) tensor([ 3126.4141,  6729.3047,  1541.9219, 18461.7500, 30440.9004, -1885.7500,\n",
      "        -1421.4219,  7844.4863,  4827.8027,  3204.2207],\n",
      "       grad_fn=<SubBackward0>)\n",
      " loss: nan\n",
      "Epoch   5tensor([inf, inf, inf, 0., inf, inf, inf, inf, inf, inf],\n",
      "       grad_fn=<ExpBackward0>) tensor([ 3087.0693, 14632.4258,  6925.1523, -5382.2109, 28084.6562,  3586.1992,\n",
      "         6978.3701, 17179.0391,  7300.4893, 17415.2188],\n",
      "       grad_fn=<SubBackward0>)\n",
      " loss: nan\n",
      "Epoch   6tensor([inf, 0., inf, inf, inf, inf, inf, inf, inf, inf],\n",
      "       grad_fn=<ExpBackward0>) tensor([14610.6797, -5068.5469,  6486.2227, 38999.8438, 32608.1094,  3669.1074,\n",
      "        13913.6797, 77781.1406,   265.4062,  5772.5020],\n",
      "       grad_fn=<SubBackward0>)\n",
      " loss: nan\n",
      "Epoch   7tensor([inf, inf, 0., inf, inf, inf, inf, inf, inf, inf],\n",
      "       grad_fn=<ExpBackward0>) tensor([ 2802.0156,   534.3711, -5369.6133, 39287.9688, 12227.9258, 11478.3516,\n",
      "         8130.0664, 31948.3906,  5787.8140,   321.3496],\n",
      "       grad_fn=<SubBackward0>)\n",
      " loss: nan\n",
      "Epoch   8tensor([inf, inf, inf, inf, inf, inf, inf, inf, inf, inf],\n",
      "       grad_fn=<ExpBackward0>) tensor([ 23525.8203,  32497.6543,   4533.7617,  15201.4707,  15224.4102,\n",
      "        133027.5625,  50284.4922,  70003.7734,  12227.9258,  17725.1328],\n",
      "       grad_fn=<SubBackward0>)\n",
      " loss: nan\n",
      "Epoch   9tensor([inf, inf, inf, 0., inf, inf, inf, inf, 0., inf],\n",
      "       grad_fn=<ExpBackward0>) tensor([ 6803.1172, 12418.7578, 12539.2266, -1403.7148, 14632.4258,  2142.8613,\n",
      "        16340.7266, 30105.6289, -6505.7266, 12553.6211],\n",
      "       grad_fn=<SubBackward0>)\n",
      " loss: nan\n",
      "Epoch  10tensor([inf, 0., inf, 0., inf, 0., inf, inf, inf, inf], grad_fn=<ExpBackward0>) tensor([ 3224.4102, -1802.5742, 24332.6309,  -540.7852,  2619.4180,  -311.8828,\n",
      "        39106.8438, 12690.2578, 16150.4531,  9501.4492],\n",
      "       grad_fn=<SubBackward0>)\n",
      " loss: nan\n",
      "Epoch  11tensor([inf, inf, inf, inf, inf, inf, inf, inf, inf, 0.],\n",
      "       grad_fn=<ExpBackward0>) tensor([12423.1484,  6783.2891,  2142.8613, 32338.2637,  2747.1328, 11776.8730,\n",
      "         8902.9180, 11452.4609,  3850.5449, -1885.7500],\n",
      "       grad_fn=<SubBackward0>)\n",
      " loss: nan\n",
      "Epoch  12tensor([inf, inf, inf, inf, inf, inf, inf, 0., inf, 0.],\n",
      "       grad_fn=<ExpBackward0>) tensor([ 4673.7783, 39106.8438, 60352.0000,  2106.5312,  6102.5508, 18196.2480,\n",
      "         9501.4502, -8669.5625, 20859.1484, -3446.9297],\n",
      "       grad_fn=<SubBackward0>)\n",
      " loss: nan\n",
      "Epoch  13tensor([inf, inf, inf, inf, inf, inf, inf, inf, inf, inf],\n",
      "       grad_fn=<ExpBackward0>) tensor([23764.3125, 11476.1133,  2142.8613, 27843.5078,  1390.5117, 13966.4453,\n",
      "        13153.4570, 54564.5156, 26615.6094,  5344.9941],\n",
      "       grad_fn=<SubBackward0>)\n",
      " loss: nan\n",
      "Epoch  14tensor([inf, 0., inf, 0., inf, 0., 0., inf, inf, inf], grad_fn=<ExpBackward0>) tensor([ 65336.3359, -12739.1914,  10391.9688,  -1387.1309,  60352.0000,\n",
      "         -7772.6250,  -3276.6387,   9503.8203,  12986.2383,  11476.1172],\n",
      "       grad_fn=<SubBackward0>)\n",
      " loss: nan\n",
      "Epoch  15tensor([inf, 0., inf, inf, 0., inf, inf, inf, 0., 0.], grad_fn=<ExpBackward0>) tensor([26789.9297, -1953.5645,  7494.5938, 21394.8164, -8669.5625,  1306.5576,\n",
      "        73160.6719,  7885.2598, -1489.7812, -2071.9062],\n",
      "       grad_fn=<SubBackward0>)\n",
      " loss: nan\n",
      "Epoch  16tensor([inf, inf, inf, inf, inf, inf, inf, inf, inf, 0.],\n",
      "       grad_fn=<ExpBackward0>) tensor([  534.3711, 11951.3672, 14141.9219,  1742.3164, 12460.6172, 28933.9023,\n",
      "         6486.2227, 16398.7305,   814.5117, -2231.0254],\n",
      "       grad_fn=<SubBackward0>)\n",
      " loss: nan\n",
      "Epoch  17tensor([inf, inf, 0., inf, inf, inf, 0., inf, inf, inf],\n",
      "       grad_fn=<ExpBackward0>) tensor([13966.4453, 10197.0312, -1851.3438,  6486.2227,  5772.5010,  7289.2930,\n",
      "        -6459.4375, 12741.1582, 15850.0078, 13794.9570],\n",
      "       grad_fn=<SubBackward0>)\n",
      " loss: nan\n",
      "Epoch  18tensor([inf, inf, inf, inf, 0., inf, 0., inf, inf, inf],\n",
      "       grad_fn=<ExpBackward0>) tensor([26831.0859,  1466.3320, 32063.0977, 13551.9062, -1489.7812, 27863.1875,\n",
      "        -7526.2363, 84437.5781,   916.6445,  8130.0645],\n",
      "       grad_fn=<SubBackward0>)\n",
      " loss: nan\n",
      "Epoch  19tensor([       inf,        inf, 5.5300e-05,        inf,        inf,        inf,\n",
      "               inf,        inf,        inf,        inf],\n",
      "       grad_fn=<ExpBackward0>) tensor([ 5.0377e+02,  1.9042e+03, -9.8027e+00,  3.9107e+04,  3.9000e+04,\n",
      "         1.7321e+04,  1.6174e+04,  2.8672e+04,  1.2423e+04,  1.4250e+04],\n",
      "       grad_fn=<SubBackward0>)\n",
      " loss: nan\n",
      "Epoch  20tensor([0., inf, 0., inf, inf, inf, inf, inf, inf, 0.], grad_fn=<ExpBackward0>) tensor([-1885.7500, 23699.4023,  -455.5762,  7706.9922, 12460.6172,  6783.2891,\n",
      "        14632.4258,  1253.9297, 28557.0938, -1508.4814],\n",
      "       grad_fn=<SubBackward0>)\n",
      " loss: nan\n",
      "Epoch  21tensor([inf, inf, inf, 0., 0., inf, inf, inf, inf, inf],\n",
      "       grad_fn=<ExpBackward0>) tensor([13907.5586,  7300.2578,   181.9824, -1711.4375, -2757.1191, 15224.4102,\n",
      "        10773.2344, 19332.3906,  6467.2148, 18461.7500],\n",
      "       grad_fn=<SubBackward0>)\n",
      " loss: nan\n",
      "Epoch  22tensor([       inf,        inf,        inf,        inf,        inf,        inf,\n",
      "               inf, 8.4592e-36,        inf, 0.0000e+00],\n",
      "       grad_fn=<ExpBackward0>) tensor([ 6925.1523, 19741.3047, 45339.8867, 18486.6562,  6364.3164, 12218.5518,\n",
      "         6453.7676,   -80.7578,  9172.1553,  -896.2422],\n",
      "       grad_fn=<SubBackward0>)\n",
      " loss: nan\n",
      "Epoch  23tensor([inf, inf, inf, inf, inf, inf, inf, 0., inf, 0.],\n",
      "       grad_fn=<ExpBackward0>) tensor([ 3680.1157,  6803.1172, 29428.6172, 52831.5625, 30440.9004, 10281.0254,\n",
      "        12227.9258,  -399.0137, 10773.2344, -1267.8613],\n",
      "       grad_fn=<SubBackward0>)\n",
      " loss: nan\n",
      "Epoch  24tensor([inf, inf, inf, 0., inf, inf, inf, inf, inf, inf],\n",
      "       grad_fn=<ExpBackward0>) tensor([ 4897.1055,  6763.1973, 19830.6641,  -690.2178,  7483.7676,  6978.3701,\n",
      "        15829.7891, 14755.5234, 31952.5957, 36307.0312],\n",
      "       grad_fn=<SubBackward0>)\n",
      " loss: nan\n",
      "Epoch  25tensor([0., inf, inf, inf, inf, inf, inf, inf, inf, 0.],\n",
      "       grad_fn=<ExpBackward0>) tensor([-1986.9023, 18791.0703, 73160.6719, 10197.0312, 38373.9453,  1894.5488,\n",
      "        10912.7705, 19332.3906, 36876.7266, -3611.9355],\n",
      "       grad_fn=<SubBackward0>)\n",
      " loss: nan\n",
      "Epoch  26tensor([0., inf, inf, inf, inf, inf, inf, inf, inf, inf],\n",
      "       grad_fn=<ExpBackward0>) tensor([-5369.6133,   388.9492, 55483.7188, 14650.2959, 65645.6172, 52315.2188,\n",
      "        29012.3086,  1503.3550, 20557.6016,  4579.2139],\n",
      "       grad_fn=<SubBackward0>)\n",
      " loss: nan\n",
      "Epoch  27tensor([inf, inf, inf, inf, 0., inf, inf, inf, inf, inf],\n",
      "       grad_fn=<ExpBackward0>) tensor([  657.4492, 17539.5742, 28300.4844, 35303.2031, -2231.0244,  4413.2305,\n",
      "        16546.7734, 16340.7266, 28671.8594, 36832.7305],\n",
      "       grad_fn=<SubBackward0>)\n",
      " loss: nan\n",
      "Epoch  28tensor([inf, inf, 0., inf, inf, inf, inf, inf, inf, inf],\n",
      "       grad_fn=<ExpBackward0>) tensor([32497.6543,  1339.9688,  -896.2422,  8076.1641, 16546.7734, 16293.5938,\n",
      "        50284.4922, 28671.8594,  2853.8320, 43547.7188],\n",
      "       grad_fn=<SubBackward0>)\n",
      " loss: nan\n",
      "Epoch  29tensor([inf, inf, inf, inf, inf, inf, inf, inf, inf, inf],\n",
      "       grad_fn=<ExpBackward0>) tensor([28300.4844, 73101.5859,  1894.5488,  9316.8926, 33981.2656,  9972.1445,\n",
      "        36876.7344, 31952.5898, 43547.7188,  7073.8447],\n",
      "       grad_fn=<SubBackward0>)\n",
      " loss: nan\n",
      "Epoch  30tensor([inf, inf, inf, inf, inf, 0., inf, inf, inf, inf],\n",
      "       grad_fn=<ExpBackward0>) tensor([55524.2734,   321.3496,  9543.4766,  5037.6348, 22610.6582, -6459.4375,\n",
      "        13671.6094, 29912.4141, 22386.7188, 34790.8789],\n",
      "       grad_fn=<SubBackward0>)\n",
      " loss: nan\n"
     ]
    }
   ],
   "source": [
    "for epoch in range(1, cf.dpo.training.num_epochs+1):\n",
    "    print(f\"Epoch {epoch:>3}\", end=\"\")\n",
    "    hard_copy(reference, policy)\n",
    "    epoch_losses = []\n",
    "    epoch_losses_dpo = []\n",
    "    epoch_losses_llh = []\n",
    "    \n",
    "    for batch in loader:\n",
    "\n",
    "        \n",
    "        logps_best, logps_others = calc_logps(policy, batch, sampler)\n",
    "        logps_ref_best, logps_ref_others = calc_logps(reference, batch, sampler)\n",
    "\n",
    "        logps_best = logps_best.mean(dim=-1)\n",
    "        logps_others = logps_others.mean(dim=-1)\n",
    "        logps_ref_best = logps_ref_best.mean(dim=-1)\n",
    "        logps_ref_others = logps_ref_others.mean(dim=-1)\n",
    "\n",
    "        print(torch.exp(logps_best - logps_others), logps_best - logps_others)\n",
    "        break\n",
    "\n",
    "        loss_dpo = calc_loss_dpo(\n",
    "            logps_best - logps_others,\n",
    "            logps_ref_best - logps_ref_others,\n",
    "        )\n",
    "        loss = loss_dpo\n",
    "\n",
    "        if cf.dpo.training.cpo:\n",
    "            loss_llh = calc_loss_llh(logps_best)\n",
    "            loss = loss + loss_llh\n",
    "\n",
    "        optimizer.zero_grad()\n",
    "        loss.backward()\n",
    "        optimizer.step()\n",
    "\n",
    "        # logging\n",
    "        epoch_losses.append(loss.item())\n",
    "        epoch_losses_dpo.append(loss_dpo.item())\n",
    "        if cf.dpo.training.cpo:\n",
    "            epoch_losses_llh.append(loss_llh.item())\n",
    "    \n",
    "    # break\n",
    "    print(f\" loss: {epoch_loss:.4f}\")\n",
    "\n",
    "    # validation\n",
    "    # if epoch % cf.dpo.validation.interval == 0:\n",
    "    #     vloss = validate(sampler, validation_datasets, cf.nq, cf.dpo.validation.num_rounds, cf.qml.num_train, cf.ocg.dim_wavelet, xeval.Haar())\n",
    "    #     print(f\" Validation loss: {vloss:.4f}\")\n",
    "\n",
    "    # logging\n",
    "    epoch_loss = np.mean(epoch_losses)\n",
    "    epoch_loss_dpo = np.mean(epoch_losses_dpo)\n",
    "    if cf.dpo.training.cpo:\n",
    "        epoch_loss_llh = np.mean(epoch_losses_llh)\n",
    "    \n",
    "    \n",
    "    logger.store(\n",
    "        epoch=epoch,\n",
    "        epoch_loss=epoch_loss,\n",
    "        epoch_loss_dpo=epoch_loss_dpo,\n",
    "    )\n",
    "    if cf.dpo.training.cpo:\n",
    "        logger.store(\n",
    "            epoch_loss_llh=epoch_loss_llh,\n",
    "        )\n",
    "    logger.flush()\n"
   ]
  },
  {
   "cell_type": "code",
   "execution_count": 147,
   "metadata": {},
   "outputs": [
    {
     "data": {
      "text/plain": [
       "array([ 0.88997272,  0.24719483, -0.5681632 , -0.35359916,  0.41313979,\n",
       "       -0.71273875,  0.40802407,  0.27089185, -0.15108077, -0.20369343])"
      ]
     },
     "execution_count": 147,
     "metadata": {},
     "output_type": "execute_result"
    }
   ],
   "source": [
    "validation_datasets[0].xs"
   ]
  },
  {
   "cell_type": "code",
   "execution_count": 136,
   "metadata": {},
   "outputs": [
    {
     "data": {
      "text/plain": [
       "<Axes: xlabel='epoch'>"
      ]
     },
     "execution_count": 136,
     "metadata": {},
     "output_type": "execute_result"
    },
    {
     "data": {
      "image/png": "[encoded data removed]",
      "text/plain": [
       "<Figure size 640x480 with 1 Axes>"
      ]
     },
     "metadata": {},
     "output_type": "display_data"
    }
   ],
   "source": [
    "ret = xsim.Retriever(logger)\n",
    "res = pd.DataFrame(dict(\n",
    "    epoch=ret.epoch(),\n",
    "    epoch_loss=ret.epoch_loss(),\n",
    "    epoch_loss_dpo=ret.epoch_loss_dpo(),\n",
    "    # epoch_loss_llh=ret.epoch_loss_llh(),\n",
    "))\n",
    "\n",
    "res.plot(x=\"epoch\", y=[\"epoch_loss_dpo\", \"epoch_loss\"])"
   ]
  },
  {
   "cell_type": "code",
   "execution_count": 198,
   "metadata": {},
   "outputs": [
    {
     "data": {
      "text/plain": [
       "np.float64(-4.605170185988091)"
      ]
     },
     "execution_count": 198,
     "metadata": {},
     "output_type": "execute_result"
    }
   ],
   "source": [
    "np.log(0.01)"
   ]
  },
  {
   "cell_type": "code",
   "execution_count": null,
   "metadata": {},
   "outputs": [],
   "source": []
  }
 ],
 "metadata": {
  "kernelspec": {
   "display_name": "lb-qml",
   "language": "python",
   "name": "python3"
  },
  "language_info": {
   "codemirror_mode": {
    "name": "ipython",
    "version": 3
   },
   "file_extension": ".py",
   "mimetype": "text/x-python",
   "name": "python",
   "nbconvert_exporter": "python",
   "pygments_lexer": "ipython3",
   "version": "3.12.9"
  }
 },
 "nbformat": 4,
 "nbformat_minor": 2
}
