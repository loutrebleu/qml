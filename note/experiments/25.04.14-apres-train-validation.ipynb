{
 "cells": [
  {
   "cell_type": "code",
   "execution_count": null,
   "metadata": {},
   "outputs": [],
   "source": [
    "%load_ext autoreload\n",
    "%autoreload 2\n"
   ]
  },
  {
   "cell_type": "code",
   "execution_count": 1,
   "metadata": {},
   "outputs": [],
   "source": [
    "import os\n",
    "cwd = os.getcwd().replace(\"/note/experiments\", \"\")\n",
    "os.chdir(cwd)\n"
   ]
  },
  {
   "cell_type": "code",
   "execution_count": 2,
   "metadata": {},
   "outputs": [],
   "source": [
    "import numpy as np\n",
    "import torch\n",
    "import torch.nn as nn\n",
    "import torch.optim as optim\n",
    "import xtools as xt\n",
    "import json\n",
    "import xsim\n",
    "import pandas as pd\n",
    "import matplotlib.pyplot as plt\n",
    "from IPython.display import clear_output\n",
    "from tqdm import tqdm\n",
    "from collections import namedtuple\n"
   ]
  },
  {
   "cell_type": "code",
   "execution_count": 3,
   "metadata": {},
   "outputs": [],
   "source": [
    "from qml.db import dpo as xdpo\n",
    "from qml.db import target as xtarget\n",
    "from qml.db.ml import MLDatasetGenerator\n",
    "from qml.db.dpo.decoder import DPODataDecoder, DPOData\n",
    "from qml.db.dpo.loader import DPODataBatch\n",
    "from qml.model.gate import Gateset\n",
    "from qml.model.unit import UnitManager, Unit\n",
    "from qml.model.encoding import EncodingUnitManager\n",
    "from qml.model.model import Model\n",
    "from qml.optimizer import dpo as xdpopt\n",
    "from qml.optimizer import evaluator as xeval\n",
    "from qml.tools.random import XRandomGenerator\n",
    "from qml.tools.sampler import CandidateSampler\n",
    "from qml import optimizer as xoptim\n",
    "from qml.tools.config import Config\n",
    "# from qml.tools.validation import validate\n",
    "from qml.tools.validation import get_base_qc\n",
    "from qml.tools.experiment_tools import train_once, hard_copy, prepare_policy, plot_results, validate, generate_batch, soft_update"
   ]
  },
  {
   "cell_type": "code",
   "execution_count": 13,
   "metadata": {},
   "outputs": [],
   "source": [
    "cf = Config(\"note/experiments/config.yaml\")\n",
    "seed = None"
   ]
  },
  {
   "cell_type": "code",
   "execution_count": 14,
   "metadata": {},
   "outputs": [],
   "source": [
    "online_dpo_weight_filepath = \"/Users/loutrebleu/workspace/qml/note/experiments/results/2025.04.14.195932/results_00730.pth\"\n",
    "online_cpo_weight_filepath = \"/Users/loutrebleu/workspace/qml/note/experiments/results/2025.04.14.195932/results_00730.pth\""
   ]
  },
  {
   "cell_type": "code",
   "execution_count": 18,
   "metadata": {},
   "outputs": [
    {
     "data": {
      "text/plain": [
       "<All keys matched successfully>"
      ]
     },
     "execution_count": 18,
     "metadata": {},
     "output_type": "execute_result"
    }
   ],
   "source": [
    "# build policies\n",
    "policy_dpo, _, _, sampler_dpo = prepare_policy(cf)\n",
    "policy_dpo.load_state_dict(torch.load(online_dpo_weight_filepath))\n",
    "policy_cpo, _, _, sampler_cpo = prepare_policy(cf)\n",
    "policy_cpo.load_state_dict(torch.load(online_cpo_weight_filepath))\n"
   ]
  },
  {
   "cell_type": "code",
   "execution_count": 24,
   "metadata": {},
   "outputs": [
    {
     "name": "stderr",
     "output_type": "stream",
     "text": [
      "  0%|          | 0/1 [00:00<?, ?it/s]"
     ]
    },
    {
     "name": "stdout",
     "output_type": "stream",
     "text": [
      "[[-0.52068123 -0.28068123 -0.40068123 -0.44068123 -0.40068123 -0.44068123\n",
      "  -0.44068123 -0.12068123 -0.52068123 -0.40068123]\n",
      " [-0.64270338 -0.40270338 -0.52270338 -0.56270338 -0.52270338 -0.56270338\n",
      "  -0.56270338 -0.24270338 -0.64270338 -0.52270338]\n",
      " [-0.60466196 -0.36466196 -0.48466196 -0.52466196 -0.48466196 -0.52466196\n",
      "  -0.52466196 -0.20466196 -0.60466196 -0.48466196]\n",
      " [-0.80508968 -0.56508968 -0.68508968 -0.72508968 -0.68508968 -0.72508968\n",
      "  -0.72508968 -0.40508968 -0.80508968 -0.68508968]\n",
      " [-0.77585951 -0.53585951 -0.65585951 -0.69585951 -0.65585951 -0.69585951\n",
      "  -0.69585951 -0.37585951 -0.77585951 -0.65585951]\n",
      " [-0.50296094 -0.26296094 -0.38296094 -0.42296094 -0.38296094 -0.42296094\n",
      "  -0.42296094 -0.10296094 -0.50296094 -0.38296094]\n",
      " [-0.51007931 -0.27007931 -0.39007931 -0.43007931 -0.39007931 -0.43007931\n",
      "  -0.43007931 -0.11007931 -0.51007931 -0.39007931]\n",
      " [-0.15305292  0.08694708 -0.03305292 -0.07305292 -0.03305292 -0.07305292\n",
      "  -0.07305292  0.24694708 -0.15305292 -0.03305292]\n",
      " [-0.63024151 -0.39024151 -0.51024151 -0.55024151 -0.51024151 -0.55024151\n",
      "  -0.55024151 -0.23024151 -0.63024151 -0.51024151]\n",
      " [-0.76138784 -0.52138784 -0.64138784 -0.68138784 -0.64138784 -0.68138784\n",
      "  -0.68138784 -0.36138784 -0.76138784 -0.64138784]]\n"
     ]
    },
    {
     "name": "stderr",
     "output_type": "stream",
     "text": [
      "100%|██████████| 1/1 [00:10<00:00, 10.70s/it]"
     ]
    },
    {
     "name": "stdout",
     "output_type": "stream",
     "text": [
      "<qml.tools.logger.Logger object at 0x174768d10>\n"
     ]
    },
    {
     "name": "stderr",
     "output_type": "stream",
     "text": [
      "\n"
     ]
    }
   ],
   "source": [
    "rng = XRandomGenerator(seed)\n",
    "gset = Gateset.set_num_qubits(cf.nq)\n",
    "\n",
    "# target datasets\n",
    "tfun = xtarget.PolynominalTargetFunctionGenerator(cf.qml.db.dim_polynomial, seed=rng.new_seed())\n",
    "tgen = MLDatasetGenerator(tfun, seed=rng.new_seed())\n",
    "Dqml = tgen.generate(cf.qml.db.size)\n",
    "# Dqml = tgen.generate(5)\n",
    "\n",
    "# prepare\n",
    "base_model = get_base_qc(cf.nq, cf.qml.db.dim_input, cf.qml.db.dim_output, cf.shots)\n",
    "weval = xeval.WaveletEvaluator(cf.wavelet, Dqml, wavelet_dim=cf.ocg.dim_wavelet)\n",
    "\n",
    "policy = policy_dpo\n",
    "sampler = sampler_dpo\n",
    "model = Model(\n",
    "    base_model.nq, base_model.nc,\n",
    "    base_model.input_units,\n",
    "    base_model.fixed_units,\n",
    "    base_model.trainable_units,\n",
    ")\n",
    "\n",
    "# for round in range(1, cf.dpo.validation.num_rounds+1+2):\n",
    "for round in tqdm(range(1)):\n",
    "    # 1. measure the wavelet series\n",
    "    wresult = weval(model.trainable_parameters, model)\n",
    "\n",
    "    # 2. estimate the candidate unit\n",
    "    wseries = wresult.powers\n",
    "    candidate = sampler.sample(wseries)\n",
    "    model.fix_trainable_units()\n",
    "\n",
    "    # 3. updata model\n",
    "    model = Model(\n",
    "        base_model.nq, base_model.nc,\n",
    "        base_model.input_units,\n",
    "        base_model.fixed_units,\n",
    "        candidate,\n",
    "    )\n",
    "\n",
    "    # 4. train the model\n",
    "    optimizer = xoptim.LocalSearchOptimizer(Dqml)\n",
    "    tresult = optimizer.optimize(model, cf.qml.num_train, verbose=False)\n",
    "\n",
    "print(tresult)\n"
   ]
  },
  {
   "cell_type": "code",
   "execution_count": null,
   "metadata": {},
   "outputs": [],
   "source": []
  }
 ],
 "metadata": {
  "kernelspec": {
   "display_name": "lb-qml",
   "language": "python",
   "name": "python3"
  },
  "language_info": {
   "codemirror_mode": {
    "name": "ipython",
    "version": 3
   },
   "file_extension": ".py",
   "mimetype": "text/x-python",
   "name": "python",
   "nbconvert_exporter": "python",
   "pygments_lexer": "ipython3",
   "version": "3.12.9"
  }
 },
 "nbformat": 4,
 "nbformat_minor": 2
}
