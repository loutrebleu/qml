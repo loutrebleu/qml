{
 "cells": [
  {
   "cell_type": "code",
   "execution_count": 27,
   "metadata": {},
   "outputs": [
    {
     "name": "stdout",
     "output_type": "stream",
     "text": [
      "The autoreload extension is already loaded. To reload it, use:\n",
      "  %reload_ext autoreload\n"
     ]
    }
   ],
   "source": [
    "%load_ext autoreload\n",
    "%autoreload 2\n"
   ]
  },
  {
   "cell_type": "code",
   "execution_count": 28,
   "metadata": {},
   "outputs": [],
   "source": [
    "import os\n",
    "cwd = os.getcwd().replace(\"/note/experiments\", \"\")\n",
    "os.chdir(cwd)\n"
   ]
  },
  {
   "cell_type": "code",
   "execution_count": 39,
   "metadata": {},
   "outputs": [],
   "source": [
    "import numpy as np\n",
    "import torch\n",
    "import torch.nn as nn\n",
    "import torch.optim as optim\n",
    "import xtools as xt\n",
    "import json\n",
    "import xsim\n",
    "import pandas as pd\n",
    "import matplotlib.pyplot as plt\n",
    "from IPython.display import clear_output\n",
    "from tqdm import tqdm\n",
    "from collections import namedtuple\n"
   ]
  },
  {
   "cell_type": "code",
   "execution_count": 30,
   "metadata": {},
   "outputs": [],
   "source": [
    "from qml.db import dpo as xdpo\n",
    "from qml.db import target as xtarget\n",
    "from qml.db.ml import MLDatasetGenerator\n",
    "from qml.model.gate import Gateset\n",
    "from qml.model.unit import UnitManager, Unit\n",
    "from qml.model.encoding import EncodingUnitManager\n",
    "from qml.model.model import Model\n",
    "from qml.optimizer import dpo as xdpopt\n",
    "from qml.optimizer import evaluator as xeval\n",
    "from qml.tools.random import XRandomGenerator\n",
    "from qml.tools.sampler import CandidateSampler\n",
    "from qml import optimizer as xoptim\n",
    "from qml.tools.config import Config\n",
    "# from qml.tools.validation import validate\n",
    "from qml.tools.experiment_tools import train_once, hard_copy, prepare_policy, plot_results, validate"
   ]
  },
  {
   "cell_type": "code",
   "execution_count": 31,
   "metadata": {},
   "outputs": [],
   "source": [
    "cf = Config(\"note/experiments/config.yaml\")"
   ]
  },
  {
   "cell_type": "code",
   "execution_count": 32,
   "metadata": {},
   "outputs": [
    {
     "data": {
      "text/plain": [
       "30"
      ]
     },
     "execution_count": 32,
     "metadata": {},
     "output_type": "execute_result"
    }
   ],
   "source": [
    "cf.shots"
   ]
  },
  {
   "cell_type": "code",
   "execution_count": 33,
   "metadata": {},
   "outputs": [],
   "source": [
    "def plot_results_on_notebook(logger, vlogger, cf):\n",
    "    ret = xsim.Retriever(logger)\n",
    "    res_dict = dict(\n",
    "        epoch=ret.epoch(),\n",
    "        loss=ret.loss(),\n",
    "        loss_dpo=ret.loss_dpo(),\n",
    "    )\n",
    "    plot_labels = [\"loss_dpo\"]\n",
    "    if cf.dpo.training.cpo:\n",
    "        res_dict[\"loss_llh\"] = ret.loss_llh()\n",
    "        plot_labels.append(\"loss_llh\")\n",
    "    plot_labels.append(\"loss\")\n",
    "    res = pd.DataFrame(res_dict)\n",
    "\n",
    "    vret = xsim.Retriever(vlogger)\n",
    "    vres = pd.DataFrame(dict(\n",
    "        epoch=vret.epoch(),\n",
    "        loss=vret.loss(),\n",
    "        time=vret.time(),\n",
    "    ))\n",
    "\n",
    "    clear_output()\n",
    "    fig, axes = plt.subplots(nrows=3, figsize=(8, 10), sharex=True)\n",
    "    res.plot(x=\"epoch\", y=plot_labels, ax=axes[0])\n",
    "    vres.plot(x=\"epoch\", y=[\"loss\"], ax=axes[1])\n",
    "    vres.plot(x=\"epoch\", y=[\"time\"], ax=axes[2])\n",
    "    plt.show()\n",
    "\n",
    "    return res, vres\n"
   ]
  },
  {
   "cell_type": "code",
   "execution_count": 34,
   "metadata": {},
   "outputs": [],
   "source": [
    "# training dataset\n",
    "dataset = xdpo.DPODataset(cf.dpo.training.db.filename, cf.nq, cf.ocg.dim_wavelet)\n",
    "loader = xdpo.DPODataLoader(dataset, cf.nq, cf.dpo.training.db.batch_size, cf.ocg.dim_wavelet)\n"
   ]
  },
  {
   "cell_type": "code",
   "execution_count": 35,
   "metadata": {},
   "outputs": [],
   "source": [
    "# validation datasets\n",
    "tfun = xtarget.PolynominalTargetFunctionGenerator(cf.qml.db.dim_polynomial)\n",
    "tgen = MLDatasetGenerator(tfun)\n",
    "validation_datasets = [\n",
    "    tgen.generate(cf.dpo.validation.dbsize)\n",
    "    for _ in range(cf.dpo.validation.num_db)\n",
    "]"
   ]
  },
  {
   "cell_type": "code",
   "execution_count": 42,
   "metadata": {},
   "outputs": [],
   "source": [
    "save_dir = xt.make_dirs_current_time(\"note/experiments/results\")"
   ]
  },
  {
   "cell_type": "code",
   "execution_count": 44,
   "metadata": {},
   "outputs": [
    {
     "name": "stdout",
     "output_type": "stream",
     "text": [
      "30\n"
     ]
    },
    {
     "name": "stderr",
     "output_type": "stream",
     "text": [
      "100%|██████████| 3/3 [01:33<00:00, 31.23s/it]\n"
     ]
    },
    {
     "name": "stdout",
     "output_type": "stream",
     "text": [
      "epoch   1  loss: 0.4882  dpo: 0.4846  llh: 0.0037\n",
      "epoch   2  loss: 0.4051  dpo: 0.4017  llh: 0.0035\n",
      "epoch   3  loss: 0.3942  dpo: 0.3903  llh: 0.0039\n",
      "epoch   4  loss: 0.3755  dpo: 0.3722  llh: 0.0033\n",
      "epoch   5  loss: 0.3572  dpo: 0.3538  llh: 0.0033\n",
      "epoch   6  loss: 0.3439  dpo: 0.3405  llh: 0.0034\n",
      "epoch   7  loss: 0.3421  dpo: 0.3392  llh: 0.0029\n",
      "epoch   8  loss: 0.3316  dpo: 0.3288  llh: 0.0028\n",
      "epoch   9  loss: 0.3135  dpo: 0.3105  llh: 0.0030\n",
      "epoch  10  loss: 0.2935  dpo: 0.2905  llh: 0.0030\n",
      "30\n"
     ]
    },
    {
     "name": "stderr",
     "output_type": "stream",
     "text": [
      "  0%|          | 0/3 [00:03<?, ?it/s]\n"
     ]
    },
    {
     "ename": "KeyboardInterrupt",
     "evalue": "",
     "output_type": "error",
     "traceback": [
      "\u001b[31m---------------------------------------------------------------------------\u001b[39m",
      "\u001b[31mKeyboardInterrupt\u001b[39m                         Traceback (most recent call last)",
      "\u001b[36mCell\u001b[39m\u001b[36m \u001b[39m\u001b[32mIn[44]\u001b[39m\u001b[32m, line 42\u001b[39m\n\u001b[32m     39\u001b[39m \u001b[38;5;28mprint\u001b[39m(status)\n\u001b[32m     41\u001b[39m \u001b[38;5;28;01mif\u001b[39;00m epoch % cf.dpo.validation.interval == \u001b[32m0\u001b[39m:\n\u001b[32m---> \u001b[39m\u001b[32m42\u001b[39m     vresults = \u001b[43mvalidate\u001b[49m\u001b[43m(\u001b[49m\u001b[43msampler\u001b[49m\u001b[43m,\u001b[49m\u001b[43m \u001b[49m\u001b[43mvalidation_datasets\u001b[49m\u001b[43m,\u001b[49m\u001b[43m \u001b[49m\u001b[43mcf\u001b[49m\u001b[43m)\u001b[49m\n\u001b[32m     43\u001b[39m     vlogger.store(\n\u001b[32m     44\u001b[39m         epoch=epoch,\n\u001b[32m     45\u001b[39m         **vresults,\n\u001b[32m     46\u001b[39m     ).flush()\n\u001b[32m     48\u001b[39m     plot_results_on_notebook(logger, vlogger, cf)\n",
      "\u001b[36mFile \u001b[39m\u001b[32m~/workspace/qml/qml/tools/experiment_tools.py:104\u001b[39m, in \u001b[36mvalidate\u001b[39m\u001b[34m(sampler, datasets, cf)\u001b[39m\n\u001b[32m    103\u001b[39m \u001b[38;5;28;01mdef\u001b[39;00m\u001b[38;5;250m \u001b[39m\u001b[34mvalidate\u001b[39m(sampler, datasets, cf):\n\u001b[32m--> \u001b[39m\u001b[32m104\u001b[39m     time_avons = time.time()\n\u001b[32m    105\u001b[39m     vresults = validate_old(\n\u001b[32m    106\u001b[39m         sampler,\n\u001b[32m    107\u001b[39m         datasets,\n\u001b[32m   (...)\u001b[39m\u001b[32m    114\u001b[39m         shots=cf.shots,\n\u001b[32m    115\u001b[39m     )\n\u001b[32m    116\u001b[39m     time_apres = time.time()\n",
      "\u001b[36mFile \u001b[39m\u001b[32m<string>:15\u001b[39m, in \u001b[36mvalidate_old\u001b[39m\u001b[34m(sampler, datasets, num_qubits, num_rounds, num_train_steps, dim_wavelet, wavelet, reg_loss, shots)\u001b[39m\n",
      "\u001b[36mFile \u001b[39m\u001b[32m~/workspace/qml/qml/optimizer/base.py:125\u001b[39m, in \u001b[36mOptimizer.optimize\u001b[39m\u001b[34m(self, model, num_iter, batch_size, shots, test_interval, verbose)\u001b[39m\n\u001b[32m    122\u001b[39m     \u001b[38;5;28mself\u001b[39m.log_test(\u001b[32m0\u001b[39m, xc, rt)\n\u001b[32m    124\u001b[39m \u001b[38;5;28;01mfor\u001b[39;00m step \u001b[38;5;129;01min\u001b[39;00m \u001b[38;5;28mrange\u001b[39m(\u001b[32m1\u001b[39m, num_iter+\u001b[32m1\u001b[39m):\n\u001b[32m--> \u001b[39m\u001b[32m125\u001b[39m     xc, rc = \u001b[38;5;28;43mself\u001b[39;49m\u001b[43m.\u001b[49m\u001b[43moptimize_once\u001b[49m\u001b[43m(\u001b[49m\u001b[43mstep\u001b[49m\u001b[43m,\u001b[49m\u001b[43m \u001b[49m\u001b[43mxc\u001b[49m\u001b[43m,\u001b[49m\u001b[43m \u001b[49m\u001b[43mrc\u001b[49m\u001b[43m)\u001b[49m\n\u001b[32m    127\u001b[39m     \u001b[38;5;28;01mif\u001b[39;00m step % test_interval == \u001b[32m0\u001b[39m:\n\u001b[32m    128\u001b[39m         \u001b[38;5;28mself\u001b[39m.test_once(step)\n",
      "\u001b[36mFile \u001b[39m\u001b[32m~/workspace/qml/qml/optimizer/base.py:140\u001b[39m, in \u001b[36mOptimizer.optimize_once\u001b[39m\u001b[34m(self, step, xc, rc)\u001b[39m\n\u001b[32m    138\u001b[39m \u001b[38;5;28;01mdef\u001b[39;00m\u001b[38;5;250m \u001b[39m\u001b[34moptimize_once\u001b[39m(\u001b[38;5;28mself\u001b[39m, step, xc, rc):\n\u001b[32m    139\u001b[39m     xp = \u001b[38;5;28mself\u001b[39m.propose_candidate(xc)\n\u001b[32m--> \u001b[39m\u001b[32m140\u001b[39m     rp = \u001b[38;5;28;43mself\u001b[39;49m\u001b[43m.\u001b[49m\u001b[43mevaluate\u001b[49m\u001b[43m(\u001b[49m\u001b[43mxp\u001b[49m\u001b[43m)\u001b[49m\n\u001b[32m    142\u001b[39m     xc, rc = \u001b[38;5;28mself\u001b[39m.update_candicate(step, xc, rc, xp, rp)\n\u001b[32m    143\u001b[39m     \u001b[38;5;28mself\u001b[39m.log(step, xc, rc, xp, rp)\n",
      "\u001b[36mFile \u001b[39m\u001b[32m~/workspace/qml/qml/optimizer/base.py:70\u001b[39m, in \u001b[36mOptimizer.evaluate\u001b[39m\u001b[34m(self, params, test)\u001b[39m\n\u001b[32m     68\u001b[39m \u001b[38;5;28;01mdef\u001b[39;00m\u001b[38;5;250m \u001b[39m\u001b[34mevaluate\u001b[39m(\u001b[38;5;28mself\u001b[39m, params, test: \u001b[38;5;28mbool\u001b[39m = \u001b[38;5;28;01mFalse\u001b[39;00m) -> \u001b[38;5;28mfloat\u001b[39m:\n\u001b[32m     69\u001b[39m     eval_func = \u001b[38;5;28mself\u001b[39m.train_eval \u001b[38;5;28;01mif\u001b[39;00m \u001b[38;5;129;01mnot\u001b[39;00m test \u001b[38;5;28;01melse\u001b[39;00m \u001b[38;5;28mself\u001b[39m.test_eval\n\u001b[32m---> \u001b[39m\u001b[32m70\u001b[39m     \u001b[38;5;28;01mreturn\u001b[39;00m \u001b[43meval_func\u001b[49m\u001b[43m(\u001b[49m\u001b[43mparams\u001b[49m\u001b[43m)\u001b[49m\n",
      "\u001b[36mFile \u001b[39m\u001b[32m~/workspace/qml/qml/optimizer/evaluator/base.py:73\u001b[39m, in \u001b[36mEvaluator.__call__\u001b[39m\u001b[34m(self, params, model)\u001b[39m\n\u001b[32m     70\u001b[39m     \u001b[38;5;28mself\u001b[39m._loader_iter = \u001b[38;5;28miter\u001b[39m(\u001b[38;5;28mself\u001b[39m._loader)\n\u001b[32m     71\u001b[39m     xs, ys = \u001b[38;5;28mnext\u001b[39m(\u001b[38;5;28mself\u001b[39m._loader_iter)\n\u001b[32m---> \u001b[39m\u001b[32m73\u001b[39m \u001b[38;5;28;01mreturn\u001b[39;00m \u001b[38;5;28;43mself\u001b[39;49m\u001b[43m.\u001b[49m\u001b[43mevaluate\u001b[49m\u001b[43m(\u001b[49m\n\u001b[32m     74\u001b[39m \u001b[43m    \u001b[49m\u001b[43mmodel\u001b[49m\u001b[43m,\u001b[49m\u001b[43m \u001b[49m\u001b[43mparams\u001b[49m\u001b[43m,\u001b[49m\u001b[43m \u001b[49m\u001b[43mxs\u001b[49m\u001b[43m,\u001b[49m\u001b[43m \u001b[49m\u001b[43mys\u001b[49m\u001b[43m,\u001b[49m\u001b[43m \u001b[49m\u001b[43mshots\u001b[49m\u001b[43m=\u001b[49m\u001b[38;5;28;43mself\u001b[39;49m\u001b[43m.\u001b[49m\u001b[43mshots\u001b[49m\n\u001b[32m     75\u001b[39m \u001b[43m\u001b[49m\u001b[43m)\u001b[49m\n",
      "\u001b[36mFile \u001b[39m\u001b[32m~/workspace/qml/qml/optimizer/evaluator/mse.py:46\u001b[39m, in \u001b[36mMSEEvaluator.evaluate\u001b[39m\u001b[34m(cls, model, params, xs, ys, shots)\u001b[39m\n\u001b[32m     37\u001b[39m \u001b[38;5;129m@classmethod\u001b[39m\n\u001b[32m     38\u001b[39m \u001b[38;5;28;01mdef\u001b[39;00m\u001b[38;5;250m \u001b[39m\u001b[34mevaluate\u001b[39m(\n\u001b[32m     39\u001b[39m         \u001b[38;5;28mcls\u001b[39m,\n\u001b[32m   (...)\u001b[39m\u001b[32m     44\u001b[39m         shots: \u001b[38;5;28mint\u001b[39m = \u001b[38;5;28;01mNone\u001b[39;00m,\n\u001b[32m     45\u001b[39m ):\n\u001b[32m---> \u001b[39m\u001b[32m46\u001b[39m     res = \u001b[43mErrorEvaluator\u001b[49m\u001b[43m.\u001b[49m\u001b[43mevaluate\u001b[49m\u001b[43m(\u001b[49m\u001b[43mmodel\u001b[49m\u001b[43m,\u001b[49m\u001b[43m \u001b[49m\u001b[43mparams\u001b[49m\u001b[43m,\u001b[49m\u001b[43m \u001b[49m\u001b[43mxs\u001b[49m\u001b[43m,\u001b[49m\u001b[43m \u001b[49m\u001b[43mys\u001b[49m\u001b[43m,\u001b[49m\u001b[43m \u001b[49m\u001b[43mshots\u001b[49m\u001b[43m)\u001b[49m\n\u001b[32m     47\u001b[39m     loss = np.square(res.es).mean()\n\u001b[32m     48\u001b[39m     \u001b[38;5;28;01mreturn\u001b[39;00m MSEEvalResult(loss, xs, ys)\n",
      "\u001b[36mFile \u001b[39m\u001b[32m~/workspace/qml/qml/optimizer/evaluator/error.py:51\u001b[39m, in \u001b[36mErrorEvaluator.evaluate\u001b[39m\u001b[34m(cls, model, params, xs, ys, shots)\u001b[39m\n\u001b[32m     41\u001b[39m \u001b[38;5;129m@classmethod\u001b[39m\n\u001b[32m     42\u001b[39m \u001b[38;5;28;01mdef\u001b[39;00m\u001b[38;5;250m \u001b[39m\u001b[34mevaluate\u001b[39m(\n\u001b[32m     43\u001b[39m         \u001b[38;5;28mcls\u001b[39m,\n\u001b[32m   (...)\u001b[39m\u001b[32m     48\u001b[39m         shots: \u001b[38;5;28mint\u001b[39m = \u001b[38;5;28;01mNone\u001b[39;00m,\n\u001b[32m     49\u001b[39m ):\n\u001b[32m     50\u001b[39m     ps = np.asarray([\n\u001b[32m---> \u001b[39m\u001b[32m51\u001b[39m         \u001b[43mmodel\u001b[49m\u001b[43m.\u001b[49m\u001b[43mforward\u001b[49m\u001b[43m(\u001b[49m\u001b[43mx\u001b[49m\u001b[43m,\u001b[49m\u001b[43m \u001b[49m\u001b[43mparams\u001b[49m\u001b[43m=\u001b[49m\u001b[43mparams\u001b[49m\u001b[43m,\u001b[49m\u001b[43m \u001b[49m\u001b[43mshots\u001b[49m\u001b[43m=\u001b[49m\u001b[43mshots\u001b[49m\u001b[43m)\u001b[49m\n\u001b[32m     52\u001b[39m         \u001b[38;5;28;01mfor\u001b[39;00m x \u001b[38;5;129;01min\u001b[39;00m xs\n\u001b[32m     53\u001b[39m     ])\n\u001b[32m     54\u001b[39m     es = ys - ps\n\u001b[32m     55\u001b[39m     res = ErrorEvalResult(es, xs, ys)\n",
      "\u001b[36mFile \u001b[39m\u001b[32m~/workspace/qml/qml/model/model.py:56\u001b[39m, in \u001b[36mModel.forward\u001b[39m\u001b[34m(self, x, params, shots)\u001b[39m\n\u001b[32m     54\u001b[39m qc = \u001b[38;5;28mself\u001b[39m._apply()\n\u001b[32m     55\u001b[39m bc = qc.assign_parameters(feed_dict)\n\u001b[32m---> \u001b[39m\u001b[32m56\u001b[39m job = \u001b[43mtranspile\u001b[49m\u001b[43m(\u001b[49m\u001b[43mbc\u001b[49m\u001b[43m,\u001b[49m\u001b[43m \u001b[49m\u001b[38;5;28;43mself\u001b[39;49m\u001b[43m.\u001b[49m\u001b[43m_sim\u001b[49m\u001b[43m)\u001b[49m\n\u001b[32m     57\u001b[39m res = \u001b[38;5;28mself\u001b[39m._sim.run(job, shots=shots).result().get_counts()\n\u001b[32m     58\u001b[39m pre = res.get(\u001b[33m\"\u001b[39m\u001b[33m0\u001b[39m\u001b[33m\"\u001b[39m, \u001b[32m0\u001b[39m) - res.get(\u001b[33m\"\u001b[39m\u001b[33m1\u001b[39m\u001b[33m\"\u001b[39m, \u001b[32m0\u001b[39m)\n",
      "\u001b[36mFile \u001b[39m\u001b[32m/opt/homebrew/Caskroom/miniconda/base/envs/lb-qml/lib/python3.12/site-packages/qiskit/utils/deprecation.py:184\u001b[39m, in \u001b[36mdeprecate_arg.<locals>.decorator.<locals>.wrapper\u001b[39m\u001b[34m(*args, **kwargs)\u001b[39m\n\u001b[32m    171\u001b[39m \u001b[38;5;129m@functools\u001b[39m.wraps(func)\n\u001b[32m    172\u001b[39m \u001b[38;5;28;01mdef\u001b[39;00m\u001b[38;5;250m \u001b[39m\u001b[34mwrapper\u001b[39m(*args, **kwargs):\n\u001b[32m    173\u001b[39m     _maybe_warn_and_rename_kwarg(\n\u001b[32m    174\u001b[39m         args,\n\u001b[32m    175\u001b[39m         kwargs,\n\u001b[32m   (...)\u001b[39m\u001b[32m    182\u001b[39m         predicate=predicate,\n\u001b[32m    183\u001b[39m     )\n\u001b[32m--> \u001b[39m\u001b[32m184\u001b[39m     \u001b[38;5;28;01mreturn\u001b[39;00m \u001b[43mfunc\u001b[49m\u001b[43m(\u001b[49m\u001b[43m*\u001b[49m\u001b[43margs\u001b[49m\u001b[43m,\u001b[49m\u001b[43m \u001b[49m\u001b[43m*\u001b[49m\u001b[43m*\u001b[49m\u001b[43mkwargs\u001b[49m\u001b[43m)\u001b[49m\n",
      "\u001b[36mFile \u001b[39m\u001b[32m/opt/homebrew/Caskroom/miniconda/base/envs/lb-qml/lib/python3.12/site-packages/qiskit/utils/deprecation.py:184\u001b[39m, in \u001b[36mdeprecate_arg.<locals>.decorator.<locals>.wrapper\u001b[39m\u001b[34m(*args, **kwargs)\u001b[39m\n\u001b[32m    171\u001b[39m \u001b[38;5;129m@functools\u001b[39m.wraps(func)\n\u001b[32m    172\u001b[39m \u001b[38;5;28;01mdef\u001b[39;00m\u001b[38;5;250m \u001b[39m\u001b[34mwrapper\u001b[39m(*args, **kwargs):\n\u001b[32m    173\u001b[39m     _maybe_warn_and_rename_kwarg(\n\u001b[32m    174\u001b[39m         args,\n\u001b[32m    175\u001b[39m         kwargs,\n\u001b[32m   (...)\u001b[39m\u001b[32m    182\u001b[39m         predicate=predicate,\n\u001b[32m    183\u001b[39m     )\n\u001b[32m--> \u001b[39m\u001b[32m184\u001b[39m     \u001b[38;5;28;01mreturn\u001b[39;00m \u001b[43mfunc\u001b[49m\u001b[43m(\u001b[49m\u001b[43m*\u001b[49m\u001b[43margs\u001b[49m\u001b[43m,\u001b[49m\u001b[43m \u001b[49m\u001b[43m*\u001b[49m\u001b[43m*\u001b[49m\u001b[43mkwargs\u001b[49m\u001b[43m)\u001b[49m\n",
      "    \u001b[31m[... skipping similar frames: deprecate_arg.<locals>.decorator.<locals>.wrapper at line 184 (1 times)]\u001b[39m\n",
      "\u001b[36mFile \u001b[39m\u001b[32m/opt/homebrew/Caskroom/miniconda/base/envs/lb-qml/lib/python3.12/site-packages/qiskit/utils/deprecation.py:184\u001b[39m, in \u001b[36mdeprecate_arg.<locals>.decorator.<locals>.wrapper\u001b[39m\u001b[34m(*args, **kwargs)\u001b[39m\n\u001b[32m    171\u001b[39m \u001b[38;5;129m@functools\u001b[39m.wraps(func)\n\u001b[32m    172\u001b[39m \u001b[38;5;28;01mdef\u001b[39;00m\u001b[38;5;250m \u001b[39m\u001b[34mwrapper\u001b[39m(*args, **kwargs):\n\u001b[32m    173\u001b[39m     _maybe_warn_and_rename_kwarg(\n\u001b[32m    174\u001b[39m         args,\n\u001b[32m    175\u001b[39m         kwargs,\n\u001b[32m   (...)\u001b[39m\u001b[32m    182\u001b[39m         predicate=predicate,\n\u001b[32m    183\u001b[39m     )\n\u001b[32m--> \u001b[39m\u001b[32m184\u001b[39m     \u001b[38;5;28;01mreturn\u001b[39;00m \u001b[43mfunc\u001b[49m\u001b[43m(\u001b[49m\u001b[43m*\u001b[49m\u001b[43margs\u001b[49m\u001b[43m,\u001b[49m\u001b[43m \u001b[49m\u001b[43m*\u001b[49m\u001b[43m*\u001b[49m\u001b[43mkwargs\u001b[49m\u001b[43m)\u001b[49m\n",
      "\u001b[36mFile \u001b[39m\u001b[32m/opt/homebrew/Caskroom/miniconda/base/envs/lb-qml/lib/python3.12/site-packages/qiskit/compiler/transpiler.py:423\u001b[39m, in \u001b[36mtranspile\u001b[39m\u001b[34m(circuits, backend, basis_gates, inst_map, coupling_map, backend_properties, initial_layout, layout_method, routing_method, translation_method, scheduling_method, instruction_durations, dt, approximation_degree, timing_constraints, seed_transpiler, optimization_level, callback, output_name, unitary_synthesis_method, unitary_synthesis_plugin_config, target, hls_config, init_method, optimization_method, ignore_backend_supplied_default_methods, num_processes, qubits_initially_zero)\u001b[39m\n\u001b[32m    411\u001b[39m     warnings.filterwarnings(\n\u001b[32m    412\u001b[39m         \u001b[33m\"\u001b[39m\u001b[33mignore\u001b[39m\u001b[33m\"\u001b[39m,\n\u001b[32m    413\u001b[39m         category=\u001b[38;5;167;01mDeprecationWarning\u001b[39;00m,\n\u001b[32m    414\u001b[39m         message=\u001b[33m\"\u001b[39m\u001b[33m.*``instruction_durations`` is deprecated as of Qiskit 1.3.*\u001b[39m\u001b[33m\"\u001b[39m,\n\u001b[32m    415\u001b[39m         module=\u001b[33m\"\u001b[39m\u001b[33mqiskit\u001b[39m\u001b[33m\"\u001b[39m,\n\u001b[32m    416\u001b[39m     )\n\u001b[32m    417\u001b[39m     warnings.filterwarnings(\n\u001b[32m    418\u001b[39m         \u001b[33m\"\u001b[39m\u001b[33mignore\u001b[39m\u001b[33m\"\u001b[39m,\n\u001b[32m    419\u001b[39m         category=\u001b[38;5;167;01mDeprecationWarning\u001b[39;00m,\n\u001b[32m    420\u001b[39m         message=\u001b[33m\"\u001b[39m\u001b[33m.*``backend_properties`` is deprecated as of Qiskit 1.3.*\u001b[39m\u001b[33m\"\u001b[39m,\n\u001b[32m    421\u001b[39m         module=\u001b[33m\"\u001b[39m\u001b[33mqiskit\u001b[39m\u001b[33m\"\u001b[39m,\n\u001b[32m    422\u001b[39m     )\n\u001b[32m--> \u001b[39m\u001b[32m423\u001b[39m     pm = \u001b[43mgenerate_preset_pass_manager\u001b[49m\u001b[43m(\u001b[49m\n\u001b[32m    424\u001b[39m \u001b[43m        \u001b[49m\u001b[43moptimization_level\u001b[49m\u001b[43m,\u001b[49m\n\u001b[32m    425\u001b[39m \u001b[43m        \u001b[49m\u001b[43mtarget\u001b[49m\u001b[43m=\u001b[49m\u001b[43mtarget\u001b[49m\u001b[43m,\u001b[49m\n\u001b[32m    426\u001b[39m \u001b[43m        \u001b[49m\u001b[43mbackend\u001b[49m\u001b[43m=\u001b[49m\u001b[43mbackend\u001b[49m\u001b[43m,\u001b[49m\n\u001b[32m    427\u001b[39m \u001b[43m        \u001b[49m\u001b[43mbasis_gates\u001b[49m\u001b[43m=\u001b[49m\u001b[43mbasis_gates\u001b[49m\u001b[43m,\u001b[49m\n\u001b[32m    428\u001b[39m \u001b[43m        \u001b[49m\u001b[43mcoupling_map\u001b[49m\u001b[43m=\u001b[49m\u001b[43mcoupling_map\u001b[49m\u001b[43m,\u001b[49m\n\u001b[32m    429\u001b[39m \u001b[43m        \u001b[49m\u001b[43minstruction_durations\u001b[49m\u001b[43m=\u001b[49m\u001b[43minstruction_durations\u001b[49m\u001b[43m,\u001b[49m\n\u001b[32m    430\u001b[39m \u001b[43m        \u001b[49m\u001b[43mbackend_properties\u001b[49m\u001b[43m=\u001b[49m\u001b[43mbackend_properties\u001b[49m\u001b[43m,\u001b[49m\n\u001b[32m    431\u001b[39m \u001b[43m        \u001b[49m\u001b[43mtiming_constraints\u001b[49m\u001b[43m=\u001b[49m\u001b[43mtiming_constraints\u001b[49m\u001b[43m,\u001b[49m\n\u001b[32m    432\u001b[39m \u001b[43m        \u001b[49m\u001b[43minst_map\u001b[49m\u001b[43m=\u001b[49m\u001b[43minst_map\u001b[49m\u001b[43m,\u001b[49m\n\u001b[32m    433\u001b[39m \u001b[43m        \u001b[49m\u001b[43minitial_layout\u001b[49m\u001b[43m=\u001b[49m\u001b[43minitial_layout\u001b[49m\u001b[43m,\u001b[49m\n\u001b[32m    434\u001b[39m \u001b[43m        \u001b[49m\u001b[43mlayout_method\u001b[49m\u001b[43m=\u001b[49m\u001b[43mlayout_method\u001b[49m\u001b[43m,\u001b[49m\n\u001b[32m    435\u001b[39m \u001b[43m        \u001b[49m\u001b[43mrouting_method\u001b[49m\u001b[43m=\u001b[49m\u001b[43mrouting_method\u001b[49m\u001b[43m,\u001b[49m\n\u001b[32m    436\u001b[39m \u001b[43m        \u001b[49m\u001b[43mtranslation_method\u001b[49m\u001b[43m=\u001b[49m\u001b[43mtranslation_method\u001b[49m\u001b[43m,\u001b[49m\n\u001b[32m    437\u001b[39m \u001b[43m        \u001b[49m\u001b[43mscheduling_method\u001b[49m\u001b[43m=\u001b[49m\u001b[43mscheduling_method\u001b[49m\u001b[43m,\u001b[49m\n\u001b[32m    438\u001b[39m \u001b[43m        \u001b[49m\u001b[43mapproximation_degree\u001b[49m\u001b[43m=\u001b[49m\u001b[43mapproximation_degree\u001b[49m\u001b[43m,\u001b[49m\n\u001b[32m    439\u001b[39m \u001b[43m        \u001b[49m\u001b[43mseed_transpiler\u001b[49m\u001b[43m=\u001b[49m\u001b[43mseed_transpiler\u001b[49m\u001b[43m,\u001b[49m\n\u001b[32m    440\u001b[39m \u001b[43m        \u001b[49m\u001b[43munitary_synthesis_method\u001b[49m\u001b[43m=\u001b[49m\u001b[43munitary_synthesis_method\u001b[49m\u001b[43m,\u001b[49m\n\u001b[32m    441\u001b[39m \u001b[43m        \u001b[49m\u001b[43munitary_synthesis_plugin_config\u001b[49m\u001b[43m=\u001b[49m\u001b[43munitary_synthesis_plugin_config\u001b[49m\u001b[43m,\u001b[49m\n\u001b[32m    442\u001b[39m \u001b[43m        \u001b[49m\u001b[43mhls_config\u001b[49m\u001b[43m=\u001b[49m\u001b[43mhls_config\u001b[49m\u001b[43m,\u001b[49m\n\u001b[32m    443\u001b[39m \u001b[43m        \u001b[49m\u001b[43minit_method\u001b[49m\u001b[43m=\u001b[49m\u001b[43minit_method\u001b[49m\u001b[43m,\u001b[49m\n\u001b[32m    444\u001b[39m \u001b[43m        \u001b[49m\u001b[43moptimization_method\u001b[49m\u001b[43m=\u001b[49m\u001b[43moptimization_method\u001b[49m\u001b[43m,\u001b[49m\n\u001b[32m    445\u001b[39m \u001b[43m        \u001b[49m\u001b[43mdt\u001b[49m\u001b[43m=\u001b[49m\u001b[43mdt\u001b[49m\u001b[43m,\u001b[49m\n\u001b[32m    446\u001b[39m \u001b[43m        \u001b[49m\u001b[43mqubits_initially_zero\u001b[49m\u001b[43m=\u001b[49m\u001b[43mqubits_initially_zero\u001b[49m\u001b[43m,\u001b[49m\n\u001b[32m    447\u001b[39m \u001b[43m    \u001b[49m\u001b[43m)\u001b[49m\n\u001b[32m    449\u001b[39m out_circuits = pm.run(circuits, callback=callback, num_processes=num_processes)\n\u001b[32m    451\u001b[39m \u001b[38;5;28;01mfor\u001b[39;00m name, circ \u001b[38;5;129;01min\u001b[39;00m \u001b[38;5;28mzip\u001b[39m(output_name, out_circuits):\n",
      "\u001b[36mFile \u001b[39m\u001b[32m/opt/homebrew/Caskroom/miniconda/base/envs/lb-qml/lib/python3.12/site-packages/qiskit/utils/deprecation.py:184\u001b[39m, in \u001b[36mdeprecate_arg.<locals>.decorator.<locals>.wrapper\u001b[39m\u001b[34m(*args, **kwargs)\u001b[39m\n\u001b[32m    171\u001b[39m \u001b[38;5;129m@functools\u001b[39m.wraps(func)\n\u001b[32m    172\u001b[39m \u001b[38;5;28;01mdef\u001b[39;00m\u001b[38;5;250m \u001b[39m\u001b[34mwrapper\u001b[39m(*args, **kwargs):\n\u001b[32m    173\u001b[39m     _maybe_warn_and_rename_kwarg(\n\u001b[32m    174\u001b[39m         args,\n\u001b[32m    175\u001b[39m         kwargs,\n\u001b[32m   (...)\u001b[39m\u001b[32m    182\u001b[39m         predicate=predicate,\n\u001b[32m    183\u001b[39m     )\n\u001b[32m--> \u001b[39m\u001b[32m184\u001b[39m     \u001b[38;5;28;01mreturn\u001b[39;00m \u001b[43mfunc\u001b[49m\u001b[43m(\u001b[49m\u001b[43m*\u001b[49m\u001b[43margs\u001b[49m\u001b[43m,\u001b[49m\u001b[43m \u001b[49m\u001b[43m*\u001b[49m\u001b[43m*\u001b[49m\u001b[43mkwargs\u001b[49m\u001b[43m)\u001b[49m\n",
      "\u001b[36mFile \u001b[39m\u001b[32m/opt/homebrew/Caskroom/miniconda/base/envs/lb-qml/lib/python3.12/site-packages/qiskit/utils/deprecation.py:184\u001b[39m, in \u001b[36mdeprecate_arg.<locals>.decorator.<locals>.wrapper\u001b[39m\u001b[34m(*args, **kwargs)\u001b[39m\n\u001b[32m    171\u001b[39m \u001b[38;5;129m@functools\u001b[39m.wraps(func)\n\u001b[32m    172\u001b[39m \u001b[38;5;28;01mdef\u001b[39;00m\u001b[38;5;250m \u001b[39m\u001b[34mwrapper\u001b[39m(*args, **kwargs):\n\u001b[32m    173\u001b[39m     _maybe_warn_and_rename_kwarg(\n\u001b[32m    174\u001b[39m         args,\n\u001b[32m    175\u001b[39m         kwargs,\n\u001b[32m   (...)\u001b[39m\u001b[32m    182\u001b[39m         predicate=predicate,\n\u001b[32m    183\u001b[39m     )\n\u001b[32m--> \u001b[39m\u001b[32m184\u001b[39m     \u001b[38;5;28;01mreturn\u001b[39;00m \u001b[43mfunc\u001b[49m\u001b[43m(\u001b[49m\u001b[43m*\u001b[49m\u001b[43margs\u001b[49m\u001b[43m,\u001b[49m\u001b[43m \u001b[49m\u001b[43m*\u001b[49m\u001b[43m*\u001b[49m\u001b[43mkwargs\u001b[49m\u001b[43m)\u001b[49m\n",
      "    \u001b[31m[... skipping similar frames: deprecate_arg.<locals>.decorator.<locals>.wrapper at line 184 (1 times)]\u001b[39m\n",
      "\u001b[36mFile \u001b[39m\u001b[32m/opt/homebrew/Caskroom/miniconda/base/envs/lb-qml/lib/python3.12/site-packages/qiskit/utils/deprecation.py:184\u001b[39m, in \u001b[36mdeprecate_arg.<locals>.decorator.<locals>.wrapper\u001b[39m\u001b[34m(*args, **kwargs)\u001b[39m\n\u001b[32m    171\u001b[39m \u001b[38;5;129m@functools\u001b[39m.wraps(func)\n\u001b[32m    172\u001b[39m \u001b[38;5;28;01mdef\u001b[39;00m\u001b[38;5;250m \u001b[39m\u001b[34mwrapper\u001b[39m(*args, **kwargs):\n\u001b[32m    173\u001b[39m     _maybe_warn_and_rename_kwarg(\n\u001b[32m    174\u001b[39m         args,\n\u001b[32m    175\u001b[39m         kwargs,\n\u001b[32m   (...)\u001b[39m\u001b[32m    182\u001b[39m         predicate=predicate,\n\u001b[32m    183\u001b[39m     )\n\u001b[32m--> \u001b[39m\u001b[32m184\u001b[39m     \u001b[38;5;28;01mreturn\u001b[39;00m \u001b[43mfunc\u001b[49m\u001b[43m(\u001b[49m\u001b[43m*\u001b[49m\u001b[43margs\u001b[49m\u001b[43m,\u001b[49m\u001b[43m \u001b[49m\u001b[43m*\u001b[49m\u001b[43m*\u001b[49m\u001b[43mkwargs\u001b[49m\u001b[43m)\u001b[49m\n",
      "\u001b[36mFile \u001b[39m\u001b[32m/opt/homebrew/Caskroom/miniconda/base/envs/lb-qml/lib/python3.12/site-packages/qiskit/transpiler/preset_passmanagers/generate_preset_pass_manager.py:333\u001b[39m, in \u001b[36mgenerate_preset_pass_manager\u001b[39m\u001b[34m(optimization_level, backend, target, basis_gates, inst_map, coupling_map, instruction_durations, backend_properties, timing_constraints, initial_layout, layout_method, routing_method, translation_method, scheduling_method, approximation_degree, seed_transpiler, unitary_synthesis_method, unitary_synthesis_plugin_config, hls_config, init_method, optimization_method, dt, qubits_initially_zero, _skip_target)\u001b[39m\n\u001b[32m    330\u001b[39m inst_map = _parse_inst_map(inst_map, backend)\n\u001b[32m    331\u001b[39m \u001b[38;5;66;03m# The basis gates parser will set _skip_target to True if a custom basis gate is found\u001b[39;00m\n\u001b[32m    332\u001b[39m \u001b[38;5;66;03m# (known edge case).\u001b[39;00m\n\u001b[32m--> \u001b[39m\u001b[32m333\u001b[39m basis_gates, name_mapping, _skip_target = \u001b[43m_parse_basis_gates\u001b[49m\u001b[43m(\u001b[49m\n\u001b[32m    334\u001b[39m \u001b[43m    \u001b[49m\u001b[43mbasis_gates\u001b[49m\u001b[43m,\u001b[49m\u001b[43m \u001b[49m\u001b[43mbackend\u001b[49m\u001b[43m,\u001b[49m\u001b[43m \u001b[49m\u001b[43minst_map\u001b[49m\u001b[43m,\u001b[49m\u001b[43m \u001b[49m\u001b[43m_skip_target\u001b[49m\n\u001b[32m    335\u001b[39m \u001b[43m\u001b[49m\u001b[43m)\u001b[49m\n\u001b[32m    336\u001b[39m coupling_map = _parse_coupling_map(coupling_map, backend)\n\u001b[32m    338\u001b[39m \u001b[38;5;28;01mif\u001b[39;00m target \u001b[38;5;129;01mis\u001b[39;00m \u001b[38;5;28;01mNone\u001b[39;00m:\n",
      "\u001b[36mFile \u001b[39m\u001b[32m/opt/homebrew/Caskroom/miniconda/base/envs/lb-qml/lib/python3.12/site-packages/qiskit/transpiler/preset_passmanagers/generate_preset_pass_manager.py:522\u001b[39m, in \u001b[36m_parse_basis_gates\u001b[39m\u001b[34m(basis_gates, backend, inst_map, skip_target)\u001b[39m\n\u001b[32m    518\u001b[39m     \u001b[38;5;28;01mreturn\u001b[39;00m \u001b[38;5;28mlist\u001b[39m(instructions), name_mapping, skip_target\n\u001b[32m    520\u001b[39m instructions = instructions \u001b[38;5;129;01mor\u001b[39;00m backend.operation_names\n\u001b[32m    521\u001b[39m name_mapping.update(\n\u001b[32m--> \u001b[39m\u001b[32m522\u001b[39m     {name: \u001b[43mbackend\u001b[49m\u001b[43m.\u001b[49m\u001b[43mtarget\u001b[49m.operation_from_name(name) \u001b[38;5;28;01mfor\u001b[39;00m name \u001b[38;5;129;01min\u001b[39;00m backend.operation_names}\n\u001b[32m    523\u001b[39m )\n\u001b[32m    525\u001b[39m \u001b[38;5;66;03m# Check for custom instructions before removing calibrations\u001b[39;00m\n\u001b[32m    526\u001b[39m \u001b[38;5;28;01mfor\u001b[39;00m inst \u001b[38;5;129;01min\u001b[39;00m instructions:\n",
      "\u001b[36mFile \u001b[39m\u001b[32m/opt/homebrew/Caskroom/miniconda/base/envs/lb-qml/lib/python3.12/site-packages/qiskit_aer/backends/aerbackend.py:260\u001b[39m, in \u001b[36mAerBackend.target\u001b[39m\u001b[34m(self)\u001b[39m\n\u001b[32m    257\u001b[39m properties = \u001b[38;5;28mself\u001b[39m.properties()\n\u001b[32m    259\u001b[39m \u001b[38;5;66;03m# Load Qiskit object representation\u001b[39;00m\n\u001b[32m--> \u001b[39m\u001b[32m260\u001b[39m qiskit_inst_mapping = \u001b[43mget_standard_gate_name_mapping\u001b[49m\u001b[43m(\u001b[49m\u001b[43m)\u001b[49m\n\u001b[32m    261\u001b[39m qiskit_inst_mapping.update(NAME_MAPPING)\n\u001b[32m    263\u001b[39m qiskit_control_flow_mapping = {\n\u001b[32m    264\u001b[39m     \u001b[33m\"\u001b[39m\u001b[33mif_else\u001b[39m\u001b[33m\"\u001b[39m: IfElseOp,\n\u001b[32m    265\u001b[39m     \u001b[33m\"\u001b[39m\u001b[33mwhile_loop\u001b[39m\u001b[33m\"\u001b[39m: WhileLoopOp,\n\u001b[32m    266\u001b[39m     \u001b[33m\"\u001b[39m\u001b[33mfor_loop\u001b[39m\u001b[33m\"\u001b[39m: ForLoopOp,\n\u001b[32m    267\u001b[39m     \u001b[33m\"\u001b[39m\u001b[33mswitch_case\u001b[39m\u001b[33m\"\u001b[39m: SwitchCaseOp,\n\u001b[32m    268\u001b[39m }\n",
      "\u001b[36mFile \u001b[39m\u001b[32m/opt/homebrew/Caskroom/miniconda/base/envs/lb-qml/lib/python3.12/site-packages/qiskit/circuit/library/standard_gates/__init__.py:98\u001b[39m, in \u001b[36mget_standard_gate_name_mapping\u001b[39m\u001b[34m()\u001b[39m\n\u001b[32m     81\u001b[39m time = Parameter(\u001b[33m\"\u001b[39m\u001b[33mt\u001b[39m\u001b[33m\"\u001b[39m)\n\u001b[32m     83\u001b[39m \u001b[38;5;66;03m# Standard gates library mapping, multicontrolled gates not included since they're\u001b[39;00m\n\u001b[32m     84\u001b[39m \u001b[38;5;66;03m# variable width\u001b[39;00m\n\u001b[32m     85\u001b[39m gates = [\n\u001b[32m     86\u001b[39m     IGate(),\n\u001b[32m     87\u001b[39m     SXGate(),\n\u001b[32m     88\u001b[39m     XGate(),\n\u001b[32m     89\u001b[39m     CXGate(),\n\u001b[32m     90\u001b[39m     RZGate(lambda_),\n\u001b[32m     91\u001b[39m     RGate(theta, phi),\n\u001b[32m     92\u001b[39m     C3SXGate(),\n\u001b[32m     93\u001b[39m     CCXGate(),\n\u001b[32m     94\u001b[39m     DCXGate(),\n\u001b[32m     95\u001b[39m     CHGate(),\n\u001b[32m     96\u001b[39m     CPhaseGate(theta),\n\u001b[32m     97\u001b[39m     CRXGate(theta),\n\u001b[32m---> \u001b[39m\u001b[32m98\u001b[39m     \u001b[43mCRYGate\u001b[49m\u001b[43m(\u001b[49m\u001b[43mtheta\u001b[49m\u001b[43m)\u001b[49m,\n\u001b[32m     99\u001b[39m     CRZGate(theta),\n\u001b[32m    100\u001b[39m     CSwapGate(),\n\u001b[32m    101\u001b[39m     CSXGate(),\n\u001b[32m    102\u001b[39m     CUGate(theta, phi, lambda_, gamma),\n\u001b[32m    103\u001b[39m     CU1Gate(lambda_),\n\u001b[32m    104\u001b[39m     CU3Gate(theta, phi, lambda_),\n\u001b[32m    105\u001b[39m     CYGate(),\n\u001b[32m    106\u001b[39m     CZGate(),\n\u001b[32m    107\u001b[39m     CCZGate(),\n\u001b[32m    108\u001b[39m     GlobalPhaseGate(theta),\n\u001b[32m    109\u001b[39m     HGate(),\n\u001b[32m    110\u001b[39m     PhaseGate(theta),\n\u001b[32m    111\u001b[39m     RCCXGate(),\n\u001b[32m    112\u001b[39m     RC3XGate(),\n\u001b[32m    113\u001b[39m     RXGate(theta),\n\u001b[32m    114\u001b[39m     RXXGate(theta),\n\u001b[32m    115\u001b[39m     RYGate(theta),\n\u001b[32m    116\u001b[39m     RYYGate(theta),\n\u001b[32m    117\u001b[39m     RZZGate(theta),\n\u001b[32m    118\u001b[39m     RZXGate(theta),\n\u001b[32m    119\u001b[39m     XXMinusYYGate(theta, beta),\n\u001b[32m    120\u001b[39m     XXPlusYYGate(theta, beta),\n\u001b[32m    121\u001b[39m     ECRGate(),\n\u001b[32m    122\u001b[39m     SGate(),\n\u001b[32m    123\u001b[39m     SdgGate(),\n\u001b[32m    124\u001b[39m     CSGate(),\n\u001b[32m    125\u001b[39m     CSdgGate(),\n\u001b[32m    126\u001b[39m     SwapGate(),\n\u001b[32m    127\u001b[39m     iSwapGate(),\n\u001b[32m    128\u001b[39m     SXdgGate(),\n\u001b[32m    129\u001b[39m     TGate(),\n\u001b[32m    130\u001b[39m     TdgGate(),\n\u001b[32m    131\u001b[39m     UGate(theta, phi, lambda_),\n\u001b[32m    132\u001b[39m     U1Gate(lambda_),\n\u001b[32m    133\u001b[39m     U2Gate(phi, lambda_),\n\u001b[32m    134\u001b[39m     U3Gate(theta, phi, lambda_),\n\u001b[32m    135\u001b[39m     YGate(),\n\u001b[32m    136\u001b[39m     ZGate(),\n\u001b[32m    137\u001b[39m     Delay(time),\n\u001b[32m    138\u001b[39m     Reset(),\n\u001b[32m    139\u001b[39m     Measure(),\n\u001b[32m    140\u001b[39m ]\n\u001b[32m    141\u001b[39m name_mapping = {gate.name: gate \u001b[38;5;28;01mfor\u001b[39;00m gate \u001b[38;5;129;01min\u001b[39;00m gates}\n\u001b[32m    142\u001b[39m \u001b[38;5;28;01mreturn\u001b[39;00m name_mapping\n",
      "\u001b[36mFile \u001b[39m\u001b[32m/opt/homebrew/Caskroom/miniconda/base/envs/lb-qml/lib/python3.12/site-packages/qiskit/circuit/library/standard_gates/ry.py:232\u001b[39m, in \u001b[36mCRYGate.__init__\u001b[39m\u001b[34m(self, theta, label, ctrl_state, duration, unit, _base_label)\u001b[39m\n\u001b[32m    214\u001b[39m \u001b[38;5;28;01mdef\u001b[39;00m\u001b[38;5;250m \u001b[39m\u001b[34m__init__\u001b[39m(\n\u001b[32m    215\u001b[39m     \u001b[38;5;28mself\u001b[39m,\n\u001b[32m    216\u001b[39m     theta: ParameterValueType,\n\u001b[32m   (...)\u001b[39m\u001b[32m    222\u001b[39m     _base_label=\u001b[38;5;28;01mNone\u001b[39;00m,\n\u001b[32m    223\u001b[39m ):\n\u001b[32m    224\u001b[39m \u001b[38;5;250m    \u001b[39m\u001b[33;03m\"\"\"Create new CRY gate.\"\"\"\u001b[39;00m\n\u001b[32m    225\u001b[39m     \u001b[38;5;28msuper\u001b[39m().\u001b[34m__init__\u001b[39m(\n\u001b[32m    226\u001b[39m         \u001b[33m\"\u001b[39m\u001b[33mcry\u001b[39m\u001b[33m\"\u001b[39m,\n\u001b[32m    227\u001b[39m         \u001b[32m2\u001b[39m,\n\u001b[32m    228\u001b[39m         [theta],\n\u001b[32m    229\u001b[39m         num_ctrl_qubits=\u001b[32m1\u001b[39m,\n\u001b[32m    230\u001b[39m         label=label,\n\u001b[32m    231\u001b[39m         ctrl_state=ctrl_state,\n\u001b[32m--> \u001b[39m\u001b[32m232\u001b[39m         base_gate=\u001b[43mRYGate\u001b[49m\u001b[43m(\u001b[49m\u001b[43mtheta\u001b[49m\u001b[43m,\u001b[49m\u001b[43m \u001b[49m\u001b[43mlabel\u001b[49m\u001b[43m=\u001b[49m\u001b[43m_base_label\u001b[49m\u001b[43m)\u001b[49m,\n\u001b[32m    233\u001b[39m         duration=duration,\n\u001b[32m    234\u001b[39m         unit=unit,\n\u001b[32m    235\u001b[39m     )\n",
      "\u001b[36mFile \u001b[39m\u001b[32m/opt/homebrew/Caskroom/miniconda/base/envs/lb-qml/lib/python3.12/site-packages/qiskit/circuit/library/standard_gates/ry.py:61\u001b[39m, in \u001b[36mRYGate.__init__\u001b[39m\u001b[34m(self, theta, label, duration, unit)\u001b[39m\n\u001b[32m     57\u001b[39m \u001b[38;5;28;01mdef\u001b[39;00m\u001b[38;5;250m \u001b[39m\u001b[34m__init__\u001b[39m(\n\u001b[32m     58\u001b[39m     \u001b[38;5;28mself\u001b[39m, theta: ParameterValueType, label: Optional[\u001b[38;5;28mstr\u001b[39m] = \u001b[38;5;28;01mNone\u001b[39;00m, *, duration=\u001b[38;5;28;01mNone\u001b[39;00m, unit=\u001b[33m\"\u001b[39m\u001b[33mdt\u001b[39m\u001b[33m\"\u001b[39m\n\u001b[32m     59\u001b[39m ):\n\u001b[32m     60\u001b[39m \u001b[38;5;250m    \u001b[39m\u001b[33;03m\"\"\"Create new RY gate.\"\"\"\u001b[39;00m\n\u001b[32m---> \u001b[39m\u001b[32m61\u001b[39m     \u001b[38;5;28;43msuper\u001b[39;49m\u001b[43m(\u001b[49m\u001b[43m)\u001b[49m\u001b[43m.\u001b[49m\u001b[34;43m__init__\u001b[39;49m\u001b[43m(\u001b[49m\u001b[33;43m\"\u001b[39;49m\u001b[33;43mry\u001b[39;49m\u001b[33;43m\"\u001b[39;49m\u001b[43m,\u001b[49m\u001b[43m \u001b[49m\u001b[32;43m1\u001b[39;49m\u001b[43m,\u001b[49m\u001b[43m \u001b[49m\u001b[43m[\u001b[49m\u001b[43mtheta\u001b[49m\u001b[43m]\u001b[49m\u001b[43m,\u001b[49m\u001b[43m \u001b[49m\u001b[43mlabel\u001b[49m\u001b[43m=\u001b[49m\u001b[43mlabel\u001b[49m\u001b[43m,\u001b[49m\u001b[43m \u001b[49m\u001b[43mduration\u001b[49m\u001b[43m=\u001b[49m\u001b[43mduration\u001b[49m\u001b[43m,\u001b[49m\u001b[43m \u001b[49m\u001b[43munit\u001b[49m\u001b[43m=\u001b[49m\u001b[43munit\u001b[49m\u001b[43m)\u001b[49m\n",
      "\u001b[36mFile \u001b[39m\u001b[32m/opt/homebrew/Caskroom/miniconda/base/envs/lb-qml/lib/python3.12/site-packages/qiskit/circuit/gate.py:46\u001b[39m, in \u001b[36mGate.__init__\u001b[39m\u001b[34m(self, name, num_qubits, params, label, duration, unit)\u001b[39m\n\u001b[32m     37\u001b[39m \u001b[38;5;250m\u001b[39m\u001b[33;03m\"\"\"Create a new gate.\u001b[39;00m\n\u001b[32m     38\u001b[39m \n\u001b[32m     39\u001b[39m \u001b[33;03mArgs:\u001b[39;00m\n\u001b[32m   (...)\u001b[39m\u001b[32m     43\u001b[39m \u001b[33;03m    label: An optional label for the gate.\u001b[39;00m\n\u001b[32m     44\u001b[39m \u001b[33;03m\"\"\"\u001b[39;00m\n\u001b[32m     45\u001b[39m \u001b[38;5;28mself\u001b[39m.definition = \u001b[38;5;28;01mNone\u001b[39;00m\n\u001b[32m---> \u001b[39m\u001b[32m46\u001b[39m \u001b[38;5;28;43msuper\u001b[39;49m\u001b[43m(\u001b[49m\u001b[43m)\u001b[49m\u001b[43m.\u001b[49m\u001b[34;43m__init__\u001b[39;49m\u001b[43m(\u001b[49m\u001b[43mname\u001b[49m\u001b[43m,\u001b[49m\u001b[43m \u001b[49m\u001b[43mnum_qubits\u001b[49m\u001b[43m,\u001b[49m\u001b[43m \u001b[49m\u001b[32;43m0\u001b[39;49m\u001b[43m,\u001b[49m\u001b[43m \u001b[49m\u001b[43mparams\u001b[49m\u001b[43m,\u001b[49m\u001b[43m \u001b[49m\u001b[43mlabel\u001b[49m\u001b[43m=\u001b[49m\u001b[43mlabel\u001b[49m\u001b[43m,\u001b[49m\u001b[43m \u001b[49m\u001b[43mduration\u001b[49m\u001b[43m=\u001b[49m\u001b[43mduration\u001b[49m\u001b[43m,\u001b[49m\u001b[43m \u001b[49m\u001b[43munit\u001b[49m\u001b[43m=\u001b[49m\u001b[43munit\u001b[49m\u001b[43m)\u001b[49m\n",
      "\u001b[36mFile \u001b[39m\u001b[32m/opt/homebrew/Caskroom/miniconda/base/envs/lb-qml/lib/python3.12/site-packages/qiskit/circuit/instruction.py:131\u001b[39m, in \u001b[36mInstruction.__init__\u001b[39m\u001b[34m(self, name, num_qubits, num_clbits, params, duration, unit, label)\u001b[39m\n\u001b[32m    122\u001b[39m     warnings.warn(\n\u001b[32m    123\u001b[39m         \u001b[33m\"\u001b[39m\u001b[33mSetting a custom unit for duration per instruction is deprecated as of Qiskit \u001b[39m\u001b[33m\"\u001b[39m\n\u001b[32m    124\u001b[39m         \u001b[33m\"\u001b[39m\u001b[33m1.3.0. It will be removed in Qiskit 2.0.0. An instruction\u001b[39m\u001b[33m'\u001b[39m\u001b[33ms duration \u001b[39m\u001b[33m\"\u001b[39m\n\u001b[32m   (...)\u001b[39m\u001b[32m    127\u001b[39m         stacklevel=\u001b[32m2\u001b[39m,\n\u001b[32m    128\u001b[39m     )\n\u001b[32m    129\u001b[39m \u001b[38;5;28mself\u001b[39m._unit = unit\n\u001b[32m--> \u001b[39m\u001b[32m131\u001b[39m \u001b[38;5;28;43mself\u001b[39;49m\u001b[43m.\u001b[49m\u001b[43mparams\u001b[49m = params\n",
      "\u001b[36mFile \u001b[39m\u001b[32m/opt/homebrew/Caskroom/miniconda/base/envs/lb-qml/lib/python3.12/site-packages/qiskit/circuit/instruction.py:311\u001b[39m, in \u001b[36mInstruction.params\u001b[39m\u001b[34m(self, parameters)\u001b[39m\n\u001b[32m    308\u001b[39m \u001b[38;5;250m    \u001b[39m\u001b[33;03m\"\"\"The parameters of this :class:`Instruction`.  Ideally these will be gate angles.\"\"\"\u001b[39;00m\n\u001b[32m    309\u001b[39m     \u001b[38;5;28;01mreturn\u001b[39;00m \u001b[38;5;28mself\u001b[39m._params\n\u001b[32m--> \u001b[39m\u001b[32m311\u001b[39m \u001b[38;5;129m@params\u001b[39m.setter\n\u001b[32m    312\u001b[39m \u001b[38;5;28;01mdef\u001b[39;00m\u001b[38;5;250m \u001b[39m\u001b[34mparams\u001b[39m(\u001b[38;5;28mself\u001b[39m, parameters):\n\u001b[32m    313\u001b[39m     \u001b[38;5;28mself\u001b[39m._params = []\n\u001b[32m    314\u001b[39m     \u001b[38;5;28;01mfor\u001b[39;00m single_param \u001b[38;5;129;01min\u001b[39;00m parameters:\n",
      "\u001b[31mKeyboardInterrupt\u001b[39m: "
     ]
    }
   ],
   "source": [
    "save_dir = xt.make_dirs_current_time(\"note/experiments/results\")\n",
    "\n",
    "policy, reference, optimizer, sampler = prepare_policy(cf)\n",
    "logger = xsim.Logger()\n",
    "vlogger = xsim.Logger()\n",
    "\n",
    "\n",
    "torch.save(policy.state_dict(), xt.join(save_dir, f\"results_0000.pth\"))\n",
    "vresults = validate(sampler, validation_datasets, cf)\n",
    "vlogger.store(\n",
    "    epoch=0,\n",
    "    **vresults,\n",
    ").flush()\n",
    "\n",
    "for epoch in range(1, cf.dpo.training.num_epochs+1):\n",
    "    epoch_losses = []\n",
    "    # hard_copy(policy, reference)\n",
    "    for batch in loader:\n",
    "        losses = train_once(policy, reference, optimizer, batch, sampler, cf)\n",
    "        \n",
    "        # logging\n",
    "        epoch_losses.append(losses)\n",
    "\n",
    "    loss = np.mean([loss.total for loss in epoch_losses])\n",
    "    loss_dpo = np.mean([loss.dpo for loss in epoch_losses])\n",
    "    logger.store(\n",
    "        epoch=epoch,\n",
    "        loss=loss,\n",
    "        loss_dpo=loss_dpo,\n",
    "    )\n",
    "    status = f\"epoch {epoch:>3}  loss: {loss:.4f}  dpo: {loss_dpo:.4f}\"\n",
    "\n",
    "    if cf.dpo.training.cpo:\n",
    "        loss_llh = np.mean([loss.llh for loss in epoch_losses])\n",
    "        logger.store(loss_llh=loss_llh)\n",
    "        status +=f\"  llh: {loss_llh:.4f}\"\n",
    "\n",
    "    logger.flush()\n",
    "    print(status)\n",
    "\n",
    "    if epoch % cf.dpo.validation.interval == 0:\n",
    "        torch.save(policy.state_dict(), xt.join(save_dir, f\"results_{epoch:04d}.pth\"))\n",
    "        vresults = validate(sampler, validation_datasets, cf)\n",
    "        vlogger.store(\n",
    "            epoch=epoch,\n",
    "            **vresults,\n",
    "        ).flush()\n",
    "\n",
    "        plot_results_on_notebook(logger, vlogger, cf)\n",
    "\n",
    "\n",
    "res, vres = plot_results_on_notebook(logger, vlogger, cf)\n",
    "res.to_csv(save_dir + \"results.csv\")\n",
    "vres.to_csv(save_dir + \"vresults.csv\")\n"
   ]
  },
  {
   "cell_type": "code",
   "execution_count": null,
   "metadata": {},
   "outputs": [],
   "source": []
  }
 ],
 "metadata": {
  "kernelspec": {
   "display_name": "lb-qml",
   "language": "python",
   "name": "python3"
  },
  "language_info": {
   "codemirror_mode": {
    "name": "ipython",
    "version": 3
   },
   "file_extension": ".py",
   "mimetype": "text/x-python",
   "name": "python",
   "nbconvert_exporter": "python",
   "pygments_lexer": "ipython3",
   "version": "3.12.9"
  }
 },
 "nbformat": 4,
 "nbformat_minor": 2
}
