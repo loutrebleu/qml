{
 "cells": [
  {
   "cell_type": "code",
   "execution_count": 1,
   "metadata": {},
   "outputs": [],
   "source": [
    "%load_ext autoreload\n",
    "%autoreload 2"
   ]
  },
  {
   "cell_type": "code",
   "execution_count": 4,
   "metadata": {},
   "outputs": [],
   "source": [
    "import os\n",
    "cwd = os.getcwd().replace(\"note/hl\", \"\")\n",
    "os.chdir(cwd)"
   ]
  },
  {
   "cell_type": "code",
   "execution_count": 3,
   "metadata": {},
   "outputs": [],
   "source": [
    "import numpy as np\n",
    "import matplotlib.pyplot as plt"
   ]
  },
  {
   "cell_type": "markdown",
   "metadata": {},
   "source": [
    "# MaxCut Problem (3 Nodes, Unique Optimal Solution)\n",
    "\n",
    "## ✅ Graph Definition\n",
    "\n",
    "- Node set:$\n",
    "  V = \\{0, 1, 2\\}$\n",
    "\n",
    "- Edge set (with weights):$\n",
    "  E = \\{(0,1,w_{01}=10),\\ (1,2,w_{12}=1),\\ (0,2,w_{02}=1)\\}$\n",
    "\n",
    "## ✅ Problem Statement\n",
    "\n",
    "In the MaxCut problem, the goal is to partition the node set \\( V \\) into two disjoint subsets \\( S \\) and \\( $\\bar{S}$ \\) such that the **total weight of the edges crossing the partition is maximized**.\n",
    "\n",
    "\n",
    "## ✅ Cut Value for Each Partition\n",
    "\n",
    "| Partition \\( S \\) | \\( \\bar{S} \\) | Cut Edges                    | Total Weight |\n",
    "|-------------------|----------------|-------------------------------|---------------|\n",
    "| {0}               | {1,2}          | (0,1)=10, (0,2)=1             | **11** ✅ Optimal |\n",
    "| {1}               | {0,2}          | (0,1)=10, (1,2)=1             | 11            |\n",
    "| {2}               | {0,1}          | (0,2)=1, (1,2)=1              | 2             |\n",
    "| {0,1}             | {2}            | (0,2)=1, (1,2)=1              | 2             |\n",
    "| {0,2}             | {1}            | (0,1)=10, (1,2)=1             | 11            |\n",
    "| {1,2}             | {0}            | (0,1)=10, (0,2)=1             | 11            |\n",
    "| {0,1,2}           | ∅              | None                          | 0             |\n",
    "| ∅                 | {0,1,2}        | None                          | 0             |\n",
    "\n",
    "> In MaxCut, a partition and its complement are considered equivalent, so the **optimal solution is unique**.\n",
    "\n",
    "---\n",
    "\n",
    "## ✅ Optimal Solution\n",
    "\n",
    "- **Optimal partition**:\n",
    "  $S = \\{0\\},\\quad \\bar{S} = \\{1, 2\\}$\n",
    "- **Maximum cut value**: 11\n",
    "\n",
    "---\n",
    "\n",
    "## ✅ QAOA Cost Hamiltonian\n",
    "Cost Hamiltonian is described as:\n",
    "$$\n",
    "H_C = \\frac{1}{2} \\left[10(1 - Z_0 Z_1) + 1(1 - Z_1 Z_2) + 1(1 - Z_0 Z_2)\\right]\n",
    "$$\n"
   ]
  },
  {
   "cell_type": "markdown",
   "metadata": {},
   "source": []
  }
 ],
 "metadata": {
  "kernelspec": {
   "display_name": "lb-qml",
   "language": "python",
   "name": "python3"
  },
  "language_info": {
   "codemirror_mode": {
    "name": "ipython",
    "version": 3
   },
   "file_extension": ".py",
   "mimetype": "text/x-python",
   "name": "python",
   "nbconvert_exporter": "python",
   "pygments_lexer": "ipython3",
   "version": "3.12.9"
  }
 },
 "nbformat": 4,
 "nbformat_minor": 2
}
