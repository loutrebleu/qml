{
 "cells": [
  {
   "cell_type": "code",
   "execution_count": 1,
   "metadata": {},
   "outputs": [],
   "source": [
    "%load_ext autoreload\n",
    "%autoreload 2\n"
   ]
  },
  {
   "cell_type": "code",
   "execution_count": 2,
   "metadata": {},
   "outputs": [],
   "source": [
    "import os\n",
    "os.chdir(\"../..\")\n"
   ]
  },
  {
   "cell_type": "code",
   "execution_count": 3,
   "metadata": {},
   "outputs": [],
   "source": [
    "import numpy as np\n",
    "import torch\n",
    "import torch.nn as nn\n",
    "import torch.optim as optim\n",
    "import json\n",
    "import xsim\n",
    "import pandas as pd\n",
    "import matplotlib.pyplot as plt\n",
    "from IPython.display import clear_output\n"
   ]
  },
  {
   "cell_type": "code",
   "execution_count": 51,
   "metadata": {},
   "outputs": [],
   "source": [
    "from qml.db import dpo as xdpo\n",
    "from qml.model.gate import Gateset\n",
    "from qml.model.unit import UnitManager, Unit\n",
    "from qml.optimizer import dpo as xdpopt\n",
    "from qml.tools.random import XRandomGenerator\n"
   ]
  },
  {
   "cell_type": "markdown",
   "metadata": {},
   "source": [
    "# Configs"
   ]
  },
  {
   "cell_type": "code",
   "execution_count": 5,
   "metadata": {},
   "outputs": [],
   "source": [
    "# circuit\n",
    "num_qubits = 2\n",
    "num_gates = 3\n",
    "\n",
    "# dataset\n",
    "db_filename = \"dpo_databsae.txt\"\n",
    "batch_size = 10\n",
    "dim_wavelet = 4\n",
    "\n",
    "# model\n",
    "dim_hiddens = [32, 32]\n",
    "\n",
    "# training\n",
    "lr = 1e-3\n",
    "max_epoch = 1000\n",
    "cpo = True\n"
   ]
  },
  {
   "cell_type": "markdown",
   "metadata": {},
   "source": [
    "## Data"
   ]
  },
  {
   "cell_type": "code",
   "execution_count": 17,
   "metadata": {},
   "outputs": [],
   "source": [
    "dataset = xdpo.DPODataset(db_filename, num_qubits, dim_wavelet)\n",
    "loader = xdpo.DPODataLoader(dataset, num_qubits, 1, dim_wavelet)\n"
   ]
  },
  {
   "cell_type": "markdown",
   "metadata": {},
   "source": [
    "## Training"
   ]
  },
  {
   "cell_type": "code",
   "execution_count": 59,
   "metadata": {},
   "outputs": [],
   "source": [
    "class Policy(nn.Module):\n",
    "\n",
    "    def __init__(\n",
    "            self,\n",
    "            dim_wavelet: int,\n",
    "            num_qubits: int,\n",
    "            num_gates: int,\n",
    "            dim_hiddens: list[int],\n",
    "    ):\n",
    "        super().__init__()\n",
    "        self.nq = num_qubits\n",
    "        self.ng = num_gates\n",
    "        self.gset = gset = Gateset.set_num_qubits(num_qubits)\n",
    "\n",
    "        self.dim_gindices = gset.size * self.ng\n",
    "        self.dim_qubits = self.ng * self.nq\n",
    "        self.dim_output = dim_output = self.dim_gindices + self.dim_qubits\n",
    "        self.dim_input = dim_input = 2 ** dim_wavelet - 1\n",
    "\n",
    "        dim_units = dim_hiddens.copy()\n",
    "        dim_units.append(dim_output)\n",
    "        dim_units.insert(0, dim_input)\n",
    "\n",
    "        self.net = nn.Sequential(\n",
    "            *sum([\n",
    "                self.build_layer(din, dout, activation=(l < len(dim_hiddens)))\n",
    "                for l, din, dout\n",
    "                in zip(range(len(dim_units)+1), dim_units[:-1], dim_units[1:])\n",
    "            ], [])\n",
    "        )\n",
    "    \n",
    "    @staticmethod\n",
    "    def build_layer(din, dout, activation=True):\n",
    "        layer = [nn.Linear(din, dout)]\n",
    "        if activation:\n",
    "            layer.append(nn.ReLU())\n",
    "        return layer\n",
    "    \n",
    "    def forward(self, x):\n",
    "        feat = self.net(x)\n",
    "        return feat\n",
    "\n",
    "\n",
    "class CandidateSampler:\n",
    "\n",
    "    def __init__(self, policy: Policy, seed: int = None):\n",
    "        self.rng = XRandomGenerator(seed)\n",
    "        self.policy = policy\n",
    "\n",
    "        self.nq = policy.nq\n",
    "        self.ng = policy.ng\n",
    "        self.gset = policy.gset\n",
    "        self.dim_gindices =  policy.dim_gindices\n",
    "\n",
    "        self.uman = UnitManager(self.nq, self.ng, self.rng.new_seed())\n",
    "\n",
    "    \n",
    "    def divide_gate_and_qubit(self, logits):\n",
    "        logits_gate = logits[..., :self.dim_gindices]\n",
    "        logits_qbit = logits[..., self.dim_gindices:]\n",
    "        return logits_gate, logits_qbit\n",
    "    \n",
    "    def as_logps(self, logits):\n",
    "        logits_gate, logits_qbit = self.divide_gate_and_qubit(logits)\n",
    "        logps_gate = nn.functional.log_softmax(logits_gate, dim=-1)\n",
    "        logps_qbit = nn.functional.log_softmax(logits_qbit, dim=-1)\n",
    "        return logps_gate, logps_qbit\n",
    "    \n",
    "    def as_probs(self, logits, as_numpy=False):\n",
    "        logits_gate, logits_qbit = self.divide_gate_and_qubit(logits)\n",
    "        probs_gate = torch.softmax(logits_gate.view(self.ng, -1), dim=-1)\n",
    "        probs_qbit = torch.softmax(logits_qbit.view(self.ng, -1), dim=-1)\n",
    "        if not as_numpy:\n",
    "            return probs_gate, probs_qbit\n",
    "        return (\n",
    "            probs_gate.detach().numpy(),\n",
    "            probs_qbit.detach().numpy(),\n",
    "        )\n",
    "    \n",
    "    def sample_from_probs(self, probs, clist):\n",
    "        return [\n",
    "            self.rng.choice(clist, p=prob)\n",
    "            for prob in probs\n",
    "        ]\n",
    "    \n",
    "    def sample(self, x, num_candidates: int = 1):\n",
    "        if not isinstance(x, torch.Tensor):\n",
    "            x = torch.from_numpy(x).float()\n",
    "        if x.ndim < 2:\n",
    "            x = x.unsqueeze()\n",
    "        logits = self.policy.forward(x)\n",
    "        probs_gate, probs_qbit = self.as_probs(logits, as_numpy=True)\n",
    "\n",
    "        candidates = [\n",
    "            self.uman.from_info_and_qubits(\n",
    "                self.sample_from_probs(probs_gate, list(self.gset.values())),    # gate infos\n",
    "                self.sample_from_probs(probs_qbit, [i for i in range(self.nq)]), # qubits\n",
    "            )\n",
    "            for _ in range(num_candidates)\n",
    "        ]\n",
    "        return candidates\n",
    "    "
   ]
  },
  {
   "cell_type": "code",
   "execution_count": 60,
   "metadata": {},
   "outputs": [],
   "source": [
    "gateset = Gateset.set_num_qubits(num_qubits)\n",
    "glist = list(gateset.values())\n",
    "qlist = [i for i in range(num_qubits)]\n"
   ]
  },
  {
   "cell_type": "code",
   "execution_count": 61,
   "metadata": {},
   "outputs": [
    {
     "name": "stdout",
     "output_type": "stream",
     "text": [
      "Policy(\n",
      "  (net): Sequential(\n",
      "    (0): Linear(in_features=15, out_features=32, bias=True)\n",
      "    (1): ReLU()\n",
      "    (2): Linear(in_features=32, out_features=32, bias=True)\n",
      "    (3): ReLU()\n",
      "    (4): Linear(in_features=32, out_features=18, bias=True)\n",
      "  )\n",
      ")\n"
     ]
    }
   ],
   "source": [
    "policy = Policy(dim_wavelet, num_qubits, num_gates, dim_hiddens)\n",
    "print(policy)\n",
    "sampler = CandidateSampler(policy)\n"
   ]
  },
  {
   "cell_type": "code",
   "execution_count": 73,
   "metadata": {},
   "outputs": [
    {
     "name": "stdout",
     "output_type": "stream",
     "text": [
      "Instruction(name='rz', num_qubits=1, num_clbits=0, params=[Parameter(unit_51_param_0)])\n",
      "Instruction(name='rx', num_qubits=1, num_clbits=0, params=[Parameter(unit_51_param_1)])\n",
      "Instruction(name='rx', num_qubits=1, num_clbits=0, params=[Parameter(unit_51_param_2)])\n",
      "- - - - - - - - - - - - - - - - - - - - \n",
      "Instruction(name='ry', num_qubits=1, num_clbits=0, params=[Parameter(unit_52_param_0)])\n",
      "Instruction(name='rz', num_qubits=1, num_clbits=0, params=[Parameter(unit_52_param_1)])\n",
      "Instruction(name='cz', num_qubits=2, num_clbits=0, params=[])\n",
      "- - - - - - - - - - - - - - - - - - - - \n",
      "Instruction(name='ry', num_qubits=1, num_clbits=0, params=[Parameter(unit_53_param_0)])\n",
      "Instruction(name='rz', num_qubits=1, num_clbits=0, params=[Parameter(unit_53_param_1)])\n",
      "Instruction(name='cz', num_qubits=2, num_clbits=0, params=[])\n",
      "- - - - - - - - - - - - - - - - - - - - \n",
      "Instruction(name='rz', num_qubits=1, num_clbits=0, params=[Parameter(unit_54_param_0)])\n",
      "Instruction(name='ry', num_qubits=1, num_clbits=0, params=[Parameter(unit_54_param_1)])\n",
      "Instruction(name='ry', num_qubits=1, num_clbits=0, params=[Parameter(unit_54_param_2)])\n",
      "- - - - - - - - - - - - - - - - - - - - \n",
      "Instruction(name='cz', num_qubits=2, num_clbits=0, params=[])\n",
      "Instruction(name='cz', num_qubits=2, num_clbits=0, params=[])\n",
      "Instruction(name='rz', num_qubits=1, num_clbits=0, params=[Parameter(unit_55_param_0)])\n",
      "- - - - - - - - - - - - - - - - - - - - \n"
     ]
    }
   ],
   "source": [
    "for batch in loader:\n",
    "    candidates = sampler.sample(batch.wserieses, 5)\n",
    "    for candidate in candidates:\n",
    "        for gate in candidate.gates:\n",
    "            print(gate.gate)\n",
    "        print(\"- \"*20)\n",
    "    break\n"
   ]
  },
  {
   "cell_type": "code",
   "execution_count": null,
   "metadata": {},
   "outputs": [],
   "source": []
  }
 ],
 "metadata": {
  "kernelspec": {
   "display_name": "lb-qml",
   "language": "python",
   "name": "python3"
  },
  "language_info": {
   "codemirror_mode": {
    "name": "ipython",
    "version": 3
   },
   "file_extension": ".py",
   "mimetype": "text/x-python",
   "name": "python",
   "nbconvert_exporter": "python",
   "pygments_lexer": "ipython3",
   "version": "3.12.7"
  }
 },
 "nbformat": 4,
 "nbformat_minor": 2
}
