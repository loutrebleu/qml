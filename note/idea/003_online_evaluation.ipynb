{
 "cells": [
  {
   "cell_type": "code",
   "execution_count": 1,
   "metadata": {},
   "outputs": [],
   "source": [
    "%load_ext autoreload\n",
    "%autoreload 2\n"
   ]
  },
  {
   "cell_type": "code",
   "execution_count": 2,
   "metadata": {},
   "outputs": [],
   "source": [
    "import os\n",
    "os.chdir(\"../..\")\n"
   ]
  },
  {
   "cell_type": "code",
   "execution_count": 13,
   "metadata": {},
   "outputs": [],
   "source": [
    "import numpy as np\n",
    "import torch\n",
    "import torch.nn as nn\n",
    "import torch.optim as optim\n",
    "import json\n",
    "import xsim\n",
    "import pandas as pd\n",
    "import matplotlib.pyplot as plt\n",
    "from IPython.display import clear_output\n",
    "from tqdm import tqdm\n"
   ]
  },
  {
   "cell_type": "code",
   "execution_count": 4,
   "metadata": {},
   "outputs": [],
   "source": [
    "from qml.db import dpo as xdpo\n",
    "from qml.db import target as xtarget\n",
    "from qml.db.ml import MLDatasetGenerator\n",
    "from qml.model.gate import Gateset\n",
    "from qml.model.unit import UnitManager, Unit\n",
    "from qml.model.encoding import EncodingUnitManager\n",
    "from qml.model.model import Model\n",
    "from qml.optimizer import dpo as xdpopt\n",
    "from qml.optimizer import evaluator as xeval\n",
    "from qml.tools.random import XRandomGenerator\n",
    "from qml.tools.sampler import CandidateSampler\n",
    "from qml import optimizer as xoptim\n"
   ]
  },
  {
   "cell_type": "markdown",
   "metadata": {},
   "source": [
    "## Config"
   ]
  },
  {
   "cell_type": "code",
   "execution_count": 28,
   "metadata": {},
   "outputs": [],
   "source": [
    "# circuit\n",
    "num_qubits = 2\n",
    "num_gates = 3\n",
    "\n",
    "# dpo dataset\n",
    "db_filename = \"dpo_databsae.txt\"\n",
    "batch_size = 10\n",
    "dim_wavelet = 4\n",
    "wavelet = xeval.Haar()\n",
    "\n",
    "## validation\n",
    "validation_db_size = 10\n",
    "dim_order = 4\n",
    "\n",
    "# qml\n",
    "num_train_step = 2\n",
    "dim_input = 1\n",
    "dim_output = 1\n",
    "shots = 50\n",
    "\n",
    "# ocg\n",
    "num_round = 3\n",
    "\n",
    "# model\n",
    "dim_hiddens = [32, 32]\n",
    "\n",
    "# training\n",
    "lr = 1e-3\n",
    "max_epoch = 1000\n",
    "cpo = True\n"
   ]
  },
  {
   "cell_type": "markdown",
   "metadata": {},
   "source": [
    "## Data"
   ]
  },
  {
   "cell_type": "markdown",
   "metadata": {},
   "source": [
    "### QML training dataset"
   ]
  },
  {
   "cell_type": "code",
   "execution_count": 29,
   "metadata": {},
   "outputs": [],
   "source": [
    "dataset = xdpo.DPODataset(db_filename, num_qubits, dim_wavelet)\n",
    "loader = xdpo.DPODataLoader(dataset, num_qubits, 1, dim_wavelet)\n"
   ]
  },
  {
   "cell_type": "markdown",
   "metadata": {},
   "source": [
    "### Validation dataset"
   ]
  },
  {
   "cell_type": "code",
   "execution_count": 30,
   "metadata": {},
   "outputs": [],
   "source": [
    "tfun = xtarget.PolynominalTargetFunctionGenerator(dim_order)\n",
    "tgen = MLDatasetGenerator(tfun)\n",
    "validation_datasets = [\n",
    "    tgen.generate(validation_db_size)\n",
    "    for _ in range(5)\n",
    "]\n"
   ]
  },
  {
   "cell_type": "markdown",
   "metadata": {},
   "source": [
    "## Model preparation"
   ]
  },
  {
   "cell_type": "code",
   "execution_count": 31,
   "metadata": {},
   "outputs": [
    {
     "data": {
      "text/plain": [
       "<All keys matched successfully>"
      ]
     },
     "execution_count": 31,
     "metadata": {},
     "output_type": "execute_result"
    }
   ],
   "source": [
    "policy = xdpopt.Policy(dim_wavelet, num_qubits, num_gates, dim_hiddens)\n",
    "reference = xdpopt.Policy(dim_wavelet, num_qubits, num_gates, dim_hiddens)\n",
    "reference.load_state_dict(policy.state_dict())"
   ]
  },
  {
   "cell_type": "code",
   "execution_count": 32,
   "metadata": {},
   "outputs": [],
   "source": [
    "sampler = CandidateSampler(policy)"
   ]
  },
  {
   "cell_type": "markdown",
   "metadata": {},
   "source": [
    "### base qc preparation"
   ]
  },
  {
   "cell_type": "code",
   "execution_count": 26,
   "metadata": {},
   "outputs": [],
   "source": [
    "def get_base_qc(num_qubits, dim_input):\n",
    "    return Model(\n",
    "        num_qubits, dim_output,\n",
    "        EncodingUnitManager.AngleEncoding(dim_input, num_qubits, repeat=True),\n",
    "        [], [], shots=shots\n",
    "    )"
   ]
  },
  {
   "cell_type": "markdown",
   "metadata": {},
   "source": [
    "## Training"
   ]
  },
  {
   "cell_type": "markdown",
   "metadata": {},
   "source": [
    "### Before training evaluation avec validation dataset"
   ]
  },
  {
   "cell_type": "code",
   "execution_count": 27,
   "metadata": {},
   "outputs": [],
   "source": [
    "def ax():\n",
    "    return plt.gca()\n"
   ]
  },
  {
   "cell_type": "code",
   "execution_count": 16,
   "metadata": {},
   "outputs": [
    {
     "name": "stderr",
     "output_type": "stream",
     "text": [
      "  0%|          | 0/5 [00:00<?, ?it/s]"
     ]
    },
    {
     "name": "stderr",
     "output_type": "stream",
     "text": [
      "100%|██████████| 5/5 [01:02<00:00, 12.58s/it]\n"
     ]
    },
    {
     "ename": "AttributeError",
     "evalue": "'list' object has no attribute 'shape'",
     "output_type": "error",
     "traceback": [
      "\u001b[31m---------------------------------------------------------------------------\u001b[39m",
      "\u001b[31mAttributeError\u001b[39m                            Traceback (most recent call last)",
      "\u001b[36mCell\u001b[39m\u001b[36m \u001b[39m\u001b[32mIn[16]\u001b[39m\u001b[32m, line 38\u001b[39m\n\u001b[32m     35\u001b[39m         losses_vdb.append(vresult.mse)\n\u001b[32m     36\u001b[39m     losses.append(losses_vdb)\n\u001b[32m---> \u001b[39m\u001b[32m38\u001b[39m \u001b[43mlosses\u001b[49m\u001b[43m.\u001b[49m\u001b[43mshape\u001b[49m\n\u001b[32m     39\u001b[39m \u001b[38;5;66;03m# plt.plot(losses)\u001b[39;00m\n\u001b[32m     40\u001b[39m \u001b[38;5;66;03m# plt.show()\u001b[39;00m\n",
      "\u001b[31mAttributeError\u001b[39m: 'list' object has no attribute 'shape'"
     ]
    }
   ],
   "source": [
    "def validate(sampler, datasets, num_qubits, num_rounds, num_train_steps):\n",
    "\n",
    "    losses = []\n",
    "    \n",
    "    for dataset in tqdm(datasets):\n",
    "        model = get_base_qc(num_qubits, dataset.dim_output)\n",
    "        veval = xeval.WaveletEvaluator(wavelet, dataset, wavelet_dim=dim_wavelet)\n",
    "\n",
    "        losses_vdb = []\n",
    "\n",
    "        for round in range(1, num_rounds+1):\n",
    "            # 1. measure the wavelet series\n",
    "            vresult = veval(model.trainable_parameters, model)\n",
    "\n",
    "            # 2. estimate the candidate unit\n",
    "            wseries = vresult.powers\n",
    "            candidate = sampler.sample(wseries)\n",
    "            \n",
    "            # 3. update the trainable unit\n",
    "            model.fix_trainable_units()\n",
    "            model = Model(\n",
    "                model.nq, model.nc,\n",
    "                model.input_units,\n",
    "                model.fixed_units,\n",
    "                candidate,\n",
    "                shots=model.shots,\n",
    "            )\n",
    "\n",
    "            # 4. train the model\n",
    "            optimizer = xoptim.LocalSearchOptimizer(dataset)\n",
    "            tresult = optimizer.optimize(model, num_train_steps, verbose=False)\n",
    "\n",
    "            # 5. update the model parameters\n",
    "            model.update_parameters(tresult.first.x)\n",
    "\n",
    "            # logging\n",
    "            losses_vdb.append(vresult.mse)\n",
    "        losses.append(losses_vdb)\n",
    "\n",
    "    losses.shape\n",
    "# plt.plot(losses)\n",
    "# plt.show()\n",
    "    "
   ]
  },
  {
   "cell_type": "code",
   "execution_count": 18,
   "metadata": {},
   "outputs": [],
   "source": [
    "losses = np.vstack(losses)"
   ]
  },
  {
   "cell_type": "code",
   "execution_count": 20,
   "metadata": {},
   "outputs": [
    {
     "data": {
      "text/plain": [
       "[<matplotlib.lines.Line2D at 0x16a7ad610>,\n",
       " <matplotlib.lines.Line2D at 0x16a23b0b0>,\n",
       " <matplotlib.lines.Line2D at 0x1691d59d0>]"
      ]
     },
     "execution_count": 20,
     "metadata": {},
     "output_type": "execute_result"
    },
    {
     "data": {
      "image/png": "[encoded data removed]",
      "text/plain": [
       "<Figure size 640x480 with 1 Axes>"
      ]
     },
     "metadata": {},
     "output_type": "display_data"
    }
   ],
   "source": [
    "plt.plot(losses)"
   ]
  },
  {
   "cell_type": "code",
   "execution_count": null,
   "metadata": {},
   "outputs": [],
   "source": [
    "\n"
   ]
  }
 ],
 "metadata": {
  "kernelspec": {
   "display_name": "lb-qml",
   "language": "python",
   "name": "python3"
  },
  "language_info": {
   "codemirror_mode": {
    "name": "ipython",
    "version": 3
   },
   "file_extension": ".py",
   "mimetype": "text/x-python",
   "name": "python",
   "nbconvert_exporter": "python",
   "pygments_lexer": "ipython3",
   "version": "3.12.9"
  }
 },
 "nbformat": 4,
 "nbformat_minor": 2
}
