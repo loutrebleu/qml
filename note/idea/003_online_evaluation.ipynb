{
 "cells": [
  {
   "cell_type": "code",
   "execution_count": 1,
   "metadata": {},
   "outputs": [],
   "source": [
    "%load_ext autoreload\n",
    "%autoreload 2\n"
   ]
  },
  {
   "cell_type": "code",
   "execution_count": 2,
   "metadata": {},
   "outputs": [],
   "source": [
    "import os\n",
    "os.chdir(\"../..\")\n"
   ]
  },
  {
   "cell_type": "code",
   "execution_count": 3,
   "metadata": {},
   "outputs": [],
   "source": [
    "import numpy as np\n",
    "import torch\n",
    "import torch.nn as nn\n",
    "import torch.optim as optim\n",
    "import json\n",
    "import xsim\n",
    "import pandas as pd\n",
    "import matplotlib.pyplot as plt\n",
    "from IPython.display import clear_output\n"
   ]
  },
  {
   "cell_type": "code",
   "execution_count": 9,
   "metadata": {},
   "outputs": [],
   "source": [
    "from qml.db import dpo as xdpo\n",
    "from qml.db import target as xtarget\n",
    "from qml.db.ml import MLDatasetGenerator\n",
    "from qml.model.gate import Gateset\n",
    "from qml.model.unit import UnitManager, Unit\n",
    "from qml.model.encoding import EncodingUnitManager\n",
    "from qml.model.model import Model\n",
    "from qml.optimizer import dpo as xdpopt\n",
    "from qml.optimizer import evaluator as xeval\n",
    "from qml.tools.random import XRandomGenerator\n",
    "from qml.tools.sampler import CandidateSampler\n",
    "from qml import optimizer as xoptim\n"
   ]
  },
  {
   "cell_type": "markdown",
   "metadata": {},
   "source": [
    "## Config"
   ]
  },
  {
   "cell_type": "code",
   "execution_count": 12,
   "metadata": {},
   "outputs": [],
   "source": [
    "# circuit\n",
    "num_qubits = 2\n",
    "num_gates = 3\n",
    "\n",
    "# dataset\n",
    "db_filename = \"dpo_databsae.txt\"\n",
    "batch_size = 10\n",
    "dim_wavelet = 4\n",
    "## validation\n",
    "validation_db_size = 10\n",
    "dim_order = 4\n",
    "\n",
    "# qml\n",
    "num_train_step = 30\n",
    "\n",
    "# model\n",
    "dim_hiddens = [32, 32]\n",
    "\n",
    "# training\n",
    "lr = 1e-3\n",
    "max_epoch = 1000\n",
    "cpo = True\n"
   ]
  },
  {
   "cell_type": "markdown",
   "metadata": {},
   "source": [
    "## Data"
   ]
  },
  {
   "cell_type": "markdown",
   "metadata": {},
   "source": [
    "### QML training dataset"
   ]
  },
  {
   "cell_type": "code",
   "execution_count": 8,
   "metadata": {},
   "outputs": [],
   "source": [
    "dataset = xdpo.DPODataset(db_filename, num_qubits, dim_wavelet)\n",
    "loader = xdpo.DPODataLoader(dataset, num_qubits, 1, dim_wavelet)\n"
   ]
  },
  {
   "cell_type": "markdown",
   "metadata": {},
   "source": [
    "### Validation dataset"
   ]
  },
  {
   "cell_type": "code",
   "execution_count": 16,
   "metadata": {},
   "outputs": [],
   "source": [
    "tfun = xtarget.PolynominalTargetFunctionGenerator(dim_order)\n",
    "tgen = MLDatasetGenerator(tfun)\n",
    "validation_datasets = [\n",
    "    tgen.generate(validation_db_size)\n",
    "    for _ in range(5)\n",
    "]\n"
   ]
  },
  {
   "cell_type": "markdown",
   "metadata": {},
   "source": [
    "## Training"
   ]
  },
  {
   "cell_type": "markdown",
   "metadata": {},
   "source": []
  }
 ],
 "metadata": {
  "kernelspec": {
   "display_name": "lb-qml",
   "language": "python",
   "name": "python3"
  },
  "language_info": {
   "codemirror_mode": {
    "name": "ipython",
    "version": 3
   },
   "file_extension": ".py",
   "mimetype": "text/x-python",
   "name": "python",
   "nbconvert_exporter": "python",
   "pygments_lexer": "ipython3",
   "version": "3.12.7"
  }
 },
 "nbformat": 4,
 "nbformat_minor": 2
}
