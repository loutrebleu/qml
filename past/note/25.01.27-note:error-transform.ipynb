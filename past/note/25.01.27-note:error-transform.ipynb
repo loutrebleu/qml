{
 "cells": [
  {
   "cell_type": "code",
   "execution_count": 1,
   "metadata": {},
   "outputs": [],
   "source": [
    "%load_ext autoreload\n",
    "%autoreload 2"
   ]
  },
  {
   "cell_type": "code",
   "execution_count": 2,
   "metadata": {},
   "outputs": [],
   "source": [
    "import os\n",
    "os.chdir(\"..\")"
   ]
  },
  {
   "cell_type": "code",
   "execution_count": 10,
   "metadata": {},
   "outputs": [],
   "source": [
    "import numpy as np\n",
    "import matplotlib.pyplot as plt\n",
    "\n",
    "from numpy.typing import NDArray"
   ]
  },
  {
   "cell_type": "code",
   "execution_count": 13,
   "metadata": {},
   "outputs": [],
   "source": [
    "from qml.model.gate import get_gateset\n",
    "from qml.model.model import Model\n",
    "from qml.model.unit import Unit, EmbedUnit\n",
    "from qml.tools.evaluator import Evaluator\n",
    "from qml.tools.dataset import generate_dataset"
   ]
  },
  {
   "cell_type": "code",
   "execution_count": 5,
   "metadata": {},
   "outputs": [],
   "source": [
    "%matplotlib inline"
   ]
  },
  {
   "cell_type": "markdown",
   "metadata": {},
   "source": [
    "## Parameter"
   ]
  },
  {
   "cell_type": "code",
   "execution_count": 7,
   "metadata": {},
   "outputs": [],
   "source": [
    "# circuit\n",
    "num_qubits = nq = 2\n",
    "num_gate_per_unit = ng = 3\n",
    "num_unit_per_round = nu = 9\n",
    "\n",
    "# dataset\n",
    "dim_input = nx = 1\n",
    "dim_output = ny = 1\n",
    "num_train_data = 20\n",
    "num_test_data = 20\n",
    "gateset = get_gateset(nq)\n",
    "\n",
    "# optimization\n",
    "shots = 50\n",
    "num_max_iter = 100\n",
    "var_to_explore = 0.3"
   ]
  },
  {
   "cell_type": "markdown",
   "metadata": {},
   "source": [
    "## Dataset"
   ]
  },
  {
   "cell_type": "code",
   "execution_count": 6,
   "metadata": {},
   "outputs": [],
   "source": [
    "target_func = lambda x: np.sin(np.pi * x)"
   ]
  },
  {
   "cell_type": "code",
   "execution_count": 8,
   "metadata": {},
   "outputs": [],
   "source": [
    "train_data = generate_dataset(num_train_data, target_func)\n",
    "test_data  = generate_dataset(num_test_data,  target_func)"
   ]
  },
  {
   "cell_type": "code",
   "execution_count": 9,
   "metadata": {},
   "outputs": [
    {
     "data": {
      "text/plain": [
       "<matplotlib.legend.Legend at 0x142a17da0>"
      ]
     },
     "execution_count": 9,
     "metadata": {},
     "output_type": "execute_result"
    },
    {
     "data": {
      "image/png": "[encoded data removed]",
      "text/plain": [
       "<Figure size 640x480 with 1 Axes>"
      ]
     },
     "metadata": {},
     "output_type": "display_data"
    }
   ],
   "source": [
    "fig, ax = plt.subplots()\n",
    "ax.scatter(*train_data.data, label=\"train\")\n",
    "ax.scatter(*test_data.data, label=\"test\")\n",
    "plt.legend()"
   ]
  },
  {
   "cell_type": "code",
   "execution_count": 44,
   "metadata": {},
   "outputs": [],
   "source": [
    "class ErrorPattern:\n",
    "\n",
    "    def __init__(self, loss, pattern, predics, xs, ys):\n",
    "        self.loss = loss\n",
    "        self.pattern = pattern\n",
    "        self.ps = predics\n",
    "        self.xs = xs\n",
    "        self.ys = ys\n",
    "    \n",
    "    def draw_pattern(self, show_predict=False, show_y=False, ax=None):\n",
    "        if ax is None:\n",
    "            fig, ax = plt.subplots()\n",
    "        \n",
    "        ax.scatter(self.xs, self.pattern, label=\"error\")\n",
    "        if show_predict:\n",
    "            ax.scatter(self.xs, self.ps, label=\"predict\")\n",
    "        if show_y:\n",
    "            ax.scatter(self.xs, self.ys, label=\"y\")\n",
    "        ax.legend()\n",
    "\n",
    "        return fig, ax"
   ]
  },
  {
   "cell_type": "code",
   "execution_count": 51,
   "metadata": {},
   "outputs": [],
   "source": [
    "class ErrorPatternEvaluator(Evaluator):\n",
    "    \n",
    "    def __init__(\n",
    "            self,\n",
    "            xs: NDArray,\n",
    "            ys: NDArray,\n",
    "            model: Model = None,\n",
    "            shots: int = 50\n",
    "    ):\n",
    "        super().__init__(xs, ys, model, shots)\n",
    "\n",
    "    def __call__(\n",
    "            self,\n",
    "            params: NDArray = None,\n",
    "            model: Model = None,\n",
    "    ) -> ErrorPattern:\n",
    "        if model is None:\n",
    "            model = self._model\n",
    "        return self.evaluate(\n",
    "            model, params, self._xs, self._ys, shots=self.shots\n",
    "        )\n",
    "    \n",
    "    def evaluate(\n",
    "            cls,\n",
    "            model: Model,\n",
    "            params: NDArray,\n",
    "            xs: NDArray,\n",
    "            ys: NDArray,\n",
    "            shots: int = 50,\n",
    "    ) -> ErrorPattern:\n",
    "        predicts = np.asarray([\n",
    "            model.forward(x, params=params, shots=shots)\n",
    "            for x in xs\n",
    "        ])\n",
    "        errors = predicts - ys\n",
    "        loss = np.square(errors).mean()\n",
    "        return ErrorPattern(loss, errors, predicts, xs, ys)"
   ]
  },
  {
   "cell_type": "code",
   "execution_count": 52,
   "metadata": {},
   "outputs": [],
   "source": [
    "emb_unit = EmbedUnit.generate_ry_arcsin_embed_unit(\"emb\", nq, nx, gateset)"
   ]
  },
  {
   "cell_type": "code",
   "execution_count": 53,
   "metadata": {},
   "outputs": [],
   "source": [
    "model = Model(nq, ny, emb_unit, [], [])"
   ]
  },
  {
   "cell_type": "code",
   "execution_count": 54,
   "metadata": {},
   "outputs": [],
   "source": [
    "evaluator = ErrorPatternEvaluator(train_data.xs, train_data.ys, model, shots=shots)"
   ]
  },
  {
   "cell_type": "code",
   "execution_count": 55,
   "metadata": {},
   "outputs": [],
   "source": [
    "ep = evaluator()"
   ]
  },
  {
   "cell_type": "code",
   "execution_count": 56,
   "metadata": {},
   "outputs": [
    {
     "data": {
      "text/plain": [
       "(<Figure size 640x480 with 1 Axes>, <Axes: >)"
      ]
     },
     "execution_count": 56,
     "metadata": {},
     "output_type": "execute_result"
    },
    {
     "data": {
      "image/png": "[encoded data removed]",
      "text/plain": [
       "<Figure size 640x480 with 1 Axes>"
      ]
     },
     "metadata": {},
     "output_type": "display_data"
    }
   ],
   "source": [
    "ep.draw_pattern(show_predict=True, show_y=True)"
   ]
  },
  {
   "cell_type": "code",
   "execution_count": null,
   "metadata": {},
   "outputs": [],
   "source": []
  }
 ],
 "metadata": {
  "kernelspec": {
   "display_name": "lb-qml",
   "language": "python",
   "name": "python3"
  },
  "language_info": {
   "codemirror_mode": {
    "name": "ipython",
    "version": 3
   },
   "file_extension": ".py",
   "mimetype": "text/x-python",
   "name": "python",
   "nbconvert_exporter": "python",
   "pygments_lexer": "ipython3",
   "version": "3.12.7"
  }
 },
 "nbformat": 4,
 "nbformat_minor": 2
}
