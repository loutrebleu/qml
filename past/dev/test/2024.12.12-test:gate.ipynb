{
 "cells": [
  {
   "cell_type": "code",
   "id": "initial_id",
   "metadata": {
    "collapsed": true,
    "ExecuteTime": {
     "end_time": "2024-12-12T11:17:19.596480Z",
     "start_time": "2024-12-12T11:17:19.593699Z"
    }
   },
   "source": [
    "import numpy as np\n",
    "\n",
    "from qiskit import QuantumCircuit\n",
    "from qiskit.circuit import Parameter\n",
    "\n",
    "from qml.model.gate import get_gateset, Gate"
   ],
   "outputs": [],
   "execution_count": 5
  },
  {
   "metadata": {
    "ExecuteTime": {
     "end_time": "2024-12-12T11:16:19.054602Z",
     "start_time": "2024-12-12T11:16:19.050810Z"
    }
   },
   "cell_type": "code",
   "source": "nq = 3",
   "id": "88dc3a2e1283795f",
   "outputs": [],
   "execution_count": 2
  },
  {
   "metadata": {
    "ExecuteTime": {
     "end_time": "2024-12-12T11:16:26.694987Z",
     "start_time": "2024-12-12T11:16:26.691508Z"
    }
   },
   "cell_type": "code",
   "source": "gateset = get_gateset(nq)",
   "id": "acc49ace8af675f8",
   "outputs": [],
   "execution_count": 3
  },
  {
   "metadata": {
    "ExecuteTime": {
     "end_time": "2024-12-12T11:18:56.320388Z",
     "start_time": "2024-12-12T11:18:56.317780Z"
    }
   },
   "cell_type": "code",
   "source": [
    "info1 = gateset[\"rx\"]\n",
    "gate1 = Gate(\n",
    "    info1.gate_class(Parameter(\"gate_1\")),\n",
    "    info1.trainable,\n",
    "    info1.multi_bit,\n",
    "    np.random.randint(nq),\n",
    "    info1.qargs,\n",
    ")"
   ],
   "id": "4250f2aacb9fcd31",
   "outputs": [],
   "execution_count": 13
  },
  {
   "metadata": {
    "ExecuteTime": {
     "end_time": "2024-12-12T11:18:56.608565Z",
     "start_time": "2024-12-12T11:18:56.562798Z"
    }
   },
   "cell_type": "code",
   "source": [
    "qc = QuantumCircuit(nq)\n",
    "gate1.apply_to_qc(qc)\n",
    "qc.draw(\"mpl\")"
   ],
   "id": "a083d760a27641ec",
   "outputs": [
    {
     "data": {
      "text/plain": [
       "<Figure size 203.885x284.278 with 1 Axes>"
      ],
      "image/png": "[encoded data removed]"
     },
     "execution_count": 14,
     "metadata": {},
     "output_type": "execute_result"
    }
   ],
   "execution_count": 14
  },
  {
   "metadata": {
    "ExecuteTime": {
     "end_time": "2024-12-12T11:18:57.396602Z",
     "start_time": "2024-12-12T11:18:57.394405Z"
    }
   },
   "cell_type": "code",
   "source": [
    "info2 = gateset[\"cz\"]\n",
    "gate2 = Gate(\n",
    "    info2.gate_class(),\n",
    "    info2.trainable,\n",
    "    info2.multi_bit,\n",
    "    np.random.randint(nq),\n",
    "    info2.qargs,\n",
    ")"
   ],
   "id": "e31f1fa78911eade",
   "outputs": [],
   "execution_count": 15
  },
  {
   "metadata": {
    "ExecuteTime": {
     "end_time": "2024-12-12T11:19:05.887759Z",
     "start_time": "2024-12-12T11:19:05.849145Z"
    }
   },
   "cell_type": "code",
   "source": [
    "qc = QuantumCircuit(nq)\n",
    "gate2.apply_to_qc(qc)\n",
    "qc.draw(\"mpl\")"
   ],
   "id": "a738b260c1344998",
   "outputs": [
    {
     "data": {
      "text/plain": [
       "<Figure size 203.885x284.278 with 1 Axes>"
      ],
      "image/png": "[encoded data removed]"
     },
     "execution_count": 16,
     "metadata": {},
     "output_type": "execute_result"
    }
   ],
   "execution_count": 16
  },
  {
   "metadata": {
    "ExecuteTime": {
     "end_time": "2024-12-12T11:19:20.723417Z",
     "start_time": "2024-12-12T11:19:20.677018Z"
    }
   },
   "cell_type": "code",
   "source": [
    "qc = QuantumCircuit(nq)\n",
    "gate1.apply_to_qc(qc)\n",
    "gate2.apply_to_qc(qc)\n",
    "qc.draw(\"mpl\")"
   ],
   "id": "ba33ee35d503af9",
   "outputs": [
    {
     "data": {
      "text/plain": [
       "<Figure size 287.496x284.278 with 1 Axes>"
      ],
      "image/png": "[encoded data removed]"
     },
     "execution_count": 17,
     "metadata": {},
     "output_type": "execute_result"
    }
   ],
   "execution_count": 17
  },
  {
   "metadata": {},
   "cell_type": "code",
   "outputs": [],
   "execution_count": null,
   "source": "",
   "id": "5c5b627c5a582c6c"
  }
 ],
 "metadata": {
  "kernelspec": {
   "display_name": "Python 3",
   "language": "python",
   "name": "python3"
  },
  "language_info": {
   "codemirror_mode": {
    "name": "ipython",
    "version": 2
   },
   "file_extension": ".py",
   "mimetype": "text/x-python",
   "name": "python",
   "nbconvert_exporter": "python",
   "pygments_lexer": "ipython2",
   "version": "2.7.6"
  }
 },
 "nbformat": 4,
 "nbformat_minor": 5
}
