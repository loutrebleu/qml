{
 "cells": [
  {
   "cell_type": "code",
   "id": "initial_id",
   "metadata": {
    "collapsed": true,
    "ExecuteTime": {
     "end_time": "2024-12-18T06:52:59.125308Z",
     "start_time": "2024-12-18T06:52:59.117962Z"
    }
   },
   "source": [
    "%load_ext autoreload\n",
    "%autoreload 2"
   ],
   "outputs": [],
   "execution_count": 1
  },
  {
   "metadata": {
    "ExecuteTime": {
     "end_time": "2024-12-18T06:53:00.749336Z",
     "start_time": "2024-12-18T06:52:59.981542Z"
    }
   },
   "cell_type": "code",
   "source": [
    "import io\n",
    "import cv2\n",
    "import numpy as np\n",
    "import matplotlib.pyplot as plt\n",
    "import time\n",
    "\n",
    "from collections import namedtuple\n",
    "from IPython.display import clear_output\n",
    "from tqdm.notebook import tqdm\n",
    "from numpy.typing import NDArray\n",
    "\n",
    "from scipy.optimize import minimize\n",
    "from qiskit import QuantumRegister, ClassicalRegister, QuantumCircuit, transpile\n",
    "from qiskit.circuit import Parameter\n",
    "from qiskit.circuit.library import RXGate, RYGate, RZGate, CXGate, CZGate, IGate\n",
    "from qiskit_aer import AerSimulator"
   ],
   "id": "62b5ae05f4ce3be6",
   "outputs": [],
   "execution_count": 2
  },
  {
   "metadata": {
    "ExecuteTime": {
     "end_time": "2024-12-18T06:53:07.184740Z",
     "start_time": "2024-12-18T06:53:07.164489Z"
    }
   },
   "cell_type": "code",
   "source": [
    "from qml.model.gate import get_gateset, GateInfo, Gate\n",
    "from qml.model.unit import Unit, EmbedUnit"
   ],
   "id": "9829f403bc8961bd",
   "outputs": [],
   "execution_count": 3
  },
  {
   "metadata": {
    "ExecuteTime": {
     "end_time": "2024-12-18T06:53:16.296459Z",
     "start_time": "2024-12-18T06:53:15.896869Z"
    }
   },
   "cell_type": "code",
   "source": [
    "nq = 2\n",
    "ng = 3\n",
    "shots = 100\n",
    "qc = QuantumCircuit(nq, 1)\n",
    "inunit = EmbedUnit.generate_ry_arcsin_embed_unit(\"in\", nq, 1)\n",
    "inunit.apply_to_qc(qc)\n",
    "feed_dict = inunit.feed_dict(1.)\n",
    "qc.measure(0, 0)\n",
    "qc.draw(\"mpl\")\n",
    "\n",
    "sim = AerSimulator()\n",
    "bc = qc.assign_parameters(feed_dict)\n",
    "job = transpile(bc, sim)\n",
    "res = sim.run(job, shots=shots).result().get_counts(bc)\n",
    "pre = res.get(\"0\", 0) - res.get(\"1\", 0)\n",
    "print(\"y:\", pre / shots, res)\n",
    "qc.draw(\"mpl\")"
   ],
   "id": "56e2fb7b27d4c41f",
   "outputs": [
    {
     "name": "stdout",
     "output_type": "stream",
     "text": [
      "feed_dict in EmbUnit\n",
      "[np.float64(1.5707963267948966), np.float64(1.5707963267948966)]\n",
      "y: -0.12 {'0': 44, '1': 56}\n"
     ]
    },
    {
     "data": {
      "text/plain": [
       "<Figure size 370.906x284.278 with 1 Axes>"
      ],
      "image/png": "[encoded data removed]"
     },
     "execution_count": 4,
     "metadata": {},
     "output_type": "execute_result"
    }
   ],
   "execution_count": 4
  },
  {
   "metadata": {},
   "cell_type": "code",
   "outputs": [],
   "execution_count": null,
   "source": "",
   "id": "415e501d80f7f9ed"
  }
 ],
 "metadata": {
  "kernelspec": {
   "display_name": "Python 3",
   "language": "python",
   "name": "python3"
  },
  "language_info": {
   "codemirror_mode": {
    "name": "ipython",
    "version": 2
   },
   "file_extension": ".py",
   "mimetype": "text/x-python",
   "name": "python",
   "nbconvert_exporter": "python",
   "pygments_lexer": "ipython2",
   "version": "2.7.6"
  }
 },
 "nbformat": 4,
 "nbformat_minor": 5
}
