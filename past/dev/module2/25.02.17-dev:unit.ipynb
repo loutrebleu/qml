{
 "cells": [
  {
   "cell_type": "code",
   "execution_count": 1,
   "metadata": {},
   "outputs": [],
   "source": [
    "%load_ext autoreload\n",
    "%autoreload 2\n"
   ]
  },
  {
   "cell_type": "code",
   "execution_count": 2,
   "metadata": {},
   "outputs": [],
   "source": [
    "import os\n",
    "os.chdir(\"../..\")\n"
   ]
  },
  {
   "cell_type": "code",
   "execution_count": 19,
   "metadata": {},
   "outputs": [],
   "source": [
    "import numpy as np\n",
    "from enum import Enum\n",
    "from numpy.typing import NDArray\n",
    "from typing import Callable\n",
    "\n",
    "from qiskit import QuantumCircuit\n",
    "from qiskit.circuit.gate import Gate as QkGate\n",
    "from qiskit.circuit.library import RXGate, RYGate, RZGate, CZGate\n",
    "from qiskit.circuit import Parameter, Instruction\n"
   ]
  },
  {
   "cell_type": "code",
   "execution_count": 4,
   "metadata": {},
   "outputs": [],
   "source": [
    "from qml.model.gate import GateInfo, get_gateset, Gate\n"
   ]
  },
  {
   "cell_type": "code",
   "execution_count": 7,
   "metadata": {},
   "outputs": [],
   "source": [
    "Vector = list[float] | NDArray\n"
   ]
  },
  {
   "cell_type": "code",
   "execution_count": 28,
   "metadata": {},
   "outputs": [],
   "source": [
    "class XRandomGenerator:\n",
    "\n",
    "    SEED_RANGE = int(1e+8)\n",
    "\n",
    "    def __init__(self, seed: int = None):\n",
    "        if seed is None:\n",
    "            seed = np.random.randint(0, self.SEED_RANGE)\n",
    "        self.seed = seed\n",
    "        self._rng = np.random.default_rng(seed)\n",
    "        for key in dir(self._rng):\n",
    "            if \"__\" in key:\n",
    "                continue\n",
    "            self.__setattr__(key, self._rng.__getattribute__(key))\n"
   ]
  },
  {
   "cell_type": "code",
   "execution_count": 20,
   "metadata": {},
   "outputs": [],
   "source": [
    "def single_qubit_qargs(qc: QuantumCircuit, qubit_idx: int) -> list:\n",
    "    return [qc.qubits[qubit_idx]]\n",
    "\n",
    "\n",
    "def generate_double_qubit_args(spread: int = 1) -> Callable:\n",
    "    def double_qubit_args(qc: QuantumCircuit, qubit_idx: int) -> list:\n",
    "        return [\n",
    "            qc.qubits[qubit_idx],\n",
    "            qc.qubits[(qubit_idx+spread) % qc.num_qubits],\n",
    "        ]\n",
    "    return double_qubit_args\n"
   ]
  },
  {
   "cell_type": "code",
   "execution_count": 39,
   "metadata": {},
   "outputs": [
    {
     "data": {
      "text/plain": [
       "<Gateset3Qubit.RX: (<class 'qiskit.circuit.library.standard_gates.rx.RXGate'>, True, False, <function single_qubit_qargs at 0x117e09080>)>"
      ]
     },
     "execution_count": 39,
     "metadata": {},
     "output_type": "execute_result"
    }
   ],
   "source": [
    "class GateInfo(Enum):\n",
    "\n",
    "    def __init__(\n",
    "            self,\n",
    "            gate_class: QkGate,\n",
    "            trainable: bool,\n",
    "            multibit: bool,\n",
    "            qargs: Callable,\n",
    "    ):\n",
    "        self.gate_class = gate_class\n",
    "        self.trainable = trainable\n",
    "        self.multibit = multibit\n",
    "        self.qargs = qargs\n",
    "    \n",
    "    @classmethod\n",
    "    def get(cls, obj):\n",
    "        if isinstance(obj, Gateset):\n",
    "            return obj\n",
    "        if not isinstance(obj, str):\n",
    "            raise ValueError(f\"Gateset.get() requires Gateset or string, but {type(obj)} is given.\")\n",
    "        name = obj.upper()\n",
    "        for g in cls:\n",
    "            if name == g.name:\n",
    "                return g\n",
    "        raise ValueError(f\"Incorrect obj is given; {obj}\")\n",
    "\n",
    "\n",
    "class Gateset:\n",
    "\n",
    "    def __init__(self, num_qubits: int, seed: int = None):\n",
    "        self._rng = XRandomGenerator(seed)\n",
    "        self._nq = num_qubits\n",
    "    \n",
    "    @staticmethod\n",
    "    def set_num_qubit(num_qubit: int) -> \"Gateset\":\n",
    "        if num_qubit == 2:\n",
    "            return Gateset2Qubit\n",
    "        if num_qubit == 3:\n",
    "            return Gateset3Qubit\n",
    "        raise ValueError(f'num_qubit {num_qubit} is not supported.')\n",
    "    \n",
    "    @classmethod\n",
    "    def get_at_random(cls, rng: XRandomGenerator = None):\n",
    "        if rng is None:\n",
    "            rng = np.random.default_rng()\n",
    "        return rng.choice([g for g in cls])\n",
    "\n",
    "\n",
    "class Gateset2Qubit(Gateset):\n",
    "\n",
    "    RX = (RXGate, True, False, single_qubit_qargs)\n",
    "    RY = (RYGate, True, False, single_qubit_qargs)\n",
    "    RZ = (RZGate, True, False, single_qubit_qargs)\n",
    "    CZ = (CZGate, False, True, generate_double_qubit_args(1))\n",
    "\n",
    "\n",
    "class Gateset3Qubit(Gateset):\n",
    "\n",
    "    RX = (RXGate, True, False, single_qubit_qargs)\n",
    "    RY = (RYGate, True, False, single_qubit_qargs)\n",
    "    RZ = (RZGate, True, False, single_qubit_qargs)\n",
    "    CZ = (CZGate, False, True, generate_double_qubit_args(1))\n",
    "\n",
    "\n",
    "gateset = Gateset.set_num_qubit(3)\n",
    "gateset.get_at_random()\n",
    "\n"
   ]
  },
  {
   "cell_type": "code",
   "execution_count": null,
   "metadata": {},
   "outputs": [],
   "source": [
    "class Gate:\n",
    "\n",
    "    def __init__(\n",
    "            self,\n",
    "            gate: Instruction,\n",
    "            trainable: bool,\n",
    "            multibit: bool,\n",
    "            qubit: int,\n",
    "            qargs_func: Callable,\n",
    "    ):\n",
    "        self._gate = gate\n",
    "        self._trainable = trainable\n",
    "        self._multibit = multibit\n",
    "        self._qubit = qubit\n",
    "        self._qargs_func = qargs_func\n",
    "\n",
    "    def apply_to_qc(self, qc: QuantumCircuit):\n",
    "        qargs = self._qargs_func(qc, self._qubit)\n",
    "        qc.append(self._gate, qargs)\n",
    "\n",
    "    @staticmethod\n",
    "    def new_with_info(info: GateInfo, qubit: int, parameter: Parameter = None):\n",
    "        gate = info.gate_class() if parameter is None else info.gate_class(parameter)\n",
    "        return Gate(\n",
    "            gate, info.trainable, info.multibit, qubit, info.qargs\n",
    "        )\n",
    "\n",
    "    @property\n",
    "    def gate(self):\n",
    "        return self._gate\n",
    "\n",
    "    @property\n",
    "    def trainable(self):\n",
    "        return self._trainable\n",
    "\n",
    "    @property\n",
    "    def multi_qubit(self):\n",
    "        return self._multi_qubit\n",
    "\n",
    "    @property\n",
    "    def qubit(self):\n",
    "        return self._qubit\n"
   ]
  },
  {
   "cell_type": "code",
   "execution_count": null,
   "metadata": {},
   "outputs": [],
   "source": [
    "class Unit:\n",
    "\n",
    "    VALUE_MAX = 2 * np.pi\n",
    "\n",
    "    def __init__(\n",
    "            self,\n",
    "            name: str,\n",
    "            gates: list[Gate],\n",
    "            params: list[Parameter],\n",
    "            values: Vector\n",
    "    ):\n",
    "        self._name = name\n",
    "        self._gates = gates\n",
    "        self._params = params\n",
    "        self._values = self.format(values)\n",
    "\n",
    "    def feed_dict(self, values=None) -> dict[str, float]:\n",
    "        if values is None:\n",
    "            values = self._values\n",
    "        if not hasattr(values, \"__len__\"):\n",
    "            values = [values]\n",
    "        \n",
    "        assert len(values) == len(self.parameters), f\"Length of values {len(values)} must be equal to number of parameters {len(self.num_param)}\"\n",
    "        values = self.format(values)\n",
    "    \n",
    "    @classmethod\n",
    "    def format(cls, values: Vector) -> NDArray:\n",
    "        values = np.asarray(values)\n",
    "        if values.ndim == 0:\n",
    "            values = values[np.newaxis]\n",
    "        return values % cls.VALUE_MAX\n",
    "    \n",
    "    @property\n",
    "    def parameters(self):\n",
    "        return self.values\n",
    "    \n",
    "    @parameters.setter\n",
    "    def parameters(self, values):\n",
    "        assert len(values)\n",
    "        self._values = self.format(values)\n",
    "    \n",
    "    @property\n",
    "    def values(self):\n",
    "        return self._values.copy()\n",
    "    \n",
    "    @property\n",
    "    def gates(self):\n",
    "        return [gate for gate in self._gates]\n",
    "    \n",
    "    @property\n",
    "    def parameter_instances(self):\n",
    "        return self._params\n",
    "    \n",
    "    @property\n",
    "    def num_parameters(self):\n",
    "        return len(self._params)\n"
   ]
  },
  {
   "cell_type": "markdown",
   "metadata": {},
   "source": []
  },
  {
   "cell_type": "code",
   "execution_count": 49,
   "metadata": {},
   "outputs": [
    {
     "ename": "AttributeError",
     "evalue": "'Gateset3Qubit' object has no attribute 'multi_bit'",
     "output_type": "error",
     "traceback": [
      "\u001b[0;31m---------------------------------------------------------------------------\u001b[0m",
      "\u001b[0;31mAttributeError\u001b[0m                            Traceback (most recent call last)",
      "\u001b[1;32m/Users/yoshikawa/loutrebleu/workspace/qml/dev/module2/25.02.17-dev:unit.ipynb Cell 11\u001b[0m line \u001b[0;36m4\n\u001b[1;32m     <a href='vscode-notebook-cell:/Users/yoshikawa/loutrebleu/workspace/qml/dev/module2/25.02.17-dev%3Aunit.ipynb#X11sZmlsZQ%3D%3D?line=42'>43</a>\u001b[0m         \u001b[39mreturn\u001b[39;00m Unit(pname, gates, params)\n\u001b[1;32m     <a href='vscode-notebook-cell:/Users/yoshikawa/loutrebleu/workspace/qml/dev/module2/25.02.17-dev%3Aunit.ipynb#X11sZmlsZQ%3D%3D?line=45'>46</a>\u001b[0m uman \u001b[39m=\u001b[39m UnitManager(\u001b[39m3\u001b[39m, \u001b[39m3\u001b[39m)\n\u001b[0;32m---> <a href='vscode-notebook-cell:/Users/yoshikawa/loutrebleu/workspace/qml/dev/module2/25.02.17-dev%3Aunit.ipynb#X11sZmlsZQ%3D%3D?line=46'>47</a>\u001b[0m unit \u001b[39m=\u001b[39m uman\u001b[39m.\u001b[39;49mgenerate_random_unit()\n\u001b[1;32m     <a href='vscode-notebook-cell:/Users/yoshikawa/loutrebleu/workspace/qml/dev/module2/25.02.17-dev%3Aunit.ipynb#X11sZmlsZQ%3D%3D?line=47'>48</a>\u001b[0m \u001b[39mprint\u001b[39m(unit)\n",
      "\u001b[1;32m/Users/yoshikawa/loutrebleu/workspace/qml/dev/module2/25.02.17-dev:unit.ipynb Cell 11\u001b[0m line \u001b[0;36m1\n\u001b[1;32m     <a href='vscode-notebook-cell:/Users/yoshikawa/loutrebleu/workspace/qml/dev/module2/25.02.17-dev%3Aunit.ipynb#X11sZmlsZQ%3D%3D?line=11'>12</a>\u001b[0m gates \u001b[39m=\u001b[39m [\u001b[39mself\u001b[39m\u001b[39m.\u001b[39mgateset\u001b[39m.\u001b[39mget_at_random() \u001b[39mfor\u001b[39;00m _ \u001b[39min\u001b[39;00m \u001b[39mrange\u001b[39m(\u001b[39mself\u001b[39m\u001b[39m.\u001b[39m_ng)]\n\u001b[1;32m     <a href='vscode-notebook-cell:/Users/yoshikawa/loutrebleu/workspace/qml/dev/module2/25.02.17-dev%3Aunit.ipynb#X11sZmlsZQ%3D%3D?line=12'>13</a>\u001b[0m qubits \u001b[39m=\u001b[39m \u001b[39mself\u001b[39m\u001b[39m.\u001b[39mrng\u001b[39m.\u001b[39mintegers(\u001b[39m0\u001b[39m, \u001b[39mself\u001b[39m\u001b[39m.\u001b[39m_nq, size\u001b[39m=\u001b[39m\u001b[39mself\u001b[39m\u001b[39m.\u001b[39m_ng)\n\u001b[0;32m---> <a href='vscode-notebook-cell:/Users/yoshikawa/loutrebleu/workspace/qml/dev/module2/25.02.17-dev%3Aunit.ipynb#X11sZmlsZQ%3D%3D?line=13'>14</a>\u001b[0m unit \u001b[39m=\u001b[39m \u001b[39mself\u001b[39;49m\u001b[39m.\u001b[39;49mgenerate_with_gateinfos_and_qubits(name, gates, qubits)\n\u001b[1;32m     <a href='vscode-notebook-cell:/Users/yoshikawa/loutrebleu/workspace/qml/dev/module2/25.02.17-dev%3Aunit.ipynb#X11sZmlsZQ%3D%3D?line=14'>15</a>\u001b[0m \u001b[39mprint\u001b[39m(unit)\n\u001b[1;32m     <a href='vscode-notebook-cell:/Users/yoshikawa/loutrebleu/workspace/qml/dev/module2/25.02.17-dev%3Aunit.ipynb#X11sZmlsZQ%3D%3D?line=15'>16</a>\u001b[0m \u001b[39mreturn\u001b[39;00m \u001b[39m1\u001b[39m\n",
      "\u001b[1;32m/Users/yoshikawa/loutrebleu/workspace/qml/dev/module2/25.02.17-dev:unit.ipynb Cell 11\u001b[0m line \u001b[0;36m3\n\u001b[1;32m     <a href='vscode-notebook-cell:/Users/yoshikawa/loutrebleu/workspace/qml/dev/module2/25.02.17-dev%3Aunit.ipynb#X11sZmlsZQ%3D%3D?line=34'>35</a>\u001b[0m     param \u001b[39m=\u001b[39m Parameter(pname)\n\u001b[1;32m     <a href='vscode-notebook-cell:/Users/yoshikawa/loutrebleu/workspace/qml/dev/module2/25.02.17-dev%3Aunit.ipynb#X11sZmlsZQ%3D%3D?line=35'>36</a>\u001b[0m     params\u001b[39m.\u001b[39mappend(param)\n\u001b[1;32m     <a href='vscode-notebook-cell:/Users/yoshikawa/loutrebleu/workspace/qml/dev/module2/25.02.17-dev%3Aunit.ipynb#X11sZmlsZQ%3D%3D?line=36'>37</a>\u001b[0m     gates\u001b[39m.\u001b[39mappend(\n\u001b[0;32m---> <a href='vscode-notebook-cell:/Users/yoshikawa/loutrebleu/workspace/qml/dev/module2/25.02.17-dev%3Aunit.ipynb#X11sZmlsZQ%3D%3D?line=37'>38</a>\u001b[0m         Gate\u001b[39m.\u001b[39;49mnew_with_info(gateinfo, qubit, param)\n\u001b[1;32m     <a href='vscode-notebook-cell:/Users/yoshikawa/loutrebleu/workspace/qml/dev/module2/25.02.17-dev%3Aunit.ipynb#X11sZmlsZQ%3D%3D?line=38'>39</a>\u001b[0m     )\n\u001b[1;32m     <a href='vscode-notebook-cell:/Users/yoshikawa/loutrebleu/workspace/qml/dev/module2/25.02.17-dev%3Aunit.ipynb#X11sZmlsZQ%3D%3D?line=40'>41</a>\u001b[0m values \u001b[39m=\u001b[39m np\u001b[39m.\u001b[39mzeros_like(params)\n\u001b[1;32m     <a href='vscode-notebook-cell:/Users/yoshikawa/loutrebleu/workspace/qml/dev/module2/25.02.17-dev%3Aunit.ipynb#X11sZmlsZQ%3D%3D?line=42'>43</a>\u001b[0m \u001b[39mreturn\u001b[39;00m Unit(pname, gates, params)\n",
      "File \u001b[0;32m~/loutrebleu/workspace/qml/qml/model/gate.py:77\u001b[0m, in \u001b[0;36mGate.new_with_info\u001b[0;34m(info, qubit, parameter)\u001b[0m\n\u001b[1;32m     73\u001b[0m \u001b[39m@staticmethod\u001b[39m\n\u001b[1;32m     74\u001b[0m \u001b[39mdef\u001b[39;00m \u001b[39mnew_with_info\u001b[39m(info: GateInfo, qubit: \u001b[39mint\u001b[39m, parameter: Parameter \u001b[39m=\u001b[39m \u001b[39mNone\u001b[39;00m):\n\u001b[1;32m     75\u001b[0m     gate \u001b[39m=\u001b[39m info\u001b[39m.\u001b[39mgate_class() \u001b[39mif\u001b[39;00m parameter \u001b[39mis\u001b[39;00m \u001b[39mNone\u001b[39;00m \u001b[39melse\u001b[39;00m info\u001b[39m.\u001b[39mgate_class(parameter)\n\u001b[1;32m     76\u001b[0m     \u001b[39mreturn\u001b[39;00m Gate(\n\u001b[0;32m---> 77\u001b[0m         gate, info\u001b[39m.\u001b[39mtrainable, info\u001b[39m.\u001b[39;49mmulti_bit, qubit, info\u001b[39m.\u001b[39mqargs\n\u001b[1;32m     78\u001b[0m     )\n",
      "\u001b[0;31mAttributeError\u001b[0m: 'Gateset3Qubit' object has no attribute 'multi_bit'"
     ]
    }
   ],
   "source": [
    "class UnitManager:\n",
    "\n",
    "    def __init__(self, num_qubit: int, num_gate: int, gateset: int = None, seed: int = None):\n",
    "        self.rng = XRandomGenerator(seed)\n",
    "        self._nq = num_qubit\n",
    "        self._ng = num_gate\n",
    "        if gateset is None:\n",
    "            gateset = Gateset.set_num_qubit(num_qubit)\n",
    "        self.gateset = gateset\n",
    "    \n",
    "    def generate_random_unit(self, name: str = None):\n",
    "        gates = [self.gateset.get_at_random() for _ in range(self._ng)]\n",
    "        qubits = self.rng.integers(0, self._nq, size=self._ng)\n",
    "        unit = self.generate_with_gateinfos_and_qubits(name, gates, qubits)\n",
    "        print(unit)\n",
    "        return 1\n",
    "    \n",
    "    def generate_with_gateinfos_and_qubits(\n",
    "            self,\n",
    "            name: str,\n",
    "            gateinfos: list[Gateset],\n",
    "            qubits: list[int],\n",
    "    ):\n",
    "        gates = []\n",
    "        params = []\n",
    "\n",
    "        for gateinfo, qubit in zip(gateinfos, qubits):\n",
    "            if not gateinfo.trainable:\n",
    "                gates.append(Gate.new_with_info(gateinfo, qubit))\n",
    "                continue\n",
    "\n",
    "            pname = f\"param_{len(params)}\"\n",
    "            if name is not None:\n",
    "                pname = name + \"_\" + pname\n",
    "            param = Parameter(pname)\n",
    "            params.append(param)\n",
    "            gates.append(\n",
    "                Gate.new_with_info(gateinfo, qubit, param)\n",
    "            )\n",
    "        \n",
    "        values = np.zeros_like(params)\n",
    "\n",
    "        return Unit(pname, gates, params)\n",
    "\n",
    "\n",
    "uman = UnitManager(3, 3)\n",
    "unit = uman.generate_random_unit()\n",
    "print(unit)\n"
   ]
  },
  {
   "cell_type": "code",
   "execution_count": 12,
   "metadata": {},
   "outputs": [
    {
     "data": {
      "text/plain": [
       "1"
      ]
     },
     "execution_count": 12,
     "metadata": {},
     "output_type": "execute_result"
    }
   ],
   "source": [
    "gateset = get_gateset(3)\n",
    "name = \"unit\"\n",
    "gates = [gateset]\n"
   ]
  },
  {
   "cell_type": "code",
   "execution_count": null,
   "metadata": {},
   "outputs": [],
   "source": []
  }
 ],
 "metadata": {
  "kernelspec": {
   "display_name": "lb-qml",
   "language": "python",
   "name": "python3"
  },
  "language_info": {
   "codemirror_mode": {
    "name": "ipython",
    "version": 3
   },
   "file_extension": ".py",
   "mimetype": "text/x-python",
   "name": "python",
   "nbconvert_exporter": "python",
   "pygments_lexer": "ipython3",
   "version": "3.12.7"
  }
 },
 "nbformat": 4,
 "nbformat_minor": 2
}
