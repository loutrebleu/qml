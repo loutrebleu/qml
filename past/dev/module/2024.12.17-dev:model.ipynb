{
 "cells": [
  {
   "metadata": {
    "ExecuteTime": {
     "end_time": "2024-12-23T16:03:18.730825Z",
     "start_time": "2024-12-23T16:03:18.720018Z"
    }
   },
   "cell_type": "code",
   "source": [
    "%load_ext autoreload\n",
    "%autoreload 2"
   ],
   "id": "e8fbbda95d9fda8c",
   "outputs": [],
   "execution_count": 2
  },
  {
   "cell_type": "code",
   "id": "initial_id",
   "metadata": {
    "collapsed": true,
    "ExecuteTime": {
     "end_time": "2024-12-23T16:03:20.922615Z",
     "start_time": "2024-12-23T16:03:18.880564Z"
    }
   },
   "source": [
    "import io\n",
    "import cv2\n",
    "import numpy as np\n",
    "import matplotlib.pyplot as plt\n",
    "import time\n",
    "\n",
    "from collections import namedtuple\n",
    "from IPython.display import clear_output\n",
    "from tqdm.notebook import tqdm\n",
    "from numpy.typing import NDArray\n",
    "\n",
    "from scipy.optimize import minimize\n",
    "from qiskit import QuantumRegister, ClassicalRegister, QuantumCircuit, transpile\n",
    "from qiskit.circuit import Parameter\n",
    "from qiskit.circuit.library import RXGate, RYGate, RZGate, CXGate, CZGate, IGate\n",
    "from qiskit_aer import AerSimulator"
   ],
   "outputs": [],
   "execution_count": 3
  },
  {
   "metadata": {
    "ExecuteTime": {
     "end_time": "2024-12-23T16:03:20.935882Z",
     "start_time": "2024-12-23T16:03:20.923510Z"
    }
   },
   "cell_type": "code",
   "source": [
    "from qml.model.gate import get_gateset\n",
    "from qml.model.unit import Unit, EmbedUnit"
   ],
   "id": "fe157c76b6cb2340",
   "outputs": [],
   "execution_count": 4
  },
  {
   "metadata": {
    "ExecuteTime": {
     "end_time": "2024-12-24T02:54:34.388613Z",
     "start_time": "2024-12-24T02:54:34.362448Z"
    }
   },
   "cell_type": "code",
   "source": [
    "class Model:\n",
    "\n",
    "    def __init__(\n",
    "            self,\n",
    "            num_qubit: int,\n",
    "            num_output: int,\n",
    "            input_units: Unit,\n",
    "            fixed_units: list[Unit],\n",
    "            trainable_units: list[Unit] = None,\n",
    "            shots: int = 100,\n",
    "            sim = None\n",
    "    ):\n",
    "        if not hasattr(fixed_units, \"__len__\"):\n",
    "            fixed_units = [fixed_units]\n",
    "        if trainable_units is not None and not hasattr(trainable_units, \"__len__\"):\n",
    "            trainable_units = [trainable_units]\n",
    "        self.nq = num_qubit\n",
    "        self.nc = num_output\n",
    "        self._input_units = input_units\n",
    "        self._fixed_units = fixed_units\n",
    "        self._trainable_units = trainable_units\n",
    "        self._shots = shots\n",
    "        self._sim = sim if sim is not None else AerSimulator()\n",
    "        \n",
    "    def forward(self, x, params=None, shots=None) -> float:\n",
    "        if params is None:\n",
    "            params = [unit.values for unit in self._trainable_units]\n",
    "        if shots is None:\n",
    "            shots = self._shots\n",
    "        feed_dict = self._input_units.feed_dict(x)\n",
    "        for unit in self._fixed_units:\n",
    "            feed_dict[unit] |= unit.feed_dict()\n",
    "        for unit, param in zip(self._trainable_units, params):\n",
    "            feed_dict |= unit.feed_dict(param)\n",
    "        \n",
    "        bc = qc.assign_parameters(feed_dict)\n",
    "        job = transpile(bc, self._sim)\n",
    "        res = self._sim.run(job, shots=shots).result().get_counts()\n",
    "        pre = res.get(\"0\", 0) - res.get(\"1\", 0)\n",
    "        return pre / shots\n",
    "\n",
    "    def _apply(self):\n",
    "        qc = QuantumCircuit(self.nq, self.nc)\n",
    "\n",
    "        self._input_units.apply_to_qc(qc)\n",
    "        [\n",
    "            fixed_unit.apply_to_qc(qc)\n",
    "            for fixed_unit in self._fixed_units\n",
    "        ]\n",
    "        [\n",
    "            trainable_unit.apply_to_qc(qc)\n",
    "            for trainable_unit in self._trainable_units\n",
    "        ]\n",
    "\n",
    "        qc.measure(0, 0)\n",
    "        return qc\n",
    "    \n",
    "    @property\n",
    "    def input_units(self):\n",
    "        return self._input_units\n",
    "    \n",
    "    @property\n",
    "    def fixed_units(self):\n",
    "        return self._fixed_units\n",
    "    \n",
    "    @property\n",
    "    def trainable_units(self):\n",
    "        return self._trainable_units\n",
    "    \n",
    "    @trainable_units.setter\n",
    "    def trainable_units(self, units):\n",
    "        self._trainable_units.append(units)\n",
    "    \n",
    "    def  fix_trainable_unit(self):\n",
    "        [\n",
    "            self._fixed_units.append(trainable_unit)\n",
    "            for trainable_unit in self._trainable_units\n",
    "        ]\n",
    "        self._trainable_units = []\n",
    "        \n",
    "    @property\n",
    "    def shots(self):\n",
    "        return self._shots\n",
    "    \n",
    "    @shots.setter\n",
    "    def shots(self, value):\n",
    "        self._shots = value\n",
    "        \n",
    "    @property\n",
    "    def trainable_parameters(self):\n",
    "        return [\n",
    "            unit.parameters for unit in self._trainable_units\n",
    "        ]\n",
    "    \n",
    "    def update_parameters(self, new_parameters):\n",
    "        for unit, param in zip(self.trainable_units, new_parameters):\n",
    "            unit.values = param"
   ],
   "id": "8b6430f8cbf72838",
   "outputs": [],
   "execution_count": 72
  },
  {
   "metadata": {
    "ExecuteTime": {
     "end_time": "2024-12-24T02:54:41.456688Z",
     "start_time": "2024-12-24T02:54:41.353910Z"
    }
   },
   "cell_type": "code",
   "source": [
    "nq = 2\n",
    "ng = 3\n",
    "gateset = get_gateset(nq)\n",
    "inunit = EmbedUnit.generate_ry_arcsin_embed_unit(\n",
    "    \"inunit\", nq, 1, gateset\n",
    ")\n",
    "fxunit = []\n",
    "trunit = Unit.generate_random_unit(\n",
    "    \"trunit_1\", nq, ng, gateset\n",
    ")\n",
    "model = Model(nq, 1, inunit, fxunit, trunit)\n",
    "qc = model._apply()\n",
    "qc.draw(\"mpl\")\n",
    "\n",
    "model.forward(1)"
   ],
   "id": "1869ee24963887cb",
   "outputs": [
    {
     "data": {
      "text/plain": [
       "-0.04"
      ]
     },
     "execution_count": 76,
     "metadata": {},
     "output_type": "execute_result"
    }
   ],
   "execution_count": 76
  },
  {
   "metadata": {
    "ExecuteTime": {
     "end_time": "2024-12-24T02:55:07.609166Z",
     "start_time": "2024-12-24T02:55:07.499609Z"
    }
   },
   "cell_type": "code",
   "source": [
    "def calc_gradients(model, x, shots=100):\n",
    "    trainable_params = model.trainable_parameters\n",
    "    tp_shapes = [len(tp) for tp in trainable_params]\n",
    "    tp_shapes.insert(0, 0)\n",
    "    tp_shape_idxs = np.cumsum(tp_shapes)\n",
    "    \n",
    "    trainable_params = np.hstack(trainable_params)\n",
    "    demi_pi = np.pi / 2\n",
    "    deux_pi = np.pi * 2\n",
    "    \n",
    "    def deflatten(flattened):\n",
    "        return [\n",
    "            flattened[idx_de:idx_to]\n",
    "            for idx_de, idx_to\n",
    "            in zip(tp_shape_idxs[:-1], tp_shape_idxs[1:])\n",
    "        ]\n",
    "    \n",
    "    def calc_gradient_idx(idx):\n",
    "        shifted_pos = trainable_params.copy()\n",
    "        shifted_neg = trainable_params.copy()\n",
    "        shifted_pos[idx] = (trainable_params[idx] + demi_pi) % deux_pi\n",
    "        shifted_neg[idx] = (trainable_params[idx] - demi_pi) % demi_pi\n",
    "        \n",
    "        predict_pos = model.forward(\n",
    "            x,\n",
    "            params=deflatten(shifted_pos),\n",
    "            shots=shots\n",
    "        )\n",
    "        predict_neg = model.forward(\n",
    "            x,\n",
    "            params=deflatten(shifted_neg),\n",
    "            shots=shots\n",
    "        )\n",
    "        grad = (predict_pos - predict_neg) / 2\n",
    "        return grad\n",
    "    \n",
    "    grads = np.asarray([\n",
    "        calc_gradient_idx(idx)\n",
    "        for idx in range(len(trainable_params))\n",
    "    ])\n",
    "    \n",
    "    return deflatten(grads)\n",
    "    \n",
    "\n",
    "lr = 1e-2\n",
    "grads = calc_gradients(model, 0)\n",
    "new_params = [\n",
    "    unit.values - grad * lr\n",
    "    for unit, grad in zip(model.trainable_units, grads)\n",
    "]\n",
    "model.update_parameters(new_params)"
   ],
   "id": "445a5b5f15ebbee5",
   "outputs": [],
   "execution_count": 81
  },
  {
   "metadata": {
    "ExecuteTime": {
     "end_time": "2024-12-24T02:55:07.868361Z",
     "start_time": "2024-12-24T02:55:07.854521Z"
    }
   },
   "cell_type": "code",
   "source": "model.trainable_parameters",
   "id": "80d01006961491c3",
   "outputs": [
    {
     "data": {
      "text/plain": [
       "[array([0.0138, 0.0], dtype=object)]"
      ]
     },
     "execution_count": 82,
     "metadata": {},
     "output_type": "execute_result"
    }
   ],
   "execution_count": 82
  },
  {
   "metadata": {},
   "cell_type": "code",
   "outputs": [],
   "execution_count": null,
   "source": "",
   "id": "349f5ece2768a12"
  }
 ],
 "metadata": {
  "kernelspec": {
   "display_name": "Python 3",
   "language": "python",
   "name": "python3"
  },
  "language_info": {
   "codemirror_mode": {
    "name": "ipython",
    "version": 2
   },
   "file_extension": ".py",
   "mimetype": "text/x-python",
   "name": "python",
   "nbconvert_exporter": "python",
   "pygments_lexer": "ipython2",
   "version": "2.7.6"
  }
 },
 "nbformat": 4,
 "nbformat_minor": 5
}
