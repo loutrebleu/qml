{
 "cells": [
  {
   "cell_type": "code",
   "id": "initial_id",
   "metadata": {
    "collapsed": true,
    "ExecuteTime": {
     "end_time": "2024-12-15T15:52:06.388445Z",
     "start_time": "2024-12-15T15:52:06.380Z"
    }
   },
   "source": [
    "%load_ext autoreload\n",
    "%autoreload 2"
   ],
   "outputs": [],
   "execution_count": 1
  },
  {
   "metadata": {
    "ExecuteTime": {
     "end_time": "2024-12-15T15:52:25.505640Z",
     "start_time": "2024-12-15T15:52:24.152931Z"
    }
   },
   "cell_type": "code",
   "source": [
    "import numpy as np\n",
    "import matplotlib.pyplot as plt\n",
    "import time\n",
    "\n",
    "from collections import namedtuple\n",
    "from IPython.display import clear_output\n",
    "from tqdm.notebook import tqdm\n",
    "from numpy.typing import NDArray\n",
    "\n",
    "from scipy.optimize import minimize\n",
    "from qiskit import QuantumRegister, ClassicalRegister, QuantumCircuit, transpile\n",
    "from qiskit.circuit import Parameter, Instruction\n",
    "from qiskit.circuit.library import RXGate, RYGate, RZGate, CXGate, CZGate, IGate\n",
    "from qiskit_aer import AerSimulator"
   ],
   "id": "df0e9e25b5bf6529",
   "outputs": [],
   "execution_count": 2
  },
  {
   "metadata": {
    "ExecuteTime": {
     "end_time": "2024-12-15T15:52:35.073209Z",
     "start_time": "2024-12-15T15:52:35.059029Z"
    }
   },
   "cell_type": "code",
   "source": "from qml.model.gate import get_gateset, GateInfo, Gate",
   "id": "43fa7865cd0c0024",
   "outputs": [],
   "execution_count": 3
  },
  {
   "metadata": {
    "ExecuteTime": {
     "end_time": "2024-12-15T16:03:37.833679Z",
     "start_time": "2024-12-15T16:03:37.813156Z"
    }
   },
   "cell_type": "code",
   "source": [
    "class Unit:\n",
    "\n",
    "    VALUE_MAX = 2 * np.pi\n",
    "\n",
    "    def __init__(\n",
    "            self,\n",
    "            name: str,\n",
    "            gates: list[Gate],\n",
    "            params: list[Parameter],\n",
    "            values: list[float] | NDArray,\n",
    "    ):\n",
    "        self._name = name\n",
    "        self._gates = gates\n",
    "        self._params = params\n",
    "        self._values = np.asarray(values) % self.VALUE_MAX\n",
    "\n",
    "    def feed_dict(self, values=None) -> dict[str, float]:\n",
    "        if values is None:\n",
    "            values = self.values\n",
    "        if not hasattr(values, \"__len__\"):\n",
    "            values = [values]\n",
    "        assert len(values) == len(\n",
    "            self.parameters), f\"Length of values {len(values)} must be equal to number of parameters {len(self.values)}\"\n",
    "\n",
    "        feed_dict = dict()\n",
    "        for param, value in zip(self._params, values):\n",
    "            feed_dict |= {\n",
    "                param.name: value\n",
    "            }\n",
    "        return feed_dict\n",
    "\n",
    "    def apply_to_qc(self, qc: QuantumCircuit) -> QuantumCircuit:\n",
    "        for gate in self._gates:\n",
    "            gate.apply_to_qc(qc)\n",
    "        return qc\n",
    "\n",
    "    @staticmethod\n",
    "    def generate_random_unit(\n",
    "            name: str,\n",
    "            num_qubit: int,\n",
    "            num_gate: int,\n",
    "            gateset: dict[str, GateInfo] = None,\n",
    "    ):\n",
    "        if gateset is None:\n",
    "            gateset = get_gateset(num_qubit)\n",
    "\n",
    "        # select gate at random\n",
    "        gate_names_on_set = list(gateset.keys())\n",
    "        gate_names = np.random.choice(gate_names_on_set, size=num_gate, replace=True)\n",
    "\n",
    "        # select qubits to apply gates\n",
    "        qubits = np.random.randint(0, num_qubit, size=num_gate)\n",
    "        return Unit.new_with_gate_names_and_qubits(name, gate_names, qubits, gateset)\n",
    "\n",
    "    @staticmethod\n",
    "    def new_with_gate_names_and_qubits(\n",
    "            name: str,\n",
    "            gate_names: list[str],\n",
    "            qubits: list[int],\n",
    "            gateset: dict[str, GateInfo]\n",
    "    ):\n",
    "        gate_infos = [gateset[gate_name] for gate_name in gate_names]\n",
    "        \n",
    "        # build instance of gates and parameters\n",
    "        gates = []\n",
    "        params = []\n",
    "        for gate_info, qubit in zip(gate_infos, qubits):\n",
    "            if not gate_info.trainable:\n",
    "                gates.append(Gate.new_with_info(gate_info, qubit))\n",
    "                continue\n",
    "\n",
    "            pname = f\"param_{len(params)}\"\n",
    "            if name is not None:\n",
    "                pname = name + \"_\" + pname\n",
    "            param = Parameter(pname)\n",
    "            params.append(param)\n",
    "            gates.append(Gate.new_with_info(gate_info, qubit, param))\n",
    "\n",
    "        # initialize parameter values\n",
    "        values = np.zeros_like(params)\n",
    "\n",
    "        return Unit(name, gates, params, values)\n",
    "\n",
    "    @property\n",
    "    def values(self):\n",
    "        return self._values.copy()\n",
    "\n",
    "    @values.setter\n",
    "    def values(self, values):\n",
    "        assert len(values) == len(\n",
    "            self.values), f\"Length of values {len(values)} must be equal to number of parameters {len(self.values)}\"\n",
    "        values = np.asarray(values)\n",
    "        values = values % self.VALUE_MAX\n",
    "        self._values = values\n",
    "\n",
    "    @property\n",
    "    def parameters(self):\n",
    "        return self.values\n",
    "\n",
    "    @parameters.setter\n",
    "    def parameters(self, values):\n",
    "        self.values = values\n",
    "\n",
    "    @property\n",
    "    def gates(self):\n",
    "        return [gate for gate in self._gates]\n",
    "\n",
    "    @property\n",
    "    def parameter_instances(self):\n",
    "        return self._params\n",
    "\n",
    "    @property\n",
    "    def num_param(self):\n",
    "        return len(self._params)\n"
   ],
   "id": "f04abd2b1607a55a",
   "outputs": [],
   "execution_count": 4
  },
  {
   "metadata": {
    "ExecuteTime": {
     "end_time": "2024-12-15T16:04:15.349713Z",
     "start_time": "2024-12-15T16:04:14.901900Z"
    }
   },
   "cell_type": "code",
   "source": [
    "nq = 3\n",
    "ng = 3\n",
    "qc = QuantumCircuit(nq)\n",
    "\n",
    "unit = Unit.generate_random_unit(\"demo\", nq, ng)\n",
    "unit.apply_to_qc(qc)\n",
    "\n",
    "qc.draw(\"mpl\")"
   ],
   "id": "3dfc0e515dc4877c",
   "outputs": [
    {
     "data": {
      "text/plain": [
       "<Figure size 454.719x284.278 with 1 Axes>"
      ],
      "image/png": "[encoded data removed]"
     },
     "execution_count": 6,
     "metadata": {},
     "output_type": "execute_result"
    }
   ],
   "execution_count": 6
  },
  {
   "metadata": {},
   "cell_type": "code",
   "outputs": [],
   "execution_count": null,
   "source": "",
   "id": "8b62eb08fd802971"
  }
 ],
 "metadata": {
  "kernelspec": {
   "display_name": "Python 3",
   "language": "python",
   "name": "python3"
  },
  "language_info": {
   "codemirror_mode": {
    "name": "ipython",
    "version": 2
   },
   "file_extension": ".py",
   "mimetype": "text/x-python",
   "name": "python",
   "nbconvert_exporter": "python",
   "pygments_lexer": "ipython2",
   "version": "2.7.6"
  }
 },
 "nbformat": 4,
 "nbformat_minor": 5
}
