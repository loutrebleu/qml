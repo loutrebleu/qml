{
 "cells": [
  {
   "cell_type": "code",
   "execution_count": 1,
   "metadata": {},
   "outputs": [],
   "source": [
    "%load_ext autoreload\n",
    "%autoreload 2\n"
   ]
  },
  {
   "cell_type": "code",
   "execution_count": 2,
   "metadata": {},
   "outputs": [],
   "source": [
    "import os\n",
    "os.chdir(\"../..\")\n"
   ]
  },
  {
   "cell_type": "code",
   "execution_count": 3,
   "metadata": {},
   "outputs": [],
   "source": [
    "import numpy as np\n",
    "import matplotlib.pyplot as plt\n",
    "import time\n",
    "\n",
    "from collections import namedtuple\n",
    "from IPython.display import clear_output\n",
    "from tqdm.notebook import tqdm\n",
    "from numpy.typing import NDArray\n",
    "\n",
    "from scipy.optimize import minimize\n",
    "from qiskit import QuantumRegister, ClassicalRegister, QuantumCircuit, transpile\n",
    "from qiskit.circuit import Parameter, Instruction\n",
    "from qiskit.circuit.library import RXGate, RYGate, RZGate, CXGate, CZGate, IGate\n",
    "from qiskit_aer import AerSimulator\n"
   ]
  },
  {
   "cell_type": "code",
   "execution_count": 4,
   "metadata": {},
   "outputs": [],
   "source": [
    "from qml.model.gate import GateInfo, get_gateset, Gate\n"
   ]
  },
  {
   "cell_type": "code",
   "execution_count": 44,
   "metadata": {},
   "outputs": [],
   "source": [
    "\n",
    "class Unit:\n",
    "    VALUE_MAX = 2 * np.pi\n",
    "\n",
    "    def __init__(\n",
    "            self,\n",
    "            name: str,\n",
    "            gates: list[Gate],\n",
    "            params: list[Parameter],\n",
    "            values: list[float] | NDArray,\n",
    "    ):\n",
    "        self._name = name\n",
    "        self._gates = gates\n",
    "        self._params = params\n",
    "        self._values = np.asarray(values) % self.VALUE_MAX\n",
    "\n",
    "    def feed_dict(self, values=None) -> dict[str, float]:\n",
    "        if values is None:\n",
    "            values = self.values\n",
    "        if not hasattr(values, \"__len__\"):\n",
    "            values = [values]\n",
    "        assert len(values) == len(\n",
    "            self.parameters), f\"Length of values {len(values)} must be equal to number of parameters {len(self.values)}\"\n",
    "\n",
    "        feed_dict = dict()\n",
    "        for param, value in zip(self._params, values):\n",
    "            feed_dict |= {\n",
    "                param.name: value\n",
    "            }\n",
    "        return feed_dict\n",
    "\n",
    "    def apply_to_qc(self, qc: QuantumCircuit) -> QuantumCircuit:\n",
    "        for gate in self._gates:\n",
    "            gate.apply_to_qc(qc)\n",
    "        return qc\n",
    "\n",
    "    @classmethod\n",
    "    def generate_random_unit(\n",
    "            cls,\n",
    "            name: str,\n",
    "            num_qubit: int,\n",
    "            num_gate: int,\n",
    "            gateset: dict[str, GateInfo] = None,\n",
    "    ):\n",
    "        if gateset is None:\n",
    "            gateset = get_gateset(num_qubit)\n",
    "\n",
    "        # select gate at random\n",
    "        gate_names_on_set = list(gateset.keys())\n",
    "        gate_names = np.random.choice(gate_names_on_set, size=num_gate, replace=True)\n",
    "\n",
    "        # select qubits to apply gates\n",
    "        qubits = np.random.randint(0, num_qubit, size=num_gate)\n",
    "\n",
    "        return cls.new_with_gate_names_and_qubits(name, gate_names, qubits, gateset)\n",
    "\n",
    "    @classmethod\n",
    "    def new_with_gate_names_and_qubits(\n",
    "            cls,\n",
    "            name: str,\n",
    "            gate_names: list[str],\n",
    "            qubits: list[int],\n",
    "            gateset: dict[str, GateInfo]\n",
    "    ):\n",
    "        gate_infos = [gateset[gate_name] for gate_name in gate_names]\n",
    "\n",
    "        # build instance of gates and parameters\n",
    "        gates = []\n",
    "        params = []\n",
    "        for gate_info, qubit in zip(gate_infos, qubits):\n",
    "            if not gate_info.trainable:\n",
    "                gates.append(Gate.new_with_info(gate_info, qubit))\n",
    "                continue\n",
    "\n",
    "            pname = f\"param_{len(params)}\"\n",
    "            if name is not None:\n",
    "                pname = name + \"_\" + pname\n",
    "            param = Parameter(pname)\n",
    "            params.append(param)\n",
    "            gates.append(Gate.new_with_info(gate_info, qubit, param))\n",
    "\n",
    "        # initialize parameter values\n",
    "        values = np.zeros_like(params)\n",
    "\n",
    "        return cls(name, gates, params, values)\n",
    "\n",
    "    @property\n",
    "    def values(self):\n",
    "        return self._values.copy()\n",
    "\n",
    "    @values.setter\n",
    "    def values(self, values):\n",
    "        assert len(values) == len(\n",
    "            self.values), f\"Length of values {len(values)} must be equal to number of parameters {len(self.values)}\"\n",
    "        values = np.asarray(values)\n",
    "        values = values % self.VALUE_MAX\n",
    "        self._values = values\n",
    "\n",
    "    @property\n",
    "    def parameters(self):\n",
    "        return self.values\n",
    "\n",
    "    @parameters.setter\n",
    "    def parameters(self, values):\n",
    "        self.values = values\n",
    "\n",
    "    @property\n",
    "    def gates(self):\n",
    "        return [gate for gate in self._gates]\n",
    "\n",
    "    @property\n",
    "    def parameter_instances(self):\n",
    "        return self._params\n",
    "\n",
    "    @property\n",
    "    def num_param(self):\n",
    "        return len(self._params)\n",
    "    \n",
    "    def to_string(self):\n",
    "        ret = self._name + \"|\"\n",
    "        ret += \",\".join([g.gate.name for g in self.gates])\n",
    "        ret += \"/\"\n",
    "        ret += \",\".join([str(g.qubit) for g in self.gates])\n",
    "        ret += \"/\"\n",
    "        ret += \",\".join([f\"{p:5.3f}\" for p in self.parameters])\n",
    "        return ret\n"
   ]
  },
  {
   "cell_type": "code",
   "execution_count": 45,
   "metadata": {},
   "outputs": [],
   "source": [
    "# circuit\n",
    "nq = 2\n",
    "ng = 3\n",
    "num_trial_unit = 9\n",
    "\n",
    "# dataset\n",
    "nx = 1\n",
    "ny = 1\n",
    "num_train_data = 20\n",
    "num_test_data = 20\n",
    "gateset = get_gateset(nq)\n",
    "\n",
    "# optimization\n",
    "shots = 50\n",
    "num_iter =  100\n",
    "variance = 0.3\n"
   ]
  },
  {
   "cell_type": "code",
   "execution_count": 46,
   "metadata": {},
   "outputs": [],
   "source": [
    "unit = Unit.generate_random_unit(\"unit\", nq, ng, gateset)\n"
   ]
  },
  {
   "cell_type": "code",
   "execution_count": 47,
   "metadata": {},
   "outputs": [
    {
     "data": {
      "text/plain": [
       "'unit|cz,ry,ry/1,0,1/0.000,0.000'"
      ]
     },
     "execution_count": 47,
     "metadata": {},
     "output_type": "execute_result"
    }
   ],
   "source": [
    "unit.to_string()\n"
   ]
  },
  {
   "cell_type": "code",
   "execution_count": 25,
   "metadata": {},
   "outputs": [
    {
     "data": {
      "text/plain": [
       "'cz,ry,ry/1,0,0/0.000,0.000'"
      ]
     },
     "execution_count": 25,
     "metadata": {},
     "output_type": "execute_result"
    }
   ],
   "source": [
    "genome = \",\".join([g.gate.name for g in unit.gates])\n",
    "genome += \"/\" + \",\".join(str(g.qubit) for g in unit.gates)\n",
    "genome_val = \",\".join([f\"{p:5.3f}\" for p in unit.parameters])\n",
    "genome + \"/\" + genome_val\n"
   ]
  },
  {
   "cell_type": "code",
   "execution_count": 48,
   "metadata": {},
   "outputs": [
    {
     "name": "stdout",
     "output_type": "stream",
     "text": [
      "unit|cz,ry,ry/1,0,1/0.000,0.000\n"
     ]
    }
   ],
   "source": [
    "strunit = unit.to_string()\n",
    "print(strunit)\n"
   ]
  },
  {
   "cell_type": "code",
   "execution_count": 51,
   "metadata": {},
   "outputs": [],
   "source": [
    "uname, strunit_vals = strunit.split(\"|\")\n"
   ]
  },
  {
   "cell_type": "code",
   "execution_count": 53,
   "metadata": {},
   "outputs": [
    {
     "data": {
      "text/plain": [
       "('unit', ['cz', 'ry', 'ry'], ['1', '0', '1'], ['0.000', '0.000'])"
      ]
     },
     "execution_count": 53,
     "metadata": {},
     "output_type": "execute_result"
    }
   ],
   "source": [
    "gnames, gqubits, params = [\n",
    "    strunit_part.split(\",\")\n",
    "    for strunit_part in strunit_vals.split(\"/\")\n",
    "]\n",
    "uname, gnames, gqubits, params\n"
   ]
  },
  {
   "cell_type": "code",
   "execution_count": null,
   "metadata": {},
   "outputs": [],
   "source": []
  }
 ],
 "metadata": {
  "kernelspec": {
   "display_name": "lb-qml",
   "language": "python",
   "name": "python3"
  },
  "language_info": {
   "codemirror_mode": {
    "name": "ipython",
    "version": 3
   },
   "file_extension": ".py",
   "mimetype": "text/x-python",
   "name": "python",
   "nbconvert_exporter": "python",
   "pygments_lexer": "ipython3",
   "version": "3.12.7"
  }
 },
 "nbformat": 4,
 "nbformat_minor": 2
}
