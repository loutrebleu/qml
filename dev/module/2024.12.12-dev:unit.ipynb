{
 "cells": [
  {
   "metadata": {
    "ExecuteTime": {
     "end_time": "2024-12-12T11:22:28.333355Z",
     "start_time": "2024-12-12T11:22:28.321967Z"
    }
   },
   "cell_type": "code",
   "source": [
    "%load_ext autoreload\n",
    "%autoreload 2"
   ],
   "id": "abd520b88438d7c",
   "outputs": [],
   "execution_count": 1
  },
  {
   "cell_type": "code",
   "id": "initial_id",
   "metadata": {
    "collapsed": true,
    "ExecuteTime": {
     "end_time": "2024-12-12T11:22:30.746482Z",
     "start_time": "2024-12-12T11:22:29.880391Z"
    }
   },
   "source": [
    "import io\n",
    "import cv2\n",
    "import numpy as np\n",
    "import matplotlib.pyplot as plt\n",
    "import time\n",
    "\n",
    "from collections import namedtuple\n",
    "from IPython.display import clear_output\n",
    "from tqdm.notebook import tqdm\n",
    "from numpy.typing import NDArray\n",
    "\n",
    "from scipy.optimize import minimize\n",
    "from qiskit import QuantumRegister, ClassicalRegister, QuantumCircuit, transpile\n",
    "from qiskit.circuit import Parameter, Instruction\n",
    "from qiskit.circuit.library import RXGate, RYGate, RZGate, CXGate, CZGate, IGate\n",
    "from qiskit_aer import AerSimulator"
   ],
   "outputs": [],
   "execution_count": 2
  },
  {
   "metadata": {
    "ExecuteTime": {
     "end_time": "2024-12-12T11:22:31.392531Z",
     "start_time": "2024-12-12T11:22:31.371010Z"
    }
   },
   "cell_type": "code",
   "source": "from qml.model.gate import get_gateset, GateInfo, Gate",
   "id": "7965bc435a47bdca",
   "outputs": [],
   "execution_count": 3
  },
  {
   "metadata": {
    "ExecuteTime": {
     "end_time": "2024-12-12T08:57:29.879211Z",
     "start_time": "2024-12-12T08:57:29.870764Z"
    }
   },
   "cell_type": "code",
   "source": [
    "class Unit:\n",
    "    \n",
    "    VALUE_MAX = 2 * np.pi\n",
    "    \n",
    "    def __init__(\n",
    "            self,\n",
    "            num_qubits: int,\n",
    "            name: str,\n",
    "            gates: list[Gate],\n",
    "            params: list[Parameter],\n",
    "            qubits: list[int],\n",
    "            values: list[float] | NDArray\n",
    "    ):\n",
    "        self._num_qubits = num_qubits\n",
    "        self.name = name\n",
    "        self._gates = gates\n",
    "        self._params = params\n",
    "        self._qubits = qubits\n",
    "        self._param_values = np.asarray(values) % self.VALUE_MAX\n",
    "        \n",
    "    def feed_dict(self, values=None) -> dict[str, float]:\n",
    "        if values is None:\n",
    "            values = self.values\n",
    "        if not hasattr(values, \"__len__\"):\n",
    "            values = [values]\n",
    "        assert len(values) == len(self.parameters), f\"Length of values {len(values)} must be equal to number of parameters {len(self.values)}\"\n",
    "        \n",
    "        feed_dict = dict()\n",
    "        for param, value in zip(self._params, values):\n",
    "            feed_dict |= {\n",
    "                param.name: value\n",
    "            }\n",
    "        return feed_dict\n",
    "    \n",
    "    def apply_to_circuit(self, qc: QuantumCircuit) -> QuantumCircuit:\n",
    "        for gate in self._gates:\n",
    "            if gate.multi_qubit:\n",
    "                qargs = [\n",
    "                    qc.qubits[gate.qubit]\n",
    "                ]\n",
    "            \n",
    "            \n",
    "    @staticmethod\n",
    "    def generate_random_unit(\n",
    "            num_qubit: int,\n",
    "            num_gate: int,\n",
    "            name: str = None,\n",
    "            gateset: dict[GateInfo] = None,\n",
    "    ):\n",
    "        if gateset is None:\n",
    "            gateset = get_gateset(num_qubit)\n",
    "        \n",
    "        # select gates at random\n",
    "        gate_names_on_set = list(gateset.keys())\n",
    "        gate_names = np.random.choice(gate_names_on_set, size=num_gate, replace=True)\n",
    "        gate_infos = [gateset[gate_name] for gate_name in gate_names]\n",
    "        \n",
    "        # select qubits to apply\n",
    "        qubits = np.random.randint(0, num_qubit, size=num_gate)\n",
    "        \n",
    "        # build instance of gates and parameters\n",
    "        gates = []\n",
    "        params = []\n",
    "        for gate_info, qubit in zip(gate_infos, qubits):\n",
    "            if not gate_info.trainable:\n",
    "                gates.append(Gate.new_with_info(gate_info, qubit))\n",
    "                continue\n",
    "            \n",
    "            pname = f\"param_{len(params)}\"\n",
    "            if name is not None:\n",
    "                pname = name + \"_\" + pname\n",
    "            param = Parameter(pname)\n",
    "            params.append(param)\n",
    "            gates.append(Gate.new_with_info(gate_info, qubit, param))\n",
    "                \n",
    "        # initialize parameter values\n",
    "        values = np.zeros(len(params))\n",
    "        \n",
    "        return Unit(num_qubit, name, gates, params, qubits, values)\n",
    "    \n",
    "    @property\n",
    "    def num_qubits(self):\n",
    "        return self._num_qubits\n",
    "    \n",
    "    @property\n",
    "    def nq(self):\n",
    "        return self.num_qubits\n",
    "    \n",
    "    @property\n",
    "    def values(self):\n",
    "        return self._param_values.copy()\n",
    "    \n",
    "    @values.setter\n",
    "    def values(self, values):\n",
    "        assert len(values) == len(self.values), f\"Length of values {len(values)} must be equal to number of parameters {len(self.values)}\"\n",
    "        values = np.asarray(values)\n",
    "        values = values % self.VALUE_MAX\n",
    "        self._param_values = values\n",
    "        \n",
    "    @property\n",
    "    def parameters(self):\n",
    "        return self.values\n",
    "    \n",
    "    @parameters.setter\n",
    "    def parameters(self, values):\n",
    "        self.values = values\n",
    "    \n",
    "    @property\n",
    "    def gates(self):\n",
    "        return [gate for gate in self._gates]\n",
    "    \n",
    "    @property\n",
    "    def parameter_instances(self):\n",
    "        return self._params\n",
    "    \n",
    "    @property\n",
    "    def num_param(self):\n",
    "        return len(self._params)"
   ],
   "id": "6c85557a9d3b77bd",
   "outputs": [],
   "execution_count": 53
  },
  {
   "metadata": {
    "ExecuteTime": {
     "end_time": "2024-12-12T08:57:35.582829Z",
     "start_time": "2024-12-12T08:57:35.579437Z"
    }
   },
   "cell_type": "code",
   "source": [
    "unit = Unit.generate_random_unit(3, 3, name=\"demo\")\n",
    "unit.apply_to_circuit(None)\n",
    "# unit.gates"
   ],
   "id": "8c3191fab8511422",
   "outputs": [
    {
     "name": "stdout",
     "output_type": "stream",
     "text": [
      "<__main__.Gate object at 0x13e0dd7f0> 1\n",
      "<__main__.Gate object at 0x13e0dd220> 0\n",
      "<__main__.Gate object at 0x13e0dd2e0> 2\n"
     ]
    }
   ],
   "execution_count": 54
  },
  {
   "metadata": {},
   "cell_type": "code",
   "outputs": [],
   "execution_count": null,
   "source": "",
   "id": "6a0021d8d3f4809e"
  }
 ],
 "metadata": {
  "kernelspec": {
   "display_name": "Python 3",
   "language": "python",
   "name": "python3"
  },
  "language_info": {
   "codemirror_mode": {
    "name": "ipython",
    "version": 2
   },
   "file_extension": ".py",
   "mimetype": "text/x-python",
   "name": "python",
   "nbconvert_exporter": "python",
   "pygments_lexer": "ipython2",
   "version": "2.7.6"
  }
 },
 "nbformat": 4,
 "nbformat_minor": 5
}
