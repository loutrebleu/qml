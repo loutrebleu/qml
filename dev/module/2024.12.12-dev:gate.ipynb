{
 "cells": [
  {
   "cell_type": "code",
   "id": "initial_id",
   "metadata": {
    "collapsed": true,
    "ExecuteTime": {
     "end_time": "2024-12-12T09:35:44.389079Z",
     "start_time": "2024-12-12T09:35:44.385838Z"
    }
   },
   "source": [
    "import io\n",
    "import cv2\n",
    "import numpy as np\n",
    "import matplotlib.pyplot as plt\n",
    "import time\n",
    "\n",
    "from collections import namedtuple\n",
    "from IPython.display import clear_output\n",
    "from tqdm.notebook import tqdm\n",
    "from numpy.typing import NDArray\n",
    "from typing import Callable\n",
    "\n",
    "from scipy.optimize import minimize\n",
    "from qiskit import QuantumRegister, ClassicalRegister, QuantumCircuit, transpile\n",
    "from qiskit.circuit import Parameter, Instruction\n",
    "from qiskit.circuit.library import RXGate, RYGate, RZGate, CXGate, CZGate, IGate\n",
    "from qiskit_aer import AerSimulator"
   ],
   "outputs": [],
   "execution_count": 8
  },
  {
   "metadata": {
    "ExecuteTime": {
     "end_time": "2024-12-12T09:17:05.222293Z",
     "start_time": "2024-12-12T09:17:05.215175Z"
    }
   },
   "cell_type": "code",
   "source": "# from qml.model.gate import GateInfo",
   "id": "91cc703a2e90ffff",
   "outputs": [],
   "execution_count": 2
  },
  {
   "metadata": {
    "ExecuteTime": {
     "end_time": "2024-12-12T09:41:41.621749Z",
     "start_time": "2024-12-12T09:41:41.618498Z"
    }
   },
   "cell_type": "code",
   "source": [
    "GateInfo = namedtuple(\n",
    "    'GateInfo',\n",
    "    ['gate_class', 'trainable', \"multi_bit\", \"qargs\"]\n",
    ")"
   ],
   "id": "89f6fe0ff3d99357",
   "outputs": [],
   "execution_count": 17
  },
  {
   "metadata": {
    "ExecuteTime": {
     "end_time": "2024-12-12T09:41:41.734433Z",
     "start_time": "2024-12-12T09:41:41.732061Z"
    }
   },
   "cell_type": "code",
   "source": [
    "def single_qubit_qargs(qc: QuantumCircuit, qubit_idx: int) -> list:\n",
    "    return [qc.qubits[qubit_idx]]"
   ],
   "id": "dcc5582a499c193e",
   "outputs": [],
   "execution_count": 18
  },
  {
   "metadata": {
    "ExecuteTime": {
     "end_time": "2024-12-12T09:41:41.918281Z",
     "start_time": "2024-12-12T09:41:41.914599Z"
    }
   },
   "cell_type": "code",
   "source": [
    "def generate_double_qubit_args(spread: int = 1) -> Callable:\n",
    "    def double_qubit_args(qc: QuantumCircuit, qubit_idx: int) -> list:\n",
    "        return [\n",
    "            qc.qubits[qubit_idx],\n",
    "            qc.qubits[(qubit_idx+spread) % qc.num_qubits],\n",
    "        ]\n",
    "    return double_qubit_args"
   ],
   "id": "2f78dacf5ab95fd9",
   "outputs": [],
   "execution_count": 19
  },
  {
   "metadata": {
    "ExecuteTime": {
     "end_time": "2024-12-12T09:41:42.065570Z",
     "start_time": "2024-12-12T09:41:42.062582Z"
    }
   },
   "cell_type": "code",
   "source": [
    "GATESET_FOR_3_QUBIT = dict(\n",
    "    rx=GateInfo(RXGate, True, False, single_qubit_qargs),\n",
    "    ry=GateInfo(RYGate, True, False, single_qubit_qargs),\n",
    "    rz=GateInfo(RZGate, True, False, single_qubit_qargs),\n",
    "    cz=GateInfo(CZGate, False, True, generate_double_qubit_args(1)),\n",
    ")"
   ],
   "id": "e7c012c99bf6b76f",
   "outputs": [],
   "execution_count": 20
  },
  {
   "metadata": {
    "ExecuteTime": {
     "end_time": "2024-12-12T09:41:42.646002Z",
     "start_time": "2024-12-12T09:41:42.643118Z"
    }
   },
   "cell_type": "code",
   "source": [
    "qc = QuantumCircuit(3)\n",
    "fn = generate_double_qubit_args(1)\n",
    "fn(qc, 2)"
   ],
   "id": "9b7a2620945b0fca",
   "outputs": [
    {
     "data": {
      "text/plain": [
       "[Qubit(QuantumRegister(3, 'q'), 2), Qubit(QuantumRegister(3, 'q'), 0)]"
      ]
     },
     "execution_count": 21,
     "metadata": {},
     "output_type": "execute_result"
    }
   ],
   "execution_count": 21
  },
  {
   "metadata": {
    "ExecuteTime": {
     "end_time": "2024-12-12T09:41:49.050966Z",
     "start_time": "2024-12-12T09:41:49.045780Z"
    }
   },
   "cell_type": "code",
   "source": [
    "class Gate:\n",
    "    \n",
    "    def __init__(\n",
    "            self,\n",
    "            gate: Instruction,\n",
    "            trainable: bool,\n",
    "            multi_qubit: bool,\n",
    "            qubit: int,\n",
    "            qargs_func: Callable\n",
    "    ):\n",
    "        self._gate = gate\n",
    "        self._trainable = trainable\n",
    "        self._multi_qubit = multi_qubit\n",
    "        self._qubit = qubit\n",
    "        self._qargs_func = qargs_func\n",
    "        \n",
    "    def apply_to_qc(self, qc: QuantumCircuit):\n",
    "        qargs = self._qargs_func(qc, self._qubit)\n",
    "        qc.append(self._gate, qargs)\n",
    "    \n",
    "    @staticmethod\n",
    "    def new_with_info(info: GateInfo, qubit: int, parameter: Parameter = None):\n",
    "        gate = info.gate_class() if parameter is None else info.gate_class(parameter)\n",
    "        return Gate(\n",
    "            gate, info.trainable, info.multi_bit, qubit\n",
    "        )\n",
    "    \n",
    "    @property\n",
    "    def gate(self):\n",
    "        return self._gate\n",
    "    \n",
    "    @property\n",
    "    def trainable(self):\n",
    "        return self._trainable\n",
    "    \n",
    "    @property\n",
    "    def multi_qubit(self):\n",
    "        return self._multi_qubit\n",
    "    \n",
    "    @property\n",
    "    def qubit(self):\n",
    "        return self._qubit"
   ],
   "id": "2c062d51fa70d92f",
   "outputs": [],
   "execution_count": 22
  },
  {
   "metadata": {
    "ExecuteTime": {
     "end_time": "2024-12-12T09:44:10.807207Z",
     "start_time": "2024-12-12T09:44:10.759634Z"
    }
   },
   "cell_type": "code",
   "source": [
    "info = GATESET_FOR_3_QUBIT[\"rx\"]\n",
    "gate = Gate(\n",
    "    info.gate_class(Parameter(\"gate_1\")),\n",
    "    info.trainable,\n",
    "    info.multi_bit,\n",
    "    np.random.randint(3),\n",
    "    info.qargs,\n",
    ")\n",
    "print(gate.qubit, type(gate.qubit))\n",
    "qc = QuantumCircuit(3)\n",
    "gate.apply_to_qc(qc)\n",
    "qc.draw(output=\"mpl\")"
   ],
   "id": "ad59164108c9b52",
   "outputs": [
    {
     "name": "stdout",
     "output_type": "stream",
     "text": [
      "0 <class 'int'>\n"
     ]
    },
    {
     "data": {
      "text/plain": [
       "<Figure size 203.885x284.278 with 1 Axes>"
      ],
      "image/png": "[encoded data removed]"
     },
     "execution_count": 30,
     "metadata": {},
     "output_type": "execute_result"
    }
   ],
   "execution_count": 30
  },
  {
   "metadata": {
    "ExecuteTime": {
     "end_time": "2024-12-12T09:44:11.494171Z",
     "start_time": "2024-12-12T09:44:11.492568Z"
    }
   },
   "cell_type": "code",
   "source": "",
   "id": "39a9040bfdee1c2f",
   "outputs": [],
   "execution_count": 30
  },
  {
   "metadata": {},
   "cell_type": "code",
   "outputs": [],
   "execution_count": null,
   "source": "",
   "id": "f141f7cfd042352f"
  }
 ],
 "metadata": {
  "kernelspec": {
   "display_name": "Python 3",
   "language": "python",
   "name": "python3"
  },
  "language_info": {
   "codemirror_mode": {
    "name": "ipython",
    "version": 2
   },
   "file_extension": ".py",
   "mimetype": "text/x-python",
   "name": "python",
   "nbconvert_exporter": "python",
   "pygments_lexer": "ipython2",
   "version": "2.7.6"
  }
 },
 "nbformat": 4,
 "nbformat_minor": 5
}
