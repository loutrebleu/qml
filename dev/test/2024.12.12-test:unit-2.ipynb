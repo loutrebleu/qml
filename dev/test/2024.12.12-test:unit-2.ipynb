{
 "cells": [
  {
   "metadata": {
    "ExecuteTime": {
     "end_time": "2024-12-12T16:54:19.106412Z",
     "start_time": "2024-12-12T16:54:19.094689Z"
    }
   },
   "cell_type": "code",
   "source": [
    "%load_ext autoreload\n",
    "%autoreload 2"
   ],
   "id": "10ea7bdad81a5ee2",
   "outputs": [],
   "execution_count": 1
  },
  {
   "cell_type": "code",
   "id": "initial_id",
   "metadata": {
    "collapsed": true,
    "ExecuteTime": {
     "end_time": "2024-12-12T16:54:19.841787Z",
     "start_time": "2024-12-12T16:54:19.498225Z"
    }
   },
   "source": [
    "from qiskit import QuantumCircuit\n",
    "\n",
    "from qml.model.unit import Unit"
   ],
   "outputs": [],
   "execution_count": 2
  },
  {
   "metadata": {
    "ExecuteTime": {
     "end_time": "2024-12-12T16:54:27.364510Z",
     "start_time": "2024-12-12T16:54:26.831879Z"
    }
   },
   "cell_type": "code",
   "source": [
    "nq = 3\n",
    "ng = 3\n",
    "qc = QuantumCircuit(nq)\n",
    "\n",
    "unit = Unit.generate_random_unit(\"demo\", nq, ng)\n",
    "unit.apply_to_qc(qc)\n",
    "\n",
    "qc.draw(\"mpl\")"
   ],
   "id": "b1c4e240a33cd672",
   "outputs": [
    {
     "data": {
      "text/plain": [
       "<Figure size 538.33x284.278 with 1 Axes>"
      ],
      "image/png": "[encoded data removed]"
     },
     "execution_count": 3,
     "metadata": {},
     "output_type": "execute_result"
    }
   ],
   "execution_count": 3
  },
  {
   "metadata": {},
   "cell_type": "code",
   "outputs": [],
   "execution_count": null,
   "source": "",
   "id": "1b78669c1d1fd540"
  }
 ],
 "metadata": {
  "kernelspec": {
   "display_name": "Python 3",
   "language": "python",
   "name": "python3"
  },
  "language_info": {
   "codemirror_mode": {
    "name": "ipython",
    "version": 2
   },
   "file_extension": ".py",
   "mimetype": "text/x-python",
   "name": "python",
   "nbconvert_exporter": "python",
   "pygments_lexer": "ipython2",
   "version": "2.7.6"
  }
 },
 "nbformat": 4,
 "nbformat_minor": 5
}
