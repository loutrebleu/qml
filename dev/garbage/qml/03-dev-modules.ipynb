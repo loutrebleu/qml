{
 "cells": [
  {
   "cell_type": "code",
   "id": "initial_id",
   "metadata": {
    "collapsed": true,
    "ExecuteTime": {
     "end_time": "2024-10-28T08:13:54.626392Z",
     "start_time": "2024-10-28T08:13:53.229033Z"
    }
   },
   "source": [
    "import numpy as np\n",
    "import matplotlib.pyplot as plt\n",
    "\n",
    "from scipy.optimize import minimize\n",
    "from qiskit import QuantumRegister, ClassicalRegister, QuantumCircuit, transpile\n",
    "from qiskit_aer import AerSimulator"
   ],
   "outputs": [],
   "execution_count": 1
  },
  {
   "metadata": {
    "ExecuteTime": {
     "end_time": "2024-10-28T14:06:48.158516Z",
     "start_time": "2024-10-28T14:06:48.151307Z"
    }
   },
   "cell_type": "code",
   "source": [
    "class Parameter:\n",
    "    \n",
    "    RANGE = [0, 2 * np.pi]\n",
    "    \n",
    "    def __init__(self, values):\n",
    "        values = np.asarray(values).flatten()\n",
    "        self.ranges = np.array([self.RANGE,]*len(values)).T\n",
    "        self.mins = self.ranges[0, ...]\n",
    "        self.maxs = self.ranges[1, ...]\n",
    "        self._values = np.clip(values, self.mins, self.maxs)\n",
    "        \n",
    "        self.iter_count = None\n",
    "    \n",
    "    def __iter__(self):\n",
    "        self.iter_count = 0\n",
    "        return self\n",
    "    \n",
    "    def __next__(self):\n",
    "        if self.iter_count == self.size:\n",
    "            raise StopIteration\n",
    "        value = self._values[self.iter_count]\n",
    "        self.iter_count += 1\n",
    "        return value\n",
    "    \n",
    "    def __str__(self):\n",
    "        ret = \"[\"\n",
    "        ret += \", \".join([\"{:4.2f}\".format(val) for val in self._values])\n",
    "        ret += \"]\"\n",
    "        return ret\n",
    "    \n",
    "    def __repr__(self):\n",
    "        return self.__str__()\n",
    "    \n",
    "    @classmethod\n",
    "    def update(cls, values):\n",
    "        values = np.array([value % (2 * np.pi) for value in values])\n",
    "        return cls(values)\n",
    "    \n",
    "    @property\n",
    "    def size(self):\n",
    "        return len(self._values)\n",
    "\n",
    "params = Parameter([0, 1, 2, 3, 4, 5, 6, 7, 8])\n",
    "print(params)\n",
    "for param in params:\n",
    "    print(param)"
   ],
   "id": "1843e5acd2dc2f9f",
   "outputs": [
    {
     "name": "stdout",
     "output_type": "stream",
     "text": [
      "[0.00, 1.00, 2.00, 3.00, 4.00, 5.00, 6.00, 6.28, 6.28]\n",
      "0.0\n",
      "1.0\n",
      "2.0\n",
      "3.0\n",
      "4.0\n",
      "5.0\n",
      "6.0\n",
      "6.283185307179586\n",
      "6.283185307179586\n"
     ]
    }
   ],
   "execution_count": 48
  },
  {
   "metadata": {},
   "cell_type": "code",
   "outputs": [],
   "execution_count": null,
   "source": [
    "class GateSet:\n",
    "    \n",
    "    def __init__(self, gfunc, trainable):"
   ],
   "id": "3165d8a9e34b18dc"
  },
  {
   "metadata": {
    "ExecuteTime": {
     "end_time": "2024-10-31T05:52:28.385113Z",
     "start_time": "2024-10-31T05:52:28.382281Z"
    }
   },
   "cell_type": "code",
   "source": [
    "class SubUnit:\n",
    "    \n",
    "    def __init__(self, gates, ):"
   ],
   "id": "70ecfc2a9e4c83f4",
   "outputs": [
    {
     "ename": "SyntaxError",
     "evalue": "incomplete input (197389841.py, line 3)",
     "output_type": "error",
     "traceback": [
      "\u001B[0;36m  Cell \u001B[0;32mIn[82], line 3\u001B[0;36m\u001B[0m\n\u001B[0;31m    def __init__(self, gates, ):\u001B[0m\n\u001B[0m                                ^\u001B[0m\n\u001B[0;31mSyntaxError\u001B[0m\u001B[0;31m:\u001B[0m incomplete input\n"
     ]
    }
   ],
   "execution_count": 82
  },
  {
   "metadata": {},
   "cell_type": "code",
   "outputs": [],
   "execution_count": null,
   "source": "",
   "id": "ccae50bbcc70dbb1"
  }
 ],
 "metadata": {
  "kernelspec": {
   "display_name": "Python 3",
   "language": "python",
   "name": "python3"
  },
  "language_info": {
   "codemirror_mode": {
    "name": "ipython",
    "version": 2
   },
   "file_extension": ".py",
   "mimetype": "text/x-python",
   "name": "python",
   "nbconvert_exporter": "python",
   "pygments_lexer": "ipython2",
   "version": "2.7.6"
  }
 },
 "nbformat": 4,
 "nbformat_minor": 5
}
