{
 "cells": [
  {
   "cell_type": "code",
   "id": "initial_id",
   "metadata": {
    "collapsed": true,
    "ExecuteTime": {
     "end_time": "2024-12-09T07:45:48.800155Z",
     "start_time": "2024-12-09T07:45:48.791519Z"
    }
   },
   "source": [
    "%load_ext autoreload\n",
    "%autoreload 2"
   ],
   "outputs": [],
   "execution_count": 1
  },
  {
   "metadata": {
    "ExecuteTime": {
     "end_time": "2024-12-10T00:17:00.890070Z",
     "start_time": "2024-12-10T00:17:00.875987Z"
    }
   },
   "cell_type": "code",
   "source": [
    "import numpy as np\n",
    "import matplotlib.pyplot as plt\n",
    "import time\n",
    "\n",
    "from enum import Enum, auto\n",
    "from collections import namedtuple\n",
    "from qiskit import QuantumCircuit, QuantumRegister, ClassicalRegister, transpile\n",
    "from qiskit.circuit import Parameter # as qiskit_Parameter\n",
    "from qiskit.circuit import Gate # as qiskit_Gate\n",
    "from qiskit.circuit.library import RXGate, RYGate, RZGate, CZGate\n",
    "from qiskit_aer import AerSimulator"
   ],
   "id": "495d7049bc7c4d20",
   "outputs": [],
   "execution_count": 20
  },
  {
   "metadata": {
    "ExecuteTime": {
     "end_time": "2024-12-10T00:17:02.313349Z",
     "start_time": "2024-12-10T00:17:02.300986Z"
    }
   },
   "cell_type": "code",
   "source": "np.set_printoptions(precision=3, floatmode='fixed', suppress=True)",
   "id": "3bafe911638ea5fc",
   "outputs": [],
   "execution_count": 21
  },
  {
   "metadata": {
    "ExecuteTime": {
     "end_time": "2024-12-10T08:26:21.670736Z",
     "start_time": "2024-12-10T08:26:21.660979Z"
    }
   },
   "cell_type": "code",
   "source": [
    "GateInfo = namedtuple('GateInfo', ['gate_class', 'trainable', \"multi_bit\"])\n",
    "GATESET = dict(\n",
    "    rx=GateInfo(RXGate, True, False),\n",
    "    ry=GateInfo(RYGate, True, False),\n",
    "    rz=GateInfo(RZGate, True, False),\n",
    "    cz=GateInfo(CZGate, False, True),\n",
    ")"
   ],
   "id": "b83629ebe4c87777",
   "outputs": [],
   "execution_count": 49
  },
  {
   "metadata": {
    "ExecuteTime": {
     "end_time": "2024-12-10T08:26:22.007255Z",
     "start_time": "2024-12-10T08:26:21.995194Z"
    }
   },
   "cell_type": "code",
   "source": [
    "class Config:\n",
    "    param_max = 2 * np.pi\n",
    "    param_min = 0"
   ],
   "id": "1a48dd9e5b8e9e22",
   "outputs": [],
   "execution_count": 50
  },
  {
   "metadata": {},
   "cell_type": "markdown",
   "source": "## Generate unit",
   "id": "a0bcd6fb5062670e"
  },
  {
   "metadata": {
    "ExecuteTime": {
     "end_time": "2024-12-10T08:27:13.578065Z",
     "start_time": "2024-12-10T08:27:13.562903Z"
    }
   },
   "cell_type": "code",
   "source": "Unit = namedtuple('Unit', ['name', 'gates', \"params\", \"qubits\"])",
   "id": "abdc5e30c7bedf0",
   "outputs": [],
   "execution_count": 54
  },
  {
   "metadata": {
    "ExecuteTime": {
     "end_time": "2024-12-10T08:26:46.223130Z",
     "start_time": "2024-12-10T08:26:46.209606Z"
    }
   },
   "cell_type": "code",
   "source": [
    "def generate_random_unit(nq:int, gateset: dict, unit_name: str = None):\n",
    "    gate_names_on_set = list(gateset.keys())\n",
    "    gate_names = np.random.choice(gate_names_on_set, size=nq, replace=True)\n",
    "    print(gate_names)\n",
    "    \n",
    "    gate_infos = [gateset[gate_name] for gate_name in gate_names]\n",
    "    \n",
    "    gates = []\n",
    "    params = []\n",
    "    for gate_info in gate_infos:\n",
    "        if not gate_info.trainable:\n",
    "            gates.append(gate_info.gate_class())\n",
    "            continue\n",
    "            \n",
    "        pname = f\"param_{len(params)}\"\n",
    "        if unit_name is not None:\n",
    "            pname = unit_name + \"_\" + pname\n",
    "        param = Parameter(pname)\n",
    "        params.append(param)\n",
    "        gates.append(gate_info.gate_class(param))\n",
    "        \n",
    "    print(gates)\n",
    "\n",
    "generate_random_unit(3, GATESET)\n",
    "# for gate in gates:\n",
    "#     print(gate)"
   ],
   "id": "1245cec4e0a029bf",
   "outputs": [
    {
     "name": "stdout",
     "output_type": "stream",
     "text": [
      "['cz' 'ry' 'cz']\n",
      "[Instruction(name='cz', num_qubits=2, num_clbits=0, params=[]), Instruction(name='ry', num_qubits=1, num_clbits=0, params=[Parameter(param_0)]), Instruction(name='cz', num_qubits=2, num_clbits=0, params=[])]\n"
     ]
    }
   ],
   "execution_count": 53
  },
  {
   "metadata": {
    "ExecuteTime": {
     "end_time": "2024-12-11T08:35:01.743353Z",
     "start_time": "2024-12-11T08:35:01.724835Z"
    }
   },
   "cell_type": "code",
   "source": [
    "class UnitC:\n",
    "    \n",
    "    def __init__(self, name, gates, params, qubits):\n",
    "        self.name = name\n",
    "        self.gates = gates\n",
    "        self.params = params\n",
    "        self.qubits = qubits\n",
    "    \n",
    "    @staticmethod\n",
    "    def generate_random_unit(nq:int, ng: int, gateset: dict, unit_name: str = None):\n",
    "        gate_names_on_set = list(gateset.keys())\n",
    "        gate_names = np.random.choice(gate_names_on_set, size=ng, replace=True)\n",
    "        print(gate_names)\n",
    "        \n",
    "        gate_infos = [gateset[gate_name] for gate_name in gate_names]\n",
    "        \n",
    "        gates = []\n",
    "        params = []\n",
    "        for gate_info in gate_infos:\n",
    "            if not gate_info.trainable:\n",
    "                gates.append(gate_info.gate_class())\n",
    "                continue\n",
    "                \n",
    "            pname = f\"param_{len(params)}\"\n",
    "            if unit_name is not None:\n",
    "                pname = unit_name + \"_\" + pname\n",
    "            param = Parameter(pname)\n",
    "            params.append(param)\n",
    "            gates.append(gate_info.gate_class(param))\n",
    "        \n",
    "        qubits = np.random.randint(0, nq, size=ng)\n",
    "        print(qubits)\n",
    "        \n",
    "        return UnitC(unit_name, gates, params, qubits)\n",
    "\n",
    "UnitC.generate_random_unit(3, 3, GATESET, \"Unit1\")"
   ],
   "id": "93996023daaa1075",
   "outputs": [
    {
     "name": "stdout",
     "output_type": "stream",
     "text": [
      "['rz' 'rx' 'rz']\n",
      "[1 2 2]\n"
     ]
    },
    {
     "data": {
      "text/plain": [
       "<__main__.UnitC at 0x117389cd0>"
      ]
     },
     "execution_count": 66,
     "metadata": {},
     "output_type": "execute_result"
    }
   ],
   "execution_count": 66
  },
  {
   "metadata": {
    "ExecuteTime": {
     "end_time": "2024-12-11T08:32:58.622277Z",
     "start_time": "2024-12-11T08:32:58.611209Z"
    }
   },
   "cell_type": "code",
   "source": "np.random.randint(0, 3, size=3)",
   "id": "7d2757ae0b28b519",
   "outputs": [
    {
     "data": {
      "text/plain": [
       "array([0, 0, 2])"
      ]
     },
     "execution_count": 63,
     "metadata": {},
     "output_type": "execute_result"
    }
   ],
   "execution_count": 63
  },
  {
   "metadata": {},
   "cell_type": "code",
   "outputs": [],
   "execution_count": null,
   "source": "",
   "id": "54cadd7cc62e5ca"
  }
 ],
 "metadata": {
  "kernelspec": {
   "display_name": "Python 3",
   "language": "python",
   "name": "python3"
  },
  "language_info": {
   "codemirror_mode": {
    "name": "ipython",
    "version": 2
   },
   "file_extension": ".py",
   "mimetype": "text/x-python",
   "name": "python",
   "nbconvert_exporter": "python",
   "pygments_lexer": "ipython2",
   "version": "2.7.6"
  }
 },
 "nbformat": 4,
 "nbformat_minor": 5
}
