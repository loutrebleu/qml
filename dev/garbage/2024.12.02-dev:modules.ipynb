{
 "cells": [
  {
   "cell_type": "code",
   "id": "initial_id",
   "metadata": {
    "collapsed": true,
    "ExecuteTime": {
     "end_time": "2024-12-02T02:05:43.431193Z",
     "start_time": "2024-12-02T02:05:43.417088Z"
    }
   },
   "source": [
    "%load_ext autoreload\n",
    "%autoreload 2"
   ],
   "outputs": [],
   "execution_count": 1
  },
  {
   "metadata": {
    "ExecuteTime": {
     "end_time": "2024-12-02T03:25:15.111371Z",
     "start_time": "2024-12-02T03:25:15.100347Z"
    }
   },
   "cell_type": "code",
   "source": [
    "import numpy as np\n",
    "import matplotlib.pyplot as plt\n",
    "import time\n",
    "\n",
    "from enum import Enum, auto\n",
    "from collections import namedtuple\n",
    "from qiskit import QuantumCircuit, QuantumRegister, ClassicalRegister, transpile\n",
    "from qiskit.circuit import Parameter as qiskit_Parameter\n",
    "from qiskit.circuit import Gate as qiskit_Gate\n",
    "from qiskit.circuit.library import RXGate, RYGate, RZGate, CZGate\n",
    "from qiskit_aer import AerSimulator"
   ],
   "id": "b350cbef53200b47",
   "outputs": [],
   "execution_count": 28
  },
  {
   "metadata": {
    "ExecuteTime": {
     "end_time": "2024-12-02T02:49:01.563216Z",
     "start_time": "2024-12-02T02:49:01.548156Z"
    }
   },
   "cell_type": "code",
   "source": "np.set_printoptions(precision=3, floatmode='fixed', suppress=True)",
   "id": "5660a9821e4f2b7f",
   "outputs": [],
   "execution_count": 12
  },
  {
   "metadata": {
    "ExecuteTime": {
     "end_time": "2024-12-02T02:53:42.177673Z",
     "start_time": "2024-12-02T02:53:42.158928Z"
    }
   },
   "cell_type": "code",
   "source": [
    "class InitializeMode(Enum):\n",
    "    ZERO = auto()\n",
    "    RANDOM = auto()\n",
    "\n",
    "class Parameter:\n",
    "    \n",
    "    MIN_VALUE = 0.\n",
    "    MAX_VALUE = np.pi * 2\n",
    "    VALUE_RANGE = (MIN_VALUE, MAX_VALUE)\n",
    "    INIT_MODE_ZERO = InitializeMode.ZERO\n",
    "    INIT_MODE_RANDOM = InitializeMode.RANDOM\n",
    "    \n",
    "    def __init__(self, name, init_value=None):\n",
    "        init_value = init_value if init_value is not None else 0.\n",
    "        self._instance = qiskit_Parameter(name)\n",
    "        self._value = init_value % self.MAX_VALUE\n",
    "        self._name = name\n",
    "    \n",
    "    def __str__(self):\n",
    "        ret = \"{:5.3f}\".format(self.value)\n",
    "        return ret\n",
    "    \n",
    "    def __repr__(self):\n",
    "        return self.__str__()\n",
    "    \n",
    "    def feed_dict(self, value: float = None):\n",
    "        value = value if value is not None else self._value\n",
    "        value = value % self.MAX_VALUE\n",
    "        return {self.name: value}\n",
    "    \n",
    "    @property\n",
    "    def value(self):\n",
    "        return self._value\n",
    "    \n",
    "    @value.setter\n",
    "    def value(self, val):\n",
    "        val = val % self.MAX_VALUE\n",
    "        self._value = val\n",
    "    \n",
    "    @property\n",
    "    def instance(self):\n",
    "        return self._instance\n",
    "    \n",
    "    @property\n",
    "    def param(self):\n",
    "        return self.instance\n",
    "    \n",
    "    @property\n",
    "    def name(self):\n",
    "        return self._name\n",
    "    \n",
    "    @classmethod\n",
    "    def new_at_random(cls, name=None):\n",
    "        val = np.random.rand() * cls.MAX_VALUE\n",
    "        return cls(name, val)\n",
    "    \n",
    "    @classmethod\n",
    "    def new_with_zero(cls, name=None):\n",
    "        return cls(name, 0.)"
   ],
   "id": "1492891baf8bf756",
   "outputs": [],
   "execution_count": 24
  },
  {
   "metadata": {
    "ExecuteTime": {
     "end_time": "2024-12-02T02:53:42.342240Z",
     "start_time": "2024-12-02T02:53:42.331598Z"
    }
   },
   "cell_type": "code",
   "source": [
    "param = Parameter.new_zero_param(\"param_0\")\n",
    "param"
   ],
   "id": "f3079f0cd57ae37c",
   "outputs": [
    {
     "data": {
      "text/plain": [
       "0.000"
      ]
     },
     "execution_count": 25,
     "metadata": {},
     "output_type": "execute_result"
    }
   ],
   "execution_count": 25
  },
  {
   "metadata": {
    "ExecuteTime": {
     "end_time": "2024-12-09T07:51:07.062633Z",
     "start_time": "2024-12-09T07:51:07.050311Z"
    }
   },
   "cell_type": "code",
   "source": [
    "GateInfo = namedtuple('GateInfo', 'gate_class trainable multi_bit')\n",
    "GATESET = [\n",
    "    GateInfo(RXGate, True, False),\n",
    "    GateInfo(RYGate, True, False),\n",
    "    GateInfo(RZGate, True, False),\n",
    "    GateInfo(CZGate, False, True),\n",
    "]"
   ],
   "id": "64d684991021fe58",
   "outputs": [],
   "execution_count": 98
  },
  {
   "metadata": {
    "ExecuteTime": {
     "end_time": "2024-12-09T07:51:09.102054Z",
     "start_time": "2024-12-09T07:51:09.086677Z"
    }
   },
   "cell_type": "code",
   "source": [
    "class Gate:\n",
    "    \n",
    "    MULTI_BIT_GATES = [CZGate]\n",
    "    \n",
    "    def __init__(\n",
    "            self,\n",
    "            gate_info: GateInfo,\n",
    "            qubit: int,\n",
    "            parameter: Parameter,\n",
    "    ):\n",
    "        self._gate = gate_info.gate_class(parameter.instance)\n",
    "        self._trainable: bool = gate_info.trainable\n",
    "        self._multi_bit: bool = gate_info.multi_bit\n",
    "        self._qubit: int = qubit\n",
    "    \n",
    "    @property\n",
    "    def trainable(self):\n",
    "        return self._trainable\n",
    "    \n",
    "    @property\n",
    "    def multi_bit(self):\n",
    "        return self._multi_bit\n",
    "    \n",
    "    @property\n",
    "    def qubit(self):\n",
    "        return self._qubit\n",
    "    \n",
    "    @property\n",
    "    def gate(self):\n",
    "        return self._gate"
   ],
   "id": "6287d594840ff5e7",
   "outputs": [],
   "execution_count": 99
  },
  {
   "metadata": {
    "ExecuteTime": {
     "end_time": "2024-12-09T07:51:10.120015Z",
     "start_time": "2024-12-09T07:51:10.105504Z"
    }
   },
   "cell_type": "code",
   "source": [
    "gate = Gate(gate_info=GATESET[0], qubit=0, parameter=Parameter(\"gate_1\"))\n",
    "gate"
   ],
   "id": "8bd08c4fcb15b6da",
   "outputs": [
    {
     "data": {
      "text/plain": [
       "<__main__.Gate at 0x10de68230>"
      ]
     },
     "execution_count": 100,
     "metadata": {},
     "output_type": "execute_result"
    }
   ],
   "execution_count": 100
  },
  {
   "metadata": {
    "ExecuteTime": {
     "end_time": "2024-12-09T07:51:10.825677Z",
     "start_time": "2024-12-09T07:51:10.805591Z"
    }
   },
   "cell_type": "code",
   "source": [
    "class Unit:\n",
    "    \n",
    "    def __init__(self, name, gates, parameters):\n",
    "        self.name = name\n",
    "        self._gates = gates\n",
    "        self._params = parameters\n",
    "    \n",
    "    def feed_dict(self, values=None):\n",
    "        if values is None:\n",
    "            values = self.values\n",
    "        if not hasattr(values, '__len__'):\n",
    "            values = [values]\n",
    "        assert len(self.parameters) == len(values)\n",
    "        feed_dict = {}\n",
    "        for param, value in zip(self.parameters, values):\n",
    "            feed_dict |= param.feed_dict(value)\n",
    "        return feed_dict\n",
    "    \n",
    "    def apply_to_circuit(self, qc: QuantumCircuit):\n",
    "        for gate in self._gates:\n",
    "            if gate.multi_bit:\n",
    "                qargs = [\n",
    "                    qc.qubits[gate.qubit[0]],\n",
    "                    qc.qubits[gate.qubit[1]]\n",
    "                ]\n",
    "            else:\n",
    "                qargs = [qc.qubits[gate.qubit]]\n",
    "            qc.append(gate.gate, qargs=qargs)\n",
    "        qc.barrier()\n",
    "        return qc\n",
    "    \n",
    "    @property\n",
    "    def values(self):\n",
    "        return np.asarray([param.value for param in self.parameters])\n",
    "    \n",
    "    @values.setter\n",
    "    def values(self, values):\n",
    "        values = np.asarray(values)\n",
    "        [\n",
    "            param.value(value)\n",
    "            for param, value in zip(self.parameters, values)\n",
    "        ]\n",
    "    \n",
    "    @property\n",
    "    def parameters(self):\n",
    "        return self._params"
   ],
   "id": "877a28e0207e81b4",
   "outputs": [],
   "execution_count": 101
  },
  {
   "metadata": {
    "ExecuteTime": {
     "end_time": "2024-12-09T07:51:18.395961Z",
     "start_time": "2024-12-09T07:51:18.379632Z"
    }
   },
   "cell_type": "code",
   "source": [
    "nq = 3\n",
    "ng = 3\n",
    "\n",
    "gate_infos = [\n",
    "    GATESET[g]\n",
    "    for g in np.random.choice(len(GATESET), size=ng, replace=True)\n",
    "]\n",
    "print(gate_infos)\n",
    "\n",
    "num_trainable = sum([gi.trainable for gi in gate_infos])\n",
    "print(num_trainable)\n",
    "parameters = [\n",
    "    Parameter(f\"unit_0_gate_{j}\")\n",
    "    for j, ginfo in enumerate(gate_infos)\n",
    "    if ginfo.trainable\n",
    "]\n",
    "print(parameters)\n",
    "# gates = [\n",
    "#     Gate(GATESET[i], np.random.randint(nq), )\n",
    "#     for i in np.random.choice(len(GATESET), size=3, replace=True)\n",
    "# ]\n",
    "# unit = Unit(\"unit\", gates, parameters)"
   ],
   "id": "4d42ee1666c5b8f5",
   "outputs": [
    {
     "name": "stdout",
     "output_type": "stream",
     "text": [
      "[GateInfo(gate_class=<class 'qiskit.circuit.library.standard_gates.ry.RYGate'>, trainable=True, multi_bit=False), GateInfo(gate_class=<class 'qiskit.circuit.library.standard_gates.rx.RXGate'>, trainable=True, multi_bit=False), GateInfo(gate_class=<class 'qiskit.circuit.library.standard_gates.rx.RXGate'>, trainable=True, multi_bit=False)]\n",
      "3\n",
      "[0.000, 0.000, 0.000]\n"
     ]
    }
   ],
   "execution_count": 103
  },
  {
   "metadata": {
    "ExecuteTime": {
     "end_time": "2024-12-02T03:50:55.750426Z",
     "start_time": "2024-12-02T03:50:55.734720Z"
    }
   },
   "cell_type": "code",
   "source": [
    "unit_values = unit.values\n",
    "unit.feed_dict(unit_values)"
   ],
   "id": "41e50294925e721d",
   "outputs": [
    {
     "data": {
      "text/plain": [
       "{'unit_0_gate_0': np.float64(0.0),\n",
       " 'unit_0_gate_1': np.float64(0.0),\n",
       " 'unit_0_gate_2': np.float64(0.0)}"
      ]
     },
     "execution_count": 73,
     "metadata": {},
     "output_type": "execute_result"
    }
   ],
   "execution_count": 73
  },
  {
   "metadata": {
    "ExecuteTime": {
     "end_time": "2024-12-02T03:51:32.951832Z",
     "start_time": "2024-12-02T03:51:32.856878Z"
    }
   },
   "cell_type": "code",
   "source": [
    "qc = QuantumCircuit(nq)\n",
    "unit.apply_to_circuit(qc)\n",
    "qc.draw(\"mpl\")"
   ],
   "id": "d7327650ea619a4b",
   "outputs": [
    {
     "ename": "TypeError",
     "evalue": "issubclass() arg 1 must be a class",
     "output_type": "error",
     "traceback": [
      "\u001B[0;31m---------------------------------------------------------------------------\u001B[0m",
      "\u001B[0;31mTypeError\u001B[0m                                 Traceback (most recent call last)",
      "Cell \u001B[0;32mIn[74], line 2\u001B[0m\n\u001B[1;32m      1\u001B[0m qc \u001B[38;5;241m=\u001B[39m QuantumCircuit(nq)\n\u001B[0;32m----> 2\u001B[0m \u001B[43munit\u001B[49m\u001B[38;5;241;43m.\u001B[39;49m\u001B[43mapply_to_circuit\u001B[49m\u001B[43m(\u001B[49m\u001B[43mqc\u001B[49m\u001B[43m)\u001B[49m\n\u001B[1;32m      3\u001B[0m qc\u001B[38;5;241m.\u001B[39mdraw(\u001B[38;5;124m\"\u001B[39m\u001B[38;5;124mmpl\u001B[39m\u001B[38;5;124m\"\u001B[39m)\n",
      "Cell \u001B[0;32mIn[65], line 28\u001B[0m, in \u001B[0;36mUnit.apply_to_circuit\u001B[0;34m(self, qc)\u001B[0m\n\u001B[1;32m     26\u001B[0m     \u001B[38;5;28;01melse\u001B[39;00m:\n\u001B[1;32m     27\u001B[0m         qargs \u001B[38;5;241m=\u001B[39m [qc\u001B[38;5;241m.\u001B[39mqubits[gate\u001B[38;5;241m.\u001B[39mqubit]]\n\u001B[0;32m---> 28\u001B[0m     \u001B[43mqc\u001B[49m\u001B[38;5;241;43m.\u001B[39;49m\u001B[43mappend\u001B[49m\u001B[43m(\u001B[49m\u001B[43mgate\u001B[49m\u001B[43m,\u001B[49m\u001B[43m \u001B[49m\u001B[43mqargs\u001B[49m\u001B[38;5;241;43m=\u001B[39;49m\u001B[43mqargs\u001B[49m\u001B[43m)\u001B[49m\n\u001B[1;32m     29\u001B[0m qc\u001B[38;5;241m.\u001B[39mbarrier()\n\u001B[1;32m     30\u001B[0m \u001B[38;5;28;01mreturn\u001B[39;00m qc\n",
      "File \u001B[0;32m/opt/homebrew/Caskroom/miniconda/base/envs/lb-qml/lib/python3.12/site-packages/qiskit/circuit/quantumcircuit.py:2481\u001B[0m, in \u001B[0;36mQuantumCircuit.append\u001B[0;34m(self, instruction, qargs, cargs, copy)\u001B[0m\n\u001B[1;32m   2479\u001B[0m         \u001B[38;5;28;01mraise\u001B[39;00m CircuitError(\u001B[38;5;124m\"\u001B[39m\u001B[38;5;124moperation.to_instruction() is not an Operation.\u001B[39m\u001B[38;5;124m\"\u001B[39m)\n\u001B[1;32m   2480\u001B[0m \u001B[38;5;28;01melse\u001B[39;00m:\n\u001B[0;32m-> 2481\u001B[0m     \u001B[38;5;28;01mif\u001B[39;00m \u001B[38;5;28;43missubclass\u001B[39;49m\u001B[43m(\u001B[49m\u001B[43moperation\u001B[49m\u001B[43m,\u001B[49m\u001B[43m \u001B[49m\u001B[43mOperation\u001B[49m\u001B[43m)\u001B[49m:\n\u001B[1;32m   2482\u001B[0m         \u001B[38;5;28;01mraise\u001B[39;00m CircuitError(\n\u001B[1;32m   2483\u001B[0m             \u001B[38;5;124m\"\u001B[39m\u001B[38;5;124mObject is a subclass of Operation, please add () to \u001B[39m\u001B[38;5;124m\"\u001B[39m\n\u001B[1;32m   2484\u001B[0m             \u001B[38;5;124m\"\u001B[39m\u001B[38;5;124mpass an instance of this object.\u001B[39m\u001B[38;5;124m\"\u001B[39m\n\u001B[1;32m   2485\u001B[0m         )\n\u001B[1;32m   2487\u001B[0m     \u001B[38;5;28;01mraise\u001B[39;00m CircuitError(\n\u001B[1;32m   2488\u001B[0m         \u001B[38;5;124m\"\u001B[39m\u001B[38;5;124mObject to append must be an Operation or have a to_instruction() method.\u001B[39m\u001B[38;5;124m\"\u001B[39m\n\u001B[1;32m   2489\u001B[0m     )\n",
      "File \u001B[0;32m<frozen abc>:123\u001B[0m, in \u001B[0;36m__subclasscheck__\u001B[0;34m(cls, subclass)\u001B[0m\n",
      "\u001B[0;31mTypeError\u001B[0m: issubclass() arg 1 must be a class"
     ]
    }
   ],
   "execution_count": 74
  },
  {
   "metadata": {},
   "cell_type": "code",
   "outputs": [],
   "execution_count": null,
   "source": "",
   "id": "edeb0f0e93adc809"
  }
 ],
 "metadata": {
  "kernelspec": {
   "display_name": "Python 3",
   "language": "python",
   "name": "python3"
  },
  "language_info": {
   "codemirror_mode": {
    "name": "ipython",
    "version": 2
   },
   "file_extension": ".py",
   "mimetype": "text/x-python",
   "name": "python",
   "nbconvert_exporter": "python",
   "pygments_lexer": "ipython2",
   "version": "2.7.6"
  }
 },
 "nbformat": 4,
 "nbformat_minor": 5
}
